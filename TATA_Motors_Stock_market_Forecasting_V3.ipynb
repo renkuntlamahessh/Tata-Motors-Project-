{
  "nbformat": 4,
  "nbformat_minor": 0,
  "metadata": {
    "colab": {
      "name": "TATA_Motors_Stock_market_Forecasting.V3.ipynb",
      "provenance": [],
      "authorship_tag": "ABX9TyNBBxOEtc2WB5a9YMbXrmUy",
      "include_colab_link": true
    },
    "kernelspec": {
      "name": "python3",
      "display_name": "Python 3"
    },
    "language_info": {
      "name": "python"
    }
  },
  "cells": [
    {
      "cell_type": "markdown",
      "metadata": {
        "id": "view-in-github",
        "colab_type": "text"
      },
      "source": [
        "<a href=\"https://colab.research.google.com/github/rmahesh6386/Tata-Motors-Project-/blob/main/TATA_Motors_Stock_market_Forecasting_V3.ipynb\" target=\"_parent\"><img src=\"https://colab.research.google.com/assets/colab-badge.svg\" alt=\"Open In Colab\"/></a>"
      ]
    },
    {
      "cell_type": "code",
      "execution_count": 1,
      "metadata": {
        "colab": {
          "base_uri": "https://localhost:8080/"
        },
        "id": "nj_ZJFtXrvue",
        "outputId": "5d80cfe8-9abd-4661-9a99-60821bc8837e"
      },
      "outputs": [
        {
          "output_type": "stream",
          "name": "stdout",
          "text": [
            "Mounted at /content/gdrive\n"
          ]
        }
      ],
      "source": [
        "from google.colab import drive\n",
        "drive.mount('/content/gdrive')\n",
        "import sys\n",
        "sys.path.append('/content/gdrive/My Drive/Colab Notebooks')"
      ]
    },
    {
      "cell_type": "code",
      "source": [
        "import pandas as pd\n",
        "import numpy as np\n",
        "import matplotlib.pyplot as plt\n",
        "\n",
        "from sklearn import metrics\n",
        "\n",
        "plt.style.use(\"ggplot\")\n",
        "\n",
        "%matplotlib inline"
      ],
      "metadata": {
        "id": "zzslioq8xYCC"
      },
      "execution_count": 2,
      "outputs": []
    },
    {
      "cell_type": "code",
      "source": [
        "plt.rcParams[\"figure.figsize\"] = (12, 6)"
      ],
      "metadata": {
        "id": "8Esf5p3JxeiV"
      },
      "execution_count": 3,
      "outputs": []
    },
    {
      "cell_type": "code",
      "source": [
        "# For reading stock data from yahoo\n",
        "from pandas_datareader import data as pdr\n",
        "import yfinance as yfin\n",
        "yfin.pdr_override()\n",
        "\n",
        "# For time stamps\n",
        "from datetime import datetime\n",
        "\n",
        "# For division\n",
        "from __future__ import division"
      ],
      "metadata": {
        "id": "9ze_i7kzr-Gt"
      },
      "execution_count": 4,
      "outputs": []
    },
    {
      "cell_type": "code",
      "source": [
        "#stock Company for analytics\n",
        "stock = ['TATAMOTORS.NS']\n",
        "data_source = 'yahoo' \n",
        "\n",
        "# set up Start and End time for data grab\n",
        "end = datetime.now()\n",
        "start = datetime(end.year-10,end.month,end.day)\n",
        "\n",
        "# Set DataFrame as the Stock Ticker\n",
        "df = pdr.get_data_yahoo(stock,start,end)"
      ],
      "metadata": {
        "colab": {
          "base_uri": "https://localhost:8080/"
        },
        "id": "DirsdQMLsIom",
        "outputId": "95bc61f2-485e-49be-eb51-4b8c11ec7f50"
      },
      "execution_count": 5,
      "outputs": [
        {
          "output_type": "stream",
          "name": "stdout",
          "text": [
            "\r[*********************100%***********************]  1 of 1 completed\n"
          ]
        }
      ]
    },
    {
      "cell_type": "code",
      "source": [
        "df.head()"
      ],
      "metadata": {
        "colab": {
          "base_uri": "https://localhost:8080/",
          "height": 238
        },
        "id": "4pCFgMn4sWOU",
        "outputId": "272a7c87-81bb-4e39-b516-fc6ad070814d"
      },
      "execution_count": 6,
      "outputs": [
        {
          "output_type": "execute_result",
          "data": {
            "text/plain": [
              "                  Open        High         Low       Close   Adj Close  \\\n",
              "Date                                                                     \n",
              "2012-07-27  208.266144  213.114136  206.979935  210.591202  208.192703   \n",
              "2012-07-30  214.103531  220.435608  213.064667  219.347275  216.849060   \n",
              "2012-07-31  219.644104  224.591034  214.845566  223.848999  221.299500   \n",
              "2012-08-01  222.167038  227.262390  220.831360  224.937317  222.375412   \n",
              "2012-08-02  223.700592  224.591034  219.248337  220.336670  217.827179   \n",
              "\n",
              "              Volume  \n",
              "Date                  \n",
              "2012-07-27  11852257  \n",
              "2012-07-30   9094027  \n",
              "2012-07-31  11297966  \n",
              "2012-08-01  10425962  \n",
              "2012-08-02   5808700  "
            ],
            "text/html": [
              "\n",
              "  <div id=\"df-0cad4c80-4da8-4e53-9155-57cf37c2134c\">\n",
              "    <div class=\"colab-df-container\">\n",
              "      <div>\n",
              "<style scoped>\n",
              "    .dataframe tbody tr th:only-of-type {\n",
              "        vertical-align: middle;\n",
              "    }\n",
              "\n",
              "    .dataframe tbody tr th {\n",
              "        vertical-align: top;\n",
              "    }\n",
              "\n",
              "    .dataframe thead th {\n",
              "        text-align: right;\n",
              "    }\n",
              "</style>\n",
              "<table border=\"1\" class=\"dataframe\">\n",
              "  <thead>\n",
              "    <tr style=\"text-align: right;\">\n",
              "      <th></th>\n",
              "      <th>Open</th>\n",
              "      <th>High</th>\n",
              "      <th>Low</th>\n",
              "      <th>Close</th>\n",
              "      <th>Adj Close</th>\n",
              "      <th>Volume</th>\n",
              "    </tr>\n",
              "    <tr>\n",
              "      <th>Date</th>\n",
              "      <th></th>\n",
              "      <th></th>\n",
              "      <th></th>\n",
              "      <th></th>\n",
              "      <th></th>\n",
              "      <th></th>\n",
              "    </tr>\n",
              "  </thead>\n",
              "  <tbody>\n",
              "    <tr>\n",
              "      <th>2012-07-27</th>\n",
              "      <td>208.266144</td>\n",
              "      <td>213.114136</td>\n",
              "      <td>206.979935</td>\n",
              "      <td>210.591202</td>\n",
              "      <td>208.192703</td>\n",
              "      <td>11852257</td>\n",
              "    </tr>\n",
              "    <tr>\n",
              "      <th>2012-07-30</th>\n",
              "      <td>214.103531</td>\n",
              "      <td>220.435608</td>\n",
              "      <td>213.064667</td>\n",
              "      <td>219.347275</td>\n",
              "      <td>216.849060</td>\n",
              "      <td>9094027</td>\n",
              "    </tr>\n",
              "    <tr>\n",
              "      <th>2012-07-31</th>\n",
              "      <td>219.644104</td>\n",
              "      <td>224.591034</td>\n",
              "      <td>214.845566</td>\n",
              "      <td>223.848999</td>\n",
              "      <td>221.299500</td>\n",
              "      <td>11297966</td>\n",
              "    </tr>\n",
              "    <tr>\n",
              "      <th>2012-08-01</th>\n",
              "      <td>222.167038</td>\n",
              "      <td>227.262390</td>\n",
              "      <td>220.831360</td>\n",
              "      <td>224.937317</td>\n",
              "      <td>222.375412</td>\n",
              "      <td>10425962</td>\n",
              "    </tr>\n",
              "    <tr>\n",
              "      <th>2012-08-02</th>\n",
              "      <td>223.700592</td>\n",
              "      <td>224.591034</td>\n",
              "      <td>219.248337</td>\n",
              "      <td>220.336670</td>\n",
              "      <td>217.827179</td>\n",
              "      <td>5808700</td>\n",
              "    </tr>\n",
              "  </tbody>\n",
              "</table>\n",
              "</div>\n",
              "      <button class=\"colab-df-convert\" onclick=\"convertToInteractive('df-0cad4c80-4da8-4e53-9155-57cf37c2134c')\"\n",
              "              title=\"Convert this dataframe to an interactive table.\"\n",
              "              style=\"display:none;\">\n",
              "        \n",
              "  <svg xmlns=\"http://www.w3.org/2000/svg\" height=\"24px\"viewBox=\"0 0 24 24\"\n",
              "       width=\"24px\">\n",
              "    <path d=\"M0 0h24v24H0V0z\" fill=\"none\"/>\n",
              "    <path d=\"M18.56 5.44l.94 2.06.94-2.06 2.06-.94-2.06-.94-.94-2.06-.94 2.06-2.06.94zm-11 1L8.5 8.5l.94-2.06 2.06-.94-2.06-.94L8.5 2.5l-.94 2.06-2.06.94zm10 10l.94 2.06.94-2.06 2.06-.94-2.06-.94-.94-2.06-.94 2.06-2.06.94z\"/><path d=\"M17.41 7.96l-1.37-1.37c-.4-.4-.92-.59-1.43-.59-.52 0-1.04.2-1.43.59L10.3 9.45l-7.72 7.72c-.78.78-.78 2.05 0 2.83L4 21.41c.39.39.9.59 1.41.59.51 0 1.02-.2 1.41-.59l7.78-7.78 2.81-2.81c.8-.78.8-2.07 0-2.86zM5.41 20L4 18.59l7.72-7.72 1.47 1.35L5.41 20z\"/>\n",
              "  </svg>\n",
              "      </button>\n",
              "      \n",
              "  <style>\n",
              "    .colab-df-container {\n",
              "      display:flex;\n",
              "      flex-wrap:wrap;\n",
              "      gap: 12px;\n",
              "    }\n",
              "\n",
              "    .colab-df-convert {\n",
              "      background-color: #E8F0FE;\n",
              "      border: none;\n",
              "      border-radius: 50%;\n",
              "      cursor: pointer;\n",
              "      display: none;\n",
              "      fill: #1967D2;\n",
              "      height: 32px;\n",
              "      padding: 0 0 0 0;\n",
              "      width: 32px;\n",
              "    }\n",
              "\n",
              "    .colab-df-convert:hover {\n",
              "      background-color: #E2EBFA;\n",
              "      box-shadow: 0px 1px 2px rgba(60, 64, 67, 0.3), 0px 1px 3px 1px rgba(60, 64, 67, 0.15);\n",
              "      fill: #174EA6;\n",
              "    }\n",
              "\n",
              "    [theme=dark] .colab-df-convert {\n",
              "      background-color: #3B4455;\n",
              "      fill: #D2E3FC;\n",
              "    }\n",
              "\n",
              "    [theme=dark] .colab-df-convert:hover {\n",
              "      background-color: #434B5C;\n",
              "      box-shadow: 0px 1px 3px 1px rgba(0, 0, 0, 0.15);\n",
              "      filter: drop-shadow(0px 1px 2px rgba(0, 0, 0, 0.3));\n",
              "      fill: #FFFFFF;\n",
              "    }\n",
              "  </style>\n",
              "\n",
              "      <script>\n",
              "        const buttonEl =\n",
              "          document.querySelector('#df-0cad4c80-4da8-4e53-9155-57cf37c2134c button.colab-df-convert');\n",
              "        buttonEl.style.display =\n",
              "          google.colab.kernel.accessAllowed ? 'block' : 'none';\n",
              "\n",
              "        async function convertToInteractive(key) {\n",
              "          const element = document.querySelector('#df-0cad4c80-4da8-4e53-9155-57cf37c2134c');\n",
              "          const dataTable =\n",
              "            await google.colab.kernel.invokeFunction('convertToInteractive',\n",
              "                                                     [key], {});\n",
              "          if (!dataTable) return;\n",
              "\n",
              "          const docLinkHtml = 'Like what you see? Visit the ' +\n",
              "            '<a target=\"_blank\" href=https://colab.research.google.com/notebooks/data_table.ipynb>data table notebook</a>'\n",
              "            + ' to learn more about interactive tables.';\n",
              "          element.innerHTML = '';\n",
              "          dataTable['output_type'] = 'display_data';\n",
              "          await google.colab.output.renderOutput(dataTable, element);\n",
              "          const docLink = document.createElement('div');\n",
              "          docLink.innerHTML = docLinkHtml;\n",
              "          element.appendChild(docLink);\n",
              "        }\n",
              "      </script>\n",
              "    </div>\n",
              "  </div>\n",
              "  "
            ]
          },
          "metadata": {},
          "execution_count": 6
        }
      ]
    },
    {
      "cell_type": "code",
      "source": [
        "df.index"
      ],
      "metadata": {
        "colab": {
          "base_uri": "https://localhost:8080/"
        },
        "id": "TpfJej1ztYyw",
        "outputId": "bf7ca69e-c711-4505-c096-d12b55b7c792"
      },
      "execution_count": 7,
      "outputs": [
        {
          "output_type": "execute_result",
          "data": {
            "text/plain": [
              "DatetimeIndex(['2012-07-27', '2012-07-30', '2012-07-31', '2012-08-01',\n",
              "               '2012-08-02', '2012-08-03', '2012-08-06', '2012-08-07',\n",
              "               '2012-08-08', '2012-08-09',\n",
              "               ...\n",
              "               '2022-07-14', '2022-07-15', '2022-07-18', '2022-07-19',\n",
              "               '2022-07-20', '2022-07-21', '2022-07-22', '2022-07-25',\n",
              "               '2022-07-26', '2022-07-27'],\n",
              "              dtype='datetime64[ns]', name='Date', length=2464, freq=None)"
            ]
          },
          "metadata": {},
          "execution_count": 7
        }
      ]
    },
    {
      "cell_type": "markdown",
      "source": [
        "Check whether you have duplicate data on by date"
      ],
      "metadata": {
        "id": "DYjX_xYAtnYO"
      }
    },
    {
      "cell_type": "code",
      "source": [
        "df[df.index.duplicated(keep = False)]"
      ],
      "metadata": {
        "colab": {
          "base_uri": "https://localhost:8080/",
          "height": 81
        },
        "id": "MHThdAkBselW",
        "outputId": "9a7225ac-a1ea-4468-d458-5b2e341895f4"
      },
      "execution_count": 8,
      "outputs": [
        {
          "output_type": "execute_result",
          "data": {
            "text/plain": [
              "Empty DataFrame\n",
              "Columns: [Open, High, Low, Close, Adj Close, Volume]\n",
              "Index: []"
            ],
            "text/html": [
              "\n",
              "  <div id=\"df-1d700446-016e-402d-bfe5-97fa76e8696b\">\n",
              "    <div class=\"colab-df-container\">\n",
              "      <div>\n",
              "<style scoped>\n",
              "    .dataframe tbody tr th:only-of-type {\n",
              "        vertical-align: middle;\n",
              "    }\n",
              "\n",
              "    .dataframe tbody tr th {\n",
              "        vertical-align: top;\n",
              "    }\n",
              "\n",
              "    .dataframe thead th {\n",
              "        text-align: right;\n",
              "    }\n",
              "</style>\n",
              "<table border=\"1\" class=\"dataframe\">\n",
              "  <thead>\n",
              "    <tr style=\"text-align: right;\">\n",
              "      <th></th>\n",
              "      <th>Open</th>\n",
              "      <th>High</th>\n",
              "      <th>Low</th>\n",
              "      <th>Close</th>\n",
              "      <th>Adj Close</th>\n",
              "      <th>Volume</th>\n",
              "    </tr>\n",
              "    <tr>\n",
              "      <th>Date</th>\n",
              "      <th></th>\n",
              "      <th></th>\n",
              "      <th></th>\n",
              "      <th></th>\n",
              "      <th></th>\n",
              "      <th></th>\n",
              "    </tr>\n",
              "  </thead>\n",
              "  <tbody>\n",
              "  </tbody>\n",
              "</table>\n",
              "</div>\n",
              "      <button class=\"colab-df-convert\" onclick=\"convertToInteractive('df-1d700446-016e-402d-bfe5-97fa76e8696b')\"\n",
              "              title=\"Convert this dataframe to an interactive table.\"\n",
              "              style=\"display:none;\">\n",
              "        \n",
              "  <svg xmlns=\"http://www.w3.org/2000/svg\" height=\"24px\"viewBox=\"0 0 24 24\"\n",
              "       width=\"24px\">\n",
              "    <path d=\"M0 0h24v24H0V0z\" fill=\"none\"/>\n",
              "    <path d=\"M18.56 5.44l.94 2.06.94-2.06 2.06-.94-2.06-.94-.94-2.06-.94 2.06-2.06.94zm-11 1L8.5 8.5l.94-2.06 2.06-.94-2.06-.94L8.5 2.5l-.94 2.06-2.06.94zm10 10l.94 2.06.94-2.06 2.06-.94-2.06-.94-.94-2.06-.94 2.06-2.06.94z\"/><path d=\"M17.41 7.96l-1.37-1.37c-.4-.4-.92-.59-1.43-.59-.52 0-1.04.2-1.43.59L10.3 9.45l-7.72 7.72c-.78.78-.78 2.05 0 2.83L4 21.41c.39.39.9.59 1.41.59.51 0 1.02-.2 1.41-.59l7.78-7.78 2.81-2.81c.8-.78.8-2.07 0-2.86zM5.41 20L4 18.59l7.72-7.72 1.47 1.35L5.41 20z\"/>\n",
              "  </svg>\n",
              "      </button>\n",
              "      \n",
              "  <style>\n",
              "    .colab-df-container {\n",
              "      display:flex;\n",
              "      flex-wrap:wrap;\n",
              "      gap: 12px;\n",
              "    }\n",
              "\n",
              "    .colab-df-convert {\n",
              "      background-color: #E8F0FE;\n",
              "      border: none;\n",
              "      border-radius: 50%;\n",
              "      cursor: pointer;\n",
              "      display: none;\n",
              "      fill: #1967D2;\n",
              "      height: 32px;\n",
              "      padding: 0 0 0 0;\n",
              "      width: 32px;\n",
              "    }\n",
              "\n",
              "    .colab-df-convert:hover {\n",
              "      background-color: #E2EBFA;\n",
              "      box-shadow: 0px 1px 2px rgba(60, 64, 67, 0.3), 0px 1px 3px 1px rgba(60, 64, 67, 0.15);\n",
              "      fill: #174EA6;\n",
              "    }\n",
              "\n",
              "    [theme=dark] .colab-df-convert {\n",
              "      background-color: #3B4455;\n",
              "      fill: #D2E3FC;\n",
              "    }\n",
              "\n",
              "    [theme=dark] .colab-df-convert:hover {\n",
              "      background-color: #434B5C;\n",
              "      box-shadow: 0px 1px 3px 1px rgba(0, 0, 0, 0.15);\n",
              "      filter: drop-shadow(0px 1px 2px rgba(0, 0, 0, 0.3));\n",
              "      fill: #FFFFFF;\n",
              "    }\n",
              "  </style>\n",
              "\n",
              "      <script>\n",
              "        const buttonEl =\n",
              "          document.querySelector('#df-1d700446-016e-402d-bfe5-97fa76e8696b button.colab-df-convert');\n",
              "        buttonEl.style.display =\n",
              "          google.colab.kernel.accessAllowed ? 'block' : 'none';\n",
              "\n",
              "        async function convertToInteractive(key) {\n",
              "          const element = document.querySelector('#df-1d700446-016e-402d-bfe5-97fa76e8696b');\n",
              "          const dataTable =\n",
              "            await google.colab.kernel.invokeFunction('convertToInteractive',\n",
              "                                                     [key], {});\n",
              "          if (!dataTable) return;\n",
              "\n",
              "          const docLinkHtml = 'Like what you see? Visit the ' +\n",
              "            '<a target=\"_blank\" href=https://colab.research.google.com/notebooks/data_table.ipynb>data table notebook</a>'\n",
              "            + ' to learn more about interactive tables.';\n",
              "          element.innerHTML = '';\n",
              "          dataTable['output_type'] = 'display_data';\n",
              "          await google.colab.output.renderOutput(dataTable, element);\n",
              "          const docLink = document.createElement('div');\n",
              "          docLink.innerHTML = docLinkHtml;\n",
              "          element.appendChild(docLink);\n",
              "        }\n",
              "      </script>\n",
              "    </div>\n",
              "  </div>\n",
              "  "
            ]
          },
          "metadata": {},
          "execution_count": 8
        }
      ]
    },
    {
      "cell_type": "code",
      "source": [
        "y = np.log(df[\"Close\"])\n",
        "y.plot()"
      ],
      "metadata": {
        "colab": {
          "base_uri": "https://localhost:8080/",
          "height": 390
        },
        "id": "0EHWVgg4tapn",
        "outputId": "2b80bc0b-e2d4-4197-f3b7-90f8cc1dcab7"
      },
      "execution_count": 9,
      "outputs": [
        {
          "output_type": "execute_result",
          "data": {
            "text/plain": [
              "<matplotlib.axes._subplots.AxesSubplot at 0x7f9b85c55390>"
            ]
          },
          "metadata": {},
          "execution_count": 9
        },
        {
          "output_type": "display_data",
          "data": {
            "text/plain": [
              "<Figure size 864x432 with 1 Axes>"
            ],
            "image/png": "[encoded data removed]"
          },
          "metadata": {
            "needs_background": "light"
          }
        }
      ]
    },
    {
      "cell_type": "code",
      "source": [
        "y.index"
      ],
      "metadata": {
        "colab": {
          "base_uri": "https://localhost:8080/"
        },
        "id": "BIVM_qrXx3Gy",
        "outputId": "cdfa5fc5-4316-4ae4-d541-98aca9164b71"
      },
      "execution_count": 37,
      "outputs": [
        {
          "output_type": "execute_result",
          "data": {
            "text/plain": [
              "DatetimeIndex(['2012-07-27', '2012-07-30', '2012-07-31', '2012-08-01',\n",
              "               '2012-08-02', '2012-08-03', '2012-08-06', '2012-08-07',\n",
              "               '2012-08-08', '2012-08-09',\n",
              "               ...\n",
              "               '2022-07-14', '2022-07-15', '2022-07-18', '2022-07-19',\n",
              "               '2022-07-20', '2022-07-21', '2022-07-22', '2022-07-25',\n",
              "               '2022-07-26', '2022-07-27'],\n",
              "              dtype='datetime64[ns]', name='Date', length=2464, freq=None)"
            ]
          },
          "metadata": {},
          "execution_count": 37
        }
      ]
    },
    {
      "cell_type": "markdown",
      "source": [
        "Let's see if there are gaps in the data in terms of date range. Trading does not happen on weekends or national holidays. So there is no data on those days."
      ],
      "metadata": {
        "id": "X1EdZhtMx8D_"
      }
    },
    {
      "cell_type": "code",
      "source": [
        "list(y.index[:10])"
      ],
      "metadata": {
        "colab": {
          "base_uri": "https://localhost:8080/"
        },
        "id": "FIRbRPovx-S4",
        "outputId": "00cd3021-6d60-45e5-bc21-d40f987f1446"
      },
      "execution_count": 11,
      "outputs": [
        {
          "output_type": "execute_result",
          "data": {
            "text/plain": [
              "[Timestamp('2012-07-27 00:00:00'),\n",
              " Timestamp('2012-07-30 00:00:00'),\n",
              " Timestamp('2012-07-31 00:00:00'),\n",
              " Timestamp('2012-08-01 00:00:00'),\n",
              " Timestamp('2012-08-02 00:00:00'),\n",
              " Timestamp('2012-08-03 00:00:00'),\n",
              " Timestamp('2012-08-06 00:00:00'),\n",
              " Timestamp('2012-08-07 00:00:00'),\n",
              " Timestamp('2012-08-08 00:00:00'),\n",
              " Timestamp('2012-08-09 00:00:00')]"
            ]
          },
          "metadata": {},
          "execution_count": 11
        }
      ]
    },
    {
      "cell_type": "code",
      "source": [
        "y.asfreq(\"D\")[:15]"
      ],
      "metadata": {
        "colab": {
          "base_uri": "https://localhost:8080/"
        },
        "id": "e-HvmyAlyBLy",
        "outputId": "4bffd80a-103e-4e0c-ae99-d30b70073148"
      },
      "execution_count": 38,
      "outputs": [
        {
          "output_type": "execute_result",
          "data": {
            "text/plain": [
              "Date\n",
              "2012-07-27    5.349919\n",
              "2012-07-28         NaN\n",
              "2012-07-29         NaN\n",
              "2012-07-30    5.390656\n",
              "2012-07-31    5.410972\n",
              "2012-08-01    5.415822\n",
              "2012-08-02    5.395157\n",
              "2012-08-03    5.387268\n",
              "2012-08-04         NaN\n",
              "2012-08-05         NaN\n",
              "2012-08-06    5.423271\n",
              "2012-08-07    5.464957\n",
              "2012-08-08    5.476201\n",
              "2012-08-09    5.467049\n",
              "2012-08-10    5.435853\n",
              "Freq: D, Name: Close, dtype: float64"
            ]
          },
          "metadata": {},
          "execution_count": 38
        }
      ]
    },
    {
      "cell_type": "markdown",
      "source": [
        "Let's impute the missing data by forward fill using asfreq method."
      ],
      "metadata": {
        "id": "hLfyHeZtyGwh"
      }
    },
    {
      "cell_type": "code",
      "source": [
        "y.asfreq(\"D\", method=\"ffill\")[:15]"
      ],
      "metadata": {
        "colab": {
          "base_uri": "https://localhost:8080/"
        },
        "id": "-3VHI5QTyINX",
        "outputId": "aa63978a-d328-42a3-9f8f-50bfcaf8a265"
      },
      "execution_count": 39,
      "outputs": [
        {
          "output_type": "execute_result",
          "data": {
            "text/plain": [
              "Date\n",
              "2012-07-27    5.349919\n",
              "2012-07-28    5.349919\n",
              "2012-07-29    5.349919\n",
              "2012-07-30    5.390656\n",
              "2012-07-31    5.410972\n",
              "2012-08-01    5.415822\n",
              "2012-08-02    5.395157\n",
              "2012-08-03    5.387268\n",
              "2012-08-04    5.387268\n",
              "2012-08-05    5.387268\n",
              "2012-08-06    5.423271\n",
              "2012-08-07    5.464957\n",
              "2012-08-08    5.476201\n",
              "2012-08-09    5.467049\n",
              "2012-08-10    5.435853\n",
              "Freq: D, Name: Close, dtype: float64"
            ]
          },
          "metadata": {},
          "execution_count": 39
        }
      ]
    },
    {
      "cell_type": "markdown",
      "source": [
        "Calculate rolling mean, exponentially weighted mean"
      ],
      "metadata": {
        "id": "Nc4RmLJbyq-L"
      }
    },
    {
      "cell_type": "code",
      "source": [
        "period = 100\n",
        "y_rolling = pd.DataFrame(dict(actual = y, \n",
        "                              rolling_mean = y.rolling(period).mean(), \n",
        "                              ewm = y.ewm(span = period).mean()\n",
        "                             ))\n",
        "y_rolling.tail()"
      ],
      "metadata": {
        "colab": {
          "base_uri": "https://localhost:8080/",
          "height": 238
        },
        "id": "WbDJFtpfyohM",
        "outputId": "360760b4-d376-46c9-90f4-ec4255c8cd3c"
      },
      "execution_count": 40,
      "outputs": [
        {
          "output_type": "execute_result",
          "data": {
            "text/plain": [
              "              actual  rolling_mean       ewm\n",
              "Date                                        \n",
              "2022-07-21  6.119968      6.052305  6.060416\n",
              "2022-07-22  6.120078      6.052198  6.061597\n",
              "2022-07-25  6.108247      6.052099  6.062521\n",
              "2022-07-26  6.089385      6.051954  6.063053\n",
              "2022-07-27  6.095937      6.052111  6.063704"
            ],
            "text/html": [
              "\n",
              "  <div id=\"df-80a252b3-85f0-4372-838b-5e2e3f3cdaac\">\n",
              "    <div class=\"colab-df-container\">\n",
              "      <div>\n",
              "<style scoped>\n",
              "    .dataframe tbody tr th:only-of-type {\n",
              "        vertical-align: middle;\n",
              "    }\n",
              "\n",
              "    .dataframe tbody tr th {\n",
              "        vertical-align: top;\n",
              "    }\n",
              "\n",
              "    .dataframe thead th {\n",
              "        text-align: right;\n",
              "    }\n",
              "</style>\n",
              "<table border=\"1\" class=\"dataframe\">\n",
              "  <thead>\n",
              "    <tr style=\"text-align: right;\">\n",
              "      <th></th>\n",
              "      <th>actual</th>\n",
              "      <th>rolling_mean</th>\n",
              "      <th>ewm</th>\n",
              "    </tr>\n",
              "    <tr>\n",
              "      <th>Date</th>\n",
              "      <th></th>\n",
              "      <th></th>\n",
              "      <th></th>\n",
              "    </tr>\n",
              "  </thead>\n",
              "  <tbody>\n",
              "    <tr>\n",
              "      <th>2022-07-21</th>\n",
              "      <td>6.119968</td>\n",
              "      <td>6.052305</td>\n",
              "      <td>6.060416</td>\n",
              "    </tr>\n",
              "    <tr>\n",
              "      <th>2022-07-22</th>\n",
              "      <td>6.120078</td>\n",
              "      <td>6.052198</td>\n",
              "      <td>6.061597</td>\n",
              "    </tr>\n",
              "    <tr>\n",
              "      <th>2022-07-25</th>\n",
              "      <td>6.108247</td>\n",
              "      <td>6.052099</td>\n",
              "      <td>6.062521</td>\n",
              "    </tr>\n",
              "    <tr>\n",
              "      <th>2022-07-26</th>\n",
              "      <td>6.089385</td>\n",
              "      <td>6.051954</td>\n",
              "      <td>6.063053</td>\n",
              "    </tr>\n",
              "    <tr>\n",
              "      <th>2022-07-27</th>\n",
              "      <td>6.095937</td>\n",
              "      <td>6.052111</td>\n",
              "      <td>6.063704</td>\n",
              "    </tr>\n",
              "  </tbody>\n",
              "</table>\n",
              "</div>\n",
              "      <button class=\"colab-df-convert\" onclick=\"convertToInteractive('df-80a252b3-85f0-4372-838b-5e2e3f3cdaac')\"\n",
              "              title=\"Convert this dataframe to an interactive table.\"\n",
              "              style=\"display:none;\">\n",
              "        \n",
              "  <svg xmlns=\"http://www.w3.org/2000/svg\" height=\"24px\"viewBox=\"0 0 24 24\"\n",
              "       width=\"24px\">\n",
              "    <path d=\"M0 0h24v24H0V0z\" fill=\"none\"/>\n",
              "    <path d=\"M18.56 5.44l.94 2.06.94-2.06 2.06-.94-2.06-.94-.94-2.06-.94 2.06-2.06.94zm-11 1L8.5 8.5l.94-2.06 2.06-.94-2.06-.94L8.5 2.5l-.94 2.06-2.06.94zm10 10l.94 2.06.94-2.06 2.06-.94-2.06-.94-.94-2.06-.94 2.06-2.06.94z\"/><path d=\"M17.41 7.96l-1.37-1.37c-.4-.4-.92-.59-1.43-.59-.52 0-1.04.2-1.43.59L10.3 9.45l-7.72 7.72c-.78.78-.78 2.05 0 2.83L4 21.41c.39.39.9.59 1.41.59.51 0 1.02-.2 1.41-.59l7.78-7.78 2.81-2.81c.8-.78.8-2.07 0-2.86zM5.41 20L4 18.59l7.72-7.72 1.47 1.35L5.41 20z\"/>\n",
              "  </svg>\n",
              "      </button>\n",
              "      \n",
              "  <style>\n",
              "    .colab-df-container {\n",
              "      display:flex;\n",
              "      flex-wrap:wrap;\n",
              "      gap: 12px;\n",
              "    }\n",
              "\n",
              "    .colab-df-convert {\n",
              "      background-color: #E8F0FE;\n",
              "      border: none;\n",
              "      border-radius: 50%;\n",
              "      cursor: pointer;\n",
              "      display: none;\n",
              "      fill: #1967D2;\n",
              "      height: 32px;\n",
              "      padding: 0 0 0 0;\n",
              "      width: 32px;\n",
              "    }\n",
              "\n",
              "    .colab-df-convert:hover {\n",
              "      background-color: #E2EBFA;\n",
              "      box-shadow: 0px 1px 2px rgba(60, 64, 67, 0.3), 0px 1px 3px 1px rgba(60, 64, 67, 0.15);\n",
              "      fill: #174EA6;\n",
              "    }\n",
              "\n",
              "    [theme=dark] .colab-df-convert {\n",
              "      background-color: #3B4455;\n",
              "      fill: #D2E3FC;\n",
              "    }\n",
              "\n",
              "    [theme=dark] .colab-df-convert:hover {\n",
              "      background-color: #434B5C;\n",
              "      box-shadow: 0px 1px 3px 1px rgba(0, 0, 0, 0.15);\n",
              "      filter: drop-shadow(0px 1px 2px rgba(0, 0, 0, 0.3));\n",
              "      fill: #FFFFFF;\n",
              "    }\n",
              "  </style>\n",
              "\n",
              "      <script>\n",
              "        const buttonEl =\n",
              "          document.querySelector('#df-80a252b3-85f0-4372-838b-5e2e3f3cdaac button.colab-df-convert');\n",
              "        buttonEl.style.display =\n",
              "          google.colab.kernel.accessAllowed ? 'block' : 'none';\n",
              "\n",
              "        async function convertToInteractive(key) {\n",
              "          const element = document.querySelector('#df-80a252b3-85f0-4372-838b-5e2e3f3cdaac');\n",
              "          const dataTable =\n",
              "            await google.colab.kernel.invokeFunction('convertToInteractive',\n",
              "                                                     [key], {});\n",
              "          if (!dataTable) return;\n",
              "\n",
              "          const docLinkHtml = 'Like what you see? Visit the ' +\n",
              "            '<a target=\"_blank\" href=https://colab.research.google.com/notebooks/data_table.ipynb>data table notebook</a>'\n",
              "            + ' to learn more about interactive tables.';\n",
              "          element.innerHTML = '';\n",
              "          dataTable['output_type'] = 'display_data';\n",
              "          await google.colab.output.renderOutput(dataTable, element);\n",
              "          const docLink = document.createElement('div');\n",
              "          docLink.innerHTML = docLinkHtml;\n",
              "          element.appendChild(docLink);\n",
              "        }\n",
              "      </script>\n",
              "    </div>\n",
              "  </div>\n",
              "  "
            ]
          },
          "metadata": {},
          "execution_count": 40
        }
      ]
    },
    {
      "cell_type": "code",
      "source": [
        "rolling_dropped = y_rolling.dropna()\n",
        "print(\"rmse over rolling mean: \", metrics.mean_squared_error(rolling_dropped.actual, rolling_dropped.rolling_mean) ** 0.5)\n",
        "print(\"rmse over ewma: \", metrics.mean_squared_error(rolling_dropped.actual, rolling_dropped[\"ewm\"]) ** 0.5)"
      ],
      "metadata": {
        "colab": {
          "base_uri": "https://localhost:8080/"
        },
        "id": "aI5pwCdIy690",
        "outputId": "056ed426-1606-4336-8453-ce508d5f235d"
      },
      "execution_count": 41,
      "outputs": [
        {
          "output_type": "stream",
          "name": "stdout",
          "text": [
            "rmse over rolling mean:  0.18584831697866364\n",
            "rmse over ewma:  0.15795918070246967\n"
          ]
        }
      ]
    },
    {
      "cell_type": "markdown",
      "source": [
        "By visual inspection, we see the time series is not stationary. Let we will see a more formal way of testing using Dickey Fullter Test."
      ],
      "metadata": {
        "id": "rGQL80_6y-k7"
      }
    },
    {
      "cell_type": "code",
      "source": [
        "y_rolling.plot()"
      ],
      "metadata": {
        "colab": {
          "base_uri": "https://localhost:8080/",
          "height": 390
        },
        "id": "M09S497Ay98t",
        "outputId": "dc48f025-7d82-4f74-df6d-4489303bf1e4"
      },
      "execution_count": 42,
      "outputs": [
        {
          "output_type": "execute_result",
          "data": {
            "text/plain": [
              "<matplotlib.axes._subplots.AxesSubplot at 0x7f9b7fe7dd10>"
            ]
          },
          "metadata": {},
          "execution_count": 42
        },
        {
          "output_type": "display_data",
          "data": {
            "text/plain": [
              "<Figure size 864x432 with 1 Axes>"
            ],
            "image/png": "[encoded data removed]"
          },
          "metadata": {
            "needs_background": "light"
          }
        }
      ]
    },
    {
      "cell_type": "markdown",
      "source": [
        "Formal of way of test for stationarity. Since the p-value of Augmented Dickey Fullter test is > 0.05, we can say that there is not sufficient proof that the time series is stationary. Loosely speaking, it is non-stationary. We need further transformation to make data stationary. Populary method for making data stationary will be to take \"difference\". Taking difference by lag one, we see the p-val for Dickey Fuller test is < 0.05. So we conclude, diff 1 has made the data stationary."
      ],
      "metadata": {
        "id": "n8C4YBGizGJ9"
      }
    },
    {
      "cell_type": "code",
      "source": [
        "from statsmodels.tsa.stattools import adfuller\n",
        "from numpy import log\n",
        "result = adfuller(y.dropna())\n",
        "print('ADF Statistic: %f' % result[0])\n",
        "print('p-value: %f' % result[1])"
      ],
      "metadata": {
        "colab": {
          "base_uri": "https://localhost:8080/"
        },
        "id": "ClBXTI0HzF1E",
        "outputId": "76f2171e-b000-48b9-d7d0-9390f7b03456"
      },
      "execution_count": 43,
      "outputs": [
        {
          "output_type": "stream",
          "name": "stdout",
          "text": [
            "ADF Statistic: -1.412390\n",
            "p-value: 0.576322\n"
          ]
        }
      ]
    },
    {
      "cell_type": "code",
      "source": [
        "diff = pd.DataFrame({\"actual\": y, \"diff1\": y.diff(3)}).head(10)\n",
        "diff[\"diff2\"] = diff.diff1.diff(1)\n",
        "diff"
      ],
      "metadata": {
        "colab": {
          "base_uri": "https://localhost:8080/",
          "height": 394
        },
        "id": "pYNEQgoizMt3",
        "outputId": "37cec5aa-e602-42e9-f2e0-8a00b25ddb1d"
      },
      "execution_count": 44,
      "outputs": [
        {
          "output_type": "execute_result",
          "data": {
            "text/plain": [
              "              actual     diff1     diff2\n",
              "Date                                    \n",
              "2012-07-27  5.349919       NaN       NaN\n",
              "2012-07-30  5.390656       NaN       NaN\n",
              "2012-07-31  5.410972       NaN       NaN\n",
              "2012-08-01  5.415822  0.065903       NaN\n",
              "2012-08-02  5.395157  0.004500 -0.061402\n",
              "2012-08-03  5.387268 -0.023704 -0.028205\n",
              "2012-08-06  5.423271  0.007450  0.031154\n",
              "2012-08-07  5.464957  0.069801  0.062351\n",
              "2012-08-08  5.476201  0.088933  0.019132\n",
              "2012-08-09  5.467049  0.043778 -0.045155"
            ],
            "text/html": [
              "\n",
              "  <div id=\"df-514942e3-ac82-493a-9200-631917ac65de\">\n",
              "    <div class=\"colab-df-container\">\n",
              "      <div>\n",
              "<style scoped>\n",
              "    .dataframe tbody tr th:only-of-type {\n",
              "        vertical-align: middle;\n",
              "    }\n",
              "\n",
              "    .dataframe tbody tr th {\n",
              "        vertical-align: top;\n",
              "    }\n",
              "\n",
              "    .dataframe thead th {\n",
              "        text-align: right;\n",
              "    }\n",
              "</style>\n",
              "<table border=\"1\" class=\"dataframe\">\n",
              "  <thead>\n",
              "    <tr style=\"text-align: right;\">\n",
              "      <th></th>\n",
              "      <th>actual</th>\n",
              "      <th>diff1</th>\n",
              "      <th>diff2</th>\n",
              "    </tr>\n",
              "    <tr>\n",
              "      <th>Date</th>\n",
              "      <th></th>\n",
              "      <th></th>\n",
              "      <th></th>\n",
              "    </tr>\n",
              "  </thead>\n",
              "  <tbody>\n",
              "    <tr>\n",
              "      <th>2012-07-27</th>\n",
              "      <td>5.349919</td>\n",
              "      <td>NaN</td>\n",
              "      <td>NaN</td>\n",
              "    </tr>\n",
              "    <tr>\n",
              "      <th>2012-07-30</th>\n",
              "      <td>5.390656</td>\n",
              "      <td>NaN</td>\n",
              "      <td>NaN</td>\n",
              "    </tr>\n",
              "    <tr>\n",
              "      <th>2012-07-31</th>\n",
              "      <td>5.410972</td>\n",
              "      <td>NaN</td>\n",
              "      <td>NaN</td>\n",
              "    </tr>\n",
              "    <tr>\n",
              "      <th>2012-08-01</th>\n",
              "      <td>5.415822</td>\n",
              "      <td>0.065903</td>\n",
              "      <td>NaN</td>\n",
              "    </tr>\n",
              "    <tr>\n",
              "      <th>2012-08-02</th>\n",
              "      <td>5.395157</td>\n",
              "      <td>0.004500</td>\n",
              "      <td>-0.061402</td>\n",
              "    </tr>\n",
              "    <tr>\n",
              "      <th>2012-08-03</th>\n",
              "      <td>5.387268</td>\n",
              "      <td>-0.023704</td>\n",
              "      <td>-0.028205</td>\n",
              "    </tr>\n",
              "    <tr>\n",
              "      <th>2012-08-06</th>\n",
              "      <td>5.423271</td>\n",
              "      <td>0.007450</td>\n",
              "      <td>0.031154</td>\n",
              "    </tr>\n",
              "    <tr>\n",
              "      <th>2012-08-07</th>\n",
              "      <td>5.464957</td>\n",
              "      <td>0.069801</td>\n",
              "      <td>0.062351</td>\n",
              "    </tr>\n",
              "    <tr>\n",
              "      <th>2012-08-08</th>\n",
              "      <td>5.476201</td>\n",
              "      <td>0.088933</td>\n",
              "      <td>0.019132</td>\n",
              "    </tr>\n",
              "    <tr>\n",
              "      <th>2012-08-09</th>\n",
              "      <td>5.467049</td>\n",
              "      <td>0.043778</td>\n",
              "      <td>-0.045155</td>\n",
              "    </tr>\n",
              "  </tbody>\n",
              "</table>\n",
              "</div>\n",
              "      <button class=\"colab-df-convert\" onclick=\"convertToInteractive('df-514942e3-ac82-493a-9200-631917ac65de')\"\n",
              "              title=\"Convert this dataframe to an interactive table.\"\n",
              "              style=\"display:none;\">\n",
              "        \n",
              "  <svg xmlns=\"http://www.w3.org/2000/svg\" height=\"24px\"viewBox=\"0 0 24 24\"\n",
              "       width=\"24px\">\n",
              "    <path d=\"M0 0h24v24H0V0z\" fill=\"none\"/>\n",
              "    <path d=\"M18.56 5.44l.94 2.06.94-2.06 2.06-.94-2.06-.94-.94-2.06-.94 2.06-2.06.94zm-11 1L8.5 8.5l.94-2.06 2.06-.94-2.06-.94L8.5 2.5l-.94 2.06-2.06.94zm10 10l.94 2.06.94-2.06 2.06-.94-2.06-.94-.94-2.06-.94 2.06-2.06.94z\"/><path d=\"M17.41 7.96l-1.37-1.37c-.4-.4-.92-.59-1.43-.59-.52 0-1.04.2-1.43.59L10.3 9.45l-7.72 7.72c-.78.78-.78 2.05 0 2.83L4 21.41c.39.39.9.59 1.41.59.51 0 1.02-.2 1.41-.59l7.78-7.78 2.81-2.81c.8-.78.8-2.07 0-2.86zM5.41 20L4 18.59l7.72-7.72 1.47 1.35L5.41 20z\"/>\n",
              "  </svg>\n",
              "      </button>\n",
              "      \n",
              "  <style>\n",
              "    .colab-df-container {\n",
              "      display:flex;\n",
              "      flex-wrap:wrap;\n",
              "      gap: 12px;\n",
              "    }\n",
              "\n",
              "    .colab-df-convert {\n",
              "      background-color: #E8F0FE;\n",
              "      border: none;\n",
              "      border-radius: 50%;\n",
              "      cursor: pointer;\n",
              "      display: none;\n",
              "      fill: #1967D2;\n",
              "      height: 32px;\n",
              "      padding: 0 0 0 0;\n",
              "      width: 32px;\n",
              "    }\n",
              "\n",
              "    .colab-df-convert:hover {\n",
              "      background-color: #E2EBFA;\n",
              "      box-shadow: 0px 1px 2px rgba(60, 64, 67, 0.3), 0px 1px 3px 1px rgba(60, 64, 67, 0.15);\n",
              "      fill: #174EA6;\n",
              "    }\n",
              "\n",
              "    [theme=dark] .colab-df-convert {\n",
              "      background-color: #3B4455;\n",
              "      fill: #D2E3FC;\n",
              "    }\n",
              "\n",
              "    [theme=dark] .colab-df-convert:hover {\n",
              "      background-color: #434B5C;\n",
              "      box-shadow: 0px 1px 3px 1px rgba(0, 0, 0, 0.15);\n",
              "      filter: drop-shadow(0px 1px 2px rgba(0, 0, 0, 0.3));\n",
              "      fill: #FFFFFF;\n",
              "    }\n",
              "  </style>\n",
              "\n",
              "      <script>\n",
              "        const buttonEl =\n",
              "          document.querySelector('#df-514942e3-ac82-493a-9200-631917ac65de button.colab-df-convert');\n",
              "        buttonEl.style.display =\n",
              "          google.colab.kernel.accessAllowed ? 'block' : 'none';\n",
              "\n",
              "        async function convertToInteractive(key) {\n",
              "          const element = document.querySelector('#df-514942e3-ac82-493a-9200-631917ac65de');\n",
              "          const dataTable =\n",
              "            await google.colab.kernel.invokeFunction('convertToInteractive',\n",
              "                                                     [key], {});\n",
              "          if (!dataTable) return;\n",
              "\n",
              "          const docLinkHtml = 'Like what you see? Visit the ' +\n",
              "            '<a target=\"_blank\" href=https://colab.research.google.com/notebooks/data_table.ipynb>data table notebook</a>'\n",
              "            + ' to learn more about interactive tables.';\n",
              "          element.innerHTML = '';\n",
              "          dataTable['output_type'] = 'display_data';\n",
              "          await google.colab.output.renderOutput(dataTable, element);\n",
              "          const docLink = document.createElement('div');\n",
              "          docLink.innerHTML = docLinkHtml;\n",
              "          element.appendChild(docLink);\n",
              "        }\n",
              "      </script>\n",
              "    </div>\n",
              "  </div>\n",
              "  "
            ]
          },
          "metadata": {},
          "execution_count": 44
        }
      ]
    },
    {
      "cell_type": "code",
      "source": [
        "result = adfuller(y.diff(periods=1).dropna())\n",
        "print('ADF Statistic: %f' % result[0])\n",
        "print('p-value: %f' % result[1])"
      ],
      "metadata": {
        "colab": {
          "base_uri": "https://localhost:8080/"
        },
        "id": "dIMhtNjCzTbP",
        "outputId": "f732f5c0-91c1-4512-bdae-697413a3a7bf"
      },
      "execution_count": 45,
      "outputs": [
        {
          "output_type": "stream",
          "name": "stdout",
          "text": [
            "ADF Statistic: -48.587787\n",
            "p-value: 0.000000\n"
          ]
        }
      ]
    },
    {
      "cell_type": "code",
      "source": [
        "y.diff(periods=1).plot()"
      ],
      "metadata": {
        "colab": {
          "base_uri": "https://localhost:8080/",
          "height": 387
        },
        "id": "pNTi8VugzWHs",
        "outputId": "cacde020-ed1d-4e8a-ed80-a8926eb629db"
      },
      "execution_count": 46,
      "outputs": [
        {
          "output_type": "execute_result",
          "data": {
            "text/plain": [
              "<matplotlib.axes._subplots.AxesSubplot at 0x7f9b7fde6590>"
            ]
          },
          "metadata": {},
          "execution_count": 46
        },
        {
          "output_type": "display_data",
          "data": {
            "text/plain": [
              "<Figure size 864x432 with 1 Axes>"
            ],
            "image/png": "[encoded data removed]"
          },
          "metadata": {
            "needs_background": "light"
          }
        }
      ]
    },
    {
      "cell_type": "markdown",
      "source": [
        "Use pandas's auto correlation plot. Here is a nice explanation of the autocorrelation plot"
      ],
      "metadata": {
        "id": "l-9SCo14zaDR"
      }
    },
    {
      "cell_type": "code",
      "source": [
        "from pandas.plotting import autocorrelation_plot\n",
        "autocorrelation_plot(y)"
      ],
      "metadata": {
        "colab": {
          "base_uri": "https://localhost:8080/",
          "height": 412
        },
        "id": "w3zx6HQqzcI8",
        "outputId": "91d33da5-3489-4cd3-b2bd-c691e0a13429"
      },
      "execution_count": 47,
      "outputs": [
        {
          "output_type": "execute_result",
          "data": {
            "text/plain": [
              "<matplotlib.axes._subplots.AxesSubplot at 0x7f9b7fd7de50>"
            ]
          },
          "metadata": {},
          "execution_count": 47
        },
        {
          "output_type": "display_data",
          "data": {
            "text/plain": [
              "<Figure size 864x432 with 1 Axes>"
            ],
            "image/png": "[encoded data removed]"
          },
          "metadata": {
            "needs_background": "light"
          }
        }
      ]
    },
    {
      "cell_type": "code",
      "source": [
        "y = y.dropna()"
      ],
      "metadata": {
        "id": "HkhtB1sazfR8"
      },
      "execution_count": 48,
      "outputs": []
    },
    {
      "cell_type": "code",
      "source": [
        "from statsmodels.tsa.arima_model import ARIMA\n",
        "\n",
        "p=0\n",
        "d=1\n",
        "q=1\n",
        "\n",
        "# fit model\n",
        "model = ARIMA(y, order=(p, d, q)) \n",
        "model_fit = model.fit(disp=0)\n",
        "#print(model_fit.summary())\n",
        "\n",
        "# plot residual erros\n",
        "residuals = pd.DataFrame(model_fit.resid)\n",
        "residuals.plot()\n",
        "residuals.plot(kind='kde')\n",
        "print(residuals.describe())"
      ],
      "metadata": {
        "colab": {
          "base_uri": "https://localhost:8080/",
          "height": 977
        },
        "id": "qJ75Y_X-zh5X",
        "outputId": "d3742a6e-b065-4006-ef3a-f129dafe64e6"
      },
      "execution_count": 63,
      "outputs": [
        {
          "output_type": "stream",
          "name": "stderr",
          "text": [
            "/usr/local/lib/python3.7/dist-packages/statsmodels/tsa/base/tsa_model.py:219: ValueWarning: A date index has been provided, but it has no associated frequency information and so will be ignored when e.g. forecasting.\n",
            "  ' ignored when e.g. forecasting.', ValueWarning)\n",
            "/usr/local/lib/python3.7/dist-packages/statsmodels/tsa/base/tsa_model.py:219: ValueWarning: A date index has been provided, but it has no associated frequency information and so will be ignored when e.g. forecasting.\n",
            "  ' ignored when e.g. forecasting.', ValueWarning)\n"
          ]
        },
        {
          "output_type": "stream",
          "name": "stdout",
          "text": [
            "                  0\n",
            "count  2.463000e+03\n",
            "mean  -3.284526e-07\n",
            "std    2.684145e-02\n",
            "min   -1.941632e-01\n",
            "25%   -1.373291e-02\n",
            "50%   -1.188830e-04\n",
            "75%    1.333687e-02\n",
            "max    1.855230e-01\n"
          ]
        },
        {
          "output_type": "display_data",
          "data": {
            "text/plain": [
              "<Figure size 864x432 with 1 Axes>"
            ],
            "image/png": "[encoded data removed]"
          },
          "metadata": {
            "needs_background": "light"
          }
        },
        {
          "output_type": "display_data",
          "data": {
            "text/plain": [
              "<Figure size 864x432 with 1 Axes>"
            ],
            "image/png": "[encoded data removed]"
          },
          "metadata": {
            "needs_background": "light"
          }
        }
      ]
    },
    {
      "cell_type": "code",
      "source": [
        "model_fit.summary()"
      ],
      "metadata": {
        "colab": {
          "base_uri": "https://localhost:8080/",
          "height": 339
        },
        "id": "n56IYjUPzotl",
        "outputId": "5ec5beb4-0134-427f-da57-03cf6bc800f5"
      },
      "execution_count": 51,
      "outputs": [
        {
          "output_type": "execute_result",
          "data": {
            "text/plain": [
              "<class 'statsmodels.iolib.summary.Summary'>\n",
              "\"\"\"\n",
              "                             ARIMA Model Results                              \n",
              "==============================================================================\n",
              "Dep. Variable:                D.Close   No. Observations:                 2463\n",
              "Model:                 ARIMA(0, 1, 2)   Log Likelihood                5416.414\n",
              "Method:                       css-mle   S.D. of innovations              0.027\n",
              "Date:                Wed, 27 Jul 2022   AIC                         -10824.827\n",
              "Time:                        12:02:37   BIC                         -10801.591\n",
              "Sample:                             1   HQIC                        -10816.385\n",
              "                                                                              \n",
              "=================================================================================\n",
              "                    coef    std err          z      P>|z|      [0.025      0.975]\n",
              "---------------------------------------------------------------------------------\n",
              "const             0.0003      0.001      0.545      0.586      -0.001       0.001\n",
              "ma.L1.D.Close     0.0209      0.020      1.035      0.301      -0.019       0.060\n",
              "ma.L2.D.Close     0.0089      0.020      0.443      0.658      -0.031       0.048\n",
              "                                    Roots                                    \n",
              "=============================================================================\n",
              "                  Real          Imaginary           Modulus         Frequency\n",
              "-----------------------------------------------------------------------------\n",
              "MA.1           -1.1714          -10.5313j           10.5963           -0.2676\n",
              "MA.2           -1.1714          +10.5313j           10.5963            0.2676\n",
              "-----------------------------------------------------------------------------\n",
              "\"\"\""
            ],
            "text/html": [
              "<table class=\"simpletable\">\n",
              "<caption>ARIMA Model Results</caption>\n",
              "<tr>\n",
              "  <th>Dep. Variable:</th>      <td>D.Close</td>     <th>  No. Observations:  </th>    <td>2463</td>   \n",
              "</tr>\n",
              "<tr>\n",
              "  <th>Model:</th>          <td>ARIMA(0, 1, 2)</td>  <th>  Log Likelihood     </th>  <td>5416.414</td> \n",
              "</tr>\n",
              "<tr>\n",
              "  <th>Method:</th>             <td>css-mle</td>     <th>  S.D. of innovations</th>    <td>0.027</td>  \n",
              "</tr>\n",
              "<tr>\n",
              "  <th>Date:</th>          <td>Wed, 27 Jul 2022</td> <th>  AIC                </th> <td>-10824.827</td>\n",
              "</tr>\n",
              "<tr>\n",
              "  <th>Time:</th>              <td>12:02:37</td>     <th>  BIC                </th> <td>-10801.591</td>\n",
              "</tr>\n",
              "<tr>\n",
              "  <th>Sample:</th>                <td>1</td>        <th>  HQIC               </th> <td>-10816.385</td>\n",
              "</tr>\n",
              "<tr>\n",
              "  <th></th>                       <td> </td>        <th>                     </th>      <td> </td>    \n",
              "</tr>\n",
              "</table>\n",
              "<table class=\"simpletable\">\n",
              "<tr>\n",
              "        <td></td>           <th>coef</th>     <th>std err</th>      <th>z</th>      <th>P>|z|</th>  <th>[0.025</th>    <th>0.975]</th>  \n",
              "</tr>\n",
              "<tr>\n",
              "  <th>const</th>         <td>    0.0003</td> <td>    0.001</td> <td>    0.545</td> <td> 0.586</td> <td>   -0.001</td> <td>    0.001</td>\n",
              "</tr>\n",
              "<tr>\n",
              "  <th>ma.L1.D.Close</th> <td>    0.0209</td> <td>    0.020</td> <td>    1.035</td> <td> 0.301</td> <td>   -0.019</td> <td>    0.060</td>\n",
              "</tr>\n",
              "<tr>\n",
              "  <th>ma.L2.D.Close</th> <td>    0.0089</td> <td>    0.020</td> <td>    0.443</td> <td> 0.658</td> <td>   -0.031</td> <td>    0.048</td>\n",
              "</tr>\n",
              "</table>\n",
              "<table class=\"simpletable\">\n",
              "<caption>Roots</caption>\n",
              "<tr>\n",
              "    <td></td>   <th>            Real</th>  <th>         Imaginary</th> <th>         Modulus</th>  <th>        Frequency</th>\n",
              "</tr>\n",
              "<tr>\n",
              "  <th>MA.1</th> <td>          -1.1714</td> <td>         -10.5313j</td> <td>          10.5963</td> <td>          -0.2676</td>\n",
              "</tr>\n",
              "<tr>\n",
              "  <th>MA.2</th> <td>          -1.1714</td> <td>         +10.5313j</td> <td>          10.5963</td> <td>           0.2676</td>\n",
              "</tr>\n",
              "</table>"
            ]
          },
          "metadata": {},
          "execution_count": 51
        }
      ]
    },
    {
      "cell_type": "code",
      "source": [
        "model = ARIMA(y.values, order=(p, d, q))\n",
        "model_fit = model.fit(disp=0)\n",
        "predictions, error, conf_interval = model_fit.forecast(150)\n",
        "plt.plot(predictions)\n",
        "plt.fill_between(range(len(predictions)), conf_interval[:,0], conf_interval[:,1], alpha = 0.3)"
      ],
      "metadata": {
        "colab": {
          "base_uri": "https://localhost:8080/",
          "height": 391
        },
        "id": "56dxyUyBztUZ",
        "outputId": "8056e50d-6748-4202-c74e-d38daf29f1ae"
      },
      "execution_count": 64,
      "outputs": [
        {
          "output_type": "execute_result",
          "data": {
            "text/plain": [
              "<matplotlib.collections.PolyCollection at 0x7f9b7f7a7890>"
            ]
          },
          "metadata": {},
          "execution_count": 64
        },
        {
          "output_type": "display_data",
          "data": {
            "text/plain": [
              "<Figure size 864x432 with 1 Axes>"
            ],
            "image/png": "[encoded data removed]"
          },
          "metadata": {
            "needs_background": "light"
          }
        }
      ]
    },
    {
      "cell_type": "code",
      "source": [
        "predictions[:10]"
      ],
      "metadata": {
        "colab": {
          "base_uri": "https://localhost:8080/"
        },
        "id": "p1gidiVUzx6n",
        "outputId": "d936316d-af05-4dcf-dec4-ca1f246847c6"
      },
      "execution_count": 65,
      "outputs": [
        {
          "output_type": "execute_result",
          "data": {
            "text/plain": [
              "array([6.09637769, 6.09668097, 6.09698425, 6.09728753, 6.09759081,\n",
              "       6.09789409, 6.09819738, 6.09850066, 6.09880394, 6.09910722])"
            ]
          },
          "metadata": {},
          "execution_count": 65
        }
      ]
    },
    {
      "cell_type": "code",
      "source": [
        "error[:10]"
      ],
      "metadata": {
        "colab": {
          "base_uri": "https://localhost:8080/"
        },
        "id": "Qqi2xOOCz0ZT",
        "outputId": "a1c33864-b9be-4bc3-8de6-4ab278d5a957"
      },
      "execution_count": 66,
      "outputs": [
        {
          "output_type": "execute_result",
          "data": {
            "text/plain": [
              "array([0.026836  , 0.03834612, 0.04712409, 0.05450628, 0.06100154,\n",
              "       0.06686885, 0.07226131, 0.0772784 , 0.08198906, 0.0864434 ])"
            ]
          },
          "metadata": {},
          "execution_count": 66
        }
      ]
    },
    {
      "cell_type": "code",
      "source": [
        "conf_interval[:10]"
      ],
      "metadata": {
        "colab": {
          "base_uri": "https://localhost:8080/"
        },
        "id": "5iqVuLgYz3P8",
        "outputId": "e85071f6-d400-43fc-cdf3-db9451801715"
      },
      "execution_count": 55,
      "outputs": [
        {
          "output_type": "execute_result",
          "data": {
            "text/plain": [
              "array([[6.04361756, 6.14880855],\n",
              "       [6.02141539, 6.1717379 ],\n",
              "       [6.00423743, 6.18952277],\n",
              "       [5.98987039, 6.20449671],\n",
              "       [5.97728067, 6.21769335],\n",
              "       [5.9659458 , 6.22963512],\n",
              "       [5.95555808, 6.24062975],\n",
              "       [5.94591814, 6.2508766 ],\n",
              "       [5.93688808, 6.26051357],\n",
              "       [5.92836778, 6.26964078]])"
            ]
          },
          "metadata": {},
          "execution_count": 55
        }
      ]
    },
    {
      "cell_type": "code",
      "source": [
        "model.endog"
      ],
      "metadata": {
        "colab": {
          "base_uri": "https://localhost:8080/"
        },
        "id": "9TFotyqcz6Fc",
        "outputId": "85661f5d-dd14-4b26-f478-a4edb280dac6"
      },
      "execution_count": 67,
      "outputs": [
        {
          "output_type": "execute_result",
          "data": {
            "text/plain": [
              "array([ 0.04073738,  0.02031551,  0.00485006, ..., -0.01183055,\n",
              "       -0.01886212,  0.0065522 ])"
            ]
          },
          "metadata": {},
          "execution_count": 67
        }
      ]
    },
    {
      "cell_type": "code",
      "source": [
        "(predictions + 1.96 * error)[:10]"
      ],
      "metadata": {
        "colab": {
          "base_uri": "https://localhost:8080/"
        },
        "id": "NUSiCZGv0AJ8",
        "outputId": "d65fdc95-3452-4c82-c01b-04e81738636c"
      },
      "execution_count": 57,
      "outputs": [
        {
          "output_type": "execute_result",
          "data": {
            "text/plain": [
              "array([6.14880952, 6.17173928, 6.18952447, 6.20449868, 6.21769556,\n",
              "       6.22963755, 6.24063237, 6.2508794 , 6.26051655, 6.26964392])"
            ]
          },
          "metadata": {},
          "execution_count": 57
        }
      ]
    },
    {
      "cell_type": "code",
      "source": [
        "(predictions - 1.96 * error)[:10]"
      ],
      "metadata": {
        "colab": {
          "base_uri": "https://localhost:8080/"
        },
        "id": "iQBBnyMM0C8X",
        "outputId": "a9ee6f92-9c3d-4dab-9fa3-eab8eeac701f"
      },
      "execution_count": 58,
      "outputs": [
        {
          "output_type": "execute_result",
          "data": {
            "text/plain": [
              "array([6.0436166 , 6.02141401, 6.00423573, 5.98986842, 5.97727846,\n",
              "       5.96594338, 5.95555546, 5.94591534, 5.9368851 , 5.92836464])"
            ]
          },
          "metadata": {},
          "execution_count": 58
        }
      ]
    },
    {
      "cell_type": "code",
      "source": [
        "from sklearn.metrics import mean_squared_error\n",
        "\n",
        "x = y.values\n",
        "train_size = int(len(x) * 0.7)\n",
        "train, test = x[0:train_size], x[train_size:]\n",
        "history = [x for x in train]\n",
        "predictions = []\n",
        "for t in range(len(test)):\n",
        "    model = ARIMA(history, order=(p, d, q))\n",
        "    model_fit = model.fit(disp=0)\n",
        "    output = model_fit.forecast()\n",
        "    yhat = output[0][0]\n",
        "    predictions.append(yhat)\n",
        "    obs = test[t]\n",
        "    history.append(obs)\n",
        "    print('predicted=%f, actual=%f' % (yhat, obs))\n",
        "error = mean_squared_error(test, predictions)\n",
        "print('Test RMSE: %.3f' % np.sqrt(error))\n",
        "\n",
        "plt.plot(test,color='blue')\n",
        "plt.plot(predictions, color='red')"
      ],
      "metadata": {
        "colab": {
          "base_uri": "https://localhost:8080/",
          "height": 1000
        },
        "id": "ZqvmjOWb0IRk",
        "outputId": "d1c98ddd-a66c-46d5-aaef-685093db34df"
      },
      "execution_count": 68,
      "outputs": [
        {
          "output_type": "stream",
          "name": "stdout",
          "text": [
            "predicted=4.862366, actual=4.872905\n",
            "predicted=4.872948, actual=4.818263\n",
            "predicted=4.816338, actual=4.808111\n",
            "predicted=4.807551, actual=4.765587\n",
            "predicted=4.763972, actual=4.820685\n",
            "predicted=4.821949, actual=4.804431\n",
            "predicted=4.803652, actual=4.803611\n",
            "predicted=4.803295, actual=4.794964\n",
            "predicted=4.794422, actual=4.798679\n",
            "predicted=4.798474, actual=4.794136\n",
            "predicted=4.793701, actual=4.819071\n",
            "predicted=4.819435, actual=4.722064\n",
            "predicted=4.719408, actual=4.679350\n",
            "predicted=4.677855, actual=4.709981\n",
            "predicted=4.710467, actual=4.705468\n",
            "predicted=4.704966, actual=4.790404\n",
            "predicted=4.792296, actual=4.756603\n",
            "predicted=4.755465, actual=4.738827\n",
            "predicted=4.738091, actual=4.759607\n",
            "predicted=4.759759, actual=4.724286\n",
            "predicted=4.723149, actual=4.695925\n",
            "predicted=4.694923, actual=4.771108\n",
            "predicted=4.772361, actual=4.797855\n",
            "predicted=4.798121, actual=4.803201\n",
            "predicted=4.803006, actual=4.900448\n",
            "predicted=4.902492, actual=4.851640\n",
            "predicted=4.850441, actual=4.864067\n",
            "predicted=4.864026, actual=4.856707\n",
            "predicted=4.856299, actual=4.804021\n",
            "predicted=4.802784, actual=4.801970\n",
            "predicted=4.801643, actual=4.821893\n",
            "predicted=4.821952, actual=4.892227\n",
            "predicted=4.893323, actual=4.851249\n",
            "predicted=4.850290, actual=4.874434\n",
            "predicted=4.874525, actual=4.812591\n",
            "predicted=4.811458, actual=4.824306\n",
            "predicted=4.824167, actual=4.786658\n",
            "predicted=4.785889, actual=4.766013\n",
            "predicted=4.765428, actual=4.747537\n",
            "predicted=4.746961, actual=4.807294\n",
            "predicted=4.807711, actual=4.784571\n",
            "predicted=4.784008, actual=4.766438\n",
            "predicted=4.765915, actual=4.794964\n",
            "predicted=4.794953, actual=4.760463\n",
            "predicted=4.759806, actual=4.798267\n",
            "predicted=4.798261, actual=4.850858\n",
            "predicted=4.851107, actual=4.843793\n",
            "predicted=4.843437, actual=4.835091\n",
            "predicted=4.834719, actual=4.938065\n",
            "predicted=4.938751, actual=4.918885\n",
            "predicted=4.918510, actual=4.880906\n",
            "predicted=4.880358, actual=4.887714\n",
            "predicted=4.887507, actual=4.894101\n",
            "predicted=4.893893, actual=4.843005\n",
            "predicted=4.842366, actual=4.995183\n",
            "predicted=4.994806, actual=5.150107\n",
            "predicted=5.153537, actual=5.146913\n",
            "predicted=5.146654, actual=5.180097\n",
            "predicted=5.180739, actual=5.165072\n",
            "predicted=5.164632, actual=5.148657\n",
            "predicted=5.148196, actual=5.147494\n",
            "predicted=5.147366, actual=5.161925\n",
            "predicted=5.162137, actual=5.144583\n",
            "predicted=5.144091, actual=5.130195\n",
            "predicted=5.129770, actual=5.147494\n",
            "predicted=5.147763, actual=5.139322\n",
            "predicted=5.139024, actual=5.118293\n",
            "predicted=5.117717, actual=5.127232\n",
            "predicted=5.127312, actual=5.136387\n",
            "predicted=5.136463, actual=5.122475\n",
            "predicted=5.122050, actual=5.120386\n",
            "predicted=5.120223, actual=5.100781\n",
            "predicted=5.100226, actual=5.089755\n",
            "predicted=5.089384, actual=5.112590\n",
            "predicted=5.112954, actual=5.096201\n",
            "predicted=5.095710, actual=5.111385\n",
            "predicted=5.111577, actual=5.104733\n",
            "predicted=5.104456, actual=5.084505\n",
            "predicted=5.083945, actual=5.081715\n",
            "predicted=5.081520, actual=5.063860\n",
            "predicted=5.063335, actual=5.132263\n",
            "predicted=5.133491, actual=5.112590\n",
            "predicted=5.112082, actual=5.084505\n",
            "predicted=5.083842, actual=5.078294\n",
            "predicted=5.078039, actual=5.073297\n",
            "predicted=5.073055, actual=5.086361\n",
            "predicted=5.086467, actual=5.155313\n",
            "predicted=5.156566, actual=5.174453\n",
            "predicted=5.174731, actual=5.164500\n",
            "predicted=5.164185, actual=5.194067\n",
            "predicted=5.194595, actual=5.163642\n",
            "predicted=5.162935, actual=5.188223\n",
            "predicted=5.188610, actual=5.170200\n",
            "predicted=5.169764, actual=5.170768\n",
            "predicted=5.170688, actual=5.167639\n",
            "predicted=5.167483, actual=5.162498\n",
            "predicted=5.162304, actual=5.171336\n",
            "predicted=5.171403, actual=5.213304\n",
            "predicted=5.214011, actual=5.221166\n",
            "predicted=5.221231, actual=5.217378\n",
            "predicted=5.217233, actual=5.266569\n",
            "predicted=5.267448, actual=5.252797\n",
            "predicted=5.252481, actual=5.223863\n",
            "predicted=5.223266, actual=5.218733\n",
            "predicted=5.218577, actual=5.207024\n",
            "predicted=5.206731, actual=5.257495\n",
            "predicted=5.258362, actual=5.279899\n",
            "predicted=5.280272, actual=5.279389\n",
            "predicted=5.279334, actual=5.277349\n",
            "predicted=5.277272, actual=5.300066\n",
            "predicted=5.300474, actual=5.285992\n",
            "predicted=5.285686, actual=5.284725\n",
            "predicted=5.284672, actual=5.273000\n",
            "predicted=5.272739, actual=5.254365\n",
            "predicted=5.253965, actual=5.223594\n",
            "predicted=5.222933, actual=5.238567\n",
            "predicted=5.238805, actual=5.228431\n",
            "predicted=5.228170, actual=5.205105\n",
            "predicted=5.204585, actual=5.171052\n",
            "predicted=5.170289, actual=5.236708\n",
            "predicted=5.237824, actual=5.226821\n",
            "predicted=5.226568, actual=5.173887\n",
            "predicted=5.172863, actual=5.098951\n",
            "predicted=5.097237, actual=5.110179\n",
            "predicted=5.110314, actual=5.213576\n",
            "predicted=5.215774, actual=5.186547\n",
            "predicted=5.185909, actual=5.156754\n",
            "predicted=5.156070, actual=5.129307\n",
            "predicted=5.128635, actual=5.134327\n",
            "predicted=5.134328, actual=5.141371\n",
            "predicted=5.141404, actual=5.132853\n",
            "predicted=5.132561, actual=5.130490\n",
            "predicted=5.130330, actual=5.130490\n",
            "predicted=5.130376, actual=5.085124\n",
            "predicted=5.084054, actual=5.062911\n",
            "predicted=5.062305, actual=5.065755\n",
            "predicted=5.065676, actual=5.014959\n",
            "predicted=5.013705, actual=5.009968\n",
            "predicted=5.009706, actual=4.973625\n",
            "predicted=4.972649, actual=4.978456\n",
            "predicted=4.978381, actual=4.859425\n",
            "predicted=4.856722, actual=4.831509\n",
            "predicted=4.830650, actual=4.870223\n",
            "predicted=4.870858, actual=4.837868\n",
            "predicted=4.836893, actual=4.834296\n",
            "predicted=4.833965, actual=4.737951\n",
            "predicted=4.735559, actual=4.660605\n",
            "predicted=4.658136, actual=4.594109\n",
            "predicted=4.591636, actual=4.477337\n",
            "predicted=4.472448, actual=4.497028\n",
            "predicted=4.497458, actual=4.418238\n",
            "predicted=4.415019, actual=4.356068\n",
            "predicted=4.353279, actual=4.324133\n",
            "predicted=4.322425, actual=4.289774\n",
            "predicted=4.287882, actual=4.347694\n",
            "predicted=4.349497, actual=4.192680\n",
            "predicted=4.187246, actual=4.227563\n",
            "predicted=4.227972, actual=4.252060\n",
            "predicted=4.252111, actual=4.259859\n",
            "predicted=4.259486, actual=4.258446\n",
            "predicted=4.257839, actual=4.221711\n",
            "predicted=4.220154, actual=4.263384\n",
            "predicted=4.263897, actual=4.218772\n",
            "predicted=4.217112, actual=4.178992\n",
            "predicted=4.177420, actual=4.208417\n",
            "predicted=4.208558, actual=4.213608\n",
            "predicted=4.213129, actual=4.312140\n",
            "predicted=4.314023, actual=4.307438\n",
            "predicted=4.306730, actual=4.289089\n",
            "predicted=4.288103, actual=4.312811\n",
            "predicted=4.312851, actual=4.341855\n",
            "predicted=4.342031, actual=4.387636\n",
            "predicted=4.388289, actual=4.312811\n",
            "predicted=4.310557, actual=4.329417\n",
            "predicted=4.329282, actual=4.326117\n",
            "predicted=4.325511, actual=4.306764\n",
            "predicted=4.305813, actual=4.320816\n",
            "predicted=4.320593, actual=4.343156\n",
            "predicted=4.343112, actual=4.358630\n",
            "predicted=4.358447, actual=4.535284\n",
            "predicted=4.539098, actual=4.429626\n",
            "predicted=4.428237, actual=4.393214\n",
            "predicted=4.392312, actual=4.421247\n",
            "predicted=4.421071, actual=4.412798\n",
            "predicted=4.412220, actual=4.395066\n",
            "predicted=4.394383, actual=4.455509\n",
            "predicted=4.455641, actual=4.456670\n",
            "predicted=4.456213, actual=4.468204\n",
            "predicted=4.467862, actual=4.428433\n",
            "predicted=4.427577, actual=4.434975\n",
            "predicted=4.434565, actual=4.390119\n",
            "predicted=4.389218, actual=4.404277\n",
            "predicted=4.403911, actual=4.424248\n",
            "predicted=4.423942, actual=4.432007\n",
            "predicted=4.431599, actual=4.416428\n",
            "predicted=4.415809, actual=4.420045\n",
            "predicted=4.419597, actual=4.437343\n",
            "predicted=4.437023, actual=4.465908\n",
            "predicted=4.465713, actual=4.465908\n",
            "predicted=4.465450, actual=4.494797\n",
            "predicted=4.494622, actual=4.569543\n",
            "predicted=4.569955, actual=4.592591\n",
            "predicted=4.592474, actual=4.590057\n",
            "predicted=4.589633, actual=4.707275\n",
            "predicted=4.708349, actual=4.748838\n",
            "predicted=4.749154, actual=4.713576\n",
            "predicted=4.712727, actual=4.713127\n",
            "predicted=4.712804, actual=4.664853\n",
            "predicted=4.663800, actual=4.656813\n",
            "predicted=4.656352, actual=4.610158\n",
            "predicted=4.609080, actual=4.551242\n",
            "predicted=4.549841, actual=4.558079\n",
            "predicted=4.557807, actual=4.567987\n",
            "predicted=4.567755, actual=4.629863\n",
            "predicted=4.630567, actual=4.631325\n",
            "predicted=4.630968, actual=4.648230\n",
            "predicted=4.648168, actual=4.652054\n",
            "predicted=4.651762, actual=4.642466\n",
            "predicted=4.641940, actual=4.619073\n",
            "predicted=4.618296, actual=4.599655\n",
            "predicted=4.598936, actual=4.587515\n",
            "predicted=4.586918, actual=4.612642\n",
            "predicted=4.612721, actual=4.620551\n",
            "predicted=4.620317, actual=4.639088\n",
            "predicted=4.639063, actual=4.691348\n",
            "predicted=4.691994, actual=4.691807\n",
            "predicted=4.691466, actual=4.657288\n",
            "predicted=4.656290, actual=4.672361\n",
            "predicted=4.672310, actual=4.678421\n",
            "predicted=4.678190, actual=4.682131\n",
            "predicted=4.681863, actual=4.655388\n",
            "predicted=4.654545, actual=4.636669\n",
            "predicted=4.635969, actual=4.634243\n",
            "predicted=4.633845, actual=4.667206\n",
            "predicted=4.667484, actual=4.654436\n",
            "predicted=4.653841, actual=4.686289\n",
            "predicted=4.686538, actual=4.655388\n",
            "predicted=4.654495, actual=4.663911\n",
            "predicted=4.663722, actual=4.641984\n",
            "predicted=4.641256, actual=4.622027\n",
            "predicted=4.621325, actual=4.667675\n",
            "predicted=4.668097, actual=4.661078\n",
            "predicted=4.660613, actual=4.641020\n",
            "predicted=4.640337, actual=4.650621\n",
            "predicted=4.650434, actual=4.727830\n",
            "predicted=4.728825, actual=4.713576\n",
            "predicted=4.713010, actual=4.748404\n",
            "predicted=4.748651, actual=4.760463\n",
            "predicted=4.760352, actual=4.779963\n",
            "predicted=4.779990, actual=4.819071\n",
            "predicted=4.819453, actual=4.806477\n",
            "predicted=4.805991, actual=4.831110\n",
            "predicted=4.831250, actual=4.876342\n",
            "predicted=4.876863, actual=4.825109\n",
            "predicted=4.824061, actual=4.816646\n",
            "predicted=4.816262, actual=4.833102\n",
            "predicted=4.833100, actual=4.829513\n",
            "predicted=4.829196, actual=4.801559\n",
            "predicted=4.800857, actual=4.794964\n",
            "predicted=4.794593, actual=4.797442\n",
            "predicted=4.797208, actual=4.844974\n",
            "predicted=4.845465, actual=4.926529\n",
            "predicted=4.927814, actual=4.971548\n",
            "predicted=4.972278, actual=4.961445\n",
            "predicted=4.961025, actual=4.964242\n",
            "predicted=4.964115, actual=4.968423\n",
            "predicted=4.968322, actual=5.012633\n",
            "predicted=5.013391, actual=5.022893\n",
            "predicted=5.022931, actual=4.995860\n",
            "predicted=4.995113, actual=5.006627\n",
            "predicted=5.006695, actual=4.957938\n",
            "predicted=4.956747, actual=4.942356\n",
            "predicted=4.941852, actual=4.964940\n",
            "predicted=4.965225, actual=4.971894\n",
            "predicted=4.971844, actual=5.000922\n",
            "predicted=5.001356, actual=4.999911\n",
            "predicted=4.999706, actual=5.020256\n",
            "predicted=5.020520, actual=4.994845\n",
            "predicted=4.994142, actual=4.996536\n",
            "predicted=4.996409, actual=4.923260\n",
            "predicted=4.921565, actual=4.891101\n",
            "predicted=4.890207, actual=4.878246\n",
            "predicted=4.877746, actual=4.810557\n",
            "predicted=4.808762, actual=4.846154\n",
            "predicted=4.846682, actual=4.889221\n",
            "predicted=4.889931, actual=4.880527\n",
            "predicted=4.880088, actual=4.892602\n",
            "predicted=4.892647, actual=4.894101\n",
            "predicted=4.893907, actual=4.897093\n",
            "predicted=4.896938, actual=4.975008\n",
            "predicted=4.976534, actual=4.948760\n",
            "predicted=4.947999, actual=4.948405\n",
            "predicted=4.948215, actual=4.930509\n",
            "predicted=4.929942, actual=4.911919\n",
            "predicted=4.911332, actual=4.898586\n",
            "predicted=4.898099, actual=4.872905\n",
            "predicted=4.872141, actual=4.843793\n",
            "predicted=4.842935, actual=4.850075\n",
            "predicted=4.849980, actual=4.853981\n",
            "predicted=4.853822, actual=4.864838\n",
            "predicted=4.864834, actual=4.869456\n",
            "predicted=4.869318, actual=4.894101\n",
            "predicted=4.894409, actual=4.919981\n",
            "predicted=4.920330, actual=4.895598\n",
            "predicted=4.894844, actual=4.910078\n",
            "predicted=4.910185, actual=4.903792\n",
            "predicted=4.903438, actual=4.882044\n",
            "predicted=4.881360, actual=4.887714\n",
            "predicted=4.887621, actual=4.889221\n",
            "predicted=4.889028, actual=4.898586\n",
            "predicted=4.898566, actual=4.911919\n",
            "predicted=4.911988, actual=4.924714\n",
            "predicted=4.924778, actual=4.934474\n",
            "predicted=4.934478, actual=4.948760\n",
            "predicted=4.948871, actual=4.983607\n",
            "predicted=4.984188, actual=5.016949\n",
            "predicted=5.017530, actual=5.018603\n",
            "predicted=5.018466, actual=4.986001\n",
            "predicted=4.985085, actual=5.002939\n",
            "predicted=5.003168, actual=5.062595\n",
            "predicted=5.063829, actual=5.156178\n",
            "predicted=5.158578, actual=5.123666\n",
            "predicted=5.122695, actual=5.130490\n",
            "predicted=5.130575, actual=5.139908\n",
            "predicted=5.140036, actual=5.147785\n",
            "predicted=5.147878, actual=5.144292\n",
            "predicted=5.144103, actual=5.157617\n",
            "predicted=5.157857, actual=5.194899\n",
            "predicted=5.195751, actual=5.191567\n",
            "predicted=5.191386, actual=5.212760\n",
            "predicted=5.213224, actual=5.219545\n",
            "predicted=5.219639, actual=5.215751\n",
            "predicted=5.215589, actual=5.212487\n",
            "predicted=5.212343, actual=5.202907\n",
            "predicted=5.202601, actual=5.207845\n",
            "predicted=5.207907, actual=5.179534\n",
            "predicted=5.178748, actual=5.186547\n",
            "predicted=5.186661, actual=5.179815\n",
            "predicted=5.179565, actual=5.186827\n",
            "predicted=5.186927, actual=5.207024\n",
            "predicted=5.207451, actual=5.202357\n",
            "predicted=5.202161, actual=5.196008\n",
            "predicted=5.195782, actual=5.103214\n",
            "predicted=5.100780, actual=5.105642\n",
            "predicted=5.105644, actual=5.131081\n",
            "predicted=5.131607, actual=5.170200\n",
            "predicted=5.171098, actual=5.227627\n",
            "predicted=5.229095, actual=5.211942\n",
            "predicted=5.211425, actual=5.215751\n",
            "predicted=5.215800, actual=5.214120\n",
            "predicted=5.214011, actual=5.228431\n",
            "predicted=5.228752, actual=5.253843\n",
            "predicted=5.254463, actual=5.263726\n",
            "predicted=5.263932, actual=5.275049\n",
            "predicted=5.275311, actual=5.281934\n",
            "predicted=5.282079, actual=5.289024\n",
            "predicted=5.289182, actual=5.396578\n",
            "predicted=5.399540, actual=5.471430\n",
            "predicted=5.473827, actual=5.491414\n",
            "predicted=5.492072, actual=5.501666\n",
            "predicted=5.502063, actual=5.561835\n",
            "predicted=5.563975, actual=5.505128\n",
            "predicted=5.503345, actual=5.555476\n",
            "predicted=5.557108, actual=5.616407\n",
            "predicted=5.618411, actual=5.671948\n",
            "predicted=5.673908, actual=5.667637\n",
            "predicted=5.667580, actual=5.631749\n",
            "predicted=5.630674, actual=5.589120\n",
            "predicted=5.587790, actual=5.586499\n",
            "predicted=5.586568, actual=5.571013\n",
            "predicted=5.570577, actual=5.633360\n",
            "predicted=5.635640, actual=5.774552\n",
            "predicted=5.780323, actual=5.802118\n",
            "predicted=5.803243, actual=5.787357\n",
            "predicted=5.786899, actual=5.755426\n",
            "predicted=5.754286, actual=5.816962\n",
            "predicted=5.819758, actual=5.783979\n",
            "predicted=5.782776, actual=5.795754\n",
            "predicted=5.796475, actual=5.783825\n",
            "predicted=5.783538, actual=5.785055\n",
            "predicted=5.785322, actual=5.809193\n",
            "predicted=5.810345, actual=5.796666\n",
            "predicted=5.796347, actual=5.799547\n",
            "predicted=5.799886, actual=5.780280\n",
            "predicted=5.779725, actual=5.742522\n",
            "predicted=5.741248, actual=5.718671\n",
            "predicted=5.717948, actual=5.780744\n",
            "predicted=5.783393, actual=5.773464\n",
            "predicted=5.773284, actual=5.808593\n",
            "predicted=5.810160, actual=5.777498\n",
            "predicted=5.776479, actual=5.793928\n",
            "predicted=5.794784, actual=5.845716\n",
            "predicted=5.847870, actual=5.853638\n",
            "predicted=5.854095, actual=5.826590\n",
            "predicted=5.825776, actual=5.784287\n",
            "predicted=5.782893, actual=5.772220\n",
            "predicted=5.772005, actual=5.753207\n",
            "predicted=5.752666, actual=5.772842\n",
            "predicted=5.773823, actual=5.760635\n",
            "predicted=5.760321, actual=5.763779\n",
            "predicted=5.764108, actual=5.768165\n",
            "predicted=5.768519, actual=5.722931\n",
            "predicted=5.721357, actual=5.726848\n",
            "predicted=5.727235, actual=5.733179\n",
            "predicted=5.733588, actual=5.713898\n",
            "predicted=5.713318, actual=5.728150\n",
            "predicted=5.728892, actual=5.685109\n",
            "predicted=5.683624, actual=5.654417\n",
            "predicted=5.653441, actual=5.691710\n",
            "predicted=5.693313, actual=5.693900\n",
            "predicted=5.694085, actual=5.709765\n",
            "predicted=5.710525, actual=5.729288\n",
            "predicted=5.730177, actual=5.720476\n",
            "predicted=5.720283, actual=5.729288\n",
            "predicted=5.729806, actual=5.729450\n",
            "predicted=5.729615, actual=5.749234\n",
            "predicted=5.750161, actual=5.762680\n",
            "predicted=5.763348, actual=5.657913\n",
            "predicted=5.654151, actual=5.713238\n",
            "predicted=5.715339, actual=5.715382\n",
            "predicted=5.715554, actual=5.736572\n",
            "predicted=5.737445, actual=5.708438\n",
            "predicted=5.707664, actual=5.697261\n",
            "predicted=5.697084, actual=5.685449\n",
            "predicted=5.685224, actual=5.683580\n",
            "predicted=5.683682, actual=5.688330\n",
            "predicted=5.688641, actual=5.708770\n",
            "predicted=5.709599, actual=5.723258\n",
            "predicted=5.723883, actual=5.710096\n",
            "predicted=5.709810, actual=5.683069\n",
            "predicted=5.682338, actual=5.680173\n",
            "predicted=5.680255, actual=5.667983\n",
            "predicted=5.667723, actual=5.675040\n",
            "predicted=5.675434, actual=5.707940\n",
            "predicted=5.709190, actual=5.712907\n",
            "predicted=5.713200, actual=5.752096\n",
            "predicted=5.753584, actual=5.754317\n",
            "predicted=5.754529, actual=5.786897\n",
            "predicted=5.788183, actual=5.743804\n",
            "predicted=5.742545, actual=5.771753\n",
            "predicted=5.772872, actual=5.806490\n",
            "predicted=5.807787, actual=5.750825\n",
            "predicted=5.749240, actual=5.729125\n",
            "predicted=5.728661, actual=5.746523\n",
            "predicted=5.747272, actual=5.742522\n",
            "predicted=5.742554, actual=5.753366\n",
            "predicted=5.753894, actual=5.754159\n",
            "predicted=5.754354, actual=5.763936\n",
            "predicted=5.764430, actual=5.764407\n",
            "predicted=5.764598, actual=5.764407\n",
            "predicted=5.764592, actual=5.762366\n",
            "predicted=5.762486, actual=5.777652\n",
            "predicted=5.778328, actual=5.785823\n",
            "predicted=5.786261, actual=5.813981\n",
            "predicted=5.815075, actual=5.844993\n",
            "predicted=5.846186, actual=5.865760\n",
            "predicted=5.866636, actual=5.838750\n",
            "predicted=5.838074, actual=5.842820\n",
            "predicted=5.843199, actual=5.860074\n",
            "predicted=5.860853, actual=5.874790\n",
            "predicted=5.875483, actual=5.865618\n",
            "predicted=5.865535, actual=5.856074\n",
            "predicted=5.856000, actual=5.845427\n",
            "predicted=5.845311, actual=5.821269\n",
            "predicted=5.820701, actual=5.812039\n",
            "predicted=5.811967, actual=5.822750\n",
            "predicted=5.823319, actual=5.814877\n",
            "predicted=5.814814, actual=5.813085\n",
            "predicted=5.813241, actual=5.827916\n",
            "predicted=5.828614, actual=5.837147\n",
            "predicted=5.837649, actual=5.833494\n",
            "predicted=5.833579, actual=5.827768\n",
            "predicted=5.827797, actual=5.841368\n",
            "predicted=5.842036, actual=5.843255\n",
            "predicted=5.843519, actual=5.846728\n",
            "predicted=5.847059, actual=5.758586\n",
            "predicted=5.755896, actual=5.759217\n",
            "predicted=5.759511, actual=5.724728\n",
            "predicted=5.723780, actual=5.724565\n",
            "predicted=5.724761, actual=5.728313\n",
            "predicted=5.728599, actual=5.739632\n",
            "predicted=5.740165, actual=5.735120\n",
            "predicted=5.735133, actual=5.737378\n",
            "predicted=5.737627, actual=5.740596\n",
            "predicted=5.740870, actual=5.732856\n",
            "predicted=5.732772, actual=5.710924\n",
            "predicted=5.710383, actual=5.712247\n",
            "predicted=5.712471, actual=5.688838\n",
            "predicted=5.688231, actual=5.680684\n",
            "predicted=5.680591, actual=5.674697\n",
            "predicted=5.674654, actual=5.650558\n",
            "predicted=5.649913, actual=5.679831\n",
            "predicted=5.680936, actual=5.683410\n",
            "predicted=5.683640, actual=5.693227\n",
            "predicted=5.693689, actual=5.716040\n",
            "predicted=5.716925, actual=5.697597\n",
            "predicted=5.697138, actual=5.702782\n",
            "predicted=5.703121, actual=5.703949\n",
            "predicted=5.704135, actual=5.697429\n",
            "predicted=5.697373, actual=5.684260\n",
            "predicted=5.683993, actual=5.688500\n",
            "predicted=5.688796, actual=5.723585\n",
            "predicted=5.724865, actual=5.727662\n",
            "predicted=5.727921, actual=5.716040\n",
            "predicted=5.715825, actual=5.696086\n",
            "predicted=5.695608, actual=5.681366\n",
            "predicted=5.681056, actual=5.645800\n",
            "predicted=5.644784, actual=5.623837\n",
            "predicted=5.623268, actual=5.634075\n",
            "predicted=5.634559, actual=5.650382\n",
            "predicted=5.651040, actual=5.650030\n",
            "predicted=5.650132, actual=5.655117\n",
            "predicted=5.655419, actual=5.676583\n",
            "predicted=5.677430, actual=5.660527\n",
            "predicted=5.660111, actual=5.687822\n",
            "predicted=5.688877, actual=5.680684\n",
            "predicted=5.680567, actual=5.688838\n",
            "predicted=5.689258, actual=5.695246\n",
            "predicted=5.695595, actual=5.685619\n",
            "predicted=5.685446, actual=5.687822\n",
            "predicted=5.688051, actual=5.700276\n",
            "predicted=5.700829, actual=5.707775\n",
            "predicted=5.708160, actual=5.723912\n",
            "predicted=5.724591, actual=5.742843\n",
            "predicted=5.743615, actual=5.741881\n",
            "predicted=5.741999, actual=5.732046\n",
            "predicted=5.731891, actual=5.700276\n",
            "predicted=5.699393, actual=5.710261\n",
            "predicted=5.710777, actual=5.736895\n",
            "predicted=5.737926, actual=5.772998\n",
            "predicted=5.774358, actual=5.761894\n",
            "predicted=5.761664, actual=5.804080\n",
            "predicted=5.805673, actual=5.796969\n",
            "predicted=5.796885, actual=5.799850\n",
            "predicted=5.800146, actual=5.809193\n",
            "predicted=5.809692, actual=5.809043\n",
            "predicted=5.809226, actual=5.834811\n",
            "predicted=5.835859, actual=5.843400\n",
            "predicted=5.843865, actual=5.817260\n",
            "predicted=5.816601, actual=5.930918\n",
            "predicted=5.934673, actual=5.947904\n",
            "predicted=5.948583, actual=6.030084\n",
            "predicted=6.032997, actual=6.042276\n",
            "predicted=6.042883, actual=6.228314\n",
            "predicted=6.234870, actual=6.209797\n",
            "predicted=6.209427, actual=6.233626\n",
            "predicted=6.234743, actual=6.177737\n",
            "predicted=6.176437, actual=6.188059\n",
            "predicted=6.188763, actual=6.230481\n",
            "predicted=6.232085, actual=6.196240\n",
            "predicted=6.195601, actual=6.173578\n",
            "predicted=6.173308, actual=6.231760\n",
            "predicted=6.233786, actual=6.210399\n",
            "predicted=6.210143, actual=6.175971\n",
            "predicted=6.175388, actual=6.181465\n",
            "predicted=6.181998, actual=6.185591\n",
            "predicted=6.186058, actual=6.190008\n",
            "predicted=6.190486, actual=6.183943\n",
            "predicted=6.184128, actual=6.193793\n",
            "predicted=6.194430, actual=6.217404\n",
            "predicted=6.218421, actual=6.233724\n",
            "predicted=6.234539, actual=6.235880\n",
            "predicted=6.236306, actual=6.221484\n",
            "predicted=6.221453, actual=6.228610\n",
            "predicted=6.229194, actual=6.225449\n",
            "predicted=6.225728, actual=6.252000\n",
            "predicted=6.253124, actual=6.273160\n",
            "predicted=6.274126, actual=6.233822\n",
            "predicted=6.233096, actual=6.186414\n",
            "predicted=6.185439, actual=6.205567\n",
            "predicted=6.206508, actual=6.191646\n",
            "predicted=6.191598, actual=6.200002\n",
            "predicted=6.200608, actual=6.131661\n",
            "predicted=6.130101, actual=6.134374\n",
            "predicted=6.134832, actual=6.128178\n",
            "predicted=6.128335, actual=6.163841\n",
            "predicted=6.165163, actual=6.171909\n",
            "predicted=6.172452, actual=6.173994\n",
            "predicted=6.174395, actual=6.146757\n",
            "predicted=6.146348, actual=6.177529\n",
            "predicted=6.178726, actual=6.202333\n",
            "predicted=6.203348, actual=6.202434\n",
            "predicted=6.202780, actual=6.203446\n",
            "predicted=6.203835, actual=6.205265\n",
            "predicted=6.205675, actual=6.193180\n",
            "predicted=6.193205, actual=6.197767\n",
            "predicted=6.198259, actual=6.198377\n",
            "predicted=6.198748, actual=6.153158\n",
            "predicted=6.152264, actual=6.102670\n",
            "predicted=6.101581, actual=6.117216\n",
            "predicted=6.117987, actual=6.153796\n",
            "predicted=6.155164, actual=6.157720\n",
            "predicted=6.158143, actual=6.147613\n",
            "predicted=6.147658, actual=6.155177\n",
            "predicted=6.155739, actual=6.174203\n",
            "predicted=6.175086, actual=6.165418\n",
            "predicted=6.165495, actual=6.153583\n",
            "predicted=6.153590, actual=6.178774\n",
            "predicted=6.179845, actual=6.209797\n",
            "predicted=6.211030, actual=6.193589\n",
            "predicted=6.193455, actual=6.193895\n",
            "predicted=6.194271, actual=6.192056\n",
            "predicted=6.192355, actual=6.195629\n",
            "predicted=6.196087, actual=6.221981\n",
            "predicted=6.223095, actual=6.217205\n",
            "predicted=6.217410, actual=6.229004\n",
            "predicted=6.229711, actual=6.238227\n",
            "predicted=6.238851, actual=6.234215\n",
            "predicted=6.234463, actual=6.263398\n",
            "predicted=6.264611, actual=6.235978\n",
            "predicted=6.235560, actual=6.255462\n",
            "predicted=6.256398, actual=6.245525\n",
            "predicted=6.245611, actual=6.218301\n",
            "predicted=6.217920, actual=6.170552\n",
            "predicted=6.169562, actual=6.195527\n",
            "predicted=6.196606, actual=6.203345\n",
            "predicted=6.203897, actual=6.209193\n",
            "predicted=6.209708, actual=6.249493\n",
            "predicted=6.250986, actual=6.223171\n",
            "predicted=6.222788, actual=6.227327\n",
            "predicted=6.227825, actual=6.223568\n",
            "predicted=6.223825, actual=6.215807\n",
            "predicted=6.215959, actual=6.203749\n",
            "predicted=6.203781, actual=6.200002\n",
            "predicted=6.200262, actual=6.217105\n",
            "predicted=6.217933, actual=6.229398\n",
            "predicted=6.230086, actual=6.212305\n",
            "predicted=6.212189, actual=6.155813\n",
            "predicted=6.154589, actual=6.222576\n",
            "predicted=6.224683, actual=6.211503\n",
            "predicted=6.211541, actual=6.214508\n",
            "predicted=6.214950, actual=6.200813\n",
            "predicted=6.200822, actual=6.203446\n",
            "predicted=6.203874, actual=6.170134\n",
            "predicted=6.169642, actual=6.167516\n",
            "predicted=6.167811, actual=6.059006\n",
            "predicted=6.056584, actual=6.130683\n",
            "predicted=6.132515, actual=6.118207\n",
            "predicted=6.118251, actual=6.103900\n",
            "predicted=6.103934, actual=6.080162\n",
            "predicted=6.079994, actual=6.033686\n",
            "predicted=6.033016, actual=5.976351\n",
            "predicted=5.975360, actual=5.970624\n",
            "predicted=5.970781, actual=6.006107\n",
            "predicted=6.007171, actual=6.039302\n",
            "predicted=6.040330, actual=6.035840\n",
            "predicted=6.036028, actual=6.020295\n",
            "predicted=6.020218, actual=6.025020\n",
            "predicted=6.025415, actual=6.051854\n",
            "predicted=6.052756, actual=6.072584\n",
            "predicted=6.073349, actual=6.059006\n",
            "predicted=6.058975, actual=6.087570\n",
            "predicted=6.088534, actual=6.077183\n",
            "predicted=6.077233, actual=6.071200\n",
            "predicted=6.071367, actual=6.068657\n",
            "predicted=6.068898, actual=6.070045\n",
            "predicted=6.070374, actual=6.072353\n",
            "predicted=6.072702, actual=6.076839\n",
            "predicted=6.077239, actual=6.072468\n",
            "predicted=6.072664, actual=6.089385\n",
            "predicted=6.090074, actual=6.101999\n",
            "predicted=6.102586, actual=6.126978\n",
            "predicted=6.127863, actual=6.122822\n",
            "predicted=6.123031, actual=6.108136\n",
            "predicted=6.108113, actual=6.113793\n",
            "predicted=6.114243, actual=6.113793\n",
            "predicted=6.114103, actual=6.082904\n",
            "predicted=6.082498, actual=6.066224\n",
            "predicted=6.066148, actual=6.072584\n",
            "predicted=6.073035, actual=6.051972\n",
            "predicted=6.051781, actual=6.088024\n",
            "predicted=6.089150, actual=6.104905\n",
            "predicted=6.105581, actual=6.084158\n",
            "predicted=6.083978, actual=6.052442\n",
            "predicted=6.052007, actual=6.075116\n",
            "predicted=6.075943, actual=6.064366\n",
            "predicted=6.064404, actual=6.077757\n",
            "predicted=6.078360, actual=6.081305\n",
            "predicted=6.081676, actual=6.070391\n",
            "predicted=6.070438, actual=6.048554\n",
            "predicted=6.048350, actual=6.055143\n",
            "predicted=6.055590, actual=6.012614\n",
            "predicted=6.011930, actual=6.001291\n",
            "predicted=6.001322, actual=5.970624\n",
            "predicted=5.970183, actual=5.961392\n",
            "predicted=5.961445, actual=5.919700\n",
            "predicted=5.918973, actual=6.002157\n",
            "predicted=6.004186, actual=6.004751\n",
            "predicted=6.005035, actual=6.050087\n",
            "predicted=6.051331, actual=6.028640\n",
            "predicted=6.028455, actual=5.988084\n",
            "predicted=5.987497, actual=6.035481\n",
            "predicted=6.036726, actual=6.043701\n",
            "predicted=6.044130, actual=6.053852\n",
            "predicted=6.054341, actual=6.033086\n",
            "predicted=6.032941, actual=6.041801\n",
            "predicted=6.042265, actual=6.062855\n",
            "predicted=6.063564, actual=6.092214\n",
            "predicted=6.093108, actual=6.094811\n",
            "predicted=6.095153, actual=6.097175\n",
            "predicted=6.097525, actual=6.084841\n",
            "predicted=6.084885, actual=6.068194\n",
            "predicted=6.068147, actual=6.069235\n",
            "predicted=6.069555, actual=6.077298\n",
            "predicted=6.077758, actual=6.076839\n",
            "predicted=6.077120, actual=6.060291\n",
            "predicted=6.060237, actual=6.059240\n",
            "predicted=6.059512, actual=6.008076\n",
            "predicted=6.007285, actual=6.004257\n",
            "predicted=6.004464, actual=6.026108\n",
            "predicted=6.026834, actual=5.973682\n",
            "predicted=5.972873, actual=5.963451\n",
            "predicted=5.963512, actual=5.947251\n",
            "predicted=5.947165, actual=5.985446\n",
            "predicted=5.986476, actual=5.974064\n",
            "predicted=5.974075, actual=6.009304\n",
            "predicted=6.010264, actual=6.014448\n",
            "predicted=6.014803, actual=6.027073\n",
            "predicted=6.027592, actual=6.033326\n",
            "predicted=6.033719, actual=6.032966\n",
            "predicted=6.033231, actual=6.020538\n",
            "predicted=6.020562, actual=6.022721\n",
            "predicted=6.023039, actual=6.012370\n",
            "predicted=6.012431, actual=6.021023\n",
            "predicted=6.021466, actual=6.031526\n",
            "predicted=6.032003, actual=6.065760\n",
            "predicted=6.066723, actual=6.090291\n",
            "predicted=6.091072, actual=6.080048\n",
            "predicted=6.080124, actual=6.065063\n",
            "predicted=6.065051, actual=6.057018\n",
            "predicted=6.057144, actual=6.059240\n",
            "predicted=6.059572, actual=6.087229\n",
            "predicted=6.088092, actual=6.111246\n",
            "predicted=6.112035, actual=6.107134\n",
            "predicted=6.107342, actual=6.116885\n",
            "predicted=6.117394, actual=6.119968\n",
            "predicted=6.120334, actual=6.120078\n",
            "predicted=6.120386, actual=6.108247\n",
            "predicted=6.108305, actual=6.089385\n",
            "predicted=6.089293, actual=6.095937\n",
            "Test RMSE: 0.034\n"
          ]
        },
        {
          "output_type": "execute_result",
          "data": {
            "text/plain": [
              "[<matplotlib.lines.Line2D at 0x7f9b7f6b9e50>]"
            ]
          },
          "metadata": {},
          "execution_count": 68
        },
        {
          "output_type": "display_data",
          "data": {
            "text/plain": [
              "<Figure size 864x432 with 1 Axes>"
            ],
            "image/png": "[encoded data removed]"
          },
          "metadata": {
            "needs_background": "light"
          }
        }
      ]
    },
    {
      "cell_type": "code",
      "source": [
        "plt.figure(figsize=(18,7))\n",
        "fig=plt.figure(1)\n",
        "plt.plot(test,color='blue',label='Actual')\n",
        "plt.plot(predictions, color='red', label='Predicted')\n",
        "plt.legend(loc = 'best')\n",
        "plt.title('Actual VS Predicted')\n",
        "plt.show(block = False)"
      ],
      "metadata": {
        "colab": {
          "base_uri": "https://localhost:8080/",
          "height": 445
        },
        "id": "SI5lrX-l2JSn",
        "outputId": "ed807da7-806b-427e-f98a-8ee3901fab3f"
      },
      "execution_count": 69,
      "outputs": [
        {
          "output_type": "display_data",
          "data": {
            "text/plain": [
              "<Figure size 1296x504 with 1 Axes>"
            ],
            "image/png": "[encoded data removed]"
          },
          "metadata": {
            "needs_background": "light"
          }
        }
      ]
    },
    {
      "cell_type": "code",
      "source": [
        "result = pd.DataFrame(y)[train_size:]\n",
        "result.columns = [\"actual\"]\n",
        "result[\"prediction\"] = predictions\n",
        "result"
      ],
      "metadata": {
        "colab": {
          "base_uri": "https://localhost:8080/",
          "height": 455
        },
        "id": "hod05r2Q2Xbw",
        "outputId": "45398500-2b03-45d9-87d1-cae503c36677"
      },
      "execution_count": 70,
      "outputs": [
        {
          "output_type": "execute_result",
          "data": {
            "text/plain": [
              "              actual  prediction\n",
              "Date                            \n",
              "2019-08-02  4.872905    4.862366\n",
              "2019-08-05  4.818263    4.872948\n",
              "2019-08-06  4.808111    4.816338\n",
              "2019-08-07  4.765587    4.807551\n",
              "2019-08-08  4.820685    4.763972\n",
              "...              ...         ...\n",
              "2022-07-21  6.119968    6.117394\n",
              "2022-07-22  6.120078    6.120334\n",
              "2022-07-25  6.108247    6.120386\n",
              "2022-07-26  6.089385    6.108305\n",
              "2022-07-27  6.095937    6.089293\n",
              "\n",
              "[740 rows x 2 columns]"
            ],
            "text/html": [
              "\n",
              "  <div id=\"df-63f54099-976a-4906-92e0-c9e742b63f13\">\n",
              "    <div class=\"colab-df-container\">\n",
              "      <div>\n",
              "<style scoped>\n",
              "    .dataframe tbody tr th:only-of-type {\n",
              "        vertical-align: middle;\n",
              "    }\n",
              "\n",
              "    .dataframe tbody tr th {\n",
              "        vertical-align: top;\n",
              "    }\n",
              "\n",
              "    .dataframe thead th {\n",
              "        text-align: right;\n",
              "    }\n",
              "</style>\n",
              "<table border=\"1\" class=\"dataframe\">\n",
              "  <thead>\n",
              "    <tr style=\"text-align: right;\">\n",
              "      <th></th>\n",
              "      <th>actual</th>\n",
              "      <th>prediction</th>\n",
              "    </tr>\n",
              "    <tr>\n",
              "      <th>Date</th>\n",
              "      <th></th>\n",
              "      <th></th>\n",
              "    </tr>\n",
              "  </thead>\n",
              "  <tbody>\n",
              "    <tr>\n",
              "      <th>2019-08-02</th>\n",
              "      <td>4.872905</td>\n",
              "      <td>4.862366</td>\n",
              "    </tr>\n",
              "    <tr>\n",
              "      <th>2019-08-05</th>\n",
              "      <td>4.818263</td>\n",
              "      <td>4.872948</td>\n",
              "    </tr>\n",
              "    <tr>\n",
              "      <th>2019-08-06</th>\n",
              "      <td>4.808111</td>\n",
              "      <td>4.816338</td>\n",
              "    </tr>\n",
              "    <tr>\n",
              "      <th>2019-08-07</th>\n",
              "      <td>4.765587</td>\n",
              "      <td>4.807551</td>\n",
              "    </tr>\n",
              "    <tr>\n",
              "      <th>2019-08-08</th>\n",
              "      <td>4.820685</td>\n",
              "      <td>4.763972</td>\n",
              "    </tr>\n",
              "    <tr>\n",
              "      <th>...</th>\n",
              "      <td>...</td>\n",
              "      <td>...</td>\n",
              "    </tr>\n",
              "    <tr>\n",
              "      <th>2022-07-21</th>\n",
              "      <td>6.119968</td>\n",
              "      <td>6.117394</td>\n",
              "    </tr>\n",
              "    <tr>\n",
              "      <th>2022-07-22</th>\n",
              "      <td>6.120078</td>\n",
              "      <td>6.120334</td>\n",
              "    </tr>\n",
              "    <tr>\n",
              "      <th>2022-07-25</th>\n",
              "      <td>6.108247</td>\n",
              "      <td>6.120386</td>\n",
              "    </tr>\n",
              "    <tr>\n",
              "      <th>2022-07-26</th>\n",
              "      <td>6.089385</td>\n",
              "      <td>6.108305</td>\n",
              "    </tr>\n",
              "    <tr>\n",
              "      <th>2022-07-27</th>\n",
              "      <td>6.095937</td>\n",
              "      <td>6.089293</td>\n",
              "    </tr>\n",
              "  </tbody>\n",
              "</table>\n",
              "<p>740 rows × 2 columns</p>\n",
              "</div>\n",
              "      <button class=\"colab-df-convert\" onclick=\"convertToInteractive('df-63f54099-976a-4906-92e0-c9e742b63f13')\"\n",
              "              title=\"Convert this dataframe to an interactive table.\"\n",
              "              style=\"display:none;\">\n",
              "        \n",
              "  <svg xmlns=\"http://www.w3.org/2000/svg\" height=\"24px\"viewBox=\"0 0 24 24\"\n",
              "       width=\"24px\">\n",
              "    <path d=\"M0 0h24v24H0V0z\" fill=\"none\"/>\n",
              "    <path d=\"M18.56 5.44l.94 2.06.94-2.06 2.06-.94-2.06-.94-.94-2.06-.94 2.06-2.06.94zm-11 1L8.5 8.5l.94-2.06 2.06-.94-2.06-.94L8.5 2.5l-.94 2.06-2.06.94zm10 10l.94 2.06.94-2.06 2.06-.94-2.06-.94-.94-2.06-.94 2.06-2.06.94z\"/><path d=\"M17.41 7.96l-1.37-1.37c-.4-.4-.92-.59-1.43-.59-.52 0-1.04.2-1.43.59L10.3 9.45l-7.72 7.72c-.78.78-.78 2.05 0 2.83L4 21.41c.39.39.9.59 1.41.59.51 0 1.02-.2 1.41-.59l7.78-7.78 2.81-2.81c.8-.78.8-2.07 0-2.86zM5.41 20L4 18.59l7.72-7.72 1.47 1.35L5.41 20z\"/>\n",
              "  </svg>\n",
              "      </button>\n",
              "      \n",
              "  <style>\n",
              "    .colab-df-container {\n",
              "      display:flex;\n",
              "      flex-wrap:wrap;\n",
              "      gap: 12px;\n",
              "    }\n",
              "\n",
              "    .colab-df-convert {\n",
              "      background-color: #E8F0FE;\n",
              "      border: none;\n",
              "      border-radius: 50%;\n",
              "      cursor: pointer;\n",
              "      display: none;\n",
              "      fill: #1967D2;\n",
              "      height: 32px;\n",
              "      padding: 0 0 0 0;\n",
              "      width: 32px;\n",
              "    }\n",
              "\n",
              "    .colab-df-convert:hover {\n",
              "      background-color: #E2EBFA;\n",
              "      box-shadow: 0px 1px 2px rgba(60, 64, 67, 0.3), 0px 1px 3px 1px rgba(60, 64, 67, 0.15);\n",
              "      fill: #174EA6;\n",
              "    }\n",
              "\n",
              "    [theme=dark] .colab-df-convert {\n",
              "      background-color: #3B4455;\n",
              "      fill: #D2E3FC;\n",
              "    }\n",
              "\n",
              "    [theme=dark] .colab-df-convert:hover {\n",
              "      background-color: #434B5C;\n",
              "      box-shadow: 0px 1px 3px 1px rgba(0, 0, 0, 0.15);\n",
              "      filter: drop-shadow(0px 1px 2px rgba(0, 0, 0, 0.3));\n",
              "      fill: #FFFFFF;\n",
              "    }\n",
              "  </style>\n",
              "\n",
              "      <script>\n",
              "        const buttonEl =\n",
              "          document.querySelector('#df-63f54099-976a-4906-92e0-c9e742b63f13 button.colab-df-convert');\n",
              "        buttonEl.style.display =\n",
              "          google.colab.kernel.accessAllowed ? 'block' : 'none';\n",
              "\n",
              "        async function convertToInteractive(key) {\n",
              "          const element = document.querySelector('#df-63f54099-976a-4906-92e0-c9e742b63f13');\n",
              "          const dataTable =\n",
              "            await google.colab.kernel.invokeFunction('convertToInteractive',\n",
              "                                                     [key], {});\n",
              "          if (!dataTable) return;\n",
              "\n",
              "          const docLinkHtml = 'Like what you see? Visit the ' +\n",
              "            '<a target=\"_blank\" href=https://colab.research.google.com/notebooks/data_table.ipynb>data table notebook</a>'\n",
              "            + ' to learn more about interactive tables.';\n",
              "          element.innerHTML = '';\n",
              "          dataTable['output_type'] = 'display_data';\n",
              "          await google.colab.output.renderOutput(dataTable, element);\n",
              "          const docLink = document.createElement('div');\n",
              "          docLink.innerHTML = docLinkHtml;\n",
              "          element.appendChild(docLink);\n",
              "        }\n",
              "      </script>\n",
              "    </div>\n",
              "  </div>\n",
              "  "
            ]
          },
          "metadata": {},
          "execution_count": 70
        }
      ]
    },
    {
      "cell_type": "code",
      "source": [
        ""
      ],
      "metadata": {
        "id": "v_mK144Z6aoi"
      },
      "execution_count": 34,
      "outputs": []
    }
  ]
}
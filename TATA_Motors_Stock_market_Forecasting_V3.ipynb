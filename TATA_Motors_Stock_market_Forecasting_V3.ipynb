{
  "cells": [
    {
      "cell_type": "markdown",
      "metadata": {
        "id": "view-in-github",
        "colab_type": "text"
      },
      "source": [
        "<a href=\"https://colab.research.google.com/github/rmahesh6386/Tata-Motors-Project-/blob/main/TATA_Motors_Stock_market_Forecasting_V3.ipynb\" target=\"_parent\"><img src=\"https://colab.research.google.com/assets/colab-badge.svg\" alt=\"Open In Colab\"/></a>"
      ]
    },
    {
      "cell_type": "code",
      "execution_count": 131,
      "metadata": {
        "colab": {
          "base_uri": "https://localhost:8080/"
        },
        "id": "nj_ZJFtXrvue",
        "outputId": "e424afc1-49ca-460c-e082-ad7510639da0"
      },
      "outputs": [
        {
          "output_type": "stream",
          "name": "stdout",
          "text": [
            "Drive already mounted at /content/gdrive; to attempt to forcibly remount, call drive.mount(\"/content/gdrive\", force_remount=True).\n"
          ]
        }
      ],
      "source": [
        "from google.colab import drive\n",
        "drive.mount('/content/gdrive')\n",
        "import sys\n",
        "sys.path.append('/content/gdrive/My Drive/Colab Notebooks')"
      ]
    },
    {
      "cell_type": "code",
      "execution_count": 132,
      "metadata": {
        "id": "zzslioq8xYCC"
      },
      "outputs": [],
      "source": [
        "import pandas as pd\n",
        "import numpy as np\n",
        "import matplotlib.pyplot as plt\n",
        "\n",
        "from sklearn import metrics\n",
        "\n",
        "plt.style.use(\"ggplot\")\n",
        "\n",
        "%matplotlib inline"
      ]
    },
    {
      "cell_type": "code",
      "execution_count": 134,
      "metadata": {
        "id": "8Esf5p3JxeiV"
      },
      "outputs": [],
      "source": [
        "plt.rcParams[\"figure.figsize\"] = (12, 6)"
      ]
    },
    {
      "cell_type": "code",
      "execution_count": 135,
      "metadata": {
        "id": "9ze_i7kzr-Gt"
      },
      "outputs": [],
      "source": [
        "# For reading stock data from yahoo\n",
        "from pandas_datareader import data as pdr\n",
        "import yfinance as yfin\n",
        "yfin.pdr_override()\n",
        "\n",
        "# For time stamps\n",
        "from datetime import datetime\n",
        "\n",
        "# For division\n",
        "from __future__ import division"
      ]
    },
    {
      "cell_type": "code",
      "execution_count": 136,
      "metadata": {
        "colab": {
          "base_uri": "https://localhost:8080/"
        },
        "id": "DirsdQMLsIom",
        "outputId": "bab0f4b1-eb31-40a7-ad87-d11467f0216c"
      },
      "outputs": [
        {
          "output_type": "stream",
          "name": "stdout",
          "text": [
            "\r[*********************100%***********************]  1 of 1 completed\n"
          ]
        }
      ],
      "source": [
        "#stock Company for analytics\n",
        "stock = ['TATAMOTORS.NS']\n",
        "data_source = 'yahoo' \n",
        "\n",
        "# set up Start and End time for data grab\n",
        "end = datetime.now()\n",
        "start = datetime(end.year-10,end.month,end.day)\n",
        "\n",
        "# Set DataFrame as the Stock Ticker\n",
        "df = pdr.get_data_yahoo(stock,start,end)"
      ]
    },
    {
      "cell_type": "code",
      "execution_count": 137,
      "metadata": {
        "colab": {
          "base_uri": "https://localhost:8080/",
          "height": 238
        },
        "id": "4pCFgMn4sWOU",
        "outputId": "fcfe4f0e-62b3-46c6-f5f7-72cbe855227c"
      },
      "outputs": [
        {
          "output_type": "execute_result",
          "data": {
            "text/plain": [
              "                  Open        High         Low       Close   Adj Close  \\\n",
              "Date                                                                     \n",
              "2012-07-27  208.266144  213.114136  206.979935  210.591202  208.192703   \n",
              "2012-07-30  214.103531  220.435608  213.064667  219.347275  216.849060   \n",
              "2012-07-31  219.644104  224.591034  214.845566  223.848999  221.299500   \n",
              "2012-08-01  222.167038  227.262390  220.831360  224.937317  222.375443   \n",
              "2012-08-02  223.700592  224.591034  219.248337  220.336670  217.827179   \n",
              "\n",
              "              Volume  \n",
              "Date                  \n",
              "2012-07-27  11852257  \n",
              "2012-07-30   9094027  \n",
              "2012-07-31  11297966  \n",
              "2012-08-01  10425962  \n",
              "2012-08-02   5808700  "
            ],
            "text/html": [
              "\n",
              "  <div id=\"df-9fd1c19a-626e-483a-994f-faaf3ce75a09\">\n",
              "    <div class=\"colab-df-container\">\n",
              "      <div>\n",
              "<style scoped>\n",
              "    .dataframe tbody tr th:only-of-type {\n",
              "        vertical-align: middle;\n",
              "    }\n",
              "\n",
              "    .dataframe tbody tr th {\n",
              "        vertical-align: top;\n",
              "    }\n",
              "\n",
              "    .dataframe thead th {\n",
              "        text-align: right;\n",
              "    }\n",
              "</style>\n",
              "<table border=\"1\" class=\"dataframe\">\n",
              "  <thead>\n",
              "    <tr style=\"text-align: right;\">\n",
              "      <th></th>\n",
              "      <th>Open</th>\n",
              "      <th>High</th>\n",
              "      <th>Low</th>\n",
              "      <th>Close</th>\n",
              "      <th>Adj Close</th>\n",
              "      <th>Volume</th>\n",
              "    </tr>\n",
              "    <tr>\n",
              "      <th>Date</th>\n",
              "      <th></th>\n",
              "      <th></th>\n",
              "      <th></th>\n",
              "      <th></th>\n",
              "      <th></th>\n",
              "      <th></th>\n",
              "    </tr>\n",
              "  </thead>\n",
              "  <tbody>\n",
              "    <tr>\n",
              "      <th>2012-07-27</th>\n",
              "      <td>208.266144</td>\n",
              "      <td>213.114136</td>\n",
              "      <td>206.979935</td>\n",
              "      <td>210.591202</td>\n",
              "      <td>208.192703</td>\n",
              "      <td>11852257</td>\n",
              "    </tr>\n",
              "    <tr>\n",
              "      <th>2012-07-30</th>\n",
              "      <td>214.103531</td>\n",
              "      <td>220.435608</td>\n",
              "      <td>213.064667</td>\n",
              "      <td>219.347275</td>\n",
              "      <td>216.849060</td>\n",
              "      <td>9094027</td>\n",
              "    </tr>\n",
              "    <tr>\n",
              "      <th>2012-07-31</th>\n",
              "      <td>219.644104</td>\n",
              "      <td>224.591034</td>\n",
              "      <td>214.845566</td>\n",
              "      <td>223.848999</td>\n",
              "      <td>221.299500</td>\n",
              "      <td>11297966</td>\n",
              "    </tr>\n",
              "    <tr>\n",
              "      <th>2012-08-01</th>\n",
              "      <td>222.167038</td>\n",
              "      <td>227.262390</td>\n",
              "      <td>220.831360</td>\n",
              "      <td>224.937317</td>\n",
              "      <td>222.375443</td>\n",
              "      <td>10425962</td>\n",
              "    </tr>\n",
              "    <tr>\n",
              "      <th>2012-08-02</th>\n",
              "      <td>223.700592</td>\n",
              "      <td>224.591034</td>\n",
              "      <td>219.248337</td>\n",
              "      <td>220.336670</td>\n",
              "      <td>217.827179</td>\n",
              "      <td>5808700</td>\n",
              "    </tr>\n",
              "  </tbody>\n",
              "</table>\n",
              "</div>\n",
              "      <button class=\"colab-df-convert\" onclick=\"convertToInteractive('df-9fd1c19a-626e-483a-994f-faaf3ce75a09')\"\n",
              "              title=\"Convert this dataframe to an interactive table.\"\n",
              "              style=\"display:none;\">\n",
              "        \n",
              "  <svg xmlns=\"http://www.w3.org/2000/svg\" height=\"24px\"viewBox=\"0 0 24 24\"\n",
              "       width=\"24px\">\n",
              "    <path d=\"M0 0h24v24H0V0z\" fill=\"none\"/>\n",
              "    <path d=\"M18.56 5.44l.94 2.06.94-2.06 2.06-.94-2.06-.94-.94-2.06-.94 2.06-2.06.94zm-11 1L8.5 8.5l.94-2.06 2.06-.94-2.06-.94L8.5 2.5l-.94 2.06-2.06.94zm10 10l.94 2.06.94-2.06 2.06-.94-2.06-.94-.94-2.06-.94 2.06-2.06.94z\"/><path d=\"M17.41 7.96l-1.37-1.37c-.4-.4-.92-.59-1.43-.59-.52 0-1.04.2-1.43.59L10.3 9.45l-7.72 7.72c-.78.78-.78 2.05 0 2.83L4 21.41c.39.39.9.59 1.41.59.51 0 1.02-.2 1.41-.59l7.78-7.78 2.81-2.81c.8-.78.8-2.07 0-2.86zM5.41 20L4 18.59l7.72-7.72 1.47 1.35L5.41 20z\"/>\n",
              "  </svg>\n",
              "      </button>\n",
              "      \n",
              "  <style>\n",
              "    .colab-df-container {\n",
              "      display:flex;\n",
              "      flex-wrap:wrap;\n",
              "      gap: 12px;\n",
              "    }\n",
              "\n",
              "    .colab-df-convert {\n",
              "      background-color: #E8F0FE;\n",
              "      border: none;\n",
              "      border-radius: 50%;\n",
              "      cursor: pointer;\n",
              "      display: none;\n",
              "      fill: #1967D2;\n",
              "      height: 32px;\n",
              "      padding: 0 0 0 0;\n",
              "      width: 32px;\n",
              "    }\n",
              "\n",
              "    .colab-df-convert:hover {\n",
              "      background-color: #E2EBFA;\n",
              "      box-shadow: 0px 1px 2px rgba(60, 64, 67, 0.3), 0px 1px 3px 1px rgba(60, 64, 67, 0.15);\n",
              "      fill: #174EA6;\n",
              "    }\n",
              "\n",
              "    [theme=dark] .colab-df-convert {\n",
              "      background-color: #3B4455;\n",
              "      fill: #D2E3FC;\n",
              "    }\n",
              "\n",
              "    [theme=dark] .colab-df-convert:hover {\n",
              "      background-color: #434B5C;\n",
              "      box-shadow: 0px 1px 3px 1px rgba(0, 0, 0, 0.15);\n",
              "      filter: drop-shadow(0px 1px 2px rgba(0, 0, 0, 0.3));\n",
              "      fill: #FFFFFF;\n",
              "    }\n",
              "  </style>\n",
              "\n",
              "      <script>\n",
              "        const buttonEl =\n",
              "          document.querySelector('#df-9fd1c19a-626e-483a-994f-faaf3ce75a09 button.colab-df-convert');\n",
              "        buttonEl.style.display =\n",
              "          google.colab.kernel.accessAllowed ? 'block' : 'none';\n",
              "\n",
              "        async function convertToInteractive(key) {\n",
              "          const element = document.querySelector('#df-9fd1c19a-626e-483a-994f-faaf3ce75a09');\n",
              "          const dataTable =\n",
              "            await google.colab.kernel.invokeFunction('convertToInteractive',\n",
              "                                                     [key], {});\n",
              "          if (!dataTable) return;\n",
              "\n",
              "          const docLinkHtml = 'Like what you see? Visit the ' +\n",
              "            '<a target=\"_blank\" href=https://colab.research.google.com/notebooks/data_table.ipynb>data table notebook</a>'\n",
              "            + ' to learn more about interactive tables.';\n",
              "          element.innerHTML = '';\n",
              "          dataTable['output_type'] = 'display_data';\n",
              "          await google.colab.output.renderOutput(dataTable, element);\n",
              "          const docLink = document.createElement('div');\n",
              "          docLink.innerHTML = docLinkHtml;\n",
              "          element.appendChild(docLink);\n",
              "        }\n",
              "      </script>\n",
              "    </div>\n",
              "  </div>\n",
              "  "
            ]
          },
          "metadata": {},
          "execution_count": 137
        }
      ],
      "source": [
        "df.head()"
      ]
    },
    {
      "cell_type": "code",
      "execution_count": 138,
      "metadata": {
        "colab": {
          "base_uri": "https://localhost:8080/"
        },
        "id": "TpfJej1ztYyw",
        "outputId": "6aae382b-04f5-41ce-aff6-3b1966dd1d80"
      },
      "outputs": [
        {
          "output_type": "execute_result",
          "data": {
            "text/plain": [
              "DatetimeIndex(['2012-07-27', '2012-07-30', '2012-07-31', '2012-08-01',\n",
              "               '2012-08-02', '2012-08-03', '2012-08-06', '2012-08-07',\n",
              "               '2012-08-08', '2012-08-09',\n",
              "               ...\n",
              "               '2022-07-14', '2022-07-15', '2022-07-18', '2022-07-19',\n",
              "               '2022-07-20', '2022-07-21', '2022-07-22', '2022-07-25',\n",
              "               '2022-07-26', '2022-07-27'],\n",
              "              dtype='datetime64[ns]', name='Date', length=2464, freq=None)"
            ]
          },
          "metadata": {},
          "execution_count": 138
        }
      ],
      "source": [
        "df.index"
      ]
    },
    {
      "cell_type": "markdown",
      "metadata": {
        "id": "DYjX_xYAtnYO"
      },
      "source": [
        "Check whether you have duplicate data on by date"
      ]
    },
    {
      "cell_type": "code",
      "execution_count": 139,
      "metadata": {
        "colab": {
          "base_uri": "https://localhost:8080/",
          "height": 81
        },
        "id": "MHThdAkBselW",
        "outputId": "1b08a72f-6876-4285-dd2c-fb1a8ad3664b"
      },
      "outputs": [
        {
          "output_type": "execute_result",
          "data": {
            "text/plain": [
              "Empty DataFrame\n",
              "Columns: [Open, High, Low, Close, Adj Close, Volume]\n",
              "Index: []"
            ],
            "text/html": [
              "\n",
              "  <div id=\"df-a9529d74-8da3-4391-b8c7-802c6c9973e4\">\n",
              "    <div class=\"colab-df-container\">\n",
              "      <div>\n",
              "<style scoped>\n",
              "    .dataframe tbody tr th:only-of-type {\n",
              "        vertical-align: middle;\n",
              "    }\n",
              "\n",
              "    .dataframe tbody tr th {\n",
              "        vertical-align: top;\n",
              "    }\n",
              "\n",
              "    .dataframe thead th {\n",
              "        text-align: right;\n",
              "    }\n",
              "</style>\n",
              "<table border=\"1\" class=\"dataframe\">\n",
              "  <thead>\n",
              "    <tr style=\"text-align: right;\">\n",
              "      <th></th>\n",
              "      <th>Open</th>\n",
              "      <th>High</th>\n",
              "      <th>Low</th>\n",
              "      <th>Close</th>\n",
              "      <th>Adj Close</th>\n",
              "      <th>Volume</th>\n",
              "    </tr>\n",
              "    <tr>\n",
              "      <th>Date</th>\n",
              "      <th></th>\n",
              "      <th></th>\n",
              "      <th></th>\n",
              "      <th></th>\n",
              "      <th></th>\n",
              "      <th></th>\n",
              "    </tr>\n",
              "  </thead>\n",
              "  <tbody>\n",
              "  </tbody>\n",
              "</table>\n",
              "</div>\n",
              "      <button class=\"colab-df-convert\" onclick=\"convertToInteractive('df-a9529d74-8da3-4391-b8c7-802c6c9973e4')\"\n",
              "              title=\"Convert this dataframe to an interactive table.\"\n",
              "              style=\"display:none;\">\n",
              "        \n",
              "  <svg xmlns=\"http://www.w3.org/2000/svg\" height=\"24px\"viewBox=\"0 0 24 24\"\n",
              "       width=\"24px\">\n",
              "    <path d=\"M0 0h24v24H0V0z\" fill=\"none\"/>\n",
              "    <path d=\"M18.56 5.44l.94 2.06.94-2.06 2.06-.94-2.06-.94-.94-2.06-.94 2.06-2.06.94zm-11 1L8.5 8.5l.94-2.06 2.06-.94-2.06-.94L8.5 2.5l-.94 2.06-2.06.94zm10 10l.94 2.06.94-2.06 2.06-.94-2.06-.94-.94-2.06-.94 2.06-2.06.94z\"/><path d=\"M17.41 7.96l-1.37-1.37c-.4-.4-.92-.59-1.43-.59-.52 0-1.04.2-1.43.59L10.3 9.45l-7.72 7.72c-.78.78-.78 2.05 0 2.83L4 21.41c.39.39.9.59 1.41.59.51 0 1.02-.2 1.41-.59l7.78-7.78 2.81-2.81c.8-.78.8-2.07 0-2.86zM5.41 20L4 18.59l7.72-7.72 1.47 1.35L5.41 20z\"/>\n",
              "  </svg>\n",
              "      </button>\n",
              "      \n",
              "  <style>\n",
              "    .colab-df-container {\n",
              "      display:flex;\n",
              "      flex-wrap:wrap;\n",
              "      gap: 12px;\n",
              "    }\n",
              "\n",
              "    .colab-df-convert {\n",
              "      background-color: #E8F0FE;\n",
              "      border: none;\n",
              "      border-radius: 50%;\n",
              "      cursor: pointer;\n",
              "      display: none;\n",
              "      fill: #1967D2;\n",
              "      height: 32px;\n",
              "      padding: 0 0 0 0;\n",
              "      width: 32px;\n",
              "    }\n",
              "\n",
              "    .colab-df-convert:hover {\n",
              "      background-color: #E2EBFA;\n",
              "      box-shadow: 0px 1px 2px rgba(60, 64, 67, 0.3), 0px 1px 3px 1px rgba(60, 64, 67, 0.15);\n",
              "      fill: #174EA6;\n",
              "    }\n",
              "\n",
              "    [theme=dark] .colab-df-convert {\n",
              "      background-color: #3B4455;\n",
              "      fill: #D2E3FC;\n",
              "    }\n",
              "\n",
              "    [theme=dark] .colab-df-convert:hover {\n",
              "      background-color: #434B5C;\n",
              "      box-shadow: 0px 1px 3px 1px rgba(0, 0, 0, 0.15);\n",
              "      filter: drop-shadow(0px 1px 2px rgba(0, 0, 0, 0.3));\n",
              "      fill: #FFFFFF;\n",
              "    }\n",
              "  </style>\n",
              "\n",
              "      <script>\n",
              "        const buttonEl =\n",
              "          document.querySelector('#df-a9529d74-8da3-4391-b8c7-802c6c9973e4 button.colab-df-convert');\n",
              "        buttonEl.style.display =\n",
              "          google.colab.kernel.accessAllowed ? 'block' : 'none';\n",
              "\n",
              "        async function convertToInteractive(key) {\n",
              "          const element = document.querySelector('#df-a9529d74-8da3-4391-b8c7-802c6c9973e4');\n",
              "          const dataTable =\n",
              "            await google.colab.kernel.invokeFunction('convertToInteractive',\n",
              "                                                     [key], {});\n",
              "          if (!dataTable) return;\n",
              "\n",
              "          const docLinkHtml = 'Like what you see? Visit the ' +\n",
              "            '<a target=\"_blank\" href=https://colab.research.google.com/notebooks/data_table.ipynb>data table notebook</a>'\n",
              "            + ' to learn more about interactive tables.';\n",
              "          element.innerHTML = '';\n",
              "          dataTable['output_type'] = 'display_data';\n",
              "          await google.colab.output.renderOutput(dataTable, element);\n",
              "          const docLink = document.createElement('div');\n",
              "          docLink.innerHTML = docLinkHtml;\n",
              "          element.appendChild(docLink);\n",
              "        }\n",
              "      </script>\n",
              "    </div>\n",
              "  </div>\n",
              "  "
            ]
          },
          "metadata": {},
          "execution_count": 139
        }
      ],
      "source": [
        "df[df.index.duplicated(keep = False)]"
      ]
    },
    {
      "cell_type": "code",
      "execution_count": 140,
      "metadata": {
        "colab": {
          "base_uri": "https://localhost:8080/",
          "height": 390
        },
        "id": "0EHWVgg4tapn",
        "outputId": "d9bfbb2e-c814-4a80-f2da-bee9057a066b"
      },
      "outputs": [
        {
          "output_type": "execute_result",
          "data": {
            "text/plain": [
              "<matplotlib.axes._subplots.AxesSubplot at 0x7f56ea8172d0>"
            ]
          },
          "metadata": {},
          "execution_count": 140
        },
        {
          "output_type": "display_data",
          "data": {
            "text/plain": [
              "<Figure size 864x432 with 1 Axes>"
            ],
            "image/png": "[encoded data removed]"
          },
          "metadata": {
            "needs_background": "light"
          }
        }
      ],
      "source": [
        "y = np.log(df[\"Close\"])\n",
        "y.plot()"
      ]
    },
    {
      "cell_type": "code",
      "execution_count": 141,
      "metadata": {
        "colab": {
          "base_uri": "https://localhost:8080/"
        },
        "id": "BIVM_qrXx3Gy",
        "outputId": "1a6f803c-23fe-43ae-d97c-c2256906c6e8"
      },
      "outputs": [
        {
          "output_type": "execute_result",
          "data": {
            "text/plain": [
              "DatetimeIndex(['2012-07-27', '2012-07-30', '2012-07-31', '2012-08-01',\n",
              "               '2012-08-02', '2012-08-03', '2012-08-06', '2012-08-07',\n",
              "               '2012-08-08', '2012-08-09',\n",
              "               ...\n",
              "               '2022-07-14', '2022-07-15', '2022-07-18', '2022-07-19',\n",
              "               '2022-07-20', '2022-07-21', '2022-07-22', '2022-07-25',\n",
              "               '2022-07-26', '2022-07-27'],\n",
              "              dtype='datetime64[ns]', name='Date', length=2464, freq=None)"
            ]
          },
          "metadata": {},
          "execution_count": 141
        }
      ],
      "source": [
        "y.index"
      ]
    },
    {
      "cell_type": "markdown",
      "metadata": {
        "id": "Nc4RmLJbyq-L"
      },
      "source": [
        "Calculate rolling mean, exponentially weighted mean"
      ]
    },
    {
      "cell_type": "code",
      "execution_count": 142,
      "metadata": {
        "colab": {
          "base_uri": "https://localhost:8080/",
          "height": 238
        },
        "id": "WbDJFtpfyohM",
        "outputId": "c81c13ea-ade7-473f-9cbb-b3e72bd8d061"
      },
      "outputs": [
        {
          "output_type": "execute_result",
          "data": {
            "text/plain": [
              "              actual  rolling_mean       ewm\n",
              "Date                                        \n",
              "2022-07-21  6.119968      6.052305  6.060416\n",
              "2022-07-22  6.120078      6.052198  6.061597\n",
              "2022-07-25  6.108247      6.052099  6.062521\n",
              "2022-07-26  6.089385      6.051954  6.063053\n",
              "2022-07-27  6.095937      6.052111  6.063704"
            ],
            "text/html": [
              "\n",
              "  <div id=\"df-e9039cbf-a418-46a7-8813-3ea8c9dfb1a2\">\n",
              "    <div class=\"colab-df-container\">\n",
              "      <div>\n",
              "<style scoped>\n",
              "    .dataframe tbody tr th:only-of-type {\n",
              "        vertical-align: middle;\n",
              "    }\n",
              "\n",
              "    .dataframe tbody tr th {\n",
              "        vertical-align: top;\n",
              "    }\n",
              "\n",
              "    .dataframe thead th {\n",
              "        text-align: right;\n",
              "    }\n",
              "</style>\n",
              "<table border=\"1\" class=\"dataframe\">\n",
              "  <thead>\n",
              "    <tr style=\"text-align: right;\">\n",
              "      <th></th>\n",
              "      <th>actual</th>\n",
              "      <th>rolling_mean</th>\n",
              "      <th>ewm</th>\n",
              "    </tr>\n",
              "    <tr>\n",
              "      <th>Date</th>\n",
              "      <th></th>\n",
              "      <th></th>\n",
              "      <th></th>\n",
              "    </tr>\n",
              "  </thead>\n",
              "  <tbody>\n",
              "    <tr>\n",
              "      <th>2022-07-21</th>\n",
              "      <td>6.119968</td>\n",
              "      <td>6.052305</td>\n",
              "      <td>6.060416</td>\n",
              "    </tr>\n",
              "    <tr>\n",
              "      <th>2022-07-22</th>\n",
              "      <td>6.120078</td>\n",
              "      <td>6.052198</td>\n",
              "      <td>6.061597</td>\n",
              "    </tr>\n",
              "    <tr>\n",
              "      <th>2022-07-25</th>\n",
              "      <td>6.108247</td>\n",
              "      <td>6.052099</td>\n",
              "      <td>6.062521</td>\n",
              "    </tr>\n",
              "    <tr>\n",
              "      <th>2022-07-26</th>\n",
              "      <td>6.089385</td>\n",
              "      <td>6.051954</td>\n",
              "      <td>6.063053</td>\n",
              "    </tr>\n",
              "    <tr>\n",
              "      <th>2022-07-27</th>\n",
              "      <td>6.095937</td>\n",
              "      <td>6.052111</td>\n",
              "      <td>6.063704</td>\n",
              "    </tr>\n",
              "  </tbody>\n",
              "</table>\n",
              "</div>\n",
              "      <button class=\"colab-df-convert\" onclick=\"convertToInteractive('df-e9039cbf-a418-46a7-8813-3ea8c9dfb1a2')\"\n",
              "              title=\"Convert this dataframe to an interactive table.\"\n",
              "              style=\"display:none;\">\n",
              "        \n",
              "  <svg xmlns=\"http://www.w3.org/2000/svg\" height=\"24px\"viewBox=\"0 0 24 24\"\n",
              "       width=\"24px\">\n",
              "    <path d=\"M0 0h24v24H0V0z\" fill=\"none\"/>\n",
              "    <path d=\"M18.56 5.44l.94 2.06.94-2.06 2.06-.94-2.06-.94-.94-2.06-.94 2.06-2.06.94zm-11 1L8.5 8.5l.94-2.06 2.06-.94-2.06-.94L8.5 2.5l-.94 2.06-2.06.94zm10 10l.94 2.06.94-2.06 2.06-.94-2.06-.94-.94-2.06-.94 2.06-2.06.94z\"/><path d=\"M17.41 7.96l-1.37-1.37c-.4-.4-.92-.59-1.43-.59-.52 0-1.04.2-1.43.59L10.3 9.45l-7.72 7.72c-.78.78-.78 2.05 0 2.83L4 21.41c.39.39.9.59 1.41.59.51 0 1.02-.2 1.41-.59l7.78-7.78 2.81-2.81c.8-.78.8-2.07 0-2.86zM5.41 20L4 18.59l7.72-7.72 1.47 1.35L5.41 20z\"/>\n",
              "  </svg>\n",
              "      </button>\n",
              "      \n",
              "  <style>\n",
              "    .colab-df-container {\n",
              "      display:flex;\n",
              "      flex-wrap:wrap;\n",
              "      gap: 12px;\n",
              "    }\n",
              "\n",
              "    .colab-df-convert {\n",
              "      background-color: #E8F0FE;\n",
              "      border: none;\n",
              "      border-radius: 50%;\n",
              "      cursor: pointer;\n",
              "      display: none;\n",
              "      fill: #1967D2;\n",
              "      height: 32px;\n",
              "      padding: 0 0 0 0;\n",
              "      width: 32px;\n",
              "    }\n",
              "\n",
              "    .colab-df-convert:hover {\n",
              "      background-color: #E2EBFA;\n",
              "      box-shadow: 0px 1px 2px rgba(60, 64, 67, 0.3), 0px 1px 3px 1px rgba(60, 64, 67, 0.15);\n",
              "      fill: #174EA6;\n",
              "    }\n",
              "\n",
              "    [theme=dark] .colab-df-convert {\n",
              "      background-color: #3B4455;\n",
              "      fill: #D2E3FC;\n",
              "    }\n",
              "\n",
              "    [theme=dark] .colab-df-convert:hover {\n",
              "      background-color: #434B5C;\n",
              "      box-shadow: 0px 1px 3px 1px rgba(0, 0, 0, 0.15);\n",
              "      filter: drop-shadow(0px 1px 2px rgba(0, 0, 0, 0.3));\n",
              "      fill: #FFFFFF;\n",
              "    }\n",
              "  </style>\n",
              "\n",
              "      <script>\n",
              "        const buttonEl =\n",
              "          document.querySelector('#df-e9039cbf-a418-46a7-8813-3ea8c9dfb1a2 button.colab-df-convert');\n",
              "        buttonEl.style.display =\n",
              "          google.colab.kernel.accessAllowed ? 'block' : 'none';\n",
              "\n",
              "        async function convertToInteractive(key) {\n",
              "          const element = document.querySelector('#df-e9039cbf-a418-46a7-8813-3ea8c9dfb1a2');\n",
              "          const dataTable =\n",
              "            await google.colab.kernel.invokeFunction('convertToInteractive',\n",
              "                                                     [key], {});\n",
              "          if (!dataTable) return;\n",
              "\n",
              "          const docLinkHtml = 'Like what you see? Visit the ' +\n",
              "            '<a target=\"_blank\" href=https://colab.research.google.com/notebooks/data_table.ipynb>data table notebook</a>'\n",
              "            + ' to learn more about interactive tables.';\n",
              "          element.innerHTML = '';\n",
              "          dataTable['output_type'] = 'display_data';\n",
              "          await google.colab.output.renderOutput(dataTable, element);\n",
              "          const docLink = document.createElement('div');\n",
              "          docLink.innerHTML = docLinkHtml;\n",
              "          element.appendChild(docLink);\n",
              "        }\n",
              "      </script>\n",
              "    </div>\n",
              "  </div>\n",
              "  "
            ]
          },
          "metadata": {},
          "execution_count": 142
        }
      ],
      "source": [
        "period = 100\n",
        "y_rolling = pd.DataFrame(dict(actual = y, \n",
        "                              rolling_mean = y.rolling(period).mean(), \n",
        "                              ewm = y.ewm(span = period).mean()\n",
        "                             ))\n",
        "y_rolling.tail()"
      ]
    },
    {
      "cell_type": "code",
      "execution_count": 143,
      "metadata": {
        "colab": {
          "base_uri": "https://localhost:8080/"
        },
        "id": "aI5pwCdIy690",
        "outputId": "bb31807c-fb67-4f84-a308-afe2c096ee60"
      },
      "outputs": [
        {
          "output_type": "stream",
          "name": "stdout",
          "text": [
            "rmse over rolling mean:  0.18584831697866364\n",
            "rmse over ewma:  0.15795918070246967\n"
          ]
        }
      ],
      "source": [
        "rolling_dropped = y_rolling.dropna()\n",
        "print(\"rmse over rolling mean: \", metrics.mean_squared_error(rolling_dropped.actual, rolling_dropped.rolling_mean) ** 0.5)\n",
        "print(\"rmse over ewma: \", metrics.mean_squared_error(rolling_dropped.actual, rolling_dropped[\"ewm\"]) ** 0.5)"
      ]
    },
    {
      "cell_type": "markdown",
      "metadata": {
        "id": "rGQL80_6y-k7"
      },
      "source": [
        "By visual inspection, we see the time series is not stationary. Let we will see a more formal way of testing using Dickey Fullter Test."
      ]
    },
    {
      "cell_type": "code",
      "execution_count": 144,
      "metadata": {
        "colab": {
          "base_uri": "https://localhost:8080/",
          "height": 390
        },
        "id": "M09S497Ay98t",
        "outputId": "fd79253a-5e39-4a1f-ca85-591256f5c98d"
      },
      "outputs": [
        {
          "output_type": "execute_result",
          "data": {
            "text/plain": [
              "<matplotlib.axes._subplots.AxesSubplot at 0x7f56ea557690>"
            ]
          },
          "metadata": {},
          "execution_count": 144
        },
        {
          "output_type": "display_data",
          "data": {
            "text/plain": [
              "<Figure size 864x432 with 1 Axes>"
            ],
            "image/png": "[encoded data removed]"
          },
          "metadata": {
            "needs_background": "light"
          }
        }
      ],
      "source": [
        "y_rolling.plot()"
      ]
    },
    {
      "cell_type": "markdown",
      "metadata": {
        "id": "n8C4YBGizGJ9"
      },
      "source": [
        "Formal of way of test for stationarity. Since the p-value of Augmented Dickey Fullter test is > 0.05, we can say that there is not sufficient proof that the time series is stationary. Loosely speaking, it is non-stationary. We need further transformation to make data stationary. Populary method for making data stationary will be to take \"difference\". Taking difference by lag one, we see the p-val for Dickey Fuller test is < 0.05. So we conclude, diff 1 has made the data stationary."
      ]
    },
    {
      "cell_type": "code",
      "source": [
        "from statsmodels.tsa.stattools import adfuller\n",
        "def check_stationarity(series):\n",
        "    result = adfuller(series.values)\n",
        "\n",
        "    print('ADF Statistic: %f' % result[0])\n",
        "    print('p-value: %f' % result[1])\n",
        "    print('Critical Values:')\n",
        "    for key, value in result[4].items():\n",
        "        print('\\t%s: %.3f' % (key, value))\n",
        "\n",
        "    if (result[1] <= 0.05) & (result[4]['5%'] > result[0]):\n",
        "        print(\"\\u001b[32mStationary\\u001b[0m\")\n",
        "    else:\n",
        "        print(\"\\x1b[31mNon-stationary\\x1b[0m\")\n",
        "\n",
        "check_stationarity(y.dropna())"
      ],
      "metadata": {
        "colab": {
          "base_uri": "https://localhost:8080/"
        },
        "id": "TCcDmvfj1RKj",
        "outputId": "3e38fe83-8c32-4827-dfb3-0824d0eb4721"
      },
      "execution_count": 145,
      "outputs": [
        {
          "output_type": "stream",
          "name": "stdout",
          "text": [
            "ADF Statistic: -1.412390\n",
            "p-value: 0.576322\n",
            "Critical Values:\n",
            "\t1%: -3.433\n",
            "\t5%: -2.863\n",
            "\t10%: -2.567\n",
            "\u001b[31mNon-stationary\u001b[0m\n"
          ]
        }
      ]
    },
    {
      "cell_type": "code",
      "execution_count": 146,
      "metadata": {
        "colab": {
          "base_uri": "https://localhost:8080/",
          "height": 394
        },
        "id": "pYNEQgoizMt3",
        "outputId": "9cf7e674-9f3a-464b-d370-9170c6540d33"
      },
      "outputs": [
        {
          "output_type": "execute_result",
          "data": {
            "text/plain": [
              "              actual     diff1     diff2\n",
              "Date                                    \n",
              "2012-07-27  5.349919       NaN       NaN\n",
              "2012-07-30  5.390656       NaN       NaN\n",
              "2012-07-31  5.410972       NaN       NaN\n",
              "2012-08-01  5.415822  0.065903       NaN\n",
              "2012-08-02  5.395157  0.004500 -0.061402\n",
              "2012-08-03  5.387268 -0.023704 -0.028205\n",
              "2012-08-06  5.423271  0.007450  0.031154\n",
              "2012-08-07  5.464957  0.069801  0.062351\n",
              "2012-08-08  5.476201  0.088933  0.019132\n",
              "2012-08-09  5.467049  0.043778 -0.045155"
            ],
            "text/html": [
              "\n",
              "  <div id=\"df-2b595790-35f2-411e-90d8-530c30eb8347\">\n",
              "    <div class=\"colab-df-container\">\n",
              "      <div>\n",
              "<style scoped>\n",
              "    .dataframe tbody tr th:only-of-type {\n",
              "        vertical-align: middle;\n",
              "    }\n",
              "\n",
              "    .dataframe tbody tr th {\n",
              "        vertical-align: top;\n",
              "    }\n",
              "\n",
              "    .dataframe thead th {\n",
              "        text-align: right;\n",
              "    }\n",
              "</style>\n",
              "<table border=\"1\" class=\"dataframe\">\n",
              "  <thead>\n",
              "    <tr style=\"text-align: right;\">\n",
              "      <th></th>\n",
              "      <th>actual</th>\n",
              "      <th>diff1</th>\n",
              "      <th>diff2</th>\n",
              "    </tr>\n",
              "    <tr>\n",
              "      <th>Date</th>\n",
              "      <th></th>\n",
              "      <th></th>\n",
              "      <th></th>\n",
              "    </tr>\n",
              "  </thead>\n",
              "  <tbody>\n",
              "    <tr>\n",
              "      <th>2012-07-27</th>\n",
              "      <td>5.349919</td>\n",
              "      <td>NaN</td>\n",
              "      <td>NaN</td>\n",
              "    </tr>\n",
              "    <tr>\n",
              "      <th>2012-07-30</th>\n",
              "      <td>5.390656</td>\n",
              "      <td>NaN</td>\n",
              "      <td>NaN</td>\n",
              "    </tr>\n",
              "    <tr>\n",
              "      <th>2012-07-31</th>\n",
              "      <td>5.410972</td>\n",
              "      <td>NaN</td>\n",
              "      <td>NaN</td>\n",
              "    </tr>\n",
              "    <tr>\n",
              "      <th>2012-08-01</th>\n",
              "      <td>5.415822</td>\n",
              "      <td>0.065903</td>\n",
              "      <td>NaN</td>\n",
              "    </tr>\n",
              "    <tr>\n",
              "      <th>2012-08-02</th>\n",
              "      <td>5.395157</td>\n",
              "      <td>0.004500</td>\n",
              "      <td>-0.061402</td>\n",
              "    </tr>\n",
              "    <tr>\n",
              "      <th>2012-08-03</th>\n",
              "      <td>5.387268</td>\n",
              "      <td>-0.023704</td>\n",
              "      <td>-0.028205</td>\n",
              "    </tr>\n",
              "    <tr>\n",
              "      <th>2012-08-06</th>\n",
              "      <td>5.423271</td>\n",
              "      <td>0.007450</td>\n",
              "      <td>0.031154</td>\n",
              "    </tr>\n",
              "    <tr>\n",
              "      <th>2012-08-07</th>\n",
              "      <td>5.464957</td>\n",
              "      <td>0.069801</td>\n",
              "      <td>0.062351</td>\n",
              "    </tr>\n",
              "    <tr>\n",
              "      <th>2012-08-08</th>\n",
              "      <td>5.476201</td>\n",
              "      <td>0.088933</td>\n",
              "      <td>0.019132</td>\n",
              "    </tr>\n",
              "    <tr>\n",
              "      <th>2012-08-09</th>\n",
              "      <td>5.467049</td>\n",
              "      <td>0.043778</td>\n",
              "      <td>-0.045155</td>\n",
              "    </tr>\n",
              "  </tbody>\n",
              "</table>\n",
              "</div>\n",
              "      <button class=\"colab-df-convert\" onclick=\"convertToInteractive('df-2b595790-35f2-411e-90d8-530c30eb8347')\"\n",
              "              title=\"Convert this dataframe to an interactive table.\"\n",
              "              style=\"display:none;\">\n",
              "        \n",
              "  <svg xmlns=\"http://www.w3.org/2000/svg\" height=\"24px\"viewBox=\"0 0 24 24\"\n",
              "       width=\"24px\">\n",
              "    <path d=\"M0 0h24v24H0V0z\" fill=\"none\"/>\n",
              "    <path d=\"M18.56 5.44l.94 2.06.94-2.06 2.06-.94-2.06-.94-.94-2.06-.94 2.06-2.06.94zm-11 1L8.5 8.5l.94-2.06 2.06-.94-2.06-.94L8.5 2.5l-.94 2.06-2.06.94zm10 10l.94 2.06.94-2.06 2.06-.94-2.06-.94-.94-2.06-.94 2.06-2.06.94z\"/><path d=\"M17.41 7.96l-1.37-1.37c-.4-.4-.92-.59-1.43-.59-.52 0-1.04.2-1.43.59L10.3 9.45l-7.72 7.72c-.78.78-.78 2.05 0 2.83L4 21.41c.39.39.9.59 1.41.59.51 0 1.02-.2 1.41-.59l7.78-7.78 2.81-2.81c.8-.78.8-2.07 0-2.86zM5.41 20L4 18.59l7.72-7.72 1.47 1.35L5.41 20z\"/>\n",
              "  </svg>\n",
              "      </button>\n",
              "      \n",
              "  <style>\n",
              "    .colab-df-container {\n",
              "      display:flex;\n",
              "      flex-wrap:wrap;\n",
              "      gap: 12px;\n",
              "    }\n",
              "\n",
              "    .colab-df-convert {\n",
              "      background-color: #E8F0FE;\n",
              "      border: none;\n",
              "      border-radius: 50%;\n",
              "      cursor: pointer;\n",
              "      display: none;\n",
              "      fill: #1967D2;\n",
              "      height: 32px;\n",
              "      padding: 0 0 0 0;\n",
              "      width: 32px;\n",
              "    }\n",
              "\n",
              "    .colab-df-convert:hover {\n",
              "      background-color: #E2EBFA;\n",
              "      box-shadow: 0px 1px 2px rgba(60, 64, 67, 0.3), 0px 1px 3px 1px rgba(60, 64, 67, 0.15);\n",
              "      fill: #174EA6;\n",
              "    }\n",
              "\n",
              "    [theme=dark] .colab-df-convert {\n",
              "      background-color: #3B4455;\n",
              "      fill: #D2E3FC;\n",
              "    }\n",
              "\n",
              "    [theme=dark] .colab-df-convert:hover {\n",
              "      background-color: #434B5C;\n",
              "      box-shadow: 0px 1px 3px 1px rgba(0, 0, 0, 0.15);\n",
              "      filter: drop-shadow(0px 1px 2px rgba(0, 0, 0, 0.3));\n",
              "      fill: #FFFFFF;\n",
              "    }\n",
              "  </style>\n",
              "\n",
              "      <script>\n",
              "        const buttonEl =\n",
              "          document.querySelector('#df-2b595790-35f2-411e-90d8-530c30eb8347 button.colab-df-convert');\n",
              "        buttonEl.style.display =\n",
              "          google.colab.kernel.accessAllowed ? 'block' : 'none';\n",
              "\n",
              "        async function convertToInteractive(key) {\n",
              "          const element = document.querySelector('#df-2b595790-35f2-411e-90d8-530c30eb8347');\n",
              "          const dataTable =\n",
              "            await google.colab.kernel.invokeFunction('convertToInteractive',\n",
              "                                                     [key], {});\n",
              "          if (!dataTable) return;\n",
              "\n",
              "          const docLinkHtml = 'Like what you see? Visit the ' +\n",
              "            '<a target=\"_blank\" href=https://colab.research.google.com/notebooks/data_table.ipynb>data table notebook</a>'\n",
              "            + ' to learn more about interactive tables.';\n",
              "          element.innerHTML = '';\n",
              "          dataTable['output_type'] = 'display_data';\n",
              "          await google.colab.output.renderOutput(dataTable, element);\n",
              "          const docLink = document.createElement('div');\n",
              "          docLink.innerHTML = docLinkHtml;\n",
              "          element.appendChild(docLink);\n",
              "        }\n",
              "      </script>\n",
              "    </div>\n",
              "  </div>\n",
              "  "
            ]
          },
          "metadata": {},
          "execution_count": 146
        }
      ],
      "source": [
        "diff = pd.DataFrame({\"actual\": y, \"diff1\": y.diff(3)}).head(10)\n",
        "diff[\"diff2\"] = diff.diff1.diff(1)\n",
        "diff"
      ]
    },
    {
      "cell_type": "code",
      "source": [
        "def check_stationarity(series):\n",
        "    result = adfuller(series.values)\n",
        "\n",
        "    print('ADF Statistic: %f' % result[0])\n",
        "    print('p-value: %f' % result[1])\n",
        "    print('Critical Values:')\n",
        "    for key, value in result[4].items():\n",
        "        print('\\t%s: %.3f' % (key, value))\n",
        "\n",
        "    if (result[1] <= 0.05) & (result[4]['5%'] > result[0]):\n",
        "        print(\"\\u001b[32mStationary\\u001b[0m\")\n",
        "    else:\n",
        "        print(\"\\x1b[31mNon-stationary\\x1b[0m\")\n",
        "\n",
        "check_stationarity(y.diff(periods=1).dropna())"
      ],
      "metadata": {
        "colab": {
          "base_uri": "https://localhost:8080/"
        },
        "id": "niBR9K4I08Ld",
        "outputId": "62d09d89-4ccd-4425-ce24-d8b2b1239061"
      },
      "execution_count": 147,
      "outputs": [
        {
          "output_type": "stream",
          "name": "stdout",
          "text": [
            "ADF Statistic: -48.587787\n",
            "p-value: 0.000000\n",
            "Critical Values:\n",
            "\t1%: -3.433\n",
            "\t5%: -2.863\n",
            "\t10%: -2.567\n",
            "\u001b[32mStationary\u001b[0m\n"
          ]
        }
      ]
    },
    {
      "cell_type": "code",
      "execution_count": 148,
      "metadata": {
        "colab": {
          "base_uri": "https://localhost:8080/",
          "height": 387
        },
        "id": "pNTi8VugzWHs",
        "outputId": "29338688-6e5d-429e-e36e-b30f8c5d6730"
      },
      "outputs": [
        {
          "output_type": "execute_result",
          "data": {
            "text/plain": [
              "<matplotlib.axes._subplots.AxesSubplot at 0x7f56eb41ea90>"
            ]
          },
          "metadata": {},
          "execution_count": 148
        },
        {
          "output_type": "display_data",
          "data": {
            "text/plain": [
              "<Figure size 864x432 with 1 Axes>"
            ],
            "image/png": "[encoded data removed]"
          },
          "metadata": {
            "needs_background": "light"
          }
        }
      ],
      "source": [
        "y.diff(periods=1).plot()"
      ]
    },
    {
      "cell_type": "markdown",
      "metadata": {
        "id": "l-9SCo14zaDR"
      },
      "source": [
        "Use pandas's auto correlation plot. Here is a nice explanation of the autocorrelation plot"
      ]
    },
    {
      "cell_type": "code",
      "execution_count": 149,
      "metadata": {
        "colab": {
          "base_uri": "https://localhost:8080/",
          "height": 412
        },
        "id": "w3zx6HQqzcI8",
        "outputId": "b54bba91-2571-4f98-ad17-da4d6e3da374"
      },
      "outputs": [
        {
          "output_type": "execute_result",
          "data": {
            "text/plain": [
              "<matplotlib.axes._subplots.AxesSubplot at 0x7f56eb3f9290>"
            ]
          },
          "metadata": {},
          "execution_count": 149
        },
        {
          "output_type": "display_data",
          "data": {
            "text/plain": [
              "<Figure size 864x432 with 1 Axes>"
            ],
            "image/png": "[encoded data removed]"
          },
          "metadata": {
            "needs_background": "light"
          }
        }
      ],
      "source": [
        "from pandas.plotting import autocorrelation_plot\n",
        "autocorrelation_plot(y)"
      ]
    },
    {
      "cell_type": "code",
      "execution_count": 150,
      "metadata": {
        "id": "HkhtB1sazfR8"
      },
      "outputs": [],
      "source": [
        "y = y.dropna()"
      ]
    },
    {
      "cell_type": "code",
      "source": [
        "from statsmodels.tsa.arima_model import ARIMA\n",
        "from pmdarima.arima import auto_arima\n",
        "\n",
        "model_autoARIMA = auto_arima(y, start_p=0, start_q=0,\n",
        "                      test='adf',       # use adftest to find             optimal 'd'\n",
        "                      max_p=3, max_q=3, # maximum p and q\n",
        "                      m=1,              # frequency of series\n",
        "                      d=None,           # let model determine 'd'\n",
        "                      seasonal=False,   # No Seasonality\n",
        "                      start_P=0, \n",
        "                      D=0, \n",
        "                      trace=True,\n",
        "                      error_action='ignore',  \n",
        "                      suppress_warnings=True, \n",
        "                      stepwise=True)\n",
        "print(model_autoARIMA.summary())"
      ],
      "metadata": {
        "colab": {
          "base_uri": "https://localhost:8080/"
        },
        "id": "Icolo5JXn1mu",
        "outputId": "4c14f5ef-ac63-46c4-9de1-befa145a637b"
      },
      "execution_count": 151,
      "outputs": [
        {
          "output_type": "stream",
          "name": "stdout",
          "text": [
            "Performing stepwise search to minimize aic\n",
            " ARIMA(0,1,0)(0,0,0)[0] intercept   : AIC=-10827.559, Time=0.31 sec\n",
            " ARIMA(1,1,0)(0,0,0)[0] intercept   : AIC=-10826.650, Time=0.51 sec\n",
            " ARIMA(0,1,1)(0,0,0)[0] intercept   : AIC=-10826.631, Time=0.75 sec\n",
            " ARIMA(0,1,0)(0,0,0)[0]             : AIC=-10829.246, Time=0.13 sec\n",
            " ARIMA(1,1,1)(0,0,0)[0] intercept   : AIC=-10824.900, Time=0.87 sec\n",
            "\n",
            "Best model:  ARIMA(0,1,0)(0,0,0)[0]          \n",
            "Total fit time: 2.593 seconds\n",
            "                           Statespace Model Results                           \n",
            "==============================================================================\n",
            "Dep. Variable:                      y   No. Observations:                 2464\n",
            "Model:               SARIMAX(0, 1, 0)   Log Likelihood                5415.623\n",
            "Date:                Wed, 27 Jul 2022   AIC                         -10829.246\n",
            "Time:                        14:37:23   BIC                         -10823.436\n",
            "Sample:                             0   HQIC                        -10827.135\n",
            "                               - 2464                                         \n",
            "Covariance Type:                  opg                                         \n",
            "==============================================================================\n",
            "                 coef    std err          z      P>|z|      [0.025      0.975]\n",
            "------------------------------------------------------------------------------\n",
            "sigma2         0.0007   1.03e-05     70.250      0.000       0.001       0.001\n",
            "===================================================================================\n",
            "Ljung-Box (Q):                       47.56   Jarque-Bera (JB):              3712.91\n",
            "Prob(Q):                              0.19   Prob(JB):                         0.00\n",
            "Heteroskedasticity (H):               2.46   Skew:                             0.20\n",
            "Prob(H) (two-sided):                  0.00   Kurtosis:                         9.00\n",
            "===================================================================================\n",
            "\n",
            "Warnings:\n",
            "[1] Covariance matrix calculated using the outer product of gradients (complex-step).\n"
          ]
        }
      ]
    },
    {
      "cell_type": "code",
      "execution_count": 152,
      "metadata": {
        "colab": {
          "base_uri": "https://localhost:8080/",
          "height": 975
        },
        "id": "qJ75Y_X-zh5X",
        "outputId": "be30d9f2-ea61-4385-9522-69e83bc55a1e"
      },
      "outputs": [
        {
          "output_type": "stream",
          "name": "stderr",
          "text": [
            "/usr/local/lib/python3.7/dist-packages/statsmodels/tsa/base/tsa_model.py:219: ValueWarning: A date index has been provided, but it has no associated frequency information and so will be ignored when e.g. forecasting.\n",
            "  ' ignored when e.g. forecasting.', ValueWarning)\n",
            "/usr/local/lib/python3.7/dist-packages/statsmodels/tsa/base/tsa_model.py:219: ValueWarning: A date index has been provided, but it has no associated frequency information and so will be ignored when e.g. forecasting.\n",
            "  ' ignored when e.g. forecasting.', ValueWarning)\n"
          ]
        },
        {
          "output_type": "stream",
          "name": "stdout",
          "text": [
            "                  0\n",
            "count  2.463000e+03\n",
            "mean   4.470395e-10\n",
            "std    2.684729e-02\n",
            "min   -1.936780e-01\n",
            "25%   -1.358745e-02\n",
            "50%   -3.028897e-04\n",
            "75%    1.318318e-02\n",
            "max    1.857344e-01\n"
          ]
        },
        {
          "output_type": "display_data",
          "data": {
            "text/plain": [
              "<Figure size 864x432 with 1 Axes>"
            ],
            "image/png": "[encoded data removed]"
          },
          "metadata": {
            "needs_background": "light"
          }
        },
        {
          "output_type": "display_data",
          "data": {
            "text/plain": [
              "<Figure size 864x432 with 1 Axes>"
            ],
            "image/png": "[encoded data removed]"
          },
          "metadata": {
            "needs_background": "light"
          }
        }
      ],
      "source": [
        "from statsmodels.tsa.arima_model import ARIMA\n",
        "\n",
        "p=0\n",
        "d=1\n",
        "q=0\n",
        "\n",
        "# fit model\n",
        "model = ARIMA(y, order=(p, d, q)) \n",
        "model_fit = model.fit(disp=0)\n",
        "#print(model_fit.summary())\n",
        "\n",
        "# plot residual erros\n",
        "residuals = pd.DataFrame(model_fit.resid)\n",
        "residuals.plot()\n",
        "residuals.plot(kind='kde')\n",
        "print(residuals.describe())"
      ]
    },
    {
      "cell_type": "code",
      "execution_count": 153,
      "metadata": {
        "colab": {
          "base_uri": "https://localhost:8080/",
          "height": 213
        },
        "id": "n56IYjUPzotl",
        "outputId": "a9e4f6e1-5a75-494f-933a-4659ef690a3d"
      },
      "outputs": [
        {
          "output_type": "execute_result",
          "data": {
            "text/plain": [
              "<class 'statsmodels.iolib.summary.Summary'>\n",
              "\"\"\"\n",
              "                             ARIMA Model Results                              \n",
              "==============================================================================\n",
              "Dep. Variable:                D.Close   No. Observations:                 2463\n",
              "Model:                 ARIMA(0, 1, 0)   Log Likelihood                5415.780\n",
              "Method:                           css   S.D. of innovations              0.027\n",
              "Date:                Wed, 27 Jul 2022   AIC                         -10827.559\n",
              "Time:                        14:37:24   BIC                         -10815.941\n",
              "Sample:                             1   HQIC                        -10823.338\n",
              "                                                                              \n",
              "==============================================================================\n",
              "                 coef    std err          z      P>|z|      [0.025      0.975]\n",
              "------------------------------------------------------------------------------\n",
              "const          0.0003      0.001      0.560      0.576      -0.001       0.001\n",
              "==============================================================================\n",
              "\"\"\""
            ],
            "text/html": [
              "<table class=\"simpletable\">\n",
              "<caption>ARIMA Model Results</caption>\n",
              "<tr>\n",
              "  <th>Dep. Variable:</th>      <td>D.Close</td>     <th>  No. Observations:  </th>    <td>2463</td>   \n",
              "</tr>\n",
              "<tr>\n",
              "  <th>Model:</th>          <td>ARIMA(0, 1, 0)</td>  <th>  Log Likelihood     </th>  <td>5415.780</td> \n",
              "</tr>\n",
              "<tr>\n",
              "  <th>Method:</th>               <td>css</td>       <th>  S.D. of innovations</th>    <td>0.027</td>  \n",
              "</tr>\n",
              "<tr>\n",
              "  <th>Date:</th>          <td>Wed, 27 Jul 2022</td> <th>  AIC                </th> <td>-10827.559</td>\n",
              "</tr>\n",
              "<tr>\n",
              "  <th>Time:</th>              <td>14:37:24</td>     <th>  BIC                </th> <td>-10815.941</td>\n",
              "</tr>\n",
              "<tr>\n",
              "  <th>Sample:</th>                <td>1</td>        <th>  HQIC               </th> <td>-10823.338</td>\n",
              "</tr>\n",
              "<tr>\n",
              "  <th></th>                       <td> </td>        <th>                     </th>      <td> </td>    \n",
              "</tr>\n",
              "</table>\n",
              "<table class=\"simpletable\">\n",
              "<tr>\n",
              "    <td></td>       <th>coef</th>     <th>std err</th>      <th>z</th>      <th>P>|z|</th>  <th>[0.025</th>    <th>0.975]</th>  \n",
              "</tr>\n",
              "<tr>\n",
              "  <th>const</th> <td>    0.0003</td> <td>    0.001</td> <td>    0.560</td> <td> 0.576</td> <td>   -0.001</td> <td>    0.001</td>\n",
              "</tr>\n",
              "</table>"
            ]
          },
          "metadata": {},
          "execution_count": 153
        }
      ],
      "source": [
        "model_fit.summary()"
      ]
    },
    {
      "cell_type": "code",
      "execution_count": 154,
      "metadata": {
        "colab": {
          "base_uri": "https://localhost:8080/",
          "height": 391
        },
        "id": "56dxyUyBztUZ",
        "outputId": "d344fa1e-c168-4cd8-89bb-9e99ce556c2f"
      },
      "outputs": [
        {
          "output_type": "execute_result",
          "data": {
            "text/plain": [
              "<matplotlib.collections.PolyCollection at 0x7f56e8098e90>"
            ]
          },
          "metadata": {},
          "execution_count": 154
        },
        {
          "output_type": "display_data",
          "data": {
            "text/plain": [
              "<Figure size 864x432 with 1 Axes>"
            ],
            "image/png": "[encoded data removed]"
          },
          "metadata": {
            "needs_background": "light"
          }
        }
      ],
      "source": [
        "model = ARIMA(y.values, order=(p, d, q))\n",
        "model_fit = model.fit(disp=0)\n",
        "predictions, error, conf_interval = model_fit.forecast(10)\n",
        "plt.plot(predictions)\n",
        "plt.fill_between(range(len(predictions)), conf_interval[:,0], conf_interval[:,1], alpha = 0.3)"
      ]
    },
    {
      "cell_type": "code",
      "execution_count": 155,
      "metadata": {
        "colab": {
          "base_uri": "https://localhost:8080/"
        },
        "id": "p1gidiVUzx6n",
        "outputId": "fad02abe-53fc-47b5-9768-cae8791fc947"
      },
      "outputs": [
        {
          "output_type": "execute_result",
          "data": {
            "text/plain": [
              "array([6.09624003, 6.09654292, 6.09684581, 6.0971487 , 6.09745159,\n",
              "       6.09775448, 6.09805737, 6.09836026, 6.09866315, 6.09896604])"
            ]
          },
          "metadata": {},
          "execution_count": 155
        }
      ],
      "source": [
        "predictions[:10]"
      ]
    },
    {
      "cell_type": "code",
      "execution_count": 156,
      "metadata": {
        "colab": {
          "base_uri": "https://localhost:8080/"
        },
        "id": "Qqi2xOOCz0ZT",
        "outputId": "9a59a47f-3f01-45fe-bdd9-82e1341c603a"
      },
      "outputs": [
        {
          "output_type": "execute_result",
          "data": {
            "text/plain": [
              "array([0.02684184, 0.03796009, 0.04649143, 0.05368368, 0.06002018,\n",
              "       0.06574881, 0.07101683, 0.07592019, 0.08052552, 0.08488135])"
            ]
          },
          "metadata": {},
          "execution_count": 156
        }
      ],
      "source": [
        "error[:10]"
      ]
    },
    {
      "cell_type": "code",
      "execution_count": 157,
      "metadata": {
        "colab": {
          "base_uri": "https://localhost:8080/"
        },
        "id": "NUSiCZGv0AJ8",
        "outputId": "f9282e2b-8be6-4271-8aea-b06c9dce502a"
      },
      "outputs": [
        {
          "output_type": "execute_result",
          "data": {
            "text/plain": [
              "array([6.14885004, 6.1709447 , 6.18796901, 6.20236871, 6.21509114,\n",
              "       6.22662215, 6.23725036, 6.24716382, 6.25649316, 6.26533348])"
            ]
          },
          "metadata": {},
          "execution_count": 157
        }
      ],
      "source": [
        "(predictions + 1.96 * error)[:10]"
      ]
    },
    {
      "cell_type": "code",
      "execution_count": 158,
      "metadata": {
        "colab": {
          "base_uri": "https://localhost:8080/"
        },
        "id": "iQBBnyMM0C8X",
        "outputId": "4fb17ba5-03fc-4501-fc9c-39c871cb22aa"
      },
      "outputs": [
        {
          "output_type": "execute_result",
          "data": {
            "text/plain": [
              "array([6.04363003, 6.02214114, 6.00572261, 5.99192869, 5.97981204,\n",
              "       5.96888681, 5.95886438, 5.94955669, 5.94083313, 5.93259859])"
            ]
          },
          "metadata": {},
          "execution_count": 158
        }
      ],
      "source": [
        "(predictions - 1.96 * error)[:10]"
      ]
    },
    {
      "cell_type": "code",
      "execution_count": 159,
      "metadata": {
        "colab": {
          "base_uri": "https://localhost:8080/"
        },
        "id": "ZqvmjOWb0IRk",
        "outputId": "db4097d8-7582-4643-e45f-ab0f14853f0a"
      },
      "outputs": [
        {
          "output_type": "stream",
          "name": "stdout",
          "text": [
            "predicted=4.863785, actual=4.872905\n",
            "predicted=4.872628, actual=4.818263\n",
            "predicted=4.817955, actual=4.808111\n",
            "predicted=4.807797, actual=4.765587\n",
            "predicted=4.765249, actual=4.820685\n",
            "predicted=4.820378, actual=4.804431\n",
            "predicted=4.804115, actual=4.803611\n",
            "predicted=4.803295, actual=4.794964\n",
            "predicted=4.794643, actual=4.798679\n",
            "predicted=4.798361, actual=4.794136\n",
            "predicted=4.793816, actual=4.819071\n",
            "predicted=4.818765, actual=4.722064\n",
            "predicted=4.721702, actual=4.679350\n",
            "predicted=4.678963, actual=4.709981\n",
            "predicted=4.709612, actual=4.705468\n",
            "predicted=4.705097, actual=4.790404\n",
            "predicted=4.790082, actual=4.756603\n",
            "predicted=4.756262, actual=4.738827\n",
            "predicted=4.738476, actual=4.759607\n",
            "predicted=4.759268, actual=4.724286\n",
            "predicted=4.723927, actual=4.695925\n",
            "predicted=4.695550, actual=4.771108\n",
            "predicted=4.770777, actual=4.797855\n",
            "predicted=4.797538, actual=4.803201\n",
            "predicted=4.802888, actual=4.900448\n",
            "predicted=4.900191, actual=4.851640\n",
            "predicted=4.851355, actual=4.864067\n",
            "predicted=4.863789, actual=4.856707\n",
            "predicted=4.856425, actual=4.804021\n",
            "predicted=4.803709, actual=4.801970\n",
            "predicted=4.801657, actual=4.821893\n",
            "predicted=4.821592, actual=4.892227\n",
            "predicted=4.891966, actual=4.851249\n",
            "predicted=4.850965, actual=4.874434\n",
            "predicted=4.874163, actual=4.812591\n",
            "predicted=4.812285, actual=4.824306\n",
            "predicted=4.824007, actual=4.786658\n",
            "predicted=4.786338, actual=4.766013\n",
            "predicted=4.765681, actual=4.747537\n",
            "predicted=4.747196, actual=4.807294\n",
            "predicted=4.806987, actual=4.784571\n",
            "predicted=4.784250, actual=4.766438\n",
            "predicted=4.766108, actual=4.794964\n",
            "predicted=4.794650, actual=4.760463\n",
            "predicted=4.760130, actual=4.798267\n"
          ]
        },
        {
          "output_type": "stream",
          "name": "stderr",
          "text": [
            "/usr/local/lib/python3.7/dist-packages/statsmodels/base/model.py:512: ConvergenceWarning: Maximum Likelihood optimization failed to converge. Check mle_retvals\n",
            "  \"Check mle_retvals\", ConvergenceWarning)\n",
            "/usr/local/lib/python3.7/dist-packages/statsmodels/base/model.py:512: ConvergenceWarning: Maximum Likelihood optimization failed to converge. Check mle_retvals\n",
            "  \"Check mle_retvals\", ConvergenceWarning)\n"
          ]
        },
        {
          "output_type": "stream",
          "name": "stdout",
          "text": [
            "predicted=4.797955, actual=4.850858\n",
            "predicted=4.850576, actual=4.843793\n",
            "predicted=4.843507, actual=4.835091\n",
            "predicted=4.834800, actual=4.938065\n",
            "predicted=4.937832, actual=4.918885\n",
            "predicted=4.918642, actual=4.880906\n",
            "predicted=4.880642, actual=4.887714\n",
            "predicted=4.887454, actual=4.894101\n",
            "predicted=4.893845, actual=4.843005\n",
            "predicted=4.842720, actual=4.995183\n",
            "predicted=4.994984, actual=5.150107\n",
            "predicted=5.149995, actual=5.146913\n",
            "predicted=5.146799, actual=5.180097\n",
            "predicted=5.180001, actual=5.165072\n",
            "predicted=5.164968, actual=5.148657\n",
            "predicted=5.148544, actual=5.147494\n",
            "predicted=5.147381, actual=5.161925\n",
            "predicted=5.161819, actual=5.144583\n",
            "predicted=5.144468, actual=5.130195\n",
            "predicted=5.130072, actual=5.147494\n",
            "predicted=5.147381, actual=5.139322\n",
            "predicted=5.139204, actual=5.118293\n",
            "predicted=5.118164, actual=5.127232\n",
            "predicted=5.127108, actual=5.136387\n",
            "predicted=5.136267, actual=5.122475\n",
            "predicted=5.122348, actual=5.120386\n",
            "predicted=5.120258, actual=5.100781\n",
            "predicted=5.100642, actual=5.089755\n",
            "predicted=5.089610, actual=5.112590\n",
            "predicted=5.112458, actual=5.096201\n",
            "predicted=5.096060, actual=5.111385\n",
            "predicted=5.111253, actual=5.104733\n",
            "predicted=5.104596, actual=5.084505\n",
            "predicted=5.084358, actual=5.081715\n",
            "predicted=5.081566, actual=5.063860\n",
            "predicted=5.063701, actual=5.132263\n",
            "predicted=5.132142, actual=5.112590\n",
            "predicted=5.112459, actual=5.084505\n",
            "predicted=5.084358, actual=5.078294\n",
            "predicted=5.078144, actual=5.073297\n",
            "predicted=5.073144, actual=5.086361\n",
            "predicted=5.086215, actual=5.155313\n",
            "predicted=5.155205, actual=5.174453\n",
            "predicted=5.174356, actual=5.164500\n",
            "predicted=5.164398, actual=5.194067\n",
            "predicted=5.193981, actual=5.163642\n",
            "predicted=5.163540, actual=5.188223\n",
            "predicted=5.188134, actual=5.170200\n",
            "predicted=5.170101, actual=5.170768\n",
            "predicted=5.170669, actual=5.167639\n",
            "predicted=5.167539, actual=5.162498\n",
            "predicted=5.162395, actual=5.171336\n",
            "predicted=5.171238, actual=5.213304\n",
            "predicted=5.213229, actual=5.221166\n",
            "predicted=5.221096, actual=5.217378\n",
            "predicted=5.217306, actual=5.266569\n",
            "predicted=5.266523, actual=5.252797\n",
            "predicted=5.252744, actual=5.223863\n",
            "predicted=5.223794, actual=5.218733\n",
            "predicted=5.218661, actual=5.207024\n",
            "predicted=5.206946, actual=5.257495\n",
            "predicted=5.257445, actual=5.279899\n",
            "predicted=5.279861, actual=5.279389\n",
            "predicted=5.279351, actual=5.277349\n",
            "predicted=5.277309, actual=5.300066\n",
            "predicted=5.300039, actual=5.285992\n",
            "predicted=5.285957, actual=5.284725\n",
            "predicted=5.284690, actual=5.273000\n",
            "predicted=5.272958, actual=5.254365\n",
            "predicted=5.254313, actual=5.223594\n",
            "predicted=5.223525, actual=5.238567\n",
            "predicted=5.238507, actual=5.228431\n",
            "predicted=5.228365, actual=5.205105\n",
            "predicted=5.205026, actual=5.171052\n",
            "predicted=5.170955, actual=5.236708\n",
            "predicted=5.236646, actual=5.226821\n",
            "predicted=5.226755, actual=5.173887\n",
            "predicted=5.173792, actual=5.098951\n",
            "predicted=5.098815, actual=5.110179\n",
            "predicted=5.110049, actual=5.213576\n",
            "predicted=5.213502, actual=5.186547\n",
            "predicted=5.186459, actual=5.156754\n",
            "predicted=5.156649, actual=5.129307\n",
            "predicted=5.129188, actual=5.134327\n",
            "predicted=5.134210, actual=5.141371\n",
            "predicted=5.141259, actual=5.132853\n",
            "predicted=5.132736, actual=5.130490\n",
            "predicted=5.130372, actual=5.130490\n",
            "predicted=5.130372, actual=5.085124\n",
            "predicted=5.084982, actual=5.062911\n",
            "predicted=5.062757, actual=5.065755\n"
          ]
        },
        {
          "output_type": "stream",
          "name": "stderr",
          "text": [
            "/usr/local/lib/python3.7/dist-packages/statsmodels/base/model.py:512: ConvergenceWarning: Maximum Likelihood optimization failed to converge. Check mle_retvals\n",
            "  \"Check mle_retvals\", ConvergenceWarning)\n",
            "/usr/local/lib/python3.7/dist-packages/statsmodels/base/model.py:512: ConvergenceWarning: Maximum Likelihood optimization failed to converge. Check mle_retvals\n",
            "  \"Check mle_retvals\", ConvergenceWarning)\n",
            "/usr/local/lib/python3.7/dist-packages/statsmodels/base/model.py:512: ConvergenceWarning: Maximum Likelihood optimization failed to converge. Check mle_retvals\n",
            "  \"Check mle_retvals\", ConvergenceWarning)\n",
            "/usr/local/lib/python3.7/dist-packages/statsmodels/base/model.py:512: ConvergenceWarning: Maximum Likelihood optimization failed to converge. Check mle_retvals\n",
            "  \"Check mle_retvals\", ConvergenceWarning)\n"
          ]
        },
        {
          "output_type": "stream",
          "name": "stdout",
          "text": [
            "predicted=5.065602, actual=5.014959\n",
            "predicted=5.014779, actual=5.009968\n",
            "predicted=5.009786, actual=4.973625\n",
            "predicted=4.973423, actual=4.978456\n",
            "predicted=4.978257, actual=4.859425\n",
            "predicted=4.859162, actual=4.831509\n",
            "predicted=4.831231, actual=4.870223\n",
            "predicted=4.869966, actual=4.837868\n",
            "predicted=4.837594, actual=4.834296\n",
            "predicted=4.834020, actual=4.737951\n",
            "predicted=4.737624, actual=4.660605\n",
            "predicted=4.660236, actual=4.594109\n",
            "predicted=4.593705, actual=4.477337\n",
            "predicted=4.476871, actual=4.497028\n",
            "predicted=4.496573, actual=4.418238\n",
            "predicted=4.417741, actual=4.356068\n",
            "predicted=4.355538, actual=4.324133\n",
            "predicted=4.323586, actual=4.289774\n",
            "predicted=4.289209, actual=4.347694\n",
            "predicted=4.347160, actual=4.192680\n",
            "predicted=4.192065, actual=4.227563\n",
            "predicted=4.226966, actual=4.252060\n",
            "predicted=4.251477, actual=4.259859\n",
            "predicted=4.259280, actual=4.258446\n",
            "predicted=4.257866, actual=4.221711\n",
            "predicted=4.221112, actual=4.263384\n",
            "predicted=4.262807, actual=4.218772\n",
            "predicted=4.218172, actual=4.178992\n",
            "predicted=4.178372, actual=4.208417\n",
            "predicted=4.207812, actual=4.213608\n",
            "predicted=4.213006, actual=4.312140\n",
            "predicted=4.311591, actual=4.307438\n",
            "predicted=4.306886, actual=4.289089\n",
            "predicted=4.288528, actual=4.312811\n",
            "predicted=4.312263, actual=4.341855\n",
            "predicted=4.341323, actual=4.387636\n",
            "predicted=4.387128, actual=4.312811\n",
            "predicted=4.312264, actual=4.329417\n",
            "predicted=4.328879, actual=4.326117\n",
            "predicted=4.325578, actual=4.306764\n",
            "predicted=4.306215, actual=4.320816\n",
            "predicted=4.320274, actual=4.343156\n",
            "predicted=4.342626, actual=4.358630\n",
            "predicted=4.358109, actual=4.535284\n",
            "predicted=4.534856, actual=4.429626\n",
            "predicted=4.429142, actual=4.393214\n",
            "predicted=4.392712, actual=4.421247\n",
            "predicted=4.420760, actual=4.412798\n",
            "predicted=4.412307, actual=4.395066\n",
            "predicted=4.394566, actual=4.455509\n",
            "predicted=4.455041, actual=4.456670\n",
            "predicted=4.456202, actual=4.468204\n",
            "predicted=4.467743, actual=4.428433\n",
            "predicted=4.427951, actual=4.434975\n",
            "predicted=4.434497, actual=4.390119\n",
            "predicted=4.389617, actual=4.404277\n",
            "predicted=4.403783, actual=4.424248\n",
            "predicted=4.423764, actual=4.432007\n",
            "predicted=4.431528, actual=4.416428\n",
            "predicted=4.415941, actual=4.420045\n",
            "predicted=4.419560, actual=4.437343\n",
            "predicted=4.436868, actual=4.465908\n",
            "predicted=4.465448, actual=4.465908\n",
            "predicted=4.465448, actual=4.494797\n",
            "predicted=4.494352, actual=4.569543\n",
            "predicted=4.569137, actual=4.592591\n",
            "predicted=4.592198, actual=4.590057\n",
            "predicted=4.589662, actual=4.707275\n",
            "predicted=4.706942, actual=4.748838\n",
            "predicted=4.748526, actual=4.713576\n"
          ]
        },
        {
          "output_type": "stream",
          "name": "stderr",
          "text": [
            "/usr/local/lib/python3.7/dist-packages/statsmodels/base/model.py:512: ConvergenceWarning: Maximum Likelihood optimization failed to converge. Check mle_retvals\n",
            "  \"Check mle_retvals\", ConvergenceWarning)\n",
            "/usr/local/lib/python3.7/dist-packages/statsmodels/base/model.py:512: ConvergenceWarning: Maximum Likelihood optimization failed to converge. Check mle_retvals\n",
            "  \"Check mle_retvals\", ConvergenceWarning)\n",
            "/usr/local/lib/python3.7/dist-packages/statsmodels/base/model.py:512: ConvergenceWarning: Maximum Likelihood optimization failed to converge. Check mle_retvals\n",
            "  \"Check mle_retvals\", ConvergenceWarning)\n"
          ]
        },
        {
          "output_type": "stream",
          "name": "stdout",
          "text": [
            "predicted=4.713246, actual=4.713127\n",
            "predicted=4.712797, actual=4.664853\n",
            "predicted=4.664498, actual=4.656813\n",
            "predicted=4.656455, actual=4.610158\n",
            "predicted=4.609775, actual=4.551242\n",
            "predicted=4.550829, actual=4.558079\n",
            "predicted=4.557669, actual=4.567987\n",
            "predicted=4.567583, actual=4.629863\n",
            "predicted=4.629491, actual=4.631325\n",
            "predicted=4.630954, actual=4.648230\n",
            "predicted=4.647868, actual=4.652054\n",
            "predicted=4.651694, actual=4.642466\n",
            "predicted=4.642102, actual=4.619073\n",
            "predicted=4.618697, actual=4.599655\n",
            "predicted=4.599269, actual=4.587515\n",
            "predicted=4.587123, actual=4.612642\n",
            "predicted=4.612263, actual=4.620551\n",
            "predicted=4.620177, actual=4.639088\n",
            "predicted=4.638723, actual=4.691348\n",
            "predicted=4.691010, actual=4.691807\n",
            "predicted=4.691469, actual=4.657288\n",
            "predicted=4.656933, actual=4.672361\n",
            "predicted=4.672014, actual=4.678421\n",
            "predicted=4.678077, actual=4.682131\n",
            "predicted=4.681789, actual=4.655388\n",
            "predicted=4.655032, actual=4.636669\n",
            "predicted=4.636304, actual=4.634243\n",
            "predicted=4.633878, actual=4.667206\n",
            "predicted=4.666857, actual=4.654436\n",
            "predicted=4.654081, actual=4.686289\n",
            "predicted=4.685950, actual=4.655388\n",
            "predicted=4.655034, actual=4.663911\n",
            "predicted=4.663561, actual=4.641984\n",
            "predicted=4.641623, actual=4.622027\n",
            "predicted=4.621656, actual=4.667675\n",
            "predicted=4.667328, actual=4.661078\n",
            "predicted=4.660727, actual=4.641020\n",
            "predicted=4.640659, actual=4.650621\n",
            "predicted=4.650266, actual=4.727830\n",
            "predicted=4.727514, actual=4.713576\n",
            "predicted=4.713253, actual=4.748404\n",
            "predicted=4.748099, actual=4.760463\n",
            "predicted=4.760164, actual=4.779963\n",
            "predicted=4.779674, actual=4.819071\n",
            "predicted=4.818802, actual=4.806477\n",
            "predicted=4.806202, actual=4.831110\n",
            "predicted=4.830847, actual=4.876342\n",
            "predicted=4.876102, actual=4.825109\n",
            "predicted=4.824843, actual=4.816646\n",
            "predicted=4.816376, actual=4.833102\n",
            "predicted=4.832841, actual=4.829513\n",
            "predicted=4.829250, actual=4.801559\n",
            "predicted=4.801282, actual=4.794964\n",
            "predicted=4.794684, actual=4.797442\n",
            "predicted=4.797163, actual=4.844974\n",
            "predicted=4.844720, actual=4.926529\n",
            "predicted=4.926315, actual=4.971548\n",
            "predicted=4.971357, actual=4.961445\n",
            "predicted=4.961250, actual=4.964242\n",
            "predicted=4.964048, actual=4.968423\n",
            "predicted=4.968232, actual=5.012633\n",
            "predicted=5.012464, actual=5.022893\n",
            "predicted=5.022729, actual=4.995860\n",
            "predicted=4.995682, actual=5.006627\n",
            "predicted=5.006455, actual=4.957938\n",
            "predicted=4.957741, actual=4.942356\n",
            "predicted=4.942152, actual=4.964940\n",
            "predicted=4.964747, actual=4.971894\n",
            "predicted=4.971705, actual=5.000922\n",
            "predicted=5.000747, actual=4.999911\n"
          ]
        },
        {
          "output_type": "stream",
          "name": "stderr",
          "text": [
            "/usr/local/lib/python3.7/dist-packages/statsmodels/base/model.py:512: ConvergenceWarning: Maximum Likelihood optimization failed to converge. Check mle_retvals\n",
            "  \"Check mle_retvals\", ConvergenceWarning)\n"
          ]
        },
        {
          "output_type": "stream",
          "name": "stdout",
          "text": [
            "predicted=4.999736, actual=5.020256\n",
            "predicted=5.020091, actual=4.994845\n",
            "predicted=4.994667, actual=4.996536\n",
            "predicted=4.996360, actual=4.923260\n",
            "predicted=4.923047, actual=4.891101\n",
            "predicted=4.890872, actual=4.878246\n",
            "predicted=4.878011, actual=4.810557\n",
            "predicted=4.810288, actual=4.846154\n",
            "predicted=4.845903, actual=4.889221\n",
            "predicted=4.888991, actual=4.880527\n",
            "predicted=4.880293, actual=4.892602\n",
            "predicted=4.892375, actual=4.894101\n",
            "predicted=4.893875, actual=4.897093\n",
            "predicted=4.896868, actual=4.975008\n",
            "predicted=4.974822, actual=4.948760\n",
            "predicted=4.948561, actual=4.948405\n",
            "predicted=4.948206, actual=4.930509\n",
            "predicted=4.930301, actual=4.911919\n",
            "predicted=4.911702, actual=4.898586\n",
            "predicted=4.898362, actual=4.872905\n",
            "predicted=4.872668, actual=4.843793\n",
            "predicted=4.843543, actual=4.850075\n",
            "predicted=4.849828, actual=4.853981\n",
            "predicted=4.853736, actual=4.864838\n",
            "predicted=4.864599, actual=4.869456\n",
            "predicted=4.869218, actual=4.894101\n",
            "predicted=4.893876, actual=4.919981\n",
            "predicted=4.919769, actual=4.895598\n",
            "predicted=4.895374, actual=4.910078\n",
            "predicted=4.909861, actual=4.903792\n",
            "predicted=4.903572, actual=4.882044\n",
            "predicted=4.881814, actual=4.887714\n",
            "predicted=4.887486, actual=4.889221\n",
            "predicted=4.888994, actual=4.898586\n",
            "predicted=4.898364, actual=4.911919\n",
            "predicted=4.911704, actual=4.924714\n",
            "predicted=4.924505, actual=4.934474\n",
            "predicted=4.934270, actual=4.948760\n",
            "predicted=4.948563, actual=4.983607\n",
            "predicted=4.983427, actual=5.016949\n",
            "predicted=5.016785, actual=5.018603\n",
            "predicted=5.018441, actual=4.986001\n",
            "predicted=4.985823, actual=5.002939\n",
            "predicted=5.002769, actual=5.062595\n",
            "predicted=5.062454, actual=5.156178\n",
            "predicted=5.156083, actual=5.123666\n",
            "predicted=5.123556, actual=5.130490\n",
            "predicted=5.130383, actual=5.139908\n",
            "predicted=5.139805, actual=5.147785\n",
            "predicted=5.147686, actual=5.144292\n",
            "predicted=5.144191, actual=5.157617\n",
            "predicted=5.157524, actual=5.194899\n"
          ]
        },
        {
          "output_type": "stream",
          "name": "stderr",
          "text": [
            "/usr/local/lib/python3.7/dist-packages/statsmodels/base/model.py:512: ConvergenceWarning: Maximum Likelihood optimization failed to converge. Check mle_retvals\n",
            "  \"Check mle_retvals\", ConvergenceWarning)\n"
          ]
        },
        {
          "output_type": "stream",
          "name": "stdout",
          "text": [
            "predicted=5.194824, actual=5.191567\n",
            "predicted=5.191490, actual=5.212760\n",
            "predicted=5.212693, actual=5.219545\n",
            "predicted=5.219481, actual=5.215751\n",
            "predicted=5.215685, actual=5.212487\n",
            "predicted=5.212420, actual=5.202907\n",
            "predicted=5.202836, actual=5.207845\n",
            "predicted=5.207776, actual=5.179534\n",
            "predicted=5.179451, actual=5.186547\n",
            "predicted=5.186468, actual=5.179815\n",
            "predicted=5.179733, actual=5.186827\n",
            "predicted=5.186748, actual=5.207024\n"
          ]
        },
        {
          "output_type": "stream",
          "name": "stderr",
          "text": [
            "/usr/local/lib/python3.7/dist-packages/statsmodels/base/model.py:512: ConvergenceWarning: Maximum Likelihood optimization failed to converge. Check mle_retvals\n",
            "  \"Check mle_retvals\", ConvergenceWarning)\n"
          ]
        },
        {
          "output_type": "stream",
          "name": "stdout",
          "text": [
            "predicted=5.206955, actual=5.202357\n",
            "predicted=5.202285, actual=5.196008\n",
            "predicted=5.195933, actual=5.103214\n",
            "predicted=5.103095, actual=5.105642\n",
            "predicted=5.105524, actual=5.131081\n",
            "predicted=5.130976, actual=5.170200\n",
            "predicted=5.170113, actual=5.227627\n",
            "predicted=5.227568, actual=5.211942\n",
            "predicted=5.211876, actual=5.215751\n",
            "predicted=5.215686, actual=5.214120\n",
            "predicted=5.214055, actual=5.228431\n",
            "predicted=5.228373, actual=5.253843\n",
            "predicted=5.253797, actual=5.263726\n",
            "predicted=5.263684, actual=5.275049\n",
            "predicted=5.275013, actual=5.281934\n",
            "predicted=5.281901, actual=5.289024\n",
            "predicted=5.288995, actual=5.396578\n",
            "predicted=5.396600, actual=5.471430\n",
            "predicted=5.471488, actual=5.491414\n",
            "predicted=5.491482, actual=5.501666\n",
            "predicted=5.501739, actual=5.561835\n",
            "predicted=5.561936, actual=5.505128\n",
            "predicted=5.505203, actual=5.555476\n",
            "predicted=5.555574, actual=5.616407\n",
            "predicted=5.616535, actual=5.671948\n"
          ]
        },
        {
          "output_type": "stream",
          "name": "stderr",
          "text": [
            "/usr/local/lib/python3.7/dist-packages/statsmodels/base/model.py:512: ConvergenceWarning: Maximum Likelihood optimization failed to converge. Check mle_retvals\n",
            "  \"Check mle_retvals\", ConvergenceWarning)\n"
          ]
        },
        {
          "output_type": "stream",
          "name": "stdout",
          "text": [
            "predicted=5.672102, actual=5.667637\n",
            "predicted=5.667789, actual=5.631749\n",
            "predicted=5.631884, actual=5.589120\n",
            "predicted=5.589234, actual=5.586499\n",
            "predicted=5.586612, actual=5.571013\n",
            "predicted=5.571118, actual=5.633360\n",
            "predicted=5.633495, actual=5.774552\n",
            "predicted=5.774754, actual=5.802118\n",
            "predicted=5.802334, actual=5.787357\n",
            "predicted=5.787566, actual=5.755426\n",
            "predicted=5.755619, actual=5.816962\n",
            "predicted=5.817185, actual=5.783979\n",
            "predicted=5.784186, actual=5.795754\n",
            "predicted=5.795966, actual=5.783825\n",
            "predicted=5.784032, actual=5.785055\n",
            "predicted=5.785262, actual=5.809193\n",
            "predicted=5.809411, actual=5.796666\n",
            "predicted=5.796878, actual=5.799547\n",
            "predicted=5.799761, actual=5.780280\n",
            "predicted=5.780485, actual=5.742522\n",
            "predicted=5.742709, actual=5.718671\n",
            "predicted=5.718846, actual=5.780744\n",
            "predicted=5.780948, actual=5.773464\n",
            "predicted=5.773665, actual=5.808593\n",
            "predicted=5.808810, actual=5.777498\n",
            "predicted=5.777700, actual=5.793928\n",
            "predicted=5.794138, actual=5.845716\n",
            "predicted=5.845950, actual=5.853638\n",
            "predicted=5.853876, actual=5.826590\n",
            "predicted=5.826815, actual=5.784287\n",
            "predicted=5.784492, actual=5.772220\n",
            "predicted=5.772419, actual=5.753207\n",
            "predicted=5.753398, actual=5.772842\n",
            "predicted=5.773041, actual=5.760635\n",
            "predicted=5.760829, actual=5.763779\n",
            "predicted=5.763974, actual=5.768165\n",
            "predicted=5.768362, actual=5.722931\n",
            "predicted=5.723107, actual=5.726848\n",
            "predicted=5.727025, actual=5.733179\n",
            "predicted=5.733360, actual=5.713898\n",
            "predicted=5.714069, actual=5.728150\n",
            "predicted=5.728327, actual=5.685109\n",
            "predicted=5.685267, actual=5.654417\n",
            "predicted=5.654560, actual=5.691710\n",
            "predicted=5.691870, actual=5.693900\n",
            "predicted=5.694062, actual=5.709765\n",
            "predicted=5.709933, actual=5.729288\n",
            "predicted=5.729465, actual=5.720476\n",
            "predicted=5.720649, actual=5.729288\n",
            "predicted=5.729465, actual=5.729450\n",
            "predicted=5.729628, actual=5.749234\n",
            "predicted=5.749420, actual=5.762680\n",
            "predicted=5.762873, actual=5.657913\n",
            "predicted=5.658057, actual=5.713238\n",
            "predicted=5.713407, actual=5.715382\n",
            "predicted=5.715552, actual=5.736572\n",
            "predicted=5.736753, actual=5.708438\n",
            "predicted=5.708605, actual=5.697261\n",
            "predicted=5.697423, actual=5.685449\n",
            "predicted=5.685605, actual=5.683580\n",
            "predicted=5.683735, actual=5.688330\n",
            "predicted=5.688488, actual=5.708770\n",
            "predicted=5.708937, actual=5.723258\n",
            "predicted=5.723432, actual=5.710096\n",
            "predicted=5.710263, actual=5.683069\n",
            "predicted=5.683224, actual=5.680173\n",
            "predicted=5.680326, actual=5.667983\n",
            "predicted=5.668130, actual=5.675040\n",
            "predicted=5.675191, actual=5.707940\n",
            "predicted=5.708106, actual=5.712907\n",
            "predicted=5.713076, actual=5.752096\n",
            "predicted=5.752283, actual=5.754317\n",
            "predicted=5.754504, actual=5.786897\n",
            "predicted=5.787100, actual=5.743804\n",
            "predicted=5.743986, actual=5.771753\n",
            "predicted=5.771948, actual=5.806490\n",
            "predicted=5.806700, actual=5.750825\n",
            "predicted=5.751010, actual=5.729125\n",
            "predicted=5.729300, actual=5.746523\n",
            "predicted=5.746706, actual=5.742522\n",
            "predicted=5.742703, actual=5.753366\n",
            "predicted=5.753552, actual=5.754159\n",
            "predicted=5.754345, actual=5.763936\n",
            "predicted=5.764127, actual=5.764407\n",
            "predicted=5.764598, actual=5.764407\n",
            "predicted=5.764598, actual=5.762366\n",
            "predicted=5.762556, actual=5.777652\n",
            "predicted=5.777849, actual=5.785823\n",
            "predicted=5.786023, actual=5.813981\n",
            "predicted=5.814194, actual=5.844993\n",
            "predicted=5.845220, actual=5.865760\n",
            "predicted=5.865996, actual=5.838750\n",
            "predicted=5.838975, actual=5.842820\n",
            "predicted=5.843046, actual=5.860074\n",
            "predicted=5.860308, actual=5.874790\n",
            "predicted=5.875031, actual=5.865618\n",
            "predicted=5.865854, actual=5.856074\n",
            "predicted=5.856306, actual=5.845427\n",
            "predicted=5.845653, actual=5.821269\n",
            "predicted=5.821485, actual=5.812039\n",
            "predicted=5.812250, actual=5.822750\n",
            "predicted=5.822966, actual=5.814877\n",
            "predicted=5.815089, actual=5.813085\n",
            "predicted=5.813297, actual=5.827916\n",
            "predicted=5.828134, actual=5.837147\n",
            "predicted=5.837369, actual=5.833494\n",
            "predicted=5.833714, actual=5.827768\n",
            "predicted=5.827986, actual=5.841368\n",
            "predicted=5.841592, actual=5.843255\n",
            "predicted=5.843479, actual=5.846728\n",
            "predicted=5.846954, actual=5.758586\n",
            "predicted=5.758772, actual=5.759217\n",
            "predicted=5.759403, actual=5.724728\n",
            "predicted=5.724899, actual=5.724565\n",
            "predicted=5.724735, actual=5.728313\n",
            "predicted=5.728484, actual=5.739632\n",
            "predicted=5.739809, actual=5.735120\n",
            "predicted=5.735294, actual=5.737378\n",
            "predicted=5.737554, actual=5.740596\n",
            "predicted=5.740773, actual=5.732856\n",
            "predicted=5.733029, actual=5.710924\n",
            "predicted=5.711087, actual=5.712247\n",
            "predicted=5.712410, actual=5.688838\n",
            "predicted=5.688991, actual=5.680684\n",
            "predicted=5.680834, actual=5.674697\n",
            "predicted=5.674844, actual=5.650558\n",
            "predicted=5.650693, actual=5.679831\n",
            "predicted=5.679980, actual=5.683410\n",
            "predicted=5.683560, actual=5.693227\n",
            "predicted=5.693382, actual=5.716040\n",
            "predicted=5.716205, actual=5.697597\n"
          ]
        },
        {
          "output_type": "stream",
          "name": "stderr",
          "text": [
            "/usr/local/lib/python3.7/dist-packages/statsmodels/base/model.py:512: ConvergenceWarning: Maximum Likelihood optimization failed to converge. Check mle_retvals\n",
            "  \"Check mle_retvals\", ConvergenceWarning)\n"
          ]
        },
        {
          "output_type": "stream",
          "name": "stdout",
          "text": [
            "predicted=5.697753, actual=5.702782\n",
            "predicted=5.702941, actual=5.703949\n",
            "predicted=5.704108, actual=5.697429\n",
            "predicted=5.697585, actual=5.684260\n",
            "predicted=5.684410, actual=5.688500\n",
            "predicted=5.688652, actual=5.723585\n",
            "predicted=5.723753, actual=5.727662\n",
            "predicted=5.727831, actual=5.716040\n",
            "predicted=5.716205, actual=5.696086\n",
            "predicted=5.696242, actual=5.681366\n",
            "predicted=5.681515, actual=5.645800\n",
            "predicted=5.645933, actual=5.623837\n",
            "predicted=5.623960, actual=5.634075\n",
            "predicted=5.634202, actual=5.650382\n",
            "predicted=5.650516, actual=5.650030\n",
            "predicted=5.650164, actual=5.655117\n",
            "predicted=5.655254, actual=5.676583\n",
            "predicted=5.676729, actual=5.660527\n",
            "predicted=5.660666, actual=5.687822\n",
            "predicted=5.687973, actual=5.680684\n",
            "predicted=5.680832, actual=5.688838\n",
            "predicted=5.688989, actual=5.695246\n",
            "predicted=5.695400, actual=5.685619\n",
            "predicted=5.685768, actual=5.687822\n",
            "predicted=5.687973, actual=5.700276\n",
            "predicted=5.700433, actual=5.707775\n",
            "predicted=5.707934, actual=5.723912\n",
            "predicted=5.724078, actual=5.742843\n",
            "predicted=5.743018, actual=5.741881\n",
            "predicted=5.742055, actual=5.732046\n",
            "predicted=5.732216, actual=5.700276\n",
            "predicted=5.700432, actual=5.710261\n",
            "predicted=5.710422, actual=5.736895\n",
            "predicted=5.737067, actual=5.772998\n",
            "predicted=5.773185, actual=5.761894\n",
            "predicted=5.762077, actual=5.804080\n",
            "predicted=5.804282, actual=5.796969\n",
            "predicted=5.797167, actual=5.799850\n",
            "predicted=5.800049, actual=5.809193\n",
            "predicted=5.809396, actual=5.809043\n",
            "predicted=5.809246, actual=5.834811\n",
            "predicted=5.835025, actual=5.843400\n",
            "predicted=5.843618, actual=5.817260\n",
            "predicted=5.817467, actual=5.930918\n",
            "predicted=5.931175, actual=5.947904\n",
            "predicted=5.948169, actual=6.030084\n",
            "predicted=6.030384, actual=6.042276\n",
            "predicted=6.042582, actual=6.228314\n",
            "predicted=6.228701, actual=6.209797\n",
            "predicted=6.210176, actual=6.233626\n",
            "predicted=6.234016, actual=6.177737\n",
            "predicted=6.178101, actual=6.188059\n",
            "predicted=6.188428, actual=6.230481\n",
            "predicted=6.230869, actual=6.196240\n",
            "predicted=6.196613, actual=6.173578\n",
            "predicted=6.173940, actual=6.231760\n",
            "predicted=6.232148, actual=6.210399\n",
            "predicted=6.210777, actual=6.175971\n",
            "predicted=6.176334, actual=6.181465\n",
            "predicted=6.181830, actual=6.185591"
          ]
        },
        {
          "output_type": "stream",
          "name": "stderr",
          "text": [
            "/usr/local/lib/python3.7/dist-packages/statsmodels/base/model.py:512: ConvergenceWarning: Maximum Likelihood optimization failed to converge. Check mle_retvals\n",
            "  \"Check mle_retvals\", ConvergenceWarning)\n"
          ]
        },
        {
          "output_type": "stream",
          "name": "stdout",
          "text": [
            "\n",
            "predicted=6.185958, actual=6.190008\n",
            "predicted=6.190376, actual=6.183943\n",
            "predicted=6.184308, actual=6.193793\n",
            "predicted=6.194163, actual=6.217404\n",
            "predicted=6.217784, actual=6.233724\n",
            "predicted=6.234111, actual=6.235880\n",
            "predicted=6.236268, actual=6.221484\n",
            "predicted=6.221866, actual=6.228610\n",
            "predicted=6.228994, actual=6.225449\n",
            "predicted=6.225832, actual=6.252000\n",
            "predicted=6.252394, actual=6.273160\n",
            "predicted=6.273563, actual=6.233822\n",
            "predicted=6.234208, actual=6.186414\n",
            "predicted=6.186779, actual=6.205567\n",
            "predicted=6.205941, actual=6.191646\n",
            "predicted=6.192013, actual=6.200002\n",
            "predicted=6.200372, actual=6.131661\n",
            "predicted=6.132002, actual=6.134374\n",
            "predicted=6.134715, actual=6.128178\n",
            "predicted=6.128517, actual=6.163841\n",
            "predicted=6.164195, actual=6.171909\n",
            "predicted=6.172267, actual=6.173994\n",
            "predicted=6.174353, actual=6.146757\n",
            "predicted=6.147104, actual=6.177529\n",
            "predicted=6.177888, actual=6.202333\n",
            "predicted=6.202703, actual=6.202434\n",
            "predicted=6.202804, actual=6.203446\n",
            "predicted=6.203816, actual=6.205265\n",
            "predicted=6.205635, actual=6.193180\n",
            "predicted=6.193546, actual=6.197767\n",
            "predicted=6.198134, actual=6.198377\n",
            "predicted=6.198744, actual=6.153158\n",
            "predicted=6.153506, actual=6.102670\n",
            "predicted=6.102996, actual=6.117216\n",
            "predicted=6.117547, actual=6.153796\n",
            "predicted=6.154143, actual=6.157720\n",
            "predicted=6.158069, actual=6.147613\n",
            "predicted=6.147958, actual=6.155177\n",
            "predicted=6.155524, actual=6.174203\n",
            "predicted=6.174558, actual=6.165418\n",
            "predicted=6.165770, actual=6.153583\n",
            "predicted=6.153930, actual=6.178774\n",
            "predicted=6.179131, actual=6.209797\n",
            "predicted=6.210167, actual=6.193589\n",
            "predicted=6.193952, actual=6.193895\n",
            "predicted=6.194258, actual=6.192056\n",
            "predicted=6.192418, actual=6.195629\n",
            "predicted=6.195993, actual=6.221981\n",
            "predicted=6.222356, actual=6.217205\n",
            "predicted=6.217577, actual=6.229004\n",
            "predicted=6.229381, actual=6.238227\n",
            "predicted=6.238608, actual=6.234215\n",
            "predicted=6.234594, actual=6.263398\n",
            "predicted=6.263790, actual=6.235978\n",
            "predicted=6.236358, actual=6.255462\n",
            "predicted=6.255850, actual=6.245525\n",
            "predicted=6.245909, actual=6.218301\n",
            "predicted=6.218673, actual=6.170552\n",
            "predicted=6.170903, actual=6.195527\n",
            "predicted=6.195889, actual=6.203345\n",
            "predicted=6.203710, actual=6.209193\n",
            "predicted=6.209561, actual=6.249493\n",
            "predicted=6.249877, actual=6.223171\n",
            "predicted=6.223544, actual=6.227327\n",
            "predicted=6.227701, actual=6.223568\n",
            "predicted=6.223941, actual=6.215807\n"
          ]
        },
        {
          "output_type": "stream",
          "name": "stderr",
          "text": [
            "/usr/local/lib/python3.7/dist-packages/statsmodels/base/model.py:512: ConvergenceWarning: Maximum Likelihood optimization failed to converge. Check mle_retvals\n",
            "  \"Check mle_retvals\", ConvergenceWarning)\n",
            "/usr/local/lib/python3.7/dist-packages/statsmodels/base/model.py:512: ConvergenceWarning: Maximum Likelihood optimization failed to converge. Check mle_retvals\n",
            "  \"Check mle_retvals\", ConvergenceWarning)\n"
          ]
        },
        {
          "output_type": "stream",
          "name": "stdout",
          "text": [
            "predicted=6.216177, actual=6.203749\n",
            "predicted=6.204113, actual=6.200002\n",
            "predicted=6.200364, actual=6.217105\n",
            "predicted=6.217474, actual=6.229398\n",
            "predicted=6.229773, actual=6.212305\n",
            "predicted=6.212672, actual=6.155813\n",
            "predicted=6.156156, actual=6.222576\n",
            "predicted=6.222947, actual=6.211503\n",
            "predicted=6.211869, actual=6.214508\n",
            "predicted=6.214875, actual=6.200813\n",
            "predicted=6.201175, actual=6.203446\n",
            "predicted=6.203808, actual=6.170134\n",
            "predicted=6.170482, actual=6.167516\n",
            "predicted=6.167863, actual=6.059006\n",
            "predicted=6.059307, actual=6.130683\n",
            "predicted=6.131014, actual=6.118207\n",
            "predicted=6.118533, actual=6.103900\n",
            "predicted=6.104219, actual=6.080162\n",
            "predicted=6.080471, actual=6.033686\n",
            "predicted=6.033975, actual=5.976351\n",
            "predicted=5.976616, actual=5.970624\n",
            "predicted=5.970886, actual=6.006107\n",
            "predicted=6.006384, actual=6.039302\n",
            "predicted=6.039593, actual=6.035840\n",
            "predicted=6.036130, actual=6.020295\n",
            "predicted=6.020578, actual=6.025020\n",
            "predicted=6.025305, actual=6.051854\n",
            "predicted=6.052150, actual=6.072584\n",
            "predicted=6.072888, actual=6.059006\n",
            "predicted=6.059305, actual=6.087570\n",
            "predicted=6.087880, actual=6.077183\n",
            "predicted=6.077489, actual=6.071200\n",
            "predicted=6.071503, actual=6.068657\n",
            "predicted=6.068959, actual=6.070045\n",
            "predicted=6.070347, actual=6.072353\n",
            "predicted=6.072657, actual=6.076839\n",
            "predicted=6.077144, actual=6.072468\n",
            "predicted=6.072772, actual=6.089385\n",
            "predicted=6.089695, actual=6.101999\n",
            "predicted=6.102315, actual=6.126978\n",
            "predicted=6.127304, actual=6.122822\n",
            "predicted=6.123146, actual=6.108136\n",
            "predicted=6.108453, actual=6.113793\n",
            "predicted=6.114113, actual=6.113793\n",
            "predicted=6.114113, actual=6.082904\n",
            "predicted=6.083210, actual=6.066224\n",
            "predicted=6.066524, actual=6.072584\n",
            "predicted=6.072886, actual=6.051972\n",
            "predicted=6.052265, actual=6.088024\n",
            "predicted=6.088332, actual=6.104905\n",
            "predicted=6.105220, actual=6.084158\n",
            "predicted=6.084464, actual=6.052442\n",
            "predicted=6.052735, actual=6.075116\n",
            "predicted=6.075419, actual=6.064366\n",
            "predicted=6.064664, actual=6.077757\n",
            "predicted=6.078060, actual=6.081305\n",
            "predicted=6.081610, actual=6.070391\n",
            "predicted=6.070691, actual=6.048554\n",
            "predicted=6.048844, actual=6.055143\n",
            "predicted=6.055437, actual=6.012614\n",
            "predicted=6.012890, actual=6.001291\n",
            "predicted=6.001562, actual=5.970624\n",
            "predicted=5.970882, actual=5.961392\n",
            "predicted=5.961646, actual=5.919700\n",
            "predicted=5.919936, actual=6.002157\n",
            "predicted=6.002428, actual=6.004751\n",
            "predicted=6.005023, actual=6.050087\n",
            "predicted=6.050377, actual=6.028640\n",
            "predicted=6.028921, actual=5.988084\n",
            "predicted=5.988348, actual=6.035481\n",
            "predicted=6.035765, actual=6.043701\n",
            "predicted=6.043988, actual=6.053852\n",
            "predicted=6.054144, actual=6.033086\n",
            "predicted=6.033369, actual=6.041801\n",
            "predicted=6.042087, actual=6.062855\n",
            "predicted=6.063149, actual=6.092214\n",
            "predicted=6.092521, actual=6.094811\n",
            "predicted=6.095118, actual=6.097175\n",
            "predicted=6.097483, actual=6.084841\n",
            "predicted=6.085144, actual=6.068194\n",
            "predicted=6.068490, actual=6.069235\n",
            "predicted=6.069532, actual=6.077298\n",
            "predicted=6.077598, actual=6.076839\n",
            "predicted=6.077139, actual=6.060291\n",
            "predicted=6.060583, actual=6.059240\n",
            "predicted=6.059532, actual=6.008076\n",
            "predicted=6.008347, actual=6.004257\n",
            "predicted=6.004526, actual=6.026108\n",
            "predicted=6.026385, actual=5.973682\n",
            "predicted=5.973939, actual=5.963451\n",
            "predicted=5.963703, actual=5.947251\n",
            "predicted=5.947497, actual=5.985446\n",
            "predicted=5.985707, actual=5.974064\n",
            "predicted=5.974320, actual=6.009304\n",
            "predicted=6.009575, actual=6.014448\n",
            "predicted=6.014721, actual=6.027073\n",
            "predicted=6.027350, actual=6.033326\n",
            "predicted=6.033606, actual=6.032966\n",
            "predicted=6.033246, actual=6.020538\n",
            "predicted=6.020812, actual=6.022721\n",
            "predicted=6.022996, actual=6.012370\n",
            "predicted=6.012640, actual=6.021023\n",
            "predicted=6.021298, actual=6.031526\n",
            "predicted=6.031805, actual=6.065760\n",
            "predicted=6.066052, actual=6.090291\n",
            "predicted=6.090593, actual=6.080048\n",
            "predicted=6.080345, actual=6.065063\n",
            "predicted=6.065355, actual=6.057018\n",
            "predicted=6.057306, actual=6.059240\n",
            "predicted=6.059529, actual=6.087229\n",
            "predicted=6.087530, actual=6.111246\n",
            "predicted=6.111556, actual=6.107134\n",
            "predicted=6.107442, actual=6.116885\n",
            "predicted=6.117197, actual=6.119968\n",
            "predicted=6.120281, actual=6.120078\n",
            "predicted=6.120391, actual=6.108247\n",
            "predicted=6.108555, actual=6.089385\n",
            "predicted=6.089685, actual=6.095937\n",
            "Test RMSE: 0.034\n"
          ]
        }
      ],
      "source": [
        "from sklearn.metrics import mean_squared_error\n",
        "\n",
        "x = y.values\n",
        "train_size = int(len(x) * 0.7)\n",
        "train, test = x[0:train_size], x[train_size:]\n",
        "history = [x for x in train]\n",
        "predictions = []\n",
        "for t in range(len(test)):\n",
        "    model = ARIMA(history, order=(p, d, q))\n",
        "    model_fit = model.fit(disp=0)\n",
        "    output = model_fit.forecast()\n",
        "    yhat = output[0][0]\n",
        "    predictions.append(yhat)\n",
        "    obs = test[t]\n",
        "    history.append(obs)\n",
        "    print('predicted=%f, actual=%f' % (yhat, obs))\n",
        "error = mean_squared_error(test, predictions)\n",
        "print('Test RMSE: %.3f' % np.sqrt(error))"
      ]
    },
    {
      "cell_type": "code",
      "source": [
        "print('Test RMSE: %.3f' % np.sqrt(error))"
      ],
      "metadata": {
        "colab": {
          "base_uri": "https://localhost:8080/"
        },
        "id": "-vwT4VT1vFir",
        "outputId": "356d928f-abce-4490-b250-d76f23930cb5"
      },
      "execution_count": 160,
      "outputs": [
        {
          "output_type": "stream",
          "name": "stdout",
          "text": [
            "Test RMSE: 0.034\n"
          ]
        }
      ]
    },
    {
      "cell_type": "code",
      "execution_count": 161,
      "metadata": {
        "colab": {
          "base_uri": "https://localhost:8080/",
          "height": 445
        },
        "id": "SI5lrX-l2JSn",
        "outputId": "9c5c11ba-0ff9-4409-8a1e-0ce57e559c02"
      },
      "outputs": [
        {
          "output_type": "display_data",
          "data": {
            "text/plain": [
              "<Figure size 1296x504 with 1 Axes>"
            ],
            "image/png": "[encoded data removed]"
          },
          "metadata": {
            "needs_background": "light"
          }
        }
      ],
      "source": [
        "plt.figure(figsize=(18,7))\n",
        "fig=plt.figure(1)\n",
        "plt.plot(test,color='blue',label='Actual')\n",
        "plt.plot(predictions, color='red', label='Predicted')\n",
        "plt.legend(loc = 'best')\n",
        "plt.title('Actual VS Predicted')\n",
        "plt.show(block = False)"
      ]
    },
    {
      "cell_type": "code",
      "execution_count": 173,
      "metadata": {
        "colab": {
          "base_uri": "https://localhost:8080/",
          "height": 455
        },
        "id": "hod05r2Q2Xbw",
        "outputId": "41bc37ff-5b1a-48e2-bebf-bf61c65b1f2b"
      },
      "outputs": [
        {
          "output_type": "execute_result",
          "data": {
            "text/plain": [
              "                actual  prediction\n",
              "Date                              \n",
              "2019-08-02  130.699997  129.513478\n",
              "2019-08-05  123.750000  130.663838\n",
              "2019-08-06  122.500000  123.711865\n",
              "2019-08-07  117.400002  122.461552\n",
              "2019-08-08  124.050003  117.360286\n",
              "...                ...         ...\n",
              "2022-07-21  454.850006  453.591523\n",
              "2022-07-22  454.899994  454.992467\n",
              "2022-07-25  449.549988  455.042433\n",
              "2022-07-26  441.149994  449.688532\n",
              "2022-07-27  444.049988  441.282514\n",
              "\n",
              "[740 rows x 2 columns]"
            ],
            "text/html": [
              "\n",
              "  <div id=\"df-05591c23-8ff7-493b-9727-5498e5b0359e\">\n",
              "    <div class=\"colab-df-container\">\n",
              "      <div>\n",
              "<style scoped>\n",
              "    .dataframe tbody tr th:only-of-type {\n",
              "        vertical-align: middle;\n",
              "    }\n",
              "\n",
              "    .dataframe tbody tr th {\n",
              "        vertical-align: top;\n",
              "    }\n",
              "\n",
              "    .dataframe thead th {\n",
              "        text-align: right;\n",
              "    }\n",
              "</style>\n",
              "<table border=\"1\" class=\"dataframe\">\n",
              "  <thead>\n",
              "    <tr style=\"text-align: right;\">\n",
              "      <th></th>\n",
              "      <th>actual</th>\n",
              "      <th>prediction</th>\n",
              "    </tr>\n",
              "    <tr>\n",
              "      <th>Date</th>\n",
              "      <th></th>\n",
              "      <th></th>\n",
              "    </tr>\n",
              "  </thead>\n",
              "  <tbody>\n",
              "    <tr>\n",
              "      <th>2019-08-02</th>\n",
              "      <td>130.699997</td>\n",
              "      <td>129.513478</td>\n",
              "    </tr>\n",
              "    <tr>\n",
              "      <th>2019-08-05</th>\n",
              "      <td>123.750000</td>\n",
              "      <td>130.663838</td>\n",
              "    </tr>\n",
              "    <tr>\n",
              "      <th>2019-08-06</th>\n",
              "      <td>122.500000</td>\n",
              "      <td>123.711865</td>\n",
              "    </tr>\n",
              "    <tr>\n",
              "      <th>2019-08-07</th>\n",
              "      <td>117.400002</td>\n",
              "      <td>122.461552</td>\n",
              "    </tr>\n",
              "    <tr>\n",
              "      <th>2019-08-08</th>\n",
              "      <td>124.050003</td>\n",
              "      <td>117.360286</td>\n",
              "    </tr>\n",
              "    <tr>\n",
              "      <th>...</th>\n",
              "      <td>...</td>\n",
              "      <td>...</td>\n",
              "    </tr>\n",
              "    <tr>\n",
              "      <th>2022-07-21</th>\n",
              "      <td>454.850006</td>\n",
              "      <td>453.591523</td>\n",
              "    </tr>\n",
              "    <tr>\n",
              "      <th>2022-07-22</th>\n",
              "      <td>454.899994</td>\n",
              "      <td>454.992467</td>\n",
              "    </tr>\n",
              "    <tr>\n",
              "      <th>2022-07-25</th>\n",
              "      <td>449.549988</td>\n",
              "      <td>455.042433</td>\n",
              "    </tr>\n",
              "    <tr>\n",
              "      <th>2022-07-26</th>\n",
              "      <td>441.149994</td>\n",
              "      <td>449.688532</td>\n",
              "    </tr>\n",
              "    <tr>\n",
              "      <th>2022-07-27</th>\n",
              "      <td>444.049988</td>\n",
              "      <td>441.282514</td>\n",
              "    </tr>\n",
              "  </tbody>\n",
              "</table>\n",
              "<p>740 rows × 2 columns</p>\n",
              "</div>\n",
              "      <button class=\"colab-df-convert\" onclick=\"convertToInteractive('df-05591c23-8ff7-493b-9727-5498e5b0359e')\"\n",
              "              title=\"Convert this dataframe to an interactive table.\"\n",
              "              style=\"display:none;\">\n",
              "        \n",
              "  <svg xmlns=\"http://www.w3.org/2000/svg\" height=\"24px\"viewBox=\"0 0 24 24\"\n",
              "       width=\"24px\">\n",
              "    <path d=\"M0 0h24v24H0V0z\" fill=\"none\"/>\n",
              "    <path d=\"M18.56 5.44l.94 2.06.94-2.06 2.06-.94-2.06-.94-.94-2.06-.94 2.06-2.06.94zm-11 1L8.5 8.5l.94-2.06 2.06-.94-2.06-.94L8.5 2.5l-.94 2.06-2.06.94zm10 10l.94 2.06.94-2.06 2.06-.94-2.06-.94-.94-2.06-.94 2.06-2.06.94z\"/><path d=\"M17.41 7.96l-1.37-1.37c-.4-.4-.92-.59-1.43-.59-.52 0-1.04.2-1.43.59L10.3 9.45l-7.72 7.72c-.78.78-.78 2.05 0 2.83L4 21.41c.39.39.9.59 1.41.59.51 0 1.02-.2 1.41-.59l7.78-7.78 2.81-2.81c.8-.78.8-2.07 0-2.86zM5.41 20L4 18.59l7.72-7.72 1.47 1.35L5.41 20z\"/>\n",
              "  </svg>\n",
              "      </button>\n",
              "      \n",
              "  <style>\n",
              "    .colab-df-container {\n",
              "      display:flex;\n",
              "      flex-wrap:wrap;\n",
              "      gap: 12px;\n",
              "    }\n",
              "\n",
              "    .colab-df-convert {\n",
              "      background-color: #E8F0FE;\n",
              "      border: none;\n",
              "      border-radius: 50%;\n",
              "      cursor: pointer;\n",
              "      display: none;\n",
              "      fill: #1967D2;\n",
              "      height: 32px;\n",
              "      padding: 0 0 0 0;\n",
              "      width: 32px;\n",
              "    }\n",
              "\n",
              "    .colab-df-convert:hover {\n",
              "      background-color: #E2EBFA;\n",
              "      box-shadow: 0px 1px 2px rgba(60, 64, 67, 0.3), 0px 1px 3px 1px rgba(60, 64, 67, 0.15);\n",
              "      fill: #174EA6;\n",
              "    }\n",
              "\n",
              "    [theme=dark] .colab-df-convert {\n",
              "      background-color: #3B4455;\n",
              "      fill: #D2E3FC;\n",
              "    }\n",
              "\n",
              "    [theme=dark] .colab-df-convert:hover {\n",
              "      background-color: #434B5C;\n",
              "      box-shadow: 0px 1px 3px 1px rgba(0, 0, 0, 0.15);\n",
              "      filter: drop-shadow(0px 1px 2px rgba(0, 0, 0, 0.3));\n",
              "      fill: #FFFFFF;\n",
              "    }\n",
              "  </style>\n",
              "\n",
              "      <script>\n",
              "        const buttonEl =\n",
              "          document.querySelector('#df-05591c23-8ff7-493b-9727-5498e5b0359e button.colab-df-convert');\n",
              "        buttonEl.style.display =\n",
              "          google.colab.kernel.accessAllowed ? 'block' : 'none';\n",
              "\n",
              "        async function convertToInteractive(key) {\n",
              "          const element = document.querySelector('#df-05591c23-8ff7-493b-9727-5498e5b0359e');\n",
              "          const dataTable =\n",
              "            await google.colab.kernel.invokeFunction('convertToInteractive',\n",
              "                                                     [key], {});\n",
              "          if (!dataTable) return;\n",
              "\n",
              "          const docLinkHtml = 'Like what you see? Visit the ' +\n",
              "            '<a target=\"_blank\" href=https://colab.research.google.com/notebooks/data_table.ipynb>data table notebook</a>'\n",
              "            + ' to learn more about interactive tables.';\n",
              "          element.innerHTML = '';\n",
              "          dataTable['output_type'] = 'display_data';\n",
              "          await google.colab.output.renderOutput(dataTable, element);\n",
              "          const docLink = document.createElement('div');\n",
              "          docLink.innerHTML = docLinkHtml;\n",
              "          element.appendChild(docLink);\n",
              "        }\n",
              "      </script>\n",
              "    </div>\n",
              "  </div>\n",
              "  "
            ]
          },
          "metadata": {},
          "execution_count": 173
        }
      ],
      "source": [
        "result = pd.DataFrame(np.exp(y))[train_size:]\n",
        "result.columns = [\"actual\"]\n",
        "result[\"prediction\"] = np.exp(predictions)\n",
        "result"
      ]
    },
    {
      "cell_type": "code",
      "execution_count": 174,
      "metadata": {
        "id": "v_mK144Z6aoi",
        "colab": {
          "base_uri": "https://localhost:8080/"
        },
        "outputId": "764ef9d6-4b6d-45ab-97b6-0940e523afd3"
      },
      "outputs": [
        {
          "output_type": "stream",
          "name": "stderr",
          "text": [
            "/usr/local/lib/python3.7/dist-packages/statsmodels/tsa/base/tsa_model.py:219: ValueWarning: A date index has been provided, but it has no associated frequency information and so will be ignored when e.g. forecasting.\n",
            "  ' ignored when e.g. forecasting.', ValueWarning)\n",
            "/usr/local/lib/python3.7/dist-packages/statsmodels/tsa/base/tsa_model.py:219: ValueWarning: A date index has been provided, but it has no associated frequency information and so will be ignored when e.g. forecasting.\n",
            "  ' ignored when e.g. forecasting.', ValueWarning)\n"
          ]
        }
      ],
      "source": [
        "model = ARIMA(y, order=(0,1,0))\n",
        "model_fit = model.fit()"
      ]
    },
    {
      "cell_type": "code",
      "source": [
        "forecast=model_fit.forecast(steps=10)[0]\n",
        "np.exp(forecast)"
      ],
      "metadata": {
        "colab": {
          "base_uri": "https://localhost:8080/"
        },
        "id": "kzZ2tvlMv0Bn",
        "outputId": "cf8a4e88-d08a-4adb-c217-00a0c440ea93"
      },
      "execution_count": 176,
      "outputs": [
        {
          "output_type": "execute_result",
          "data": {
            "text/plain": [
              "array([444.18450631, 444.31906558, 444.45366561, 444.58830642,\n",
              "       444.72298801, 444.85771041, 444.99247361, 445.12727764,\n",
              "       445.26212251, 445.39700823])"
            ]
          },
          "metadata": {},
          "execution_count": 176
        }
      ]
    }
  ],
  "metadata": {
    "colab": {
      "name": "TATA_Motors_Stock_market_Forecasting.V3.ipynb",
      "provenance": [],
      "authorship_tag": "ABX9TyNoisYhOI/muJw0LEwisEVQ",
      "include_colab_link": true
    },
    "kernelspec": {
      "display_name": "Python 3",
      "name": "python3"
    },
    "language_info": {
      "name": "python"
    }
  },
  "nbformat": 4,
  "nbformat_minor": 0
}
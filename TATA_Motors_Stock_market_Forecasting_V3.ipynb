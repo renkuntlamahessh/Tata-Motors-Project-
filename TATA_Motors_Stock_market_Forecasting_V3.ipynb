{
  "cells": [
    {
      "cell_type": "markdown",
      "metadata": {
        "id": "view-in-github",
        "colab_type": "text"
      },
      "source": [
        "<a href=\"https://colab.research.google.com/github/rmahesh6386/Tata-Motors-Project-/blob/main/TATA_Motors_Stock_market_Forecasting_V3.ipynb\" target=\"_parent\"><img src=\"https://colab.research.google.com/assets/colab-badge.svg\" alt=\"Open In Colab\"/></a>"
      ]
    },
    {
      "cell_type": "code",
      "execution_count": 1,
      "metadata": {
        "colab": {
          "base_uri": "https://localhost:8080/"
        },
        "id": "nj_ZJFtXrvue",
        "outputId": "2d16e5c0-98af-410d-94bb-437398298216"
      },
      "outputs": [
        {
          "output_type": "stream",
          "name": "stdout",
          "text": [
            "Mounted at /content/gdrive\n"
          ]
        }
      ],
      "source": [
        "from google.colab import drive\n",
        "drive.mount('/content/gdrive')\n",
        "import sys\n",
        "sys.path.append('/content/gdrive/My Drive/Colab Notebooks')"
      ]
    },
    {
      "cell_type": "code",
      "execution_count": 2,
      "metadata": {
        "id": "zzslioq8xYCC"
      },
      "outputs": [],
      "source": [
        "import pandas as pd\n",
        "import numpy as np\n",
        "import matplotlib.pyplot as plt\n",
        "\n",
        "from sklearn import metrics\n",
        "\n",
        "plt.style.use(\"ggplot\")\n",
        "\n",
        "%matplotlib inline"
      ]
    },
    {
      "cell_type": "code",
      "execution_count": 3,
      "metadata": {
        "id": "8Esf5p3JxeiV"
      },
      "outputs": [],
      "source": [
        "plt.rcParams[\"figure.figsize\"] = (12, 6)"
      ]
    },
    {
      "cell_type": "code",
      "execution_count": 4,
      "metadata": {
        "id": "9ze_i7kzr-Gt"
      },
      "outputs": [],
      "source": [
        "# For reading stock data from yahoo\n",
        "from pandas_datareader import data as pdr\n",
        "import yfinance as yfin\n",
        "yfin.pdr_override()\n",
        "\n",
        "# For time stamps\n",
        "from datetime import datetime\n",
        "\n",
        "# For division\n",
        "from __future__ import division"
      ]
    },
    {
      "cell_type": "code",
      "execution_count": 5,
      "metadata": {
        "colab": {
          "base_uri": "https://localhost:8080/"
        },
        "id": "DirsdQMLsIom",
        "outputId": "2b345ea8-58dc-4e39-831c-7ab286463578"
      },
      "outputs": [
        {
          "output_type": "stream",
          "name": "stdout",
          "text": [
            "\r[*********************100%***********************]  1 of 1 completed\n"
          ]
        }
      ],
      "source": [
        "#stock Company for analytics\n",
        "stock = ['TATAMOTORS.NS']\n",
        "data_source = 'yahoo' \n",
        "\n",
        "# set up Start and End time for data grab\n",
        "end = datetime.now()\n",
        "start = datetime(end.year-10,end.month,end.day)\n",
        "\n",
        "# Set DataFrame as the Stock Ticker\n",
        "df = pdr.get_data_yahoo(stock,start,end)"
      ]
    },
    {
      "cell_type": "code",
      "execution_count": 6,
      "metadata": {
        "colab": {
          "base_uri": "https://localhost:8080/",
          "height": 238
        },
        "id": "4pCFgMn4sWOU",
        "outputId": "96b8172d-9a3a-4b85-bdac-8c5df5747b9f"
      },
      "outputs": [
        {
          "output_type": "execute_result",
          "data": {
            "text/plain": [
              "                  Open        High         Low       Close   Adj Close  \\\n",
              "Date                                                                     \n",
              "2012-07-30  214.103531  220.435608  213.064667  219.347275  216.849060   \n",
              "2012-07-31  219.644104  224.591034  214.845566  223.848999  221.299500   \n",
              "2012-08-01  222.167038  227.262390  220.831360  224.937317  222.375412   \n",
              "2012-08-02  223.700592  224.591034  219.248337  220.336670  217.827179   \n",
              "2012-08-03  218.654709  219.644104  213.856171  218.605240  216.115463   \n",
              "\n",
              "              Volume  \n",
              "Date                  \n",
              "2012-07-30   9094027  \n",
              "2012-07-31  11297966  \n",
              "2012-08-01  10425962  \n",
              "2012-08-02   5808700  \n",
              "2012-08-03   7327872  "
            ],
            "text/html": [
              "\n",
              "  <div id=\"df-36cd2a55-0a41-4a9f-8f85-69874c3e1159\">\n",
              "    <div class=\"colab-df-container\">\n",
              "      <div>\n",
              "<style scoped>\n",
              "    .dataframe tbody tr th:only-of-type {\n",
              "        vertical-align: middle;\n",
              "    }\n",
              "\n",
              "    .dataframe tbody tr th {\n",
              "        vertical-align: top;\n",
              "    }\n",
              "\n",
              "    .dataframe thead th {\n",
              "        text-align: right;\n",
              "    }\n",
              "</style>\n",
              "<table border=\"1\" class=\"dataframe\">\n",
              "  <thead>\n",
              "    <tr style=\"text-align: right;\">\n",
              "      <th></th>\n",
              "      <th>Open</th>\n",
              "      <th>High</th>\n",
              "      <th>Low</th>\n",
              "      <th>Close</th>\n",
              "      <th>Adj Close</th>\n",
              "      <th>Volume</th>\n",
              "    </tr>\n",
              "    <tr>\n",
              "      <th>Date</th>\n",
              "      <th></th>\n",
              "      <th></th>\n",
              "      <th></th>\n",
              "      <th></th>\n",
              "      <th></th>\n",
              "      <th></th>\n",
              "    </tr>\n",
              "  </thead>\n",
              "  <tbody>\n",
              "    <tr>\n",
              "      <th>2012-07-30</th>\n",
              "      <td>214.103531</td>\n",
              "      <td>220.435608</td>\n",
              "      <td>213.064667</td>\n",
              "      <td>219.347275</td>\n",
              "      <td>216.849060</td>\n",
              "      <td>9094027</td>\n",
              "    </tr>\n",
              "    <tr>\n",
              "      <th>2012-07-31</th>\n",
              "      <td>219.644104</td>\n",
              "      <td>224.591034</td>\n",
              "      <td>214.845566</td>\n",
              "      <td>223.848999</td>\n",
              "      <td>221.299500</td>\n",
              "      <td>11297966</td>\n",
              "    </tr>\n",
              "    <tr>\n",
              "      <th>2012-08-01</th>\n",
              "      <td>222.167038</td>\n",
              "      <td>227.262390</td>\n",
              "      <td>220.831360</td>\n",
              "      <td>224.937317</td>\n",
              "      <td>222.375412</td>\n",
              "      <td>10425962</td>\n",
              "    </tr>\n",
              "    <tr>\n",
              "      <th>2012-08-02</th>\n",
              "      <td>223.700592</td>\n",
              "      <td>224.591034</td>\n",
              "      <td>219.248337</td>\n",
              "      <td>220.336670</td>\n",
              "      <td>217.827179</td>\n",
              "      <td>5808700</td>\n",
              "    </tr>\n",
              "    <tr>\n",
              "      <th>2012-08-03</th>\n",
              "      <td>218.654709</td>\n",
              "      <td>219.644104</td>\n",
              "      <td>213.856171</td>\n",
              "      <td>218.605240</td>\n",
              "      <td>216.115463</td>\n",
              "      <td>7327872</td>\n",
              "    </tr>\n",
              "  </tbody>\n",
              "</table>\n",
              "</div>\n",
              "      <button class=\"colab-df-convert\" onclick=\"convertToInteractive('df-36cd2a55-0a41-4a9f-8f85-69874c3e1159')\"\n",
              "              title=\"Convert this dataframe to an interactive table.\"\n",
              "              style=\"display:none;\">\n",
              "        \n",
              "  <svg xmlns=\"http://www.w3.org/2000/svg\" height=\"24px\"viewBox=\"0 0 24 24\"\n",
              "       width=\"24px\">\n",
              "    <path d=\"M0 0h24v24H0V0z\" fill=\"none\"/>\n",
              "    <path d=\"M18.56 5.44l.94 2.06.94-2.06 2.06-.94-2.06-.94-.94-2.06-.94 2.06-2.06.94zm-11 1L8.5 8.5l.94-2.06 2.06-.94-2.06-.94L8.5 2.5l-.94 2.06-2.06.94zm10 10l.94 2.06.94-2.06 2.06-.94-2.06-.94-.94-2.06-.94 2.06-2.06.94z\"/><path d=\"M17.41 7.96l-1.37-1.37c-.4-.4-.92-.59-1.43-.59-.52 0-1.04.2-1.43.59L10.3 9.45l-7.72 7.72c-.78.78-.78 2.05 0 2.83L4 21.41c.39.39.9.59 1.41.59.51 0 1.02-.2 1.41-.59l7.78-7.78 2.81-2.81c.8-.78.8-2.07 0-2.86zM5.41 20L4 18.59l7.72-7.72 1.47 1.35L5.41 20z\"/>\n",
              "  </svg>\n",
              "      </button>\n",
              "      \n",
              "  <style>\n",
              "    .colab-df-container {\n",
              "      display:flex;\n",
              "      flex-wrap:wrap;\n",
              "      gap: 12px;\n",
              "    }\n",
              "\n",
              "    .colab-df-convert {\n",
              "      background-color: #E8F0FE;\n",
              "      border: none;\n",
              "      border-radius: 50%;\n",
              "      cursor: pointer;\n",
              "      display: none;\n",
              "      fill: #1967D2;\n",
              "      height: 32px;\n",
              "      padding: 0 0 0 0;\n",
              "      width: 32px;\n",
              "    }\n",
              "\n",
              "    .colab-df-convert:hover {\n",
              "      background-color: #E2EBFA;\n",
              "      box-shadow: 0px 1px 2px rgba(60, 64, 67, 0.3), 0px 1px 3px 1px rgba(60, 64, 67, 0.15);\n",
              "      fill: #174EA6;\n",
              "    }\n",
              "\n",
              "    [theme=dark] .colab-df-convert {\n",
              "      background-color: #3B4455;\n",
              "      fill: #D2E3FC;\n",
              "    }\n",
              "\n",
              "    [theme=dark] .colab-df-convert:hover {\n",
              "      background-color: #434B5C;\n",
              "      box-shadow: 0px 1px 3px 1px rgba(0, 0, 0, 0.15);\n",
              "      filter: drop-shadow(0px 1px 2px rgba(0, 0, 0, 0.3));\n",
              "      fill: #FFFFFF;\n",
              "    }\n",
              "  </style>\n",
              "\n",
              "      <script>\n",
              "        const buttonEl =\n",
              "          document.querySelector('#df-36cd2a55-0a41-4a9f-8f85-69874c3e1159 button.colab-df-convert');\n",
              "        buttonEl.style.display =\n",
              "          google.colab.kernel.accessAllowed ? 'block' : 'none';\n",
              "\n",
              "        async function convertToInteractive(key) {\n",
              "          const element = document.querySelector('#df-36cd2a55-0a41-4a9f-8f85-69874c3e1159');\n",
              "          const dataTable =\n",
              "            await google.colab.kernel.invokeFunction('convertToInteractive',\n",
              "                                                     [key], {});\n",
              "          if (!dataTable) return;\n",
              "\n",
              "          const docLinkHtml = 'Like what you see? Visit the ' +\n",
              "            '<a target=\"_blank\" href=https://colab.research.google.com/notebooks/data_table.ipynb>data table notebook</a>'\n",
              "            + ' to learn more about interactive tables.';\n",
              "          element.innerHTML = '';\n",
              "          dataTable['output_type'] = 'display_data';\n",
              "          await google.colab.output.renderOutput(dataTable, element);\n",
              "          const docLink = document.createElement('div');\n",
              "          docLink.innerHTML = docLinkHtml;\n",
              "          element.appendChild(docLink);\n",
              "        }\n",
              "      </script>\n",
              "    </div>\n",
              "  </div>\n",
              "  "
            ]
          },
          "metadata": {},
          "execution_count": 6
        }
      ],
      "source": [
        "df.head()"
      ]
    },
    {
      "cell_type": "code",
      "execution_count": 7,
      "metadata": {
        "colab": {
          "base_uri": "https://localhost:8080/"
        },
        "id": "TpfJej1ztYyw",
        "outputId": "ccd8353c-dfb2-4c34-d86e-3ff44f7e019f"
      },
      "outputs": [
        {
          "output_type": "execute_result",
          "data": {
            "text/plain": [
              "DatetimeIndex(['2012-07-30', '2012-07-31', '2012-08-01', '2012-08-02',\n",
              "               '2012-08-03', '2012-08-06', '2012-08-07', '2012-08-08',\n",
              "               '2012-08-09', '2012-08-10',\n",
              "               ...\n",
              "               '2022-07-14', '2022-07-15', '2022-07-18', '2022-07-19',\n",
              "               '2022-07-20', '2022-07-21', '2022-07-22', '2022-07-25',\n",
              "               '2022-07-26', '2022-07-27'],\n",
              "              dtype='datetime64[ns]', name='Date', length=2463, freq=None)"
            ]
          },
          "metadata": {},
          "execution_count": 7
        }
      ],
      "source": [
        "df.index"
      ]
    },
    {
      "cell_type": "markdown",
      "metadata": {
        "id": "DYjX_xYAtnYO"
      },
      "source": [
        "Check whether you have duplicate data on by date"
      ]
    },
    {
      "cell_type": "code",
      "execution_count": 8,
      "metadata": {
        "colab": {
          "base_uri": "https://localhost:8080/",
          "height": 81
        },
        "id": "MHThdAkBselW",
        "outputId": "a501f81a-f14f-4ab9-addd-5ee92ce0f59d"
      },
      "outputs": [
        {
          "output_type": "execute_result",
          "data": {
            "text/plain": [
              "Empty DataFrame\n",
              "Columns: [Open, High, Low, Close, Adj Close, Volume]\n",
              "Index: []"
            ],
            "text/html": [
              "\n",
              "  <div id=\"df-392039d7-27b6-42e3-84a9-424e3a46577a\">\n",
              "    <div class=\"colab-df-container\">\n",
              "      <div>\n",
              "<style scoped>\n",
              "    .dataframe tbody tr th:only-of-type {\n",
              "        vertical-align: middle;\n",
              "    }\n",
              "\n",
              "    .dataframe tbody tr th {\n",
              "        vertical-align: top;\n",
              "    }\n",
              "\n",
              "    .dataframe thead th {\n",
              "        text-align: right;\n",
              "    }\n",
              "</style>\n",
              "<table border=\"1\" class=\"dataframe\">\n",
              "  <thead>\n",
              "    <tr style=\"text-align: right;\">\n",
              "      <th></th>\n",
              "      <th>Open</th>\n",
              "      <th>High</th>\n",
              "      <th>Low</th>\n",
              "      <th>Close</th>\n",
              "      <th>Adj Close</th>\n",
              "      <th>Volume</th>\n",
              "    </tr>\n",
              "    <tr>\n",
              "      <th>Date</th>\n",
              "      <th></th>\n",
              "      <th></th>\n",
              "      <th></th>\n",
              "      <th></th>\n",
              "      <th></th>\n",
              "      <th></th>\n",
              "    </tr>\n",
              "  </thead>\n",
              "  <tbody>\n",
              "  </tbody>\n",
              "</table>\n",
              "</div>\n",
              "      <button class=\"colab-df-convert\" onclick=\"convertToInteractive('df-392039d7-27b6-42e3-84a9-424e3a46577a')\"\n",
              "              title=\"Convert this dataframe to an interactive table.\"\n",
              "              style=\"display:none;\">\n",
              "        \n",
              "  <svg xmlns=\"http://www.w3.org/2000/svg\" height=\"24px\"viewBox=\"0 0 24 24\"\n",
              "       width=\"24px\">\n",
              "    <path d=\"M0 0h24v24H0V0z\" fill=\"none\"/>\n",
              "    <path d=\"M18.56 5.44l.94 2.06.94-2.06 2.06-.94-2.06-.94-.94-2.06-.94 2.06-2.06.94zm-11 1L8.5 8.5l.94-2.06 2.06-.94-2.06-.94L8.5 2.5l-.94 2.06-2.06.94zm10 10l.94 2.06.94-2.06 2.06-.94-2.06-.94-.94-2.06-.94 2.06-2.06.94z\"/><path d=\"M17.41 7.96l-1.37-1.37c-.4-.4-.92-.59-1.43-.59-.52 0-1.04.2-1.43.59L10.3 9.45l-7.72 7.72c-.78.78-.78 2.05 0 2.83L4 21.41c.39.39.9.59 1.41.59.51 0 1.02-.2 1.41-.59l7.78-7.78 2.81-2.81c.8-.78.8-2.07 0-2.86zM5.41 20L4 18.59l7.72-7.72 1.47 1.35L5.41 20z\"/>\n",
              "  </svg>\n",
              "      </button>\n",
              "      \n",
              "  <style>\n",
              "    .colab-df-container {\n",
              "      display:flex;\n",
              "      flex-wrap:wrap;\n",
              "      gap: 12px;\n",
              "    }\n",
              "\n",
              "    .colab-df-convert {\n",
              "      background-color: #E8F0FE;\n",
              "      border: none;\n",
              "      border-radius: 50%;\n",
              "      cursor: pointer;\n",
              "      display: none;\n",
              "      fill: #1967D2;\n",
              "      height: 32px;\n",
              "      padding: 0 0 0 0;\n",
              "      width: 32px;\n",
              "    }\n",
              "\n",
              "    .colab-df-convert:hover {\n",
              "      background-color: #E2EBFA;\n",
              "      box-shadow: 0px 1px 2px rgba(60, 64, 67, 0.3), 0px 1px 3px 1px rgba(60, 64, 67, 0.15);\n",
              "      fill: #174EA6;\n",
              "    }\n",
              "\n",
              "    [theme=dark] .colab-df-convert {\n",
              "      background-color: #3B4455;\n",
              "      fill: #D2E3FC;\n",
              "    }\n",
              "\n",
              "    [theme=dark] .colab-df-convert:hover {\n",
              "      background-color: #434B5C;\n",
              "      box-shadow: 0px 1px 3px 1px rgba(0, 0, 0, 0.15);\n",
              "      filter: drop-shadow(0px 1px 2px rgba(0, 0, 0, 0.3));\n",
              "      fill: #FFFFFF;\n",
              "    }\n",
              "  </style>\n",
              "\n",
              "      <script>\n",
              "        const buttonEl =\n",
              "          document.querySelector('#df-392039d7-27b6-42e3-84a9-424e3a46577a button.colab-df-convert');\n",
              "        buttonEl.style.display =\n",
              "          google.colab.kernel.accessAllowed ? 'block' : 'none';\n",
              "\n",
              "        async function convertToInteractive(key) {\n",
              "          const element = document.querySelector('#df-392039d7-27b6-42e3-84a9-424e3a46577a');\n",
              "          const dataTable =\n",
              "            await google.colab.kernel.invokeFunction('convertToInteractive',\n",
              "                                                     [key], {});\n",
              "          if (!dataTable) return;\n",
              "\n",
              "          const docLinkHtml = 'Like what you see? Visit the ' +\n",
              "            '<a target=\"_blank\" href=https://colab.research.google.com/notebooks/data_table.ipynb>data table notebook</a>'\n",
              "            + ' to learn more about interactive tables.';\n",
              "          element.innerHTML = '';\n",
              "          dataTable['output_type'] = 'display_data';\n",
              "          await google.colab.output.renderOutput(dataTable, element);\n",
              "          const docLink = document.createElement('div');\n",
              "          docLink.innerHTML = docLinkHtml;\n",
              "          element.appendChild(docLink);\n",
              "        }\n",
              "      </script>\n",
              "    </div>\n",
              "  </div>\n",
              "  "
            ]
          },
          "metadata": {},
          "execution_count": 8
        }
      ],
      "source": [
        "df[df.index.duplicated(keep = False)]"
      ]
    },
    {
      "cell_type": "code",
      "execution_count": 9,
      "metadata": {
        "colab": {
          "base_uri": "https://localhost:8080/",
          "height": 390
        },
        "id": "0EHWVgg4tapn",
        "outputId": "9fb494c0-edf2-4b4b-f66b-102410362f36"
      },
      "outputs": [
        {
          "output_type": "execute_result",
          "data": {
            "text/plain": [
              "<matplotlib.axes._subplots.AxesSubplot at 0x7f5dc507aa90>"
            ]
          },
          "metadata": {},
          "execution_count": 9
        },
        {
          "output_type": "display_data",
          "data": {
            "text/plain": [
              "<Figure size 864x432 with 1 Axes>"
            ],
            "image/png": "[encoded data removed]"
          },
          "metadata": {
            "needs_background": "light"
          }
        }
      ],
      "source": [
        "y = np.log(df[\"Close\"])\n",
        "y.plot()"
      ]
    },
    {
      "cell_type": "code",
      "execution_count": 10,
      "metadata": {
        "colab": {
          "base_uri": "https://localhost:8080/"
        },
        "id": "BIVM_qrXx3Gy",
        "outputId": "91445d44-5715-4514-9cf5-6bd96b882c50"
      },
      "outputs": [
        {
          "output_type": "execute_result",
          "data": {
            "text/plain": [
              "DatetimeIndex(['2012-07-30', '2012-07-31', '2012-08-01', '2012-08-02',\n",
              "               '2012-08-03', '2012-08-06', '2012-08-07', '2012-08-08',\n",
              "               '2012-08-09', '2012-08-10',\n",
              "               ...\n",
              "               '2022-07-14', '2022-07-15', '2022-07-18', '2022-07-19',\n",
              "               '2022-07-20', '2022-07-21', '2022-07-22', '2022-07-25',\n",
              "               '2022-07-26', '2022-07-27'],\n",
              "              dtype='datetime64[ns]', name='Date', length=2463, freq=None)"
            ]
          },
          "metadata": {},
          "execution_count": 10
        }
      ],
      "source": [
        "y.index"
      ]
    },
    {
      "cell_type": "markdown",
      "metadata": {
        "id": "Nc4RmLJbyq-L"
      },
      "source": [
        "Calculate rolling mean, exponentially weighted mean"
      ]
    },
    {
      "cell_type": "code",
      "execution_count": 11,
      "metadata": {
        "colab": {
          "base_uri": "https://localhost:8080/",
          "height": 238
        },
        "id": "WbDJFtpfyohM",
        "outputId": "70441ec8-69bc-46b8-c576-827eda0db2e8"
      },
      "outputs": [
        {
          "output_type": "execute_result",
          "data": {
            "text/plain": [
              "              actual  rolling_mean       ewm\n",
              "Date                                        \n",
              "2022-07-21  6.119968      6.052305  6.060416\n",
              "2022-07-22  6.120078      6.052198  6.061597\n",
              "2022-07-25  6.108247      6.052099  6.062521\n",
              "2022-07-26  6.089385      6.051954  6.063053\n",
              "2022-07-27  6.095937      6.052111  6.063704"
            ],
            "text/html": [
              "\n",
              "  <div id=\"df-5ce1e222-e4aa-40fe-a987-26a58426b0cc\">\n",
              "    <div class=\"colab-df-container\">\n",
              "      <div>\n",
              "<style scoped>\n",
              "    .dataframe tbody tr th:only-of-type {\n",
              "        vertical-align: middle;\n",
              "    }\n",
              "\n",
              "    .dataframe tbody tr th {\n",
              "        vertical-align: top;\n",
              "    }\n",
              "\n",
              "    .dataframe thead th {\n",
              "        text-align: right;\n",
              "    }\n",
              "</style>\n",
              "<table border=\"1\" class=\"dataframe\">\n",
              "  <thead>\n",
              "    <tr style=\"text-align: right;\">\n",
              "      <th></th>\n",
              "      <th>actual</th>\n",
              "      <th>rolling_mean</th>\n",
              "      <th>ewm</th>\n",
              "    </tr>\n",
              "    <tr>\n",
              "      <th>Date</th>\n",
              "      <th></th>\n",
              "      <th></th>\n",
              "      <th></th>\n",
              "    </tr>\n",
              "  </thead>\n",
              "  <tbody>\n",
              "    <tr>\n",
              "      <th>2022-07-21</th>\n",
              "      <td>6.119968</td>\n",
              "      <td>6.052305</td>\n",
              "      <td>6.060416</td>\n",
              "    </tr>\n",
              "    <tr>\n",
              "      <th>2022-07-22</th>\n",
              "      <td>6.120078</td>\n",
              "      <td>6.052198</td>\n",
              "      <td>6.061597</td>\n",
              "    </tr>\n",
              "    <tr>\n",
              "      <th>2022-07-25</th>\n",
              "      <td>6.108247</td>\n",
              "      <td>6.052099</td>\n",
              "      <td>6.062521</td>\n",
              "    </tr>\n",
              "    <tr>\n",
              "      <th>2022-07-26</th>\n",
              "      <td>6.089385</td>\n",
              "      <td>6.051954</td>\n",
              "      <td>6.063053</td>\n",
              "    </tr>\n",
              "    <tr>\n",
              "      <th>2022-07-27</th>\n",
              "      <td>6.095937</td>\n",
              "      <td>6.052111</td>\n",
              "      <td>6.063704</td>\n",
              "    </tr>\n",
              "  </tbody>\n",
              "</table>\n",
              "</div>\n",
              "      <button class=\"colab-df-convert\" onclick=\"convertToInteractive('df-5ce1e222-e4aa-40fe-a987-26a58426b0cc')\"\n",
              "              title=\"Convert this dataframe to an interactive table.\"\n",
              "              style=\"display:none;\">\n",
              "        \n",
              "  <svg xmlns=\"http://www.w3.org/2000/svg\" height=\"24px\"viewBox=\"0 0 24 24\"\n",
              "       width=\"24px\">\n",
              "    <path d=\"M0 0h24v24H0V0z\" fill=\"none\"/>\n",
              "    <path d=\"M18.56 5.44l.94 2.06.94-2.06 2.06-.94-2.06-.94-.94-2.06-.94 2.06-2.06.94zm-11 1L8.5 8.5l.94-2.06 2.06-.94-2.06-.94L8.5 2.5l-.94 2.06-2.06.94zm10 10l.94 2.06.94-2.06 2.06-.94-2.06-.94-.94-2.06-.94 2.06-2.06.94z\"/><path d=\"M17.41 7.96l-1.37-1.37c-.4-.4-.92-.59-1.43-.59-.52 0-1.04.2-1.43.59L10.3 9.45l-7.72 7.72c-.78.78-.78 2.05 0 2.83L4 21.41c.39.39.9.59 1.41.59.51 0 1.02-.2 1.41-.59l7.78-7.78 2.81-2.81c.8-.78.8-2.07 0-2.86zM5.41 20L4 18.59l7.72-7.72 1.47 1.35L5.41 20z\"/>\n",
              "  </svg>\n",
              "      </button>\n",
              "      \n",
              "  <style>\n",
              "    .colab-df-container {\n",
              "      display:flex;\n",
              "      flex-wrap:wrap;\n",
              "      gap: 12px;\n",
              "    }\n",
              "\n",
              "    .colab-df-convert {\n",
              "      background-color: #E8F0FE;\n",
              "      border: none;\n",
              "      border-radius: 50%;\n",
              "      cursor: pointer;\n",
              "      display: none;\n",
              "      fill: #1967D2;\n",
              "      height: 32px;\n",
              "      padding: 0 0 0 0;\n",
              "      width: 32px;\n",
              "    }\n",
              "\n",
              "    .colab-df-convert:hover {\n",
              "      background-color: #E2EBFA;\n",
              "      box-shadow: 0px 1px 2px rgba(60, 64, 67, 0.3), 0px 1px 3px 1px rgba(60, 64, 67, 0.15);\n",
              "      fill: #174EA6;\n",
              "    }\n",
              "\n",
              "    [theme=dark] .colab-df-convert {\n",
              "      background-color: #3B4455;\n",
              "      fill: #D2E3FC;\n",
              "    }\n",
              "\n",
              "    [theme=dark] .colab-df-convert:hover {\n",
              "      background-color: #434B5C;\n",
              "      box-shadow: 0px 1px 3px 1px rgba(0, 0, 0, 0.15);\n",
              "      filter: drop-shadow(0px 1px 2px rgba(0, 0, 0, 0.3));\n",
              "      fill: #FFFFFF;\n",
              "    }\n",
              "  </style>\n",
              "\n",
              "      <script>\n",
              "        const buttonEl =\n",
              "          document.querySelector('#df-5ce1e222-e4aa-40fe-a987-26a58426b0cc button.colab-df-convert');\n",
              "        buttonEl.style.display =\n",
              "          google.colab.kernel.accessAllowed ? 'block' : 'none';\n",
              "\n",
              "        async function convertToInteractive(key) {\n",
              "          const element = document.querySelector('#df-5ce1e222-e4aa-40fe-a987-26a58426b0cc');\n",
              "          const dataTable =\n",
              "            await google.colab.kernel.invokeFunction('convertToInteractive',\n",
              "                                                     [key], {});\n",
              "          if (!dataTable) return;\n",
              "\n",
              "          const docLinkHtml = 'Like what you see? Visit the ' +\n",
              "            '<a target=\"_blank\" href=https://colab.research.google.com/notebooks/data_table.ipynb>data table notebook</a>'\n",
              "            + ' to learn more about interactive tables.';\n",
              "          element.innerHTML = '';\n",
              "          dataTable['output_type'] = 'display_data';\n",
              "          await google.colab.output.renderOutput(dataTable, element);\n",
              "          const docLink = document.createElement('div');\n",
              "          docLink.innerHTML = docLinkHtml;\n",
              "          element.appendChild(docLink);\n",
              "        }\n",
              "      </script>\n",
              "    </div>\n",
              "  </div>\n",
              "  "
            ]
          },
          "metadata": {},
          "execution_count": 11
        }
      ],
      "source": [
        "period = 100\n",
        "y_rolling = pd.DataFrame(dict(actual = y, \n",
        "                              rolling_mean = y.rolling(period).mean(), \n",
        "                              ewm = y.ewm(span = period).mean()\n",
        "                             ))\n",
        "y_rolling.tail()"
      ]
    },
    {
      "cell_type": "code",
      "execution_count": 12,
      "metadata": {
        "colab": {
          "base_uri": "https://localhost:8080/"
        },
        "id": "aI5pwCdIy690",
        "outputId": "0c690be6-cd3e-4cec-df89-c06b9d6dc42b"
      },
      "outputs": [
        {
          "output_type": "stream",
          "name": "stdout",
          "text": [
            "rmse over rolling mean:  0.18585515077752623\n",
            "rmse over ewma:  0.1579638377676297\n"
          ]
        }
      ],
      "source": [
        "rolling_dropped = y_rolling.dropna()\n",
        "print(\"rmse over rolling mean: \", metrics.mean_squared_error(rolling_dropped.actual, rolling_dropped.rolling_mean) ** 0.5)\n",
        "print(\"rmse over ewma: \", metrics.mean_squared_error(rolling_dropped.actual, rolling_dropped[\"ewm\"]) ** 0.5)"
      ]
    },
    {
      "cell_type": "markdown",
      "metadata": {
        "id": "rGQL80_6y-k7"
      },
      "source": [
        "By visual inspection, we see the time series is not stationary. Let we will see a more formal way of testing using Dickey Fullter Test."
      ]
    },
    {
      "cell_type": "code",
      "execution_count": 13,
      "metadata": {
        "colab": {
          "base_uri": "https://localhost:8080/",
          "height": 390
        },
        "id": "M09S497Ay98t",
        "outputId": "d671bedd-8bd7-40ac-eefb-f51eb4d93488"
      },
      "outputs": [
        {
          "output_type": "execute_result",
          "data": {
            "text/plain": [
              "<matplotlib.axes._subplots.AxesSubplot at 0x7f5dc4ad13d0>"
            ]
          },
          "metadata": {},
          "execution_count": 13
        },
        {
          "output_type": "display_data",
          "data": {
            "text/plain": [
              "<Figure size 864x432 with 1 Axes>"
            ],
            "image/png": "[encoded data removed]"
          },
          "metadata": {
            "needs_background": "light"
          }
        }
      ],
      "source": [
        "y_rolling.plot()"
      ]
    },
    {
      "cell_type": "markdown",
      "metadata": {
        "id": "n8C4YBGizGJ9"
      },
      "source": [
        "Formal of way of test for stationarity. Since the p-value of Augmented Dickey Fullter test is > 0.05, we can say that there is not sufficient proof that the time series is stationary. Loosely speaking, it is non-stationary. We need further transformation to make data stationary. Populary method for making data stationary will be to take \"difference\". Taking difference by lag one, we see the p-val for Dickey Fuller test is < 0.05. So we conclude, diff 1 has made the data stationary."
      ]
    },
    {
      "cell_type": "code",
      "source": [
        "from statsmodels.tsa.stattools import adfuller\n",
        "def check_stationarity(series):\n",
        "    result = adfuller(series.values)\n",
        "\n",
        "    print('ADF Statistic: %f' % result[0])\n",
        "    print('p-value: %f' % result[1])\n",
        "    print('Critical Values:')\n",
        "    for key, value in result[4].items():\n",
        "        print('\\t%s: %.3f' % (key, value))\n",
        "\n",
        "    if (result[1] <= 0.05) & (result[4]['5%'] > result[0]):\n",
        "        print(\"\\u001b[32mStationary\\u001b[0m\")\n",
        "    else:\n",
        "        print(\"\\x1b[31mNon-stationary\\x1b[0m\")\n",
        "\n",
        "check_stationarity(y.dropna())"
      ],
      "metadata": {
        "colab": {
          "base_uri": "https://localhost:8080/"
        },
        "id": "TCcDmvfj1RKj",
        "outputId": "68fbe055-aeec-4d9c-8cff-a9e4abcc35a1"
      },
      "execution_count": 14,
      "outputs": [
        {
          "output_type": "stream",
          "name": "stderr",
          "text": [
            "/usr/local/lib/python3.7/dist-packages/statsmodels/tools/_testing.py:19: FutureWarning: pandas.util.testing is deprecated. Use the functions in the public API at pandas.testing instead.\n",
            "  import pandas.util.testing as tm\n"
          ]
        },
        {
          "output_type": "stream",
          "name": "stdout",
          "text": [
            "ADF Statistic: -1.388606\n",
            "p-value: 0.587726\n",
            "Critical Values:\n",
            "\t1%: -3.433\n",
            "\t5%: -2.863\n",
            "\t10%: -2.567\n",
            "\u001b[31mNon-stationary\u001b[0m\n"
          ]
        }
      ]
    },
    {
      "cell_type": "code",
      "execution_count": 15,
      "metadata": {
        "colab": {
          "base_uri": "https://localhost:8080/",
          "height": 394
        },
        "id": "pYNEQgoizMt3",
        "outputId": "542d00e0-23d9-4429-d1df-eaa20cbe705a"
      },
      "outputs": [
        {
          "output_type": "execute_result",
          "data": {
            "text/plain": [
              "              actual     diff1     diff2\n",
              "Date                                    \n",
              "2012-07-30  5.390656       NaN       NaN\n",
              "2012-07-31  5.410972       NaN       NaN\n",
              "2012-08-01  5.415822       NaN       NaN\n",
              "2012-08-02  5.395157  0.004500       NaN\n",
              "2012-08-03  5.387268 -0.023704 -0.028205\n",
              "2012-08-06  5.423271  0.007450  0.031154\n",
              "2012-08-07  5.464957  0.069801  0.062351\n",
              "2012-08-08  5.476201  0.088933  0.019132\n",
              "2012-08-09  5.467049  0.043778 -0.045155\n",
              "2012-08-10  5.435853 -0.029105 -0.072882"
            ],
            "text/html": [
              "\n",
              "  <div id=\"df-e6af08fc-f16b-42a8-a285-f4eccdd17b25\">\n",
              "    <div class=\"colab-df-container\">\n",
              "      <div>\n",
              "<style scoped>\n",
              "    .dataframe tbody tr th:only-of-type {\n",
              "        vertical-align: middle;\n",
              "    }\n",
              "\n",
              "    .dataframe tbody tr th {\n",
              "        vertical-align: top;\n",
              "    }\n",
              "\n",
              "    .dataframe thead th {\n",
              "        text-align: right;\n",
              "    }\n",
              "</style>\n",
              "<table border=\"1\" class=\"dataframe\">\n",
              "  <thead>\n",
              "    <tr style=\"text-align: right;\">\n",
              "      <th></th>\n",
              "      <th>actual</th>\n",
              "      <th>diff1</th>\n",
              "      <th>diff2</th>\n",
              "    </tr>\n",
              "    <tr>\n",
              "      <th>Date</th>\n",
              "      <th></th>\n",
              "      <th></th>\n",
              "      <th></th>\n",
              "    </tr>\n",
              "  </thead>\n",
              "  <tbody>\n",
              "    <tr>\n",
              "      <th>2012-07-30</th>\n",
              "      <td>5.390656</td>\n",
              "      <td>NaN</td>\n",
              "      <td>NaN</td>\n",
              "    </tr>\n",
              "    <tr>\n",
              "      <th>2012-07-31</th>\n",
              "      <td>5.410972</td>\n",
              "      <td>NaN</td>\n",
              "      <td>NaN</td>\n",
              "    </tr>\n",
              "    <tr>\n",
              "      <th>2012-08-01</th>\n",
              "      <td>5.415822</td>\n",
              "      <td>NaN</td>\n",
              "      <td>NaN</td>\n",
              "    </tr>\n",
              "    <tr>\n",
              "      <th>2012-08-02</th>\n",
              "      <td>5.395157</td>\n",
              "      <td>0.004500</td>\n",
              "      <td>NaN</td>\n",
              "    </tr>\n",
              "    <tr>\n",
              "      <th>2012-08-03</th>\n",
              "      <td>5.387268</td>\n",
              "      <td>-0.023704</td>\n",
              "      <td>-0.028205</td>\n",
              "    </tr>\n",
              "    <tr>\n",
              "      <th>2012-08-06</th>\n",
              "      <td>5.423271</td>\n",
              "      <td>0.007450</td>\n",
              "      <td>0.031154</td>\n",
              "    </tr>\n",
              "    <tr>\n",
              "      <th>2012-08-07</th>\n",
              "      <td>5.464957</td>\n",
              "      <td>0.069801</td>\n",
              "      <td>0.062351</td>\n",
              "    </tr>\n",
              "    <tr>\n",
              "      <th>2012-08-08</th>\n",
              "      <td>5.476201</td>\n",
              "      <td>0.088933</td>\n",
              "      <td>0.019132</td>\n",
              "    </tr>\n",
              "    <tr>\n",
              "      <th>2012-08-09</th>\n",
              "      <td>5.467049</td>\n",
              "      <td>0.043778</td>\n",
              "      <td>-0.045155</td>\n",
              "    </tr>\n",
              "    <tr>\n",
              "      <th>2012-08-10</th>\n",
              "      <td>5.435853</td>\n",
              "      <td>-0.029105</td>\n",
              "      <td>-0.072882</td>\n",
              "    </tr>\n",
              "  </tbody>\n",
              "</table>\n",
              "</div>\n",
              "      <button class=\"colab-df-convert\" onclick=\"convertToInteractive('df-e6af08fc-f16b-42a8-a285-f4eccdd17b25')\"\n",
              "              title=\"Convert this dataframe to an interactive table.\"\n",
              "              style=\"display:none;\">\n",
              "        \n",
              "  <svg xmlns=\"http://www.w3.org/2000/svg\" height=\"24px\"viewBox=\"0 0 24 24\"\n",
              "       width=\"24px\">\n",
              "    <path d=\"M0 0h24v24H0V0z\" fill=\"none\"/>\n",
              "    <path d=\"M18.56 5.44l.94 2.06.94-2.06 2.06-.94-2.06-.94-.94-2.06-.94 2.06-2.06.94zm-11 1L8.5 8.5l.94-2.06 2.06-.94-2.06-.94L8.5 2.5l-.94 2.06-2.06.94zm10 10l.94 2.06.94-2.06 2.06-.94-2.06-.94-.94-2.06-.94 2.06-2.06.94z\"/><path d=\"M17.41 7.96l-1.37-1.37c-.4-.4-.92-.59-1.43-.59-.52 0-1.04.2-1.43.59L10.3 9.45l-7.72 7.72c-.78.78-.78 2.05 0 2.83L4 21.41c.39.39.9.59 1.41.59.51 0 1.02-.2 1.41-.59l7.78-7.78 2.81-2.81c.8-.78.8-2.07 0-2.86zM5.41 20L4 18.59l7.72-7.72 1.47 1.35L5.41 20z\"/>\n",
              "  </svg>\n",
              "      </button>\n",
              "      \n",
              "  <style>\n",
              "    .colab-df-container {\n",
              "      display:flex;\n",
              "      flex-wrap:wrap;\n",
              "      gap: 12px;\n",
              "    }\n",
              "\n",
              "    .colab-df-convert {\n",
              "      background-color: #E8F0FE;\n",
              "      border: none;\n",
              "      border-radius: 50%;\n",
              "      cursor: pointer;\n",
              "      display: none;\n",
              "      fill: #1967D2;\n",
              "      height: 32px;\n",
              "      padding: 0 0 0 0;\n",
              "      width: 32px;\n",
              "    }\n",
              "\n",
              "    .colab-df-convert:hover {\n",
              "      background-color: #E2EBFA;\n",
              "      box-shadow: 0px 1px 2px rgba(60, 64, 67, 0.3), 0px 1px 3px 1px rgba(60, 64, 67, 0.15);\n",
              "      fill: #174EA6;\n",
              "    }\n",
              "\n",
              "    [theme=dark] .colab-df-convert {\n",
              "      background-color: #3B4455;\n",
              "      fill: #D2E3FC;\n",
              "    }\n",
              "\n",
              "    [theme=dark] .colab-df-convert:hover {\n",
              "      background-color: #434B5C;\n",
              "      box-shadow: 0px 1px 3px 1px rgba(0, 0, 0, 0.15);\n",
              "      filter: drop-shadow(0px 1px 2px rgba(0, 0, 0, 0.3));\n",
              "      fill: #FFFFFF;\n",
              "    }\n",
              "  </style>\n",
              "\n",
              "      <script>\n",
              "        const buttonEl =\n",
              "          document.querySelector('#df-e6af08fc-f16b-42a8-a285-f4eccdd17b25 button.colab-df-convert');\n",
              "        buttonEl.style.display =\n",
              "          google.colab.kernel.accessAllowed ? 'block' : 'none';\n",
              "\n",
              "        async function convertToInteractive(key) {\n",
              "          const element = document.querySelector('#df-e6af08fc-f16b-42a8-a285-f4eccdd17b25');\n",
              "          const dataTable =\n",
              "            await google.colab.kernel.invokeFunction('convertToInteractive',\n",
              "                                                     [key], {});\n",
              "          if (!dataTable) return;\n",
              "\n",
              "          const docLinkHtml = 'Like what you see? Visit the ' +\n",
              "            '<a target=\"_blank\" href=https://colab.research.google.com/notebooks/data_table.ipynb>data table notebook</a>'\n",
              "            + ' to learn more about interactive tables.';\n",
              "          element.innerHTML = '';\n",
              "          dataTable['output_type'] = 'display_data';\n",
              "          await google.colab.output.renderOutput(dataTable, element);\n",
              "          const docLink = document.createElement('div');\n",
              "          docLink.innerHTML = docLinkHtml;\n",
              "          element.appendChild(docLink);\n",
              "        }\n",
              "      </script>\n",
              "    </div>\n",
              "  </div>\n",
              "  "
            ]
          },
          "metadata": {},
          "execution_count": 15
        }
      ],
      "source": [
        "diff = pd.DataFrame({\"actual\": y, \"diff1\": y.diff(3)}).head(10)\n",
        "diff[\"diff2\"] = diff.diff1.diff(1)\n",
        "diff"
      ]
    },
    {
      "cell_type": "code",
      "source": [
        "def check_stationarity(series):\n",
        "    result = adfuller(series.values)\n",
        "\n",
        "    print('ADF Statistic: %f' % result[0])\n",
        "    print('p-value: %f' % result[1])\n",
        "    print('Critical Values:')\n",
        "    for key, value in result[4].items():\n",
        "        print('\\t%s: %.3f' % (key, value))\n",
        "\n",
        "    if (result[1] <= 0.05) & (result[4]['5%'] > result[0]):\n",
        "        print(\"\\u001b[32mStationary\\u001b[0m\")\n",
        "    else:\n",
        "        print(\"\\x1b[31mNon-stationary\\x1b[0m\")\n",
        "\n",
        "check_stationarity(y.diff(periods=1).dropna())"
      ],
      "metadata": {
        "colab": {
          "base_uri": "https://localhost:8080/"
        },
        "id": "niBR9K4I08Ld",
        "outputId": "b0b6ad2f-d3a5-422b-981b-4c7d1941e44a"
      },
      "execution_count": 16,
      "outputs": [
        {
          "output_type": "stream",
          "name": "stdout",
          "text": [
            "ADF Statistic: -48.582269\n",
            "p-value: 0.000000\n",
            "Critical Values:\n",
            "\t1%: -3.433\n",
            "\t5%: -2.863\n",
            "\t10%: -2.567\n",
            "\u001b[32mStationary\u001b[0m\n"
          ]
        }
      ]
    },
    {
      "cell_type": "code",
      "execution_count": 17,
      "metadata": {
        "colab": {
          "base_uri": "https://localhost:8080/",
          "height": 387
        },
        "id": "pNTi8VugzWHs",
        "outputId": "fea940f0-4833-439d-ba86-8d319ba106c2"
      },
      "outputs": [
        {
          "output_type": "execute_result",
          "data": {
            "text/plain": [
              "<matplotlib.axes._subplots.AxesSubplot at 0x7f5dc3352d10>"
            ]
          },
          "metadata": {},
          "execution_count": 17
        },
        {
          "output_type": "display_data",
          "data": {
            "text/plain": [
              "<Figure size 864x432 with 1 Axes>"
            ],
            "image/png": "[encoded data removed]"
          },
          "metadata": {
            "needs_background": "light"
          }
        }
      ],
      "source": [
        "y.diff(periods=1).plot()"
      ]
    },
    {
      "cell_type": "markdown",
      "metadata": {
        "id": "l-9SCo14zaDR"
      },
      "source": [
        "Use pandas's auto correlation plot. Here is a nice explanation of the autocorrelation plot"
      ]
    },
    {
      "cell_type": "code",
      "execution_count": 18,
      "metadata": {
        "colab": {
          "base_uri": "https://localhost:8080/",
          "height": 412
        },
        "id": "w3zx6HQqzcI8",
        "outputId": "7b1ce3a1-e11c-4afe-d66e-be5b6db987f7"
      },
      "outputs": [
        {
          "output_type": "execute_result",
          "data": {
            "text/plain": [
              "<matplotlib.axes._subplots.AxesSubplot at 0x7f5dc1014250>"
            ]
          },
          "metadata": {},
          "execution_count": 18
        },
        {
          "output_type": "display_data",
          "data": {
            "text/plain": [
              "<Figure size 864x432 with 1 Axes>"
            ],
            "image/png": "[encoded data removed]"
          },
          "metadata": {
            "needs_background": "light"
          }
        }
      ],
      "source": [
        "from pandas.plotting import autocorrelation_plot\n",
        "autocorrelation_plot(y)"
      ]
    },
    {
      "cell_type": "code",
      "execution_count": 19,
      "metadata": {
        "id": "HkhtB1sazfR8"
      },
      "outputs": [],
      "source": [
        "y = y.dropna()"
      ]
    },
    {
      "cell_type": "code",
      "source": [
        "from statsmodels.tsa.arima_model import ARIMA\n",
        "from pmdarima.arima import auto_arima\n",
        "\n",
        "model_autoARIMA = auto_arima(y, start_p=0, start_q=0,\n",
        "                      test='adf',       # use adftest to find             optimal 'd'\n",
        "                      max_p=3, max_q=3, # maximum p and q\n",
        "                      m=1,              # frequency of series\n",
        "                      d=None,           # let model determine 'd'\n",
        "                      seasonal=False,   # No Seasonality\n",
        "                      start_P=0, \n",
        "                      D=0, \n",
        "                      trace=True,\n",
        "                      error_action='ignore',  \n",
        "                      suppress_warnings=True, \n",
        "                      stepwise=True)\n",
        "print(model_autoARIMA.summary())"
      ],
      "metadata": {
        "colab": {
          "base_uri": "https://localhost:8080/"
        },
        "id": "Icolo5JXn1mu",
        "outputId": "3247ea8b-66e6-4471-b6bf-14360ae4bd4e"
      },
      "execution_count": 20,
      "outputs": [
        {
          "output_type": "stream",
          "name": "stdout",
          "text": [
            "Performing stepwise search to minimize aic\n",
            " ARIMA(0,1,0)(0,0,0)[0] intercept   : AIC=-10824.432, Time=0.41 sec\n",
            " ARIMA(1,1,0)(0,0,0)[0] intercept   : AIC=-10823.476, Time=0.19 sec\n",
            " ARIMA(0,1,1)(0,0,0)[0] intercept   : AIC=-10823.458, Time=0.55 sec\n",
            " ARIMA(0,1,0)(0,0,0)[0]             : AIC=-10826.151, Time=0.15 sec\n",
            " ARIMA(1,1,1)(0,0,0)[0] intercept   : AIC=-10821.751, Time=1.24 sec\n",
            "\n",
            "Best model:  ARIMA(0,1,0)(0,0,0)[0]          \n",
            "Total fit time: 2.574 seconds\n",
            "                           Statespace Model Results                           \n",
            "==============================================================================\n",
            "Dep. Variable:                      y   No. Observations:                 2463\n",
            "Model:               SARIMAX(0, 1, 0)   Log Likelihood                5414.076\n",
            "Date:                Thu, 28 Jul 2022   AIC                         -10826.151\n",
            "Time:                        03:19:38   BIC                         -10820.343\n",
            "Sample:                             0   HQIC                        -10824.041\n",
            "                               - 2463                                         \n",
            "Covariance Type:                  opg                                         \n",
            "==============================================================================\n",
            "                 coef    std err          z      P>|z|      [0.025      0.975]\n",
            "------------------------------------------------------------------------------\n",
            "sigma2         0.0007   1.02e-05     70.284      0.000       0.001       0.001\n",
            "===================================================================================\n",
            "Ljung-Box (Q):                       47.30   Jarque-Bera (JB):              3725.50\n",
            "Prob(Q):                              0.20   Prob(JB):                         0.00\n",
            "Heteroskedasticity (H):               2.47   Skew:                             0.20\n",
            "Prob(H) (two-sided):                  0.00   Kurtosis:                         9.01\n",
            "===================================================================================\n",
            "\n",
            "Warnings:\n",
            "[1] Covariance matrix calculated using the outer product of gradients (complex-step).\n"
          ]
        }
      ]
    },
    {
      "cell_type": "code",
      "execution_count": 21,
      "metadata": {
        "colab": {
          "base_uri": "https://localhost:8080/",
          "height": 975
        },
        "id": "qJ75Y_X-zh5X",
        "outputId": "cff3f211-3c05-4928-ab1a-b0ea04129e5e"
      },
      "outputs": [
        {
          "output_type": "stream",
          "name": "stderr",
          "text": [
            "/usr/local/lib/python3.7/dist-packages/statsmodels/tsa/base/tsa_model.py:219: ValueWarning: A date index has been provided, but it has no associated frequency information and so will be ignored when e.g. forecasting.\n",
            "  ' ignored when e.g. forecasting.', ValueWarning)\n",
            "/usr/local/lib/python3.7/dist-packages/statsmodels/tsa/base/tsa_model.py:219: ValueWarning: A date index has been provided, but it has no associated frequency information and so will be ignored when e.g. forecasting.\n",
            "  ' ignored when e.g. forecasting.', ValueWarning)\n"
          ]
        },
        {
          "output_type": "stream",
          "name": "stdout",
          "text": [
            "                  0\n",
            "count  2.462000e+03\n",
            "mean   5.689838e-10\n",
            "std    2.684037e-02\n",
            "min   -1.936616e-01\n",
            "25%   -1.359315e-02\n",
            "50%   -2.864661e-04\n",
            "75%    1.318584e-02\n",
            "max    1.857508e-01\n"
          ]
        },
        {
          "output_type": "display_data",
          "data": {
            "text/plain": [
              "<Figure size 864x432 with 1 Axes>"
            ],
            "image/png": "[encoded data removed]"
          },
          "metadata": {
            "needs_background": "light"
          }
        },
        {
          "output_type": "display_data",
          "data": {
            "text/plain": [
              "<Figure size 864x432 with 1 Axes>"
            ],
            "image/png": "[encoded data removed]"
          },
          "metadata": {
            "needs_background": "light"
          }
        }
      ],
      "source": [
        "from statsmodels.tsa.arima_model import ARIMA\n",
        "\n",
        "p=0\n",
        "d=1\n",
        "q=0\n",
        "\n",
        "# fit model\n",
        "model = ARIMA(y, order=(p, d, q)) \n",
        "model_fit = model.fit(disp=0)\n",
        "#print(model_fit.summary())\n",
        "\n",
        "# plot residual erros\n",
        "residuals = pd.DataFrame(model_fit.resid)\n",
        "residuals.plot()\n",
        "residuals.plot(kind='kde')\n",
        "print(residuals.describe())"
      ]
    },
    {
      "cell_type": "code",
      "execution_count": 22,
      "metadata": {
        "colab": {
          "base_uri": "https://localhost:8080/",
          "height": 213
        },
        "id": "n56IYjUPzotl",
        "outputId": "d228060e-d3db-41da-cf7b-fe101c9522eb"
      },
      "outputs": [
        {
          "output_type": "execute_result",
          "data": {
            "text/plain": [
              "<class 'statsmodels.iolib.summary.Summary'>\n",
              "\"\"\"\n",
              "                             ARIMA Model Results                              \n",
              "==============================================================================\n",
              "Dep. Variable:                D.Close   No. Observations:                 2462\n",
              "Model:                 ARIMA(0, 1, 0)   Log Likelihood                5414.216\n",
              "Method:                           css   S.D. of innovations              0.027\n",
              "Date:                Thu, 28 Jul 2022   AIC                         -10824.432\n",
              "Time:                        03:19:39   BIC                         -10812.815\n",
              "Sample:                             1   HQIC                        -10820.211\n",
              "                                                                              \n",
              "==============================================================================\n",
              "                 coef    std err          z      P>|z|      [0.025      0.975]\n",
              "------------------------------------------------------------------------------\n",
              "const          0.0003      0.001      0.530      0.596      -0.001       0.001\n",
              "==============================================================================\n",
              "\"\"\""
            ],
            "text/html": [
              "<table class=\"simpletable\">\n",
              "<caption>ARIMA Model Results</caption>\n",
              "<tr>\n",
              "  <th>Dep. Variable:</th>      <td>D.Close</td>     <th>  No. Observations:  </th>    <td>2462</td>   \n",
              "</tr>\n",
              "<tr>\n",
              "  <th>Model:</th>          <td>ARIMA(0, 1, 0)</td>  <th>  Log Likelihood     </th>  <td>5414.216</td> \n",
              "</tr>\n",
              "<tr>\n",
              "  <th>Method:</th>               <td>css</td>       <th>  S.D. of innovations</th>    <td>0.027</td>  \n",
              "</tr>\n",
              "<tr>\n",
              "  <th>Date:</th>          <td>Thu, 28 Jul 2022</td> <th>  AIC                </th> <td>-10824.432</td>\n",
              "</tr>\n",
              "<tr>\n",
              "  <th>Time:</th>              <td>03:19:39</td>     <th>  BIC                </th> <td>-10812.815</td>\n",
              "</tr>\n",
              "<tr>\n",
              "  <th>Sample:</th>                <td>1</td>        <th>  HQIC               </th> <td>-10820.211</td>\n",
              "</tr>\n",
              "<tr>\n",
              "  <th></th>                       <td> </td>        <th>                     </th>      <td> </td>    \n",
              "</tr>\n",
              "</table>\n",
              "<table class=\"simpletable\">\n",
              "<tr>\n",
              "    <td></td>       <th>coef</th>     <th>std err</th>      <th>z</th>      <th>P>|z|</th>  <th>[0.025</th>    <th>0.975]</th>  \n",
              "</tr>\n",
              "<tr>\n",
              "  <th>const</th> <td>    0.0003</td> <td>    0.001</td> <td>    0.530</td> <td> 0.596</td> <td>   -0.001</td> <td>    0.001</td>\n",
              "</tr>\n",
              "</table>"
            ]
          },
          "metadata": {},
          "execution_count": 22
        }
      ],
      "source": [
        "model_fit.summary()"
      ]
    },
    {
      "cell_type": "code",
      "execution_count": 23,
      "metadata": {
        "colab": {
          "base_uri": "https://localhost:8080/",
          "height": 391
        },
        "id": "56dxyUyBztUZ",
        "outputId": "29e16670-2156-48a1-ec4f-f85236404430"
      },
      "outputs": [
        {
          "output_type": "execute_result",
          "data": {
            "text/plain": [
              "<matplotlib.collections.PolyCollection at 0x7f5db1b07050>"
            ]
          },
          "metadata": {},
          "execution_count": 23
        },
        {
          "output_type": "display_data",
          "data": {
            "text/plain": [
              "<Figure size 864x432 with 1 Axes>"
            ],
            "image/png": "[encoded data removed]"
          },
          "metadata": {
            "needs_background": "light"
          }
        }
      ],
      "source": [
        "model = ARIMA(y.values, order=(p, d, q))\n",
        "model_fit = model.fit(disp=0)\n",
        "predictions, error, conf_interval = model_fit.forecast(10)\n",
        "plt.plot(predictions)\n",
        "plt.fill_between(range(len(predictions)), conf_interval[:,0], conf_interval[:,1], alpha = 0.3)"
      ]
    },
    {
      "cell_type": "code",
      "execution_count": 24,
      "metadata": {
        "colab": {
          "base_uri": "https://localhost:8080/"
        },
        "id": "p1gidiVUzx6n",
        "outputId": "896ac885-914a-44ba-99cf-26326abd4505"
      },
      "outputs": [
        {
          "output_type": "execute_result",
          "data": {
            "text/plain": [
              "array([6.09622361, 6.09651007, 6.09679654, 6.09708301, 6.09736947,\n",
              "       6.09765594, 6.0979424 , 6.09822887, 6.09851534, 6.0988018 ])"
            ]
          },
          "metadata": {},
          "execution_count": 24
        }
      ],
      "source": [
        "predictions[:10]"
      ]
    },
    {
      "cell_type": "code",
      "execution_count": 25,
      "metadata": {
        "colab": {
          "base_uri": "https://localhost:8080/"
        },
        "id": "ZqvmjOWb0IRk",
        "outputId": "62b9d080-8070-4b36-8e47-cf353fb6dced"
      },
      "outputs": [
        {
          "output_type": "stream",
          "name": "stdout",
          "text": [
            "predicted=4.872604, actual=4.818263\n",
            "predicted=4.817931, actual=4.808111\n",
            "predicted=4.807773, actual=4.765587\n",
            "predicted=4.765225, actual=4.820685\n",
            "predicted=4.820355, actual=4.804431\n",
            "predicted=4.804092, actual=4.803611\n",
            "predicted=4.803272, actual=4.794964\n",
            "predicted=4.794619, actual=4.798679\n",
            "predicted=4.798337, actual=4.794136\n",
            "predicted=4.793792, actual=4.819071\n",
            "predicted=4.818741, actual=4.722064\n",
            "predicted=4.721678, actual=4.679350\n",
            "predicted=4.678940, actual=4.709981\n",
            "predicted=4.709588, actual=4.705468\n",
            "predicted=4.705073, actual=4.790404\n",
            "predicted=4.790059, actual=4.756603\n",
            "predicted=4.756238, actual=4.738827\n",
            "predicted=4.738452, actual=4.759607\n",
            "predicted=4.759244, actual=4.724286\n",
            "predicted=4.723903, actual=4.695925\n",
            "predicted=4.695526, actual=4.771108\n",
            "predicted=4.770753, actual=4.797855\n",
            "predicted=4.797515, actual=4.803201\n",
            "predicted=4.802865, actual=4.900448\n",
            "predicted=4.900168, actual=4.851640\n",
            "predicted=4.851331, actual=4.864067\n",
            "predicted=4.863766, actual=4.856707\n",
            "predicted=4.856402, actual=4.804021\n",
            "predicted=4.803686, actual=4.801970\n",
            "predicted=4.801634, actual=4.821893\n",
            "predicted=4.821569, actual=4.892227\n",
            "predicted=4.891943, actual=4.851249\n",
            "predicted=4.850941, actual=4.874434\n",
            "predicted=4.874140, actual=4.812591\n",
            "predicted=4.812262, actual=4.824306\n",
            "predicted=4.823984, actual=4.786658\n",
            "predicted=4.786315, actual=4.766013\n",
            "predicted=4.765658, actual=4.747537\n",
            "predicted=4.747172, actual=4.807294\n",
            "predicted=4.806963, actual=4.784571\n",
            "predicted=4.784227, actual=4.766438\n",
            "predicted=4.766084, actual=4.794964\n",
            "predicted=4.794626, actual=4.760463\n",
            "predicted=4.760106, actual=4.798267\n",
            "predicted=4.797932, actual=4.850858\n",
            "predicted=4.850552, actual=4.843793\n",
            "predicted=4.843484, actual=4.835091\n",
            "predicted=4.834777, actual=4.938065\n",
            "predicted=4.937809, actual=4.918885\n",
            "predicted=4.918619, actual=4.880906\n",
            "predicted=4.880619, actual=4.887714\n",
            "predicted=4.887431, actual=4.894101\n",
            "predicted=4.893822, actual=4.843005\n",
            "predicted=4.842697, actual=4.995183\n",
            "predicted=4.994961, actual=5.150107\n",
            "predicted=5.149972, actual=5.146913\n",
            "predicted=5.146776, actual=5.180097\n",
            "predicted=5.179978, actual=5.165072\n",
            "predicted=5.164945, actual=5.148657\n",
            "predicted=5.148521, actual=5.147494\n",
            "predicted=5.147358, actual=5.161925\n",
            "predicted=5.161797, actual=5.144583\n",
            "predicted=5.144445, actual=5.130195\n"
          ]
        },
        {
          "output_type": "stream",
          "name": "stderr",
          "text": [
            "/usr/local/lib/python3.7/dist-packages/statsmodels/base/model.py:512: ConvergenceWarning: Maximum Likelihood optimization failed to converge. Check mle_retvals\n",
            "  \"Check mle_retvals\", ConvergenceWarning)\n"
          ]
        },
        {
          "output_type": "stream",
          "name": "stdout",
          "text": [
            "predicted=5.130049, actual=5.147494\n",
            "predicted=5.147358, actual=5.139322\n",
            "predicted=5.139181, actual=5.118293\n",
            "predicted=5.118141, actual=5.127232\n",
            "predicted=5.127085, actual=5.136387\n",
            "predicted=5.136245, actual=5.122475\n",
            "predicted=5.122325, actual=5.120386\n",
            "predicted=5.120235, actual=5.100781\n",
            "predicted=5.100619, actual=5.089755\n",
            "predicted=5.089587, actual=5.112590\n",
            "predicted=5.112435, actual=5.096201\n",
            "predicted=5.096037, actual=5.111385\n",
            "predicted=5.111230, actual=5.104733\n",
            "predicted=5.104574, actual=5.084505\n",
            "predicted=5.084335, actual=5.081715\n",
            "predicted=5.081543, actual=5.063860\n",
            "predicted=5.063679, actual=5.132263\n",
            "predicted=5.132119, actual=5.112590\n",
            "predicted=5.112436, actual=5.084505\n",
            "predicted=5.084336, actual=5.078294\n",
            "predicted=5.078121, actual=5.073297\n",
            "predicted=5.073121, actual=5.086361\n",
            "predicted=5.086193, actual=5.155313\n",
            "predicted=5.155183, actual=5.174453\n",
            "predicted=5.174334, actual=5.164500\n",
            "predicted=5.164375, actual=5.194067\n",
            "predicted=5.193959, actual=5.163642\n",
            "predicted=5.163517, actual=5.188223\n",
            "predicted=5.188112, actual=5.170200\n",
            "predicted=5.170078, actual=5.170768\n",
            "predicted=5.170647, actual=5.167639\n",
            "predicted=5.167516, actual=5.162498\n",
            "predicted=5.162372, actual=5.171336\n",
            "predicted=5.171215, actual=5.213304\n",
            "predicted=5.213207, actual=5.221166\n",
            "predicted=5.221073, actual=5.217378\n",
            "predicted=5.217283, actual=5.266569\n",
            "predicted=5.266501, actual=5.252797\n",
            "predicted=5.252721, actual=5.223863\n",
            "predicted=5.223772, actual=5.218733\n",
            "predicted=5.218639, actual=5.207024\n",
            "predicted=5.206924, actual=5.257495\n",
            "predicted=5.257423, actual=5.279899\n",
            "predicted=5.279838, actual=5.279389\n",
            "predicted=5.279329, actual=5.277349\n",
            "predicted=5.277287, actual=5.300066\n",
            "predicted=5.300016, actual=5.285992\n",
            "predicted=5.285935, actual=5.284725\n",
            "predicted=5.284668, actual=5.273000\n",
            "predicted=5.272935, actual=5.254365\n",
            "predicted=5.254291, actual=5.223594\n",
            "predicted=5.223503, actual=5.238567\n",
            "predicted=5.238485, actual=5.228431\n",
            "predicted=5.228343, actual=5.205105\n",
            "predicted=5.205004, actual=5.171052\n",
            "predicted=5.170933, actual=5.236708\n",
            "predicted=5.236624, actual=5.226821\n",
            "predicted=5.226732, actual=5.173887\n",
            "predicted=5.173770, actual=5.098951\n",
            "predicted=5.098793, actual=5.110179\n",
            "predicted=5.110027, actual=5.213576\n",
            "predicted=5.213480, actual=5.186547\n",
            "predicted=5.186437, actual=5.156754\n"
          ]
        },
        {
          "output_type": "stream",
          "name": "stderr",
          "text": [
            "/usr/local/lib/python3.7/dist-packages/statsmodels/base/model.py:512: ConvergenceWarning: Maximum Likelihood optimization failed to converge. Check mle_retvals\n",
            "  \"Check mle_retvals\", ConvergenceWarning)\n"
          ]
        },
        {
          "output_type": "stream",
          "name": "stdout",
          "text": [
            "predicted=5.156627, actual=5.129307\n",
            "predicted=5.129166, actual=5.134327\n",
            "predicted=5.134188, actual=5.141371\n",
            "predicted=5.141236, actual=5.132853\n",
            "predicted=5.132714, actual=5.130490\n",
            "predicted=5.130350, actual=5.130490\n",
            "predicted=5.130350, actual=5.085124\n",
            "predicted=5.084960, actual=5.062911\n",
            "predicted=5.062735, actual=5.065755\n",
            "predicted=5.065580, actual=5.014959\n",
            "predicted=5.014757, actual=5.009968\n",
            "predicted=5.009764, actual=4.973625\n",
            "predicted=4.973401, actual=4.978456\n",
            "predicted=4.978235, actual=4.859425\n",
            "predicted=4.859140, actual=4.831509\n",
            "predicted=4.831209, actual=4.870223\n",
            "predicted=4.869944, actual=4.837868\n",
            "predicted=4.837572, actual=4.834296\n",
            "predicted=4.833998, actual=4.737951\n",
            "predicted=4.737602, actual=4.660605\n",
            "predicted=4.660214, actual=4.594109\n",
            "predicted=4.593683, actual=4.477337\n",
            "predicted=4.476849, actual=4.497028\n",
            "predicted=4.496551, actual=4.418238\n",
            "predicted=4.417719, actual=4.356068\n",
            "predicted=4.355515, actual=4.324133\n",
            "predicted=4.323564, actual=4.289774\n",
            "predicted=4.289187, actual=4.347694\n",
            "predicted=4.347138, actual=4.192680\n",
            "predicted=4.192043, actual=4.227563\n",
            "predicted=4.226944, actual=4.252060\n",
            "predicted=4.251455, actual=4.259859\n",
            "predicted=4.259258, actual=4.258446\n",
            "predicted=4.257844, actual=4.221711\n",
            "predicted=4.221090, actual=4.263384\n",
            "predicted=4.262786, actual=4.218772\n",
            "predicted=4.218150, actual=4.178992\n",
            "predicted=4.178350, actual=4.208417\n",
            "predicted=4.207791, actual=4.213608\n",
            "predicted=4.212985, actual=4.312140\n",
            "predicted=4.311570, actual=4.307438\n",
            "predicted=4.306865, actual=4.289089\n",
            "predicted=4.288506, actual=4.312811\n",
            "predicted=4.312241, actual=4.341855\n",
            "predicted=4.341301, actual=4.387636\n",
            "predicted=4.387106, actual=4.312811\n",
            "predicted=4.312242, actual=4.329417\n",
            "predicted=4.328857, actual=4.326117\n",
            "predicted=4.325556, actual=4.306764\n",
            "predicted=4.306193, actual=4.320816\n",
            "predicted=4.320253, actual=4.343156\n",
            "predicted=4.342605, actual=4.358630\n",
            "predicted=4.358087, actual=4.535284\n",
            "predicted=4.534834, actual=4.429626\n",
            "predicted=4.429121, actual=4.393214\n",
            "predicted=4.392690, actual=4.421247\n",
            "predicted=4.420738, actual=4.412798\n",
            "predicted=4.412285, actual=4.395066\n",
            "predicted=4.394544, actual=4.455509\n",
            "predicted=4.455019, actual=4.456670\n",
            "predicted=4.456181, actual=4.468204\n",
            "predicted=4.467721, actual=4.428433\n",
            "predicted=4.427930, actual=4.434975\n"
          ]
        },
        {
          "output_type": "stream",
          "name": "stderr",
          "text": [
            "/usr/local/lib/python3.7/dist-packages/statsmodels/base/model.py:512: ConvergenceWarning: Maximum Likelihood optimization failed to converge. Check mle_retvals\n",
            "  \"Check mle_retvals\", ConvergenceWarning)\n"
          ]
        },
        {
          "output_type": "stream",
          "name": "stdout",
          "text": [
            "predicted=4.434475, actual=4.390119\n",
            "predicted=4.389596, actual=4.404277\n",
            "predicted=4.403762, actual=4.424248\n",
            "predicted=4.423743, actual=4.432007\n",
            "predicted=4.431506, actual=4.416428\n",
            "predicted=4.415920, actual=4.420045\n",
            "predicted=4.419539, actual=4.437343\n",
            "predicted=4.436846, actual=4.465908\n",
            "predicted=4.465426, actual=4.465908\n",
            "predicted=4.465427, actual=4.494797\n",
            "predicted=4.494331, actual=4.569543\n",
            "predicted=4.569116, actual=4.592591\n",
            "predicted=4.592177, actual=4.590057\n",
            "predicted=4.589641, actual=4.707275\n",
            "predicted=4.706921, actual=4.748838\n",
            "predicted=4.748504, actual=4.713576\n",
            "predicted=4.713225, actual=4.713127\n",
            "predicted=4.712776, actual=4.664853\n",
            "predicted=4.664477, actual=4.656813\n",
            "predicted=4.656433, actual=4.610158\n",
            "predicted=4.609754, actual=4.551242\n",
            "predicted=4.550808, actual=4.558079\n",
            "predicted=4.557648, actual=4.567987\n",
            "predicted=4.567562, actual=4.629863\n",
            "predicted=4.629470, actual=4.631325\n",
            "predicted=4.630933, actual=4.648230\n",
            "predicted=4.647847, actual=4.652054\n",
            "predicted=4.651673, actual=4.642466\n",
            "predicted=4.642080, actual=4.619073\n",
            "predicted=4.618676, actual=4.599655\n",
            "predicted=4.599248, actual=4.587515\n",
            "predicted=4.587102, actual=4.612642\n",
            "predicted=4.612242, actual=4.620551\n",
            "predicted=4.620155, actual=4.639088\n",
            "predicted=4.638702, actual=4.691348\n",
            "predicted=4.690989, actual=4.691807\n",
            "predicted=4.691448, actual=4.657288\n",
            "predicted=4.656912, actual=4.672361\n",
            "predicted=4.671993, actual=4.678421\n",
            "predicted=4.678056, actual=4.682131\n",
            "predicted=4.681768, actual=4.655388\n",
            "predicted=4.655011, actual=4.636669\n",
            "predicted=4.636283, actual=4.634243\n",
            "predicted=4.633856, actual=4.667206\n",
            "predicted=4.666836, actual=4.654436\n",
            "predicted=4.654060, actual=4.686289\n",
            "predicted=4.685929, actual=4.655388\n",
            "predicted=4.655013, actual=4.663911\n",
            "predicted=4.663540, actual=4.641984\n",
            "predicted=4.641602, actual=4.622027\n",
            "predicted=4.621636, actual=4.667675\n",
            "predicted=4.667307, actual=4.661078\n",
            "predicted=4.660706, actual=4.641020\n",
            "predicted=4.640638, actual=4.650621\n",
            "predicted=4.650245, actual=4.727830\n",
            "predicted=4.727493, actual=4.713576\n",
            "predicted=4.713232, actual=4.748404\n",
            "predicted=4.748078, actual=4.760463\n",
            "predicted=4.760143, actual=4.779963\n",
            "predicted=4.779654, actual=4.819071\n",
            "predicted=4.818781, actual=4.806477\n",
            "predicted=4.806181, actual=4.831110\n",
            "predicted=4.830826, actual=4.876342\n",
            "predicted=4.876081, actual=4.825109\n",
            "predicted=4.824822, actual=4.816646\n"
          ]
        },
        {
          "output_type": "stream",
          "name": "stderr",
          "text": [
            "/usr/local/lib/python3.7/dist-packages/statsmodels/base/model.py:512: ConvergenceWarning: Maximum Likelihood optimization failed to converge. Check mle_retvals\n",
            "  \"Check mle_retvals\", ConvergenceWarning)\n",
            "/usr/local/lib/python3.7/dist-packages/statsmodels/base/model.py:512: ConvergenceWarning: Maximum Likelihood optimization failed to converge. Check mle_retvals\n",
            "  \"Check mle_retvals\", ConvergenceWarning)\n"
          ]
        },
        {
          "output_type": "stream",
          "name": "stdout",
          "text": [
            "predicted=4.816356, actual=4.833102\n",
            "predicted=4.832820, actual=4.829513\n",
            "predicted=4.829229, actual=4.801559\n",
            "predicted=4.801261, actual=4.794964\n",
            "predicted=4.794663, actual=4.797442\n",
            "predicted=4.797143, actual=4.844974\n",
            "predicted=4.844699, actual=4.926529\n",
            "predicted=4.926295, actual=4.971548\n",
            "predicted=4.971337, actual=4.961445\n",
            "predicted=4.961229, actual=4.964242\n",
            "predicted=4.964028, actual=4.968423\n",
            "predicted=4.968211, actual=5.012633\n",
            "predicted=5.012443, actual=5.022893\n",
            "predicted=5.022708, actual=4.995860\n",
            "predicted=4.995662, actual=5.006627\n",
            "predicted=5.006434, actual=4.957938\n",
            "predicted=4.957720, actual=4.942356\n",
            "predicted=4.942132, actual=4.964940\n",
            "predicted=4.964727, actual=4.971894\n",
            "predicted=4.971685, actual=5.000922\n",
            "predicted=5.000726, actual=4.999911\n",
            "predicted=4.999716, actual=5.020256\n",
            "predicted=5.020070, actual=4.994845\n",
            "predicted=4.994647, actual=4.996536\n",
            "predicted=4.996339, actual=4.923260\n",
            "predicted=4.923027, actual=4.891101\n",
            "predicted=4.890851, actual=4.878246\n",
            "predicted=4.877990, actual=4.810557\n",
            "predicted=4.810268, actual=4.846154\n",
            "predicted=4.845882, actual=4.889221\n",
            "predicted=4.888971, actual=4.880527\n",
            "predicted=4.880273, actual=4.892602\n",
            "predicted=4.892354, actual=4.894101\n",
            "predicted=4.893854, actual=4.897093\n",
            "predicted=4.896848, actual=4.975008\n",
            "predicted=4.974802, actual=4.948760\n",
            "predicted=4.948540, actual=4.948405\n",
            "predicted=4.948186, actual=4.930509\n",
            "predicted=4.930281, actual=4.911919\n",
            "predicted=4.911682, actual=4.898586\n",
            "predicted=4.898342, actual=4.872905\n",
            "predicted=4.872648, actual=4.843793\n",
            "predicted=4.843522, actual=4.850075\n",
            "predicted=4.849808, actual=4.853981\n",
            "predicted=4.853716, actual=4.864838\n",
            "predicted=4.864578, actual=4.869456\n",
            "predicted=4.869198, actual=4.894101\n",
            "predicted=4.893856, actual=4.919981\n",
            "predicted=4.919748, actual=4.895598\n",
            "predicted=4.895354, actual=4.910078\n",
            "predicted=4.909841, actual=4.903792\n",
            "predicted=4.903552, actual=4.882044\n",
            "predicted=4.881793, actual=4.887714\n",
            "predicted=4.887466, actual=4.889221\n",
            "predicted=4.888974, actual=4.898586\n",
            "predicted=4.898344, actual=4.911919\n",
            "predicted=4.911684, actual=4.924714\n",
            "predicted=4.924485, actual=4.934474\n",
            "predicted=4.934250, actual=4.948760\n",
            "predicted=4.948543, actual=4.983607\n",
            "predicted=4.983407, actual=5.016949\n"
          ]
        },
        {
          "output_type": "stream",
          "name": "stderr",
          "text": [
            "/usr/local/lib/python3.7/dist-packages/statsmodels/base/model.py:512: ConvergenceWarning: Maximum Likelihood optimization failed to converge. Check mle_retvals\n",
            "  \"Check mle_retvals\", ConvergenceWarning)\n"
          ]
        },
        {
          "output_type": "stream",
          "name": "stdout",
          "text": [
            "predicted=5.016765, actual=5.018603\n",
            "predicted=5.018421, actual=4.986001\n",
            "predicted=4.985803, actual=5.002939\n",
            "predicted=5.002749, actual=5.062595\n",
            "predicted=5.062434, actual=5.156178\n",
            "predicted=5.156063, actual=5.123666\n",
            "predicted=5.123536, actual=5.130490\n",
            "predicted=5.130363, actual=5.139908\n",
            "predicted=5.139785, actual=5.147785\n",
            "predicted=5.147667, actual=5.144292\n",
            "predicted=5.144171, actual=5.157617\n",
            "predicted=5.157504, actual=5.194899\n",
            "predicted=5.194804, actual=5.191567\n",
            "predicted=5.191470, actual=5.212760\n",
            "predicted=5.212673, actual=5.219545\n",
            "predicted=5.219461, actual=5.215751\n",
            "predicted=5.215665, actual=5.212487\n",
            "predicted=5.212400, actual=5.202907\n",
            "predicted=5.202816, actual=5.207845\n",
            "predicted=5.207757, actual=5.179534\n",
            "predicted=5.179431, actual=5.186547\n",
            "predicted=5.186448, actual=5.179815\n",
            "predicted=5.179713, actual=5.186827\n",
            "predicted=5.186728, actual=5.207024\n",
            "predicted=5.206935, actual=5.202357\n",
            "predicted=5.202266, actual=5.196008\n",
            "predicted=5.195913, actual=5.103214\n",
            "predicted=5.103075, actual=5.105642\n",
            "predicted=5.105504, actual=5.131081\n",
            "predicted=5.130956, actual=5.170200\n",
            "predicted=5.170093, actual=5.227627\n",
            "predicted=5.227548, actual=5.211942\n",
            "predicted=5.211856, actual=5.215751\n",
            "predicted=5.215666, actual=5.214120\n",
            "predicted=5.214035, actual=5.228431\n",
            "predicted=5.228353, actual=5.253843\n",
            "predicted=5.253777, actual=5.263726\n",
            "predicted=5.263665, actual=5.275049\n",
            "predicted=5.274993, actual=5.281934\n",
            "predicted=5.281882, actual=5.289024\n",
            "predicted=5.288975, actual=5.396578\n",
            "predicted=5.396581, actual=5.471430\n",
            "predicted=5.471469, actual=5.491414\n",
            "predicted=5.491462, actual=5.501666\n",
            "predicted=5.501720, actual=5.561835\n",
            "predicted=5.561917, actual=5.505128\n",
            "predicted=5.505183, actual=5.555476\n",
            "predicted=5.555555, actual=5.616407\n",
            "predicted=5.616516, actual=5.671948\n",
            "predicted=5.672083, actual=5.667637\n",
            "predicted=5.667770, actual=5.631749\n",
            "predicted=5.631865, actual=5.589120\n",
            "predicted=5.589215, actual=5.586499\n",
            "predicted=5.586593, actual=5.571013\n",
            "predicted=5.571099, actual=5.633360\n",
            "predicted=5.633476, actual=5.774552\n",
            "predicted=5.774735, actual=5.802118\n",
            "predicted=5.802315, actual=5.787357\n",
            "predicted=5.787547, actual=5.755426\n",
            "predicted=5.755600, actual=5.816962\n",
            "predicted=5.817166, actual=5.783979\n",
            "predicted=5.784166, actual=5.795754\n",
            "predicted=5.795947, actual=5.783825\n",
            "predicted=5.784012, actual=5.785055\n",
            "predicted=5.785243, actual=5.809193\n",
            "predicted=5.809392, actual=5.796666\n",
            "predicted=5.796858, actual=5.799547\n",
            "predicted=5.799741, actual=5.780280\n",
            "predicted=5.780465, actual=5.742522\n",
            "predicted=5.742689, actual=5.718671\n",
            "predicted=5.718827, actual=5.780744\n",
            "predicted=5.780928, actual=5.773464\n",
            "predicted=5.773645, actual=5.808593\n",
            "predicted=5.808791, actual=5.777498\n",
            "predicted=5.777681, actual=5.793928\n",
            "predicted=5.794119, actual=5.845716\n",
            "predicted=5.845931, actual=5.853638\n",
            "predicted=5.853857, actual=5.826590\n",
            "predicted=5.826796, actual=5.784287\n",
            "predicted=5.784473, actual=5.772220\n",
            "predicted=5.772400, actual=5.753207\n",
            "predicted=5.753378, actual=5.772842\n",
            "predicted=5.773022, actual=5.760635\n",
            "predicted=5.760810, actual=5.763779\n",
            "predicted=5.763955, actual=5.768165\n",
            "predicted=5.768343, actual=5.722931\n"
          ]
        },
        {
          "output_type": "stream",
          "name": "stderr",
          "text": [
            "/usr/local/lib/python3.7/dist-packages/statsmodels/base/model.py:512: ConvergenceWarning: Maximum Likelihood optimization failed to converge. Check mle_retvals\n",
            "  \"Check mle_retvals\", ConvergenceWarning)\n",
            "/usr/local/lib/python3.7/dist-packages/statsmodels/base/model.py:512: ConvergenceWarning: Maximum Likelihood optimization failed to converge. Check mle_retvals\n",
            "  \"Check mle_retvals\", ConvergenceWarning)\n",
            "/usr/local/lib/python3.7/dist-packages/statsmodels/base/model.py:512: ConvergenceWarning: Maximum Likelihood optimization failed to converge. Check mle_retvals\n",
            "  \"Check mle_retvals\", ConvergenceWarning)\n"
          ]
        },
        {
          "output_type": "stream",
          "name": "stdout",
          "text": [
            "predicted=5.723088, actual=5.726848\n",
            "predicted=5.727006, actual=5.733179\n",
            "predicted=5.733341, actual=5.713898\n",
            "predicted=5.714050, actual=5.728150\n",
            "predicted=5.728308, actual=5.685109\n",
            "predicted=5.685248, actual=5.654417\n",
            "predicted=5.654541, actual=5.691710\n",
            "predicted=5.691851, actual=5.693900\n",
            "predicted=5.694043, actual=5.709765\n",
            "predicted=5.709914, actual=5.729288\n",
            "predicted=5.729446, actual=5.720476\n",
            "predicted=5.720630, actual=5.729288\n",
            "predicted=5.729446, actual=5.729450\n",
            "predicted=5.729609, actual=5.749234\n",
            "predicted=5.749401, actual=5.762680\n",
            "predicted=5.762854, actual=5.657913\n",
            "predicted=5.658038, actual=5.713238\n",
            "predicted=5.713388, actual=5.715382\n",
            "predicted=5.715533, actual=5.736572\n",
            "predicted=5.736734, actual=5.708438\n",
            "predicted=5.708586, actual=5.697261\n",
            "predicted=5.697404, actual=5.685449\n",
            "predicted=5.685586, actual=5.683580\n",
            "predicted=5.683716, actual=5.688330\n",
            "predicted=5.688469, actual=5.708770\n",
            "predicted=5.708918, actual=5.723258\n",
            "predicted=5.723413, actual=5.710096\n",
            "predicted=5.710244, actual=5.683069\n",
            "predicted=5.683205, actual=5.680173\n",
            "predicted=5.680307, actual=5.667983\n",
            "predicted=5.668111, actual=5.675040\n",
            "predicted=5.675172, actual=5.707940\n",
            "predicted=5.708088, actual=5.712907\n",
            "predicted=5.713057, actual=5.752096\n",
            "predicted=5.752264, actual=5.754317\n",
            "predicted=5.754486, actual=5.786897\n",
            "predicted=5.787081, actual=5.743804\n",
            "predicted=5.743968, actual=5.771753\n",
            "predicted=5.771929, actual=5.806490\n",
            "predicted=5.806682, actual=5.750825\n",
            "predicted=5.750992, actual=5.729125\n",
            "predicted=5.729282, actual=5.746523\n"
          ]
        },
        {
          "output_type": "stream",
          "name": "stderr",
          "text": [
            "/usr/local/lib/python3.7/dist-packages/statsmodels/base/model.py:512: ConvergenceWarning: Maximum Likelihood optimization failed to converge. Check mle_retvals\n",
            "  \"Check mle_retvals\", ConvergenceWarning)\n",
            "/usr/local/lib/python3.7/dist-packages/statsmodels/base/model.py:512: ConvergenceWarning: Maximum Likelihood optimization failed to converge. Check mle_retvals\n",
            "  \"Check mle_retvals\", ConvergenceWarning)\n"
          ]
        },
        {
          "output_type": "stream",
          "name": "stdout",
          "text": [
            "predicted=5.746687, actual=5.742522\n",
            "predicted=5.742685, actual=5.753366\n",
            "predicted=5.753533, actual=5.754159\n",
            "predicted=5.754326, actual=5.763936\n",
            "predicted=5.764108, actual=5.764407\n",
            "predicted=5.764579, actual=5.764407\n",
            "predicted=5.764579, actual=5.762366\n",
            "predicted=5.762537, actual=5.777652\n",
            "predicted=5.777830, actual=5.785823\n",
            "predicted=5.786005, actual=5.813981\n",
            "predicted=5.814176, actual=5.844993\n",
            "predicted=5.845201, actual=5.865760\n",
            "predicted=5.865978, actual=5.838750\n",
            "predicted=5.838956, actual=5.842820\n",
            "predicted=5.843027, actual=5.860074\n",
            "predicted=5.860289, actual=5.874790\n",
            "predicted=5.875012, actual=5.865618\n",
            "predicted=5.865835, actual=5.856074\n",
            "predicted=5.856287, actual=5.845427\n",
            "predicted=5.845635, actual=5.821269\n",
            "predicted=5.821466, actual=5.812039\n",
            "predicted=5.812231, actual=5.822750\n",
            "predicted=5.822947, actual=5.814877\n",
            "predicted=5.815070, actual=5.813085\n",
            "predicted=5.813278, actual=5.827916\n",
            "predicted=5.828115, actual=5.837147\n",
            "predicted=5.837351, actual=5.833494\n",
            "predicted=5.833696, actual=5.827768\n",
            "predicted=5.827968, actual=5.841368\n",
            "predicted=5.841573, actual=5.843255\n",
            "predicted=5.843461, actual=5.846728\n",
            "predicted=5.846935, actual=5.758586\n",
            "predicted=5.758754, actual=5.759217\n",
            "predicted=5.759385, actual=5.724728\n",
            "predicted=5.724880, actual=5.724565\n",
            "predicted=5.724717, actual=5.728313\n",
            "predicted=5.728466, actual=5.739632\n",
            "predicted=5.739791, actual=5.735120\n",
            "predicted=5.735276, actual=5.737378\n",
            "predicted=5.737536, actual=5.740596\n",
            "predicted=5.740755, actual=5.732856\n",
            "predicted=5.733011, actual=5.710924\n",
            "predicted=5.711069, actual=5.712247\n",
            "predicted=5.712392, actual=5.688838\n",
            "predicted=5.688973, actual=5.680684\n",
            "predicted=5.680816, actual=5.674697\n",
            "predicted=5.674825, actual=5.650558\n",
            "predicted=5.650675, actual=5.679831\n",
            "predicted=5.679962, actual=5.683410\n",
            "predicted=5.683542, actual=5.693227\n",
            "predicted=5.693364, actual=5.716040\n",
            "predicted=5.716187, actual=5.697597\n",
            "predicted=5.697735, actual=5.702782\n",
            "predicted=5.702923, actual=5.703949\n",
            "predicted=5.704090, actual=5.697429\n",
            "predicted=5.697567, actual=5.684260\n",
            "predicted=5.684392, actual=5.688500\n",
            "predicted=5.688634, actual=5.723585\n",
            "predicted=5.723735, actual=5.727662\n",
            "predicted=5.727813, actual=5.716040\n",
            "predicted=5.716187, actual=5.696086\n",
            "predicted=5.696223, actual=5.681366\n",
            "predicted=5.681497, actual=5.645800\n"
          ]
        },
        {
          "output_type": "stream",
          "name": "stderr",
          "text": [
            "/usr/local/lib/python3.7/dist-packages/statsmodels/base/model.py:512: ConvergenceWarning: Maximum Likelihood optimization failed to converge. Check mle_retvals\n",
            "  \"Check mle_retvals\", ConvergenceWarning)\n"
          ]
        },
        {
          "output_type": "stream",
          "name": "stdout",
          "text": [
            "predicted=5.645915, actual=5.623837\n",
            "predicted=5.623942, actual=5.634075\n",
            "predicted=5.634184, actual=5.650382\n",
            "predicted=5.650498, actual=5.650030\n",
            "predicted=5.650146, actual=5.655117\n",
            "predicted=5.655236, actual=5.676583\n",
            "predicted=5.676711, actual=5.660527\n",
            "predicted=5.660648, actual=5.687822\n",
            "predicted=5.687955, actual=5.680684\n",
            "predicted=5.680814, actual=5.688838\n",
            "predicted=5.688971, actual=5.695246\n",
            "predicted=5.695382, actual=5.685619\n",
            "predicted=5.685750, actual=5.687822\n",
            "predicted=5.687955, actual=5.700276\n",
            "predicted=5.700414, actual=5.707775\n",
            "predicted=5.707916, actual=5.723912\n",
            "predicted=5.724060, actual=5.742843\n",
            "predicted=5.743000, actual=5.741881\n",
            "predicted=5.742037, actual=5.732046\n",
            "predicted=5.732198, actual=5.700276\n",
            "predicted=5.700414, actual=5.710261\n",
            "predicted=5.710404, actual=5.736895\n",
            "predicted=5.737049, actual=5.772998\n",
            "predicted=5.773167, actual=5.761894\n",
            "predicted=5.762059, actual=5.804080\n",
            "predicted=5.804264, actual=5.796969\n",
            "predicted=5.797149, actual=5.799850\n",
            "predicted=5.800031, actual=5.809193\n",
            "predicted=5.809378, actual=5.809043\n",
            "predicted=5.809228, actual=5.834811\n",
            "predicted=5.835007, actual=5.843400\n",
            "predicted=5.843600, actual=5.817260\n",
            "predicted=5.817449, actual=5.930918\n",
            "predicted=5.931157, actual=5.947904\n",
            "predicted=5.948151, actual=6.030084\n",
            "predicted=6.030367, actual=6.042276\n",
            "predicted=6.042564, actual=6.228314\n",
            "predicted=6.228683, actual=6.209797\n",
            "predicted=6.210158, actual=6.233626\n",
            "predicted=6.233998, actual=6.177737\n",
            "predicted=6.178083, actual=6.188059\n",
            "predicted=6.188410, actual=6.230481\n",
            "predicted=6.230851, actual=6.196240\n",
            "predicted=6.196595, actual=6.173578\n",
            "predicted=6.173922, actual=6.231760\n",
            "predicted=6.232130, actual=6.210399\n",
            "predicted=6.210760, actual=6.175971\n",
            "predicted=6.176316, actual=6.181465\n",
            "predicted=6.181812, actual=6.185591\n",
            "predicted=6.185940, actual=6.190008\n",
            "predicted=6.190359, actual=6.183943\n",
            "predicted=6.184291, actual=6.193793\n",
            "predicted=6.194145, actual=6.217404\n",
            "predicted=6.217766, actual=6.233724\n",
            "predicted=6.234093, actual=6.235880\n",
            "predicted=6.236250, actual=6.221484\n",
            "predicted=6.221848, actual=6.228610\n",
            "predicted=6.228976, actual=6.225449\n",
            "predicted=6.225814, actual=6.252000\n",
            "predicted=6.252377, actual=6.273160\n",
            "predicted=6.273546, actual=6.233822\n",
            "predicted=6.234191, actual=6.186414\n",
            "predicted=6.186762, actual=6.205567\n",
            "predicted=6.205923, actual=6.191646\n",
            "predicted=6.191996, actual=6.200002\n",
            "predicted=6.200355, actual=6.131661\n",
            "predicted=6.131984, actual=6.134374\n",
            "predicted=6.134698, actual=6.128178\n",
            "predicted=6.128499, actual=6.163841\n",
            "predicted=6.164177, actual=6.171909\n",
            "predicted=6.172249, actual=6.173994\n",
            "predicted=6.174335, actual=6.146757\n",
            "predicted=6.147086, actual=6.177529\n",
            "predicted=6.177871, actual=6.202333\n",
            "predicted=6.202685, actual=6.202434\n",
            "predicted=6.202787, actual=6.203446\n",
            "predicted=6.203799, actual=6.205265\n",
            "predicted=6.205618, actual=6.193180\n",
            "predicted=6.193528, actual=6.197767\n",
            "predicted=6.198117, actual=6.198377\n",
            "predicted=6.198727, actual=6.153158\n",
            "predicted=6.153488, actual=6.102670\n",
            "predicted=6.102979, actual=6.117216\n",
            "predicted=6.117530, actual=6.153796\n",
            "predicted=6.154126, actual=6.157720\n",
            "predicted=6.158052, actual=6.147613\n",
            "predicted=6.147940, actual=6.155177\n",
            "predicted=6.155507, actual=6.174203\n",
            "predicted=6.174541, actual=6.165418\n",
            "predicted=6.165752, actual=6.153583\n",
            "predicted=6.153912, actual=6.178774\n",
            "predicted=6.179113, actual=6.209797\n",
            "predicted=6.210149, actual=6.193589\n",
            "predicted=6.193935, actual=6.193895\n",
            "predicted=6.194241, actual=6.192056\n",
            "predicted=6.192401, actual=6.195629\n",
            "predicted=6.195975, actual=6.221981\n",
            "predicted=6.222338, actual=6.217205\n",
            "predicted=6.217560, actual=6.229004\n",
            "predicted=6.229364, actual=6.238227\n",
            "predicted=6.238591, actual=6.234215\n",
            "predicted=6.234577, actual=6.263398\n",
            "predicted=6.263773, actual=6.235978\n",
            "predicted=6.236341, actual=6.255462\n",
            "predicted=6.255833, actual=6.245525\n",
            "predicted=6.245891, actual=6.218301\n",
            "predicted=6.218656, actual=6.170552\n",
            "predicted=6.170886, actual=6.195527\n",
            "predicted=6.195872, actual=6.203345\n",
            "predicted=6.203692, actual=6.209193\n"
          ]
        },
        {
          "output_type": "stream",
          "name": "stderr",
          "text": [
            "/usr/local/lib/python3.7/dist-packages/statsmodels/base/model.py:512: ConvergenceWarning: Maximum Likelihood optimization failed to converge. Check mle_retvals\n",
            "  \"Check mle_retvals\", ConvergenceWarning)\n"
          ]
        },
        {
          "output_type": "stream",
          "name": "stdout",
          "text": [
            "predicted=6.209543, actual=6.249493\n",
            "predicted=6.249860, actual=6.223171\n",
            "predicted=6.223527, actual=6.227327\n",
            "predicted=6.227684, actual=6.223568\n",
            "predicted=6.223923, actual=6.215807\n",
            "predicted=6.216159, actual=6.203749\n",
            "predicted=6.204096, actual=6.200002\n",
            "predicted=6.200347, actual=6.217105\n",
            "predicted=6.217457, actual=6.229398\n",
            "predicted=6.229755, actual=6.212305\n",
            "predicted=6.212655, actual=6.155813\n",
            "predicted=6.156139, actual=6.222576\n",
            "predicted=6.222930, actual=6.211503\n",
            "predicted=6.211852, actual=6.214508\n",
            "predicted=6.214858, actual=6.200813\n",
            "predicted=6.201158, actual=6.203446\n",
            "predicted=6.203791, actual=6.170134\n",
            "predicted=6.170464, actual=6.167516\n",
            "predicted=6.167846, actual=6.059006\n",
            "predicted=6.059290, actual=6.130683\n",
            "predicted=6.130997, actual=6.118207\n",
            "predicted=6.118516, actual=6.103900\n",
            "predicted=6.104202, actual=6.080162\n",
            "predicted=6.080454, actual=6.033686\n",
            "predicted=6.033958, actual=5.976351\n",
            "predicted=5.976599, actual=5.970624\n",
            "predicted=5.970869, actual=6.006107\n",
            "predicted=6.006367, actual=6.039302\n",
            "predicted=6.039576, actual=6.035840\n",
            "predicted=6.036113, actual=6.020295\n",
            "predicted=6.020561, actual=6.025020\n",
            "predicted=6.025288, actual=6.051854\n",
            "predicted=6.052133, actual=6.072584\n",
            "predicted=6.072871, actual=6.059006\n",
            "predicted=6.059288, actual=6.087570\n",
            "predicted=6.087863, actual=6.077183\n",
            "predicted=6.077472, actual=6.071200\n",
            "predicted=6.071486, actual=6.068657\n",
            "predicted=6.068942, actual=6.070045\n",
            "predicted=6.070330, actual=6.072353\n",
            "predicted=6.072640, actual=6.076839\n",
            "predicted=6.077127, actual=6.072468\n",
            "predicted=6.072755, actual=6.089385\n",
            "predicted=6.089678, actual=6.101999\n",
            "predicted=6.102298, actual=6.126978\n"
          ]
        },
        {
          "output_type": "stream",
          "name": "stderr",
          "text": [
            "/usr/local/lib/python3.7/dist-packages/statsmodels/base/model.py:512: ConvergenceWarning: Maximum Likelihood optimization failed to converge. Check mle_retvals\n",
            "  \"Check mle_retvals\", ConvergenceWarning)\n"
          ]
        },
        {
          "output_type": "stream",
          "name": "stdout",
          "text": [
            "predicted=6.127287, actual=6.122822\n",
            "predicted=6.123129, actual=6.108136\n",
            "predicted=6.108437, actual=6.113793\n",
            "predicted=6.114096, actual=6.113793\n",
            "predicted=6.114096, actual=6.082904\n",
            "predicted=6.083193, actual=6.066224\n",
            "predicted=6.066507, actual=6.072584\n",
            "predicted=6.072869, actual=6.051972\n",
            "predicted=6.052248, actual=6.088024\n",
            "predicted=6.088315, actual=6.104905\n",
            "predicted=6.105203, actual=6.084158\n",
            "predicted=6.084447, actual=6.052442\n",
            "predicted=6.052718, actual=6.075116\n",
            "predicted=6.075402, actual=6.064366\n",
            "predicted=6.064647, actual=6.077757\n",
            "predicted=6.078043, actual=6.081305\n",
            "predicted=6.081593, actual=6.070391\n",
            "predicted=6.070674, actual=6.048554\n",
            "predicted=6.048827, actual=6.055143\n",
            "predicted=6.055420, actual=6.012614\n",
            "predicted=6.012873, actual=6.001291\n",
            "predicted=6.001545, actual=5.970624\n"
          ]
        },
        {
          "output_type": "stream",
          "name": "stderr",
          "text": [
            "/usr/local/lib/python3.7/dist-packages/statsmodels/base/model.py:512: ConvergenceWarning: Maximum Likelihood optimization failed to converge. Check mle_retvals\n",
            "  \"Check mle_retvals\", ConvergenceWarning)\n",
            "/usr/local/lib/python3.7/dist-packages/statsmodels/base/model.py:512: ConvergenceWarning: Maximum Likelihood optimization failed to converge. Check mle_retvals\n",
            "  \"Check mle_retvals\", ConvergenceWarning)\n"
          ]
        },
        {
          "output_type": "stream",
          "name": "stdout",
          "text": [
            "predicted=5.970865, actual=5.961392\n",
            "predicted=5.961629, actual=5.919700\n",
            "predicted=5.919920, actual=6.002157\n",
            "predicted=6.002411, actual=6.004751\n",
            "predicted=6.005006, actual=6.050087\n",
            "predicted=6.050361, actual=6.028640\n",
            "predicted=6.028904, actual=5.988084\n",
            "predicted=5.988331, actual=6.035481\n",
            "predicted=6.035749, actual=6.043701\n",
            "predicted=6.043972, actual=6.053852\n",
            "predicted=6.054127, actual=6.033086\n",
            "predicted=6.033352, actual=6.041801\n",
            "predicted=6.042070, actual=6.062855\n",
            "predicted=6.063132, actual=6.092214\n",
            "predicted=6.092504, actual=6.094811\n",
            "predicted=6.095101, actual=6.097175\n",
            "predicted=6.097467, actual=6.084841\n",
            "predicted=6.085128, actual=6.068194\n",
            "predicted=6.068474, actual=6.069235\n",
            "predicted=6.069515, actual=6.077298\n",
            "predicted=6.077581, actual=6.076839\n",
            "predicted=6.077122, actual=6.060291\n",
            "predicted=6.060567, actual=6.059240\n",
            "predicted=6.059515, actual=6.008076\n",
            "predicted=6.008330, actual=6.004257\n",
            "predicted=6.004510, actual=6.026108\n",
            "predicted=6.026369, actual=5.973682\n",
            "predicted=5.973922, actual=5.963451\n",
            "predicted=5.963686, actual=5.947251\n",
            "predicted=5.947480, actual=5.985446\n",
            "predicted=5.985691, actual=5.974064\n",
            "predicted=5.974303, actual=6.009304\n",
            "predicted=6.009558, actual=6.014448\n",
            "predicted=6.014704, actual=6.027073\n",
            "predicted=6.027334, actual=6.033326\n",
            "predicted=6.033589, actual=6.032966\n",
            "predicted=6.033229, actual=6.020538\n",
            "predicted=6.020796, actual=6.022721\n",
            "predicted=6.022980, actual=6.012370\n",
            "predicted=6.012624, actual=6.021023\n",
            "predicted=6.021281, actual=6.031526\n",
            "predicted=6.031788, actual=6.065760\n",
            "predicted=6.066036, actual=6.090291\n",
            "predicted=6.090577, actual=6.080048\n",
            "predicted=6.080329, actual=6.065063\n",
            "predicted=6.065339, actual=6.057018\n",
            "predicted=6.057290, actual=6.059240\n",
            "predicted=6.059513, actual=6.087229\n",
            "predicted=6.087513, actual=6.111246\n",
            "predicted=6.111539, actual=6.107134\n",
            "predicted=6.107426, actual=6.116885\n",
            "predicted=6.117181, actual=6.119968\n",
            "predicted=6.120264, actual=6.120078\n",
            "predicted=6.120374, actual=6.108247\n",
            "predicted=6.108539, actual=6.089385\n",
            "predicted=6.089669, actual=6.095937\n",
            "Test RMSE: 0.034\n"
          ]
        }
      ],
      "source": [
        "from sklearn.metrics import mean_squared_error\n",
        "\n",
        "x = y.values\n",
        "train_size = int(len(x) * 0.7)\n",
        "train, test = x[0:train_size], x[train_size:]\n",
        "history = [x for x in train]\n",
        "predictions = []\n",
        "for t in range(len(test)):\n",
        "    model = ARIMA(history, order=(p, d, q))\n",
        "    model_fit = model.fit(disp=0)\n",
        "    output = model_fit.forecast()\n",
        "    yhat = output[0][0]\n",
        "    predictions.append(yhat)\n",
        "    obs = test[t]\n",
        "    history.append(obs)\n",
        "    print('predicted=%f, actual=%f' % (yhat, obs))\n",
        "error = mean_squared_error(test, predictions)\n",
        "print('Test RMSE: %.3f' % np.sqrt(error))"
      ]
    },
    {
      "cell_type": "code",
      "source": [
        "print('Test RMSE: %.3f' % np.sqrt(error))"
      ],
      "metadata": {
        "colab": {
          "base_uri": "https://localhost:8080/"
        },
        "id": "-vwT4VT1vFir",
        "outputId": "6abfe7bb-274a-4f04-883b-5f1844139e46"
      },
      "execution_count": 26,
      "outputs": [
        {
          "output_type": "stream",
          "name": "stdout",
          "text": [
            "Test RMSE: 0.034\n"
          ]
        }
      ]
    },
    {
      "cell_type": "code",
      "execution_count": 27,
      "metadata": {
        "colab": {
          "base_uri": "https://localhost:8080/",
          "height": 455
        },
        "id": "hod05r2Q2Xbw",
        "outputId": "1f4bf197-2a9b-4376-e3be-b86ef5bb9b9b"
      },
      "outputs": [
        {
          "output_type": "execute_result",
          "data": {
            "text/plain": [
              "                actual  prediction\n",
              "Date                              \n",
              "2019-08-05  123.750000  130.660728\n",
              "2019-08-06  122.500000  123.708920\n",
              "2019-08-07  117.400002  122.458638\n",
              "2019-08-08  124.050003  117.357493\n",
              "2019-08-09  122.050003  124.009069\n",
              "...                ...         ...\n",
              "2022-07-21  454.850006  453.584061\n",
              "2022-07-22  454.899994  454.984984\n",
              "2022-07-25  449.549988  455.034952\n",
              "2022-07-26  441.149994  449.681142\n",
              "2022-07-27  444.049988  441.275263\n",
              "\n",
              "[739 rows x 2 columns]"
            ],
            "text/html": [
              "\n",
              "  <div id=\"df-178b7362-a69c-4450-98b8-3f59099f0a64\">\n",
              "    <div class=\"colab-df-container\">\n",
              "      <div>\n",
              "<style scoped>\n",
              "    .dataframe tbody tr th:only-of-type {\n",
              "        vertical-align: middle;\n",
              "    }\n",
              "\n",
              "    .dataframe tbody tr th {\n",
              "        vertical-align: top;\n",
              "    }\n",
              "\n",
              "    .dataframe thead th {\n",
              "        text-align: right;\n",
              "    }\n",
              "</style>\n",
              "<table border=\"1\" class=\"dataframe\">\n",
              "  <thead>\n",
              "    <tr style=\"text-align: right;\">\n",
              "      <th></th>\n",
              "      <th>actual</th>\n",
              "      <th>prediction</th>\n",
              "    </tr>\n",
              "    <tr>\n",
              "      <th>Date</th>\n",
              "      <th></th>\n",
              "      <th></th>\n",
              "    </tr>\n",
              "  </thead>\n",
              "  <tbody>\n",
              "    <tr>\n",
              "      <th>2019-08-05</th>\n",
              "      <td>123.750000</td>\n",
              "      <td>130.660728</td>\n",
              "    </tr>\n",
              "    <tr>\n",
              "      <th>2019-08-06</th>\n",
              "      <td>122.500000</td>\n",
              "      <td>123.708920</td>\n",
              "    </tr>\n",
              "    <tr>\n",
              "      <th>2019-08-07</th>\n",
              "      <td>117.400002</td>\n",
              "      <td>122.458638</td>\n",
              "    </tr>\n",
              "    <tr>\n",
              "      <th>2019-08-08</th>\n",
              "      <td>124.050003</td>\n",
              "      <td>117.357493</td>\n",
              "    </tr>\n",
              "    <tr>\n",
              "      <th>2019-08-09</th>\n",
              "      <td>122.050003</td>\n",
              "      <td>124.009069</td>\n",
              "    </tr>\n",
              "    <tr>\n",
              "      <th>...</th>\n",
              "      <td>...</td>\n",
              "      <td>...</td>\n",
              "    </tr>\n",
              "    <tr>\n",
              "      <th>2022-07-21</th>\n",
              "      <td>454.850006</td>\n",
              "      <td>453.584061</td>\n",
              "    </tr>\n",
              "    <tr>\n",
              "      <th>2022-07-22</th>\n",
              "      <td>454.899994</td>\n",
              "      <td>454.984984</td>\n",
              "    </tr>\n",
              "    <tr>\n",
              "      <th>2022-07-25</th>\n",
              "      <td>449.549988</td>\n",
              "      <td>455.034952</td>\n",
              "    </tr>\n",
              "    <tr>\n",
              "      <th>2022-07-26</th>\n",
              "      <td>441.149994</td>\n",
              "      <td>449.681142</td>\n",
              "    </tr>\n",
              "    <tr>\n",
              "      <th>2022-07-27</th>\n",
              "      <td>444.049988</td>\n",
              "      <td>441.275263</td>\n",
              "    </tr>\n",
              "  </tbody>\n",
              "</table>\n",
              "<p>739 rows × 2 columns</p>\n",
              "</div>\n",
              "      <button class=\"colab-df-convert\" onclick=\"convertToInteractive('df-178b7362-a69c-4450-98b8-3f59099f0a64')\"\n",
              "              title=\"Convert this dataframe to an interactive table.\"\n",
              "              style=\"display:none;\">\n",
              "        \n",
              "  <svg xmlns=\"http://www.w3.org/2000/svg\" height=\"24px\"viewBox=\"0 0 24 24\"\n",
              "       width=\"24px\">\n",
              "    <path d=\"M0 0h24v24H0V0z\" fill=\"none\"/>\n",
              "    <path d=\"M18.56 5.44l.94 2.06.94-2.06 2.06-.94-2.06-.94-.94-2.06-.94 2.06-2.06.94zm-11 1L8.5 8.5l.94-2.06 2.06-.94-2.06-.94L8.5 2.5l-.94 2.06-2.06.94zm10 10l.94 2.06.94-2.06 2.06-.94-2.06-.94-.94-2.06-.94 2.06-2.06.94z\"/><path d=\"M17.41 7.96l-1.37-1.37c-.4-.4-.92-.59-1.43-.59-.52 0-1.04.2-1.43.59L10.3 9.45l-7.72 7.72c-.78.78-.78 2.05 0 2.83L4 21.41c.39.39.9.59 1.41.59.51 0 1.02-.2 1.41-.59l7.78-7.78 2.81-2.81c.8-.78.8-2.07 0-2.86zM5.41 20L4 18.59l7.72-7.72 1.47 1.35L5.41 20z\"/>\n",
              "  </svg>\n",
              "      </button>\n",
              "      \n",
              "  <style>\n",
              "    .colab-df-container {\n",
              "      display:flex;\n",
              "      flex-wrap:wrap;\n",
              "      gap: 12px;\n",
              "    }\n",
              "\n",
              "    .colab-df-convert {\n",
              "      background-color: #E8F0FE;\n",
              "      border: none;\n",
              "      border-radius: 50%;\n",
              "      cursor: pointer;\n",
              "      display: none;\n",
              "      fill: #1967D2;\n",
              "      height: 32px;\n",
              "      padding: 0 0 0 0;\n",
              "      width: 32px;\n",
              "    }\n",
              "\n",
              "    .colab-df-convert:hover {\n",
              "      background-color: #E2EBFA;\n",
              "      box-shadow: 0px 1px 2px rgba(60, 64, 67, 0.3), 0px 1px 3px 1px rgba(60, 64, 67, 0.15);\n",
              "      fill: #174EA6;\n",
              "    }\n",
              "\n",
              "    [theme=dark] .colab-df-convert {\n",
              "      background-color: #3B4455;\n",
              "      fill: #D2E3FC;\n",
              "    }\n",
              "\n",
              "    [theme=dark] .colab-df-convert:hover {\n",
              "      background-color: #434B5C;\n",
              "      box-shadow: 0px 1px 3px 1px rgba(0, 0, 0, 0.15);\n",
              "      filter: drop-shadow(0px 1px 2px rgba(0, 0, 0, 0.3));\n",
              "      fill: #FFFFFF;\n",
              "    }\n",
              "  </style>\n",
              "\n",
              "      <script>\n",
              "        const buttonEl =\n",
              "          document.querySelector('#df-178b7362-a69c-4450-98b8-3f59099f0a64 button.colab-df-convert');\n",
              "        buttonEl.style.display =\n",
              "          google.colab.kernel.accessAllowed ? 'block' : 'none';\n",
              "\n",
              "        async function convertToInteractive(key) {\n",
              "          const element = document.querySelector('#df-178b7362-a69c-4450-98b8-3f59099f0a64');\n",
              "          const dataTable =\n",
              "            await google.colab.kernel.invokeFunction('convertToInteractive',\n",
              "                                                     [key], {});\n",
              "          if (!dataTable) return;\n",
              "\n",
              "          const docLinkHtml = 'Like what you see? Visit the ' +\n",
              "            '<a target=\"_blank\" href=https://colab.research.google.com/notebooks/data_table.ipynb>data table notebook</a>'\n",
              "            + ' to learn more about interactive tables.';\n",
              "          element.innerHTML = '';\n",
              "          dataTable['output_type'] = 'display_data';\n",
              "          await google.colab.output.renderOutput(dataTable, element);\n",
              "          const docLink = document.createElement('div');\n",
              "          docLink.innerHTML = docLinkHtml;\n",
              "          element.appendChild(docLink);\n",
              "        }\n",
              "      </script>\n",
              "    </div>\n",
              "  </div>\n",
              "  "
            ]
          },
          "metadata": {},
          "execution_count": 27
        }
      ],
      "source": [
        "result = pd.DataFrame(np.exp(y))[train_size:]\n",
        "result.columns = [\"actual\"]\n",
        "result[\"prediction\"] = np.exp(predictions)\n",
        "result"
      ]
    },
    {
      "cell_type": "code",
      "execution_count": 28,
      "metadata": {
        "colab": {
          "base_uri": "https://localhost:8080/",
          "height": 445
        },
        "id": "SI5lrX-l2JSn",
        "outputId": "30380f5d-4966-45fc-938a-458479f331e6"
      },
      "outputs": [
        {
          "output_type": "display_data",
          "data": {
            "text/plain": [
              "<Figure size 1296x504 with 1 Axes>"
            ],
            "image/png": "[encoded data removed]"
          },
          "metadata": {
            "needs_background": "light"
          }
        }
      ],
      "source": [
        "plt.figure(figsize=(18,7))\n",
        "fig=plt.figure(1)\n",
        "plt.plot(result[\"actual\"],color='blue',label='Actual')\n",
        "plt.plot(result[\"prediction\"], color='red', label='Predicted')\n",
        "plt.legend(loc = 'best')\n",
        "plt.title('Actual VS Predicted')\n",
        "plt.show(block = False)"
      ]
    },
    {
      "cell_type": "code",
      "execution_count": 29,
      "metadata": {
        "id": "v_mK144Z6aoi",
        "colab": {
          "base_uri": "https://localhost:8080/"
        },
        "outputId": "19663627-a74b-4181-f447-eeac837c685e"
      },
      "outputs": [
        {
          "output_type": "stream",
          "name": "stderr",
          "text": [
            "/usr/local/lib/python3.7/dist-packages/statsmodels/tsa/base/tsa_model.py:219: ValueWarning: A date index has been provided, but it has no associated frequency information and so will be ignored when e.g. forecasting.\n",
            "  ' ignored when e.g. forecasting.', ValueWarning)\n",
            "/usr/local/lib/python3.7/dist-packages/statsmodels/tsa/base/tsa_model.py:219: ValueWarning: A date index has been provided, but it has no associated frequency information and so will be ignored when e.g. forecasting.\n",
            "  ' ignored when e.g. forecasting.', ValueWarning)\n"
          ]
        }
      ],
      "source": [
        "model = ARIMA(y, order=(0,1,0))\n",
        "model_fit = model.fit()"
      ]
    },
    {
      "cell_type": "code",
      "source": [
        "predictions=pd.Series(model_fit.fittedvalues, copy=True)\n",
        "print(predictions.head())"
      ],
      "metadata": {
        "id": "Jo61rb531UJE",
        "outputId": "66bba0ba-1bcf-40e1-a230-00ddb2279a5a",
        "colab": {
          "base_uri": "https://localhost:8080/"
        }
      },
      "execution_count": 34,
      "outputs": [
        {
          "output_type": "stream",
          "name": "stdout",
          "text": [
            "Date\n",
            "2012-07-31    0.000286\n",
            "2012-08-01    0.000286\n",
            "2012-08-02    0.000286\n",
            "2012-08-03    0.000286\n",
            "2012-08-06    0.000286\n",
            "dtype: float64\n"
          ]
        }
      ]
    },
    {
      "cell_type": "code",
      "source": [
        "predictions_cum_sum=predictions.cumsum()\n",
        "print(predictions_cum_sum.head())"
      ],
      "metadata": {
        "id": "Y3mV8PWB2ACE",
        "outputId": "7dd8e4c8-09bf-4c00-c346-744837e75894",
        "colab": {
          "base_uri": "https://localhost:8080/"
        }
      },
      "execution_count": 35,
      "outputs": [
        {
          "output_type": "stream",
          "name": "stdout",
          "text": [
            "Date\n",
            "2012-07-31    0.000286\n",
            "2012-08-01    0.000573\n",
            "2012-08-02    0.000859\n",
            "2012-08-03    0.001146\n",
            "2012-08-06    0.001432\n",
            "dtype: float64\n"
          ]
        }
      ]
    },
    {
      "cell_type": "code",
      "source": [
        "predictions_log=pd.Series(y, index=y.index)\n",
        "predictions_log=predictions_log.add(predictions_cum_sum,fill_value=0)\n",
        "predictions_log.head()"
      ],
      "metadata": {
        "id": "njxsdxn52DpI",
        "outputId": "8be5ee21-c84d-4de2-eb17-164264668b00",
        "colab": {
          "base_uri": "https://localhost:8080/"
        }
      },
      "execution_count": 39,
      "outputs": [
        {
          "output_type": "execute_result",
          "data": {
            "text/plain": [
              "Date\n",
              "2012-07-30    5.390656\n",
              "2012-07-31    5.411258\n",
              "2012-08-01    5.416395\n",
              "2012-08-02    5.396016\n",
              "2012-08-03    5.388413\n",
              "dtype: float64"
            ]
          },
          "metadata": {},
          "execution_count": 39
        }
      ]
    },
    {
      "cell_type": "code",
      "source": [
        "predictions_ARIMA=np.exp(predictions_log)\n",
        "plt.figure(figsize=(16,10))\n",
        "plt.plot(df[\"Close\"])\n",
        "plt.plot(predictions_ARIMA)"
      ],
      "metadata": {
        "id": "xZi67DoG2mwf",
        "outputId": "7b3f333e-069a-4463-c9fb-d3c84dbc158b",
        "colab": {
          "base_uri": "https://localhost:8080/",
          "height": 609
        }
      },
      "execution_count": 41,
      "outputs": [
        {
          "output_type": "execute_result",
          "data": {
            "text/plain": [
              "[<matplotlib.lines.Line2D at 0x7f5dafdfa690>]"
            ]
          },
          "metadata": {},
          "execution_count": 41
        },
        {
          "output_type": "display_data",
          "data": {
            "text/plain": [
              "<Figure size 1152x720 with 1 Axes>"
            ],
            "image/png": "[encoded data removed]"
          },
          "metadata": {
            "needs_background": "light"
          }
        }
      ]
    },
    {
      "cell_type": "code",
      "source": [
        "forecast=model_fit.forecast(steps=10)[0]\n",
        "np.exp(forecast)"
      ],
      "metadata": {
        "colab": {
          "base_uri": "https://localhost:8080/"
        },
        "id": "kzZ2tvlMv0Bn",
        "outputId": "6b4f7752-5ec4-468c-a7e3-7c059856ac4c"
      },
      "execution_count": 42,
      "outputs": [
        {
          "output_type": "execute_result",
          "data": {
            "text/plain": [
              "array([444.17721128, 444.30447122, 444.43176762, 444.5591005 ,\n",
              "       444.68646985, 444.8138757 , 444.94131805, 445.06879691,\n",
              "       445.19631229, 445.32386421])"
            ]
          },
          "metadata": {},
          "execution_count": 42
        }
      ]
    }
  ],
  "metadata": {
    "colab": {
      "name": "TATA_Motors_Stock_market_Forecasting.V3.ipynb",
      "provenance": [],
      "authorship_tag": "ABX9TyMtCCoMGLjeqXDX5PQP7vpM",
      "include_colab_link": true
    },
    "kernelspec": {
      "display_name": "Python 3",
      "name": "python3"
    },
    "language_info": {
      "name": "python"
    }
  },
  "nbformat": 4,
  "nbformat_minor": 0
}
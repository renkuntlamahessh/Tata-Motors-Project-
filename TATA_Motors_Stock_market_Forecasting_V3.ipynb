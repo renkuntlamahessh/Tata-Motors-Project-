{
  "cells": [
    {
      "cell_type": "markdown",
      "metadata": {
        "id": "view-in-github",
        "colab_type": "text"
      },
      "source": [
        "<a href=\"https://colab.research.google.com/github/rmahesh6386/Tata-Motors-Project-/blob/main/TATA_Motors_Stock_market_Forecasting_V3.ipynb\" target=\"_parent\"><img src=\"https://colab.research.google.com/assets/colab-badge.svg\" alt=\"Open In Colab\"/></a>"
      ]
    },
    {
      "cell_type": "code",
      "execution_count": 120,
      "metadata": {
        "colab": {
          "base_uri": "https://localhost:8080/"
        },
        "id": "nj_ZJFtXrvue",
        "outputId": "ca9b7ade-51a9-419d-eef4-10437ad89a8e"
      },
      "outputs": [
        {
          "output_type": "stream",
          "name": "stdout",
          "text": [
            "Drive already mounted at /content/gdrive; to attempt to forcibly remount, call drive.mount(\"/content/gdrive\", force_remount=True).\n"
          ]
        }
      ],
      "source": [
        "from google.colab import drive\n",
        "drive.mount('/content/gdrive')\n",
        "import sys\n",
        "sys.path.append('/content/gdrive/My Drive/Colab Notebooks')"
      ]
    },
    {
      "cell_type": "code",
      "execution_count": 121,
      "metadata": {
        "id": "zzslioq8xYCC"
      },
      "outputs": [],
      "source": [
        "import pandas as pd\n",
        "import numpy as np\n",
        "import matplotlib.pyplot as plt\n",
        "\n",
        "from sklearn import metrics\n",
        "\n",
        "plt.style.use(\"ggplot\")\n",
        "\n",
        "%matplotlib inline"
      ]
    },
    {
      "cell_type": "code",
      "execution_count": 122,
      "metadata": {
        "id": "8Esf5p3JxeiV"
      },
      "outputs": [],
      "source": [
        "plt.rcParams[\"figure.figsize\"] = (12, 6)"
      ]
    },
    {
      "cell_type": "code",
      "execution_count": 123,
      "metadata": {
        "id": "9ze_i7kzr-Gt"
      },
      "outputs": [],
      "source": [
        "# For reading stock data from yahoo\n",
        "from pandas_datareader import data as pdr\n",
        "import yfinance as yfin\n",
        "yfin.pdr_override()\n",
        "\n",
        "# For time stamps\n",
        "from datetime import datetime\n",
        "\n",
        "# For division\n",
        "from __future__ import division"
      ]
    },
    {
      "cell_type": "code",
      "execution_count": 124,
      "metadata": {
        "colab": {
          "base_uri": "https://localhost:8080/"
        },
        "id": "DirsdQMLsIom",
        "outputId": "5c6201cc-ea41-4713-f4d6-3c89064fce89"
      },
      "outputs": [
        {
          "output_type": "stream",
          "name": "stdout",
          "text": [
            "\r[*********************100%***********************]  1 of 1 completed\n"
          ]
        }
      ],
      "source": [
        "#stock Company for analytics\n",
        "stock = ['TATAMOTORS.NS']\n",
        "data_source = 'yahoo' \n",
        "\n",
        "# set up Start and End time for data grab\n",
        "dt = datetime.now()\n",
        "end = datetime(dt.year,dt.month,dt.day)\n",
        "start = datetime(end.year-10,end.month,end.day)\n",
        "\n",
        "# Set DataFrame as the Stock Ticker\n",
        "df = pdr.get_data_yahoo(stock,start,end)"
      ]
    },
    {
      "cell_type": "code",
      "execution_count": 125,
      "metadata": {
        "colab": {
          "base_uri": "https://localhost:8080/",
          "height": 455
        },
        "id": "4pCFgMn4sWOU",
        "outputId": "2b01c611-a32f-47da-febb-7f57cefed301"
      },
      "outputs": [
        {
          "output_type": "execute_result",
          "data": {
            "text/plain": [
              "                  Open        High         Low       Close   Adj Close  \\\n",
              "Date                                                                     \n",
              "2012-08-03  218.654709  219.644104  213.856171  218.605240  216.115479   \n",
              "2012-08-06  224.096344  227.509735  223.700592  226.619278  224.038239   \n",
              "2012-08-07  228.894867  236.958389  228.647522  236.265808  233.574890   \n",
              "2012-08-08  237.601486  243.191528  237.156265  238.937164  236.215820   \n",
              "2012-08-09  239.827606  243.389404  229.191696  236.760513  234.063965   \n",
              "...                ...         ...         ...         ...         ...   \n",
              "2022-07-27  441.149994  445.000000  436.100006  444.049988  444.049988   \n",
              "2022-07-28  440.250000  449.250000  427.399994  442.250000  442.250000   \n",
              "2022-07-29  445.149994  452.700012  445.149994  449.600006  449.600006   \n",
              "2022-08-01  451.950012  481.000000  451.049988  479.200012  479.200012   \n",
              "2022-08-02  478.899994  479.899994  469.250000  476.250000  476.250000   \n",
              "\n",
              "              Volume  \n",
              "Date                  \n",
              "2012-08-03   7327872  \n",
              "2012-08-06   7596745  \n",
              "2012-08-07  12277598  \n",
              "2012-08-08  15104047  \n",
              "2012-08-09  29687040  \n",
              "...              ...  \n",
              "2022-07-27  10081023  \n",
              "2022-07-28  36380444  \n",
              "2022-07-29  16004096  \n",
              "2022-08-01  43084536  \n",
              "2022-08-02  19065689  \n",
              "\n",
              "[2463 rows x 6 columns]"
            ],
            "text/html": [
              "\n",
              "  <div id=\"df-052679d3-accc-4cf9-9929-ee0f1f632b45\">\n",
              "    <div class=\"colab-df-container\">\n",
              "      <div>\n",
              "<style scoped>\n",
              "    .dataframe tbody tr th:only-of-type {\n",
              "        vertical-align: middle;\n",
              "    }\n",
              "\n",
              "    .dataframe tbody tr th {\n",
              "        vertical-align: top;\n",
              "    }\n",
              "\n",
              "    .dataframe thead th {\n",
              "        text-align: right;\n",
              "    }\n",
              "</style>\n",
              "<table border=\"1\" class=\"dataframe\">\n",
              "  <thead>\n",
              "    <tr style=\"text-align: right;\">\n",
              "      <th></th>\n",
              "      <th>Open</th>\n",
              "      <th>High</th>\n",
              "      <th>Low</th>\n",
              "      <th>Close</th>\n",
              "      <th>Adj Close</th>\n",
              "      <th>Volume</th>\n",
              "    </tr>\n",
              "    <tr>\n",
              "      <th>Date</th>\n",
              "      <th></th>\n",
              "      <th></th>\n",
              "      <th></th>\n",
              "      <th></th>\n",
              "      <th></th>\n",
              "      <th></th>\n",
              "    </tr>\n",
              "  </thead>\n",
              "  <tbody>\n",
              "    <tr>\n",
              "      <th>2012-08-03</th>\n",
              "      <td>218.654709</td>\n",
              "      <td>219.644104</td>\n",
              "      <td>213.856171</td>\n",
              "      <td>218.605240</td>\n",
              "      <td>216.115479</td>\n",
              "      <td>7327872</td>\n",
              "    </tr>\n",
              "    <tr>\n",
              "      <th>2012-08-06</th>\n",
              "      <td>224.096344</td>\n",
              "      <td>227.509735</td>\n",
              "      <td>223.700592</td>\n",
              "      <td>226.619278</td>\n",
              "      <td>224.038239</td>\n",
              "      <td>7596745</td>\n",
              "    </tr>\n",
              "    <tr>\n",
              "      <th>2012-08-07</th>\n",
              "      <td>228.894867</td>\n",
              "      <td>236.958389</td>\n",
              "      <td>228.647522</td>\n",
              "      <td>236.265808</td>\n",
              "      <td>233.574890</td>\n",
              "      <td>12277598</td>\n",
              "    </tr>\n",
              "    <tr>\n",
              "      <th>2012-08-08</th>\n",
              "      <td>237.601486</td>\n",
              "      <td>243.191528</td>\n",
              "      <td>237.156265</td>\n",
              "      <td>238.937164</td>\n",
              "      <td>236.215820</td>\n",
              "      <td>15104047</td>\n",
              "    </tr>\n",
              "    <tr>\n",
              "      <th>2012-08-09</th>\n",
              "      <td>239.827606</td>\n",
              "      <td>243.389404</td>\n",
              "      <td>229.191696</td>\n",
              "      <td>236.760513</td>\n",
              "      <td>234.063965</td>\n",
              "      <td>29687040</td>\n",
              "    </tr>\n",
              "    <tr>\n",
              "      <th>...</th>\n",
              "      <td>...</td>\n",
              "      <td>...</td>\n",
              "      <td>...</td>\n",
              "      <td>...</td>\n",
              "      <td>...</td>\n",
              "      <td>...</td>\n",
              "    </tr>\n",
              "    <tr>\n",
              "      <th>2022-07-27</th>\n",
              "      <td>441.149994</td>\n",
              "      <td>445.000000</td>\n",
              "      <td>436.100006</td>\n",
              "      <td>444.049988</td>\n",
              "      <td>444.049988</td>\n",
              "      <td>10081023</td>\n",
              "    </tr>\n",
              "    <tr>\n",
              "      <th>2022-07-28</th>\n",
              "      <td>440.250000</td>\n",
              "      <td>449.250000</td>\n",
              "      <td>427.399994</td>\n",
              "      <td>442.250000</td>\n",
              "      <td>442.250000</td>\n",
              "      <td>36380444</td>\n",
              "    </tr>\n",
              "    <tr>\n",
              "      <th>2022-07-29</th>\n",
              "      <td>445.149994</td>\n",
              "      <td>452.700012</td>\n",
              "      <td>445.149994</td>\n",
              "      <td>449.600006</td>\n",
              "      <td>449.600006</td>\n",
              "      <td>16004096</td>\n",
              "    </tr>\n",
              "    <tr>\n",
              "      <th>2022-08-01</th>\n",
              "      <td>451.950012</td>\n",
              "      <td>481.000000</td>\n",
              "      <td>451.049988</td>\n",
              "      <td>479.200012</td>\n",
              "      <td>479.200012</td>\n",
              "      <td>43084536</td>\n",
              "    </tr>\n",
              "    <tr>\n",
              "      <th>2022-08-02</th>\n",
              "      <td>478.899994</td>\n",
              "      <td>479.899994</td>\n",
              "      <td>469.250000</td>\n",
              "      <td>476.250000</td>\n",
              "      <td>476.250000</td>\n",
              "      <td>19065689</td>\n",
              "    </tr>\n",
              "  </tbody>\n",
              "</table>\n",
              "<p>2463 rows × 6 columns</p>\n",
              "</div>\n",
              "      <button class=\"colab-df-convert\" onclick=\"convertToInteractive('df-052679d3-accc-4cf9-9929-ee0f1f632b45')\"\n",
              "              title=\"Convert this dataframe to an interactive table.\"\n",
              "              style=\"display:none;\">\n",
              "        \n",
              "  <svg xmlns=\"http://www.w3.org/2000/svg\" height=\"24px\"viewBox=\"0 0 24 24\"\n",
              "       width=\"24px\">\n",
              "    <path d=\"M0 0h24v24H0V0z\" fill=\"none\"/>\n",
              "    <path d=\"M18.56 5.44l.94 2.06.94-2.06 2.06-.94-2.06-.94-.94-2.06-.94 2.06-2.06.94zm-11 1L8.5 8.5l.94-2.06 2.06-.94-2.06-.94L8.5 2.5l-.94 2.06-2.06.94zm10 10l.94 2.06.94-2.06 2.06-.94-2.06-.94-.94-2.06-.94 2.06-2.06.94z\"/><path d=\"M17.41 7.96l-1.37-1.37c-.4-.4-.92-.59-1.43-.59-.52 0-1.04.2-1.43.59L10.3 9.45l-7.72 7.72c-.78.78-.78 2.05 0 2.83L4 21.41c.39.39.9.59 1.41.59.51 0 1.02-.2 1.41-.59l7.78-7.78 2.81-2.81c.8-.78.8-2.07 0-2.86zM5.41 20L4 18.59l7.72-7.72 1.47 1.35L5.41 20z\"/>\n",
              "  </svg>\n",
              "      </button>\n",
              "      \n",
              "  <style>\n",
              "    .colab-df-container {\n",
              "      display:flex;\n",
              "      flex-wrap:wrap;\n",
              "      gap: 12px;\n",
              "    }\n",
              "\n",
              "    .colab-df-convert {\n",
              "      background-color: #E8F0FE;\n",
              "      border: none;\n",
              "      border-radius: 50%;\n",
              "      cursor: pointer;\n",
              "      display: none;\n",
              "      fill: #1967D2;\n",
              "      height: 32px;\n",
              "      padding: 0 0 0 0;\n",
              "      width: 32px;\n",
              "    }\n",
              "\n",
              "    .colab-df-convert:hover {\n",
              "      background-color: #E2EBFA;\n",
              "      box-shadow: 0px 1px 2px rgba(60, 64, 67, 0.3), 0px 1px 3px 1px rgba(60, 64, 67, 0.15);\n",
              "      fill: #174EA6;\n",
              "    }\n",
              "\n",
              "    [theme=dark] .colab-df-convert {\n",
              "      background-color: #3B4455;\n",
              "      fill: #D2E3FC;\n",
              "    }\n",
              "\n",
              "    [theme=dark] .colab-df-convert:hover {\n",
              "      background-color: #434B5C;\n",
              "      box-shadow: 0px 1px 3px 1px rgba(0, 0, 0, 0.15);\n",
              "      filter: drop-shadow(0px 1px 2px rgba(0, 0, 0, 0.3));\n",
              "      fill: #FFFFFF;\n",
              "    }\n",
              "  </style>\n",
              "\n",
              "      <script>\n",
              "        const buttonEl =\n",
              "          document.querySelector('#df-052679d3-accc-4cf9-9929-ee0f1f632b45 button.colab-df-convert');\n",
              "        buttonEl.style.display =\n",
              "          google.colab.kernel.accessAllowed ? 'block' : 'none';\n",
              "\n",
              "        async function convertToInteractive(key) {\n",
              "          const element = document.querySelector('#df-052679d3-accc-4cf9-9929-ee0f1f632b45');\n",
              "          const dataTable =\n",
              "            await google.colab.kernel.invokeFunction('convertToInteractive',\n",
              "                                                     [key], {});\n",
              "          if (!dataTable) return;\n",
              "\n",
              "          const docLinkHtml = 'Like what you see? Visit the ' +\n",
              "            '<a target=\"_blank\" href=https://colab.research.google.com/notebooks/data_table.ipynb>data table notebook</a>'\n",
              "            + ' to learn more about interactive tables.';\n",
              "          element.innerHTML = '';\n",
              "          dataTable['output_type'] = 'display_data';\n",
              "          await google.colab.output.renderOutput(dataTable, element);\n",
              "          const docLink = document.createElement('div');\n",
              "          docLink.innerHTML = docLinkHtml;\n",
              "          element.appendChild(docLink);\n",
              "        }\n",
              "      </script>\n",
              "    </div>\n",
              "  </div>\n",
              "  "
            ]
          },
          "metadata": {},
          "execution_count": 125
        }
      ],
      "source": [
        "df"
      ]
    },
    {
      "cell_type": "code",
      "execution_count": 126,
      "metadata": {
        "colab": {
          "base_uri": "https://localhost:8080/"
        },
        "id": "TpfJej1ztYyw",
        "outputId": "cc672ae3-297c-4d9b-c9c4-f86869f0b26e"
      },
      "outputs": [
        {
          "output_type": "execute_result",
          "data": {
            "text/plain": [
              "DatetimeIndex(['2012-08-03', '2012-08-06', '2012-08-07', '2012-08-08',\n",
              "               '2012-08-09', '2012-08-10', '2012-08-13', '2012-08-14',\n",
              "               '2012-08-16', '2012-08-17',\n",
              "               ...\n",
              "               '2022-07-20', '2022-07-21', '2022-07-22', '2022-07-25',\n",
              "               '2022-07-26', '2022-07-27', '2022-07-28', '2022-07-29',\n",
              "               '2022-08-01', '2022-08-02'],\n",
              "              dtype='datetime64[ns]', name='Date', length=2463, freq=None)"
            ]
          },
          "metadata": {},
          "execution_count": 126
        }
      ],
      "source": [
        "df.index"
      ]
    },
    {
      "cell_type": "markdown",
      "metadata": {
        "id": "DYjX_xYAtnYO"
      },
      "source": [
        "Check whether you have duplicate data on by date"
      ]
    },
    {
      "cell_type": "code",
      "execution_count": 127,
      "metadata": {
        "colab": {
          "base_uri": "https://localhost:8080/",
          "height": 81
        },
        "id": "MHThdAkBselW",
        "outputId": "5ffdeca9-00e4-4278-ccb5-054e6e6fed06"
      },
      "outputs": [
        {
          "output_type": "execute_result",
          "data": {
            "text/plain": [
              "Empty DataFrame\n",
              "Columns: [Open, High, Low, Close, Adj Close, Volume]\n",
              "Index: []"
            ],
            "text/html": [
              "\n",
              "  <div id=\"df-7939f44b-001d-4746-9562-c8db7f32f50c\">\n",
              "    <div class=\"colab-df-container\">\n",
              "      <div>\n",
              "<style scoped>\n",
              "    .dataframe tbody tr th:only-of-type {\n",
              "        vertical-align: middle;\n",
              "    }\n",
              "\n",
              "    .dataframe tbody tr th {\n",
              "        vertical-align: top;\n",
              "    }\n",
              "\n",
              "    .dataframe thead th {\n",
              "        text-align: right;\n",
              "    }\n",
              "</style>\n",
              "<table border=\"1\" class=\"dataframe\">\n",
              "  <thead>\n",
              "    <tr style=\"text-align: right;\">\n",
              "      <th></th>\n",
              "      <th>Open</th>\n",
              "      <th>High</th>\n",
              "      <th>Low</th>\n",
              "      <th>Close</th>\n",
              "      <th>Adj Close</th>\n",
              "      <th>Volume</th>\n",
              "    </tr>\n",
              "    <tr>\n",
              "      <th>Date</th>\n",
              "      <th></th>\n",
              "      <th></th>\n",
              "      <th></th>\n",
              "      <th></th>\n",
              "      <th></th>\n",
              "      <th></th>\n",
              "    </tr>\n",
              "  </thead>\n",
              "  <tbody>\n",
              "  </tbody>\n",
              "</table>\n",
              "</div>\n",
              "      <button class=\"colab-df-convert\" onclick=\"convertToInteractive('df-7939f44b-001d-4746-9562-c8db7f32f50c')\"\n",
              "              title=\"Convert this dataframe to an interactive table.\"\n",
              "              style=\"display:none;\">\n",
              "        \n",
              "  <svg xmlns=\"http://www.w3.org/2000/svg\" height=\"24px\"viewBox=\"0 0 24 24\"\n",
              "       width=\"24px\">\n",
              "    <path d=\"M0 0h24v24H0V0z\" fill=\"none\"/>\n",
              "    <path d=\"M18.56 5.44l.94 2.06.94-2.06 2.06-.94-2.06-.94-.94-2.06-.94 2.06-2.06.94zm-11 1L8.5 8.5l.94-2.06 2.06-.94-2.06-.94L8.5 2.5l-.94 2.06-2.06.94zm10 10l.94 2.06.94-2.06 2.06-.94-2.06-.94-.94-2.06-.94 2.06-2.06.94z\"/><path d=\"M17.41 7.96l-1.37-1.37c-.4-.4-.92-.59-1.43-.59-.52 0-1.04.2-1.43.59L10.3 9.45l-7.72 7.72c-.78.78-.78 2.05 0 2.83L4 21.41c.39.39.9.59 1.41.59.51 0 1.02-.2 1.41-.59l7.78-7.78 2.81-2.81c.8-.78.8-2.07 0-2.86zM5.41 20L4 18.59l7.72-7.72 1.47 1.35L5.41 20z\"/>\n",
              "  </svg>\n",
              "      </button>\n",
              "      \n",
              "  <style>\n",
              "    .colab-df-container {\n",
              "      display:flex;\n",
              "      flex-wrap:wrap;\n",
              "      gap: 12px;\n",
              "    }\n",
              "\n",
              "    .colab-df-convert {\n",
              "      background-color: #E8F0FE;\n",
              "      border: none;\n",
              "      border-radius: 50%;\n",
              "      cursor: pointer;\n",
              "      display: none;\n",
              "      fill: #1967D2;\n",
              "      height: 32px;\n",
              "      padding: 0 0 0 0;\n",
              "      width: 32px;\n",
              "    }\n",
              "\n",
              "    .colab-df-convert:hover {\n",
              "      background-color: #E2EBFA;\n",
              "      box-shadow: 0px 1px 2px rgba(60, 64, 67, 0.3), 0px 1px 3px 1px rgba(60, 64, 67, 0.15);\n",
              "      fill: #174EA6;\n",
              "    }\n",
              "\n",
              "    [theme=dark] .colab-df-convert {\n",
              "      background-color: #3B4455;\n",
              "      fill: #D2E3FC;\n",
              "    }\n",
              "\n",
              "    [theme=dark] .colab-df-convert:hover {\n",
              "      background-color: #434B5C;\n",
              "      box-shadow: 0px 1px 3px 1px rgba(0, 0, 0, 0.15);\n",
              "      filter: drop-shadow(0px 1px 2px rgba(0, 0, 0, 0.3));\n",
              "      fill: #FFFFFF;\n",
              "    }\n",
              "  </style>\n",
              "\n",
              "      <script>\n",
              "        const buttonEl =\n",
              "          document.querySelector('#df-7939f44b-001d-4746-9562-c8db7f32f50c button.colab-df-convert');\n",
              "        buttonEl.style.display =\n",
              "          google.colab.kernel.accessAllowed ? 'block' : 'none';\n",
              "\n",
              "        async function convertToInteractive(key) {\n",
              "          const element = document.querySelector('#df-7939f44b-001d-4746-9562-c8db7f32f50c');\n",
              "          const dataTable =\n",
              "            await google.colab.kernel.invokeFunction('convertToInteractive',\n",
              "                                                     [key], {});\n",
              "          if (!dataTable) return;\n",
              "\n",
              "          const docLinkHtml = 'Like what you see? Visit the ' +\n",
              "            '<a target=\"_blank\" href=https://colab.research.google.com/notebooks/data_table.ipynb>data table notebook</a>'\n",
              "            + ' to learn more about interactive tables.';\n",
              "          element.innerHTML = '';\n",
              "          dataTable['output_type'] = 'display_data';\n",
              "          await google.colab.output.renderOutput(dataTable, element);\n",
              "          const docLink = document.createElement('div');\n",
              "          docLink.innerHTML = docLinkHtml;\n",
              "          element.appendChild(docLink);\n",
              "        }\n",
              "      </script>\n",
              "    </div>\n",
              "  </div>\n",
              "  "
            ]
          },
          "metadata": {},
          "execution_count": 127
        }
      ],
      "source": [
        "df[df.index.duplicated(keep = False)]"
      ]
    },
    {
      "cell_type": "code",
      "execution_count": 128,
      "metadata": {
        "colab": {
          "base_uri": "https://localhost:8080/",
          "height": 390
        },
        "id": "0EHWVgg4tapn",
        "outputId": "1752a07b-8700-42f1-85cd-0ee80f7f0687"
      },
      "outputs": [
        {
          "output_type": "execute_result",
          "data": {
            "text/plain": [
              "<matplotlib.axes._subplots.AxesSubplot at 0x7f1f0bc95c10>"
            ]
          },
          "metadata": {},
          "execution_count": 128
        },
        {
          "output_type": "display_data",
          "data": {
            "text/plain": [
              "<Figure size 864x432 with 1 Axes>"
            ],
            "image/png": "[encoded data removed]"
          },
          "metadata": {
            "needs_background": "light"
          }
        }
      ],
      "source": [
        "y = np.log(df[\"Close\"])\n",
        "y.plot()"
      ]
    },
    {
      "cell_type": "code",
      "execution_count": 129,
      "metadata": {
        "colab": {
          "base_uri": "https://localhost:8080/"
        },
        "id": "BIVM_qrXx3Gy",
        "outputId": "f845cd35-bc52-4607-aa09-edf02f41c162"
      },
      "outputs": [
        {
          "output_type": "execute_result",
          "data": {
            "text/plain": [
              "DatetimeIndex(['2012-08-03', '2012-08-06', '2012-08-07', '2012-08-08',\n",
              "               '2012-08-09', '2012-08-10', '2012-08-13', '2012-08-14',\n",
              "               '2012-08-16', '2012-08-17',\n",
              "               ...\n",
              "               '2022-07-20', '2022-07-21', '2022-07-22', '2022-07-25',\n",
              "               '2022-07-26', '2022-07-27', '2022-07-28', '2022-07-29',\n",
              "               '2022-08-01', '2022-08-02'],\n",
              "              dtype='datetime64[ns]', name='Date', length=2463, freq=None)"
            ]
          },
          "metadata": {},
          "execution_count": 129
        }
      ],
      "source": [
        "y.index"
      ]
    },
    {
      "cell_type": "markdown",
      "metadata": {
        "id": "Nc4RmLJbyq-L"
      },
      "source": [
        "Calculate rolling mean, exponentially weighted mean"
      ]
    },
    {
      "cell_type": "code",
      "execution_count": 130,
      "metadata": {
        "colab": {
          "base_uri": "https://localhost:8080/",
          "height": 238
        },
        "id": "WbDJFtpfyohM",
        "outputId": "fa421b29-bf89-4495-9dfd-15522b3edea3"
      },
      "outputs": [
        {
          "output_type": "execute_result",
          "data": {
            "text/plain": [
              "              actual  rolling_mean       ewm\n",
              "Date                                        \n",
              "2022-07-27  6.095937      6.052111  6.063704\n",
              "2022-07-28  6.091875      6.052693  6.064262\n",
              "2022-07-29  6.108358      6.054013  6.065135\n",
              "2022-08-01  6.172118      6.056028  6.067253\n",
              "2022-08-02  6.165943      6.057627  6.069208"
            ],
            "text/html": [
              "\n",
              "  <div id=\"df-9ef7c8c7-0c76-4cb1-9539-80ee045fb628\">\n",
              "    <div class=\"colab-df-container\">\n",
              "      <div>\n",
              "<style scoped>\n",
              "    .dataframe tbody tr th:only-of-type {\n",
              "        vertical-align: middle;\n",
              "    }\n",
              "\n",
              "    .dataframe tbody tr th {\n",
              "        vertical-align: top;\n",
              "    }\n",
              "\n",
              "    .dataframe thead th {\n",
              "        text-align: right;\n",
              "    }\n",
              "</style>\n",
              "<table border=\"1\" class=\"dataframe\">\n",
              "  <thead>\n",
              "    <tr style=\"text-align: right;\">\n",
              "      <th></th>\n",
              "      <th>actual</th>\n",
              "      <th>rolling_mean</th>\n",
              "      <th>ewm</th>\n",
              "    </tr>\n",
              "    <tr>\n",
              "      <th>Date</th>\n",
              "      <th></th>\n",
              "      <th></th>\n",
              "      <th></th>\n",
              "    </tr>\n",
              "  </thead>\n",
              "  <tbody>\n",
              "    <tr>\n",
              "      <th>2022-07-27</th>\n",
              "      <td>6.095937</td>\n",
              "      <td>6.052111</td>\n",
              "      <td>6.063704</td>\n",
              "    </tr>\n",
              "    <tr>\n",
              "      <th>2022-07-28</th>\n",
              "      <td>6.091875</td>\n",
              "      <td>6.052693</td>\n",
              "      <td>6.064262</td>\n",
              "    </tr>\n",
              "    <tr>\n",
              "      <th>2022-07-29</th>\n",
              "      <td>6.108358</td>\n",
              "      <td>6.054013</td>\n",
              "      <td>6.065135</td>\n",
              "    </tr>\n",
              "    <tr>\n",
              "      <th>2022-08-01</th>\n",
              "      <td>6.172118</td>\n",
              "      <td>6.056028</td>\n",
              "      <td>6.067253</td>\n",
              "    </tr>\n",
              "    <tr>\n",
              "      <th>2022-08-02</th>\n",
              "      <td>6.165943</td>\n",
              "      <td>6.057627</td>\n",
              "      <td>6.069208</td>\n",
              "    </tr>\n",
              "  </tbody>\n",
              "</table>\n",
              "</div>\n",
              "      <button class=\"colab-df-convert\" onclick=\"convertToInteractive('df-9ef7c8c7-0c76-4cb1-9539-80ee045fb628')\"\n",
              "              title=\"Convert this dataframe to an interactive table.\"\n",
              "              style=\"display:none;\">\n",
              "        \n",
              "  <svg xmlns=\"http://www.w3.org/2000/svg\" height=\"24px\"viewBox=\"0 0 24 24\"\n",
              "       width=\"24px\">\n",
              "    <path d=\"M0 0h24v24H0V0z\" fill=\"none\"/>\n",
              "    <path d=\"M18.56 5.44l.94 2.06.94-2.06 2.06-.94-2.06-.94-.94-2.06-.94 2.06-2.06.94zm-11 1L8.5 8.5l.94-2.06 2.06-.94-2.06-.94L8.5 2.5l-.94 2.06-2.06.94zm10 10l.94 2.06.94-2.06 2.06-.94-2.06-.94-.94-2.06-.94 2.06-2.06.94z\"/><path d=\"M17.41 7.96l-1.37-1.37c-.4-.4-.92-.59-1.43-.59-.52 0-1.04.2-1.43.59L10.3 9.45l-7.72 7.72c-.78.78-.78 2.05 0 2.83L4 21.41c.39.39.9.59 1.41.59.51 0 1.02-.2 1.41-.59l7.78-7.78 2.81-2.81c.8-.78.8-2.07 0-2.86zM5.41 20L4 18.59l7.72-7.72 1.47 1.35L5.41 20z\"/>\n",
              "  </svg>\n",
              "      </button>\n",
              "      \n",
              "  <style>\n",
              "    .colab-df-container {\n",
              "      display:flex;\n",
              "      flex-wrap:wrap;\n",
              "      gap: 12px;\n",
              "    }\n",
              "\n",
              "    .colab-df-convert {\n",
              "      background-color: #E8F0FE;\n",
              "      border: none;\n",
              "      border-radius: 50%;\n",
              "      cursor: pointer;\n",
              "      display: none;\n",
              "      fill: #1967D2;\n",
              "      height: 32px;\n",
              "      padding: 0 0 0 0;\n",
              "      width: 32px;\n",
              "    }\n",
              "\n",
              "    .colab-df-convert:hover {\n",
              "      background-color: #E2EBFA;\n",
              "      box-shadow: 0px 1px 2px rgba(60, 64, 67, 0.3), 0px 1px 3px 1px rgba(60, 64, 67, 0.15);\n",
              "      fill: #174EA6;\n",
              "    }\n",
              "\n",
              "    [theme=dark] .colab-df-convert {\n",
              "      background-color: #3B4455;\n",
              "      fill: #D2E3FC;\n",
              "    }\n",
              "\n",
              "    [theme=dark] .colab-df-convert:hover {\n",
              "      background-color: #434B5C;\n",
              "      box-shadow: 0px 1px 3px 1px rgba(0, 0, 0, 0.15);\n",
              "      filter: drop-shadow(0px 1px 2px rgba(0, 0, 0, 0.3));\n",
              "      fill: #FFFFFF;\n",
              "    }\n",
              "  </style>\n",
              "\n",
              "      <script>\n",
              "        const buttonEl =\n",
              "          document.querySelector('#df-9ef7c8c7-0c76-4cb1-9539-80ee045fb628 button.colab-df-convert');\n",
              "        buttonEl.style.display =\n",
              "          google.colab.kernel.accessAllowed ? 'block' : 'none';\n",
              "\n",
              "        async function convertToInteractive(key) {\n",
              "          const element = document.querySelector('#df-9ef7c8c7-0c76-4cb1-9539-80ee045fb628');\n",
              "          const dataTable =\n",
              "            await google.colab.kernel.invokeFunction('convertToInteractive',\n",
              "                                                     [key], {});\n",
              "          if (!dataTable) return;\n",
              "\n",
              "          const docLinkHtml = 'Like what you see? Visit the ' +\n",
              "            '<a target=\"_blank\" href=https://colab.research.google.com/notebooks/data_table.ipynb>data table notebook</a>'\n",
              "            + ' to learn more about interactive tables.';\n",
              "          element.innerHTML = '';\n",
              "          dataTable['output_type'] = 'display_data';\n",
              "          await google.colab.output.renderOutput(dataTable, element);\n",
              "          const docLink = document.createElement('div');\n",
              "          docLink.innerHTML = docLinkHtml;\n",
              "          element.appendChild(docLink);\n",
              "        }\n",
              "      </script>\n",
              "    </div>\n",
              "  </div>\n",
              "  "
            ]
          },
          "metadata": {},
          "execution_count": 130
        }
      ],
      "source": [
        "period = 100\n",
        "y_rolling = pd.DataFrame(dict(actual = y, \n",
        "                              rolling_mean = y.rolling(period).mean(), \n",
        "                              ewm = y.ewm(span = period).mean()\n",
        "                             ))\n",
        "y_rolling.tail()"
      ]
    },
    {
      "cell_type": "code",
      "execution_count": 131,
      "metadata": {
        "colab": {
          "base_uri": "https://localhost:8080/"
        },
        "id": "aI5pwCdIy690",
        "outputId": "feba6651-a2b9-4959-b557-272a9a44670b"
      },
      "outputs": [
        {
          "output_type": "stream",
          "name": "stdout",
          "text": [
            "rmse over rolling mean:  0.18574680952457842\n",
            "rmse over ewma:  0.15787534397721456\n"
          ]
        }
      ],
      "source": [
        "rolling_dropped = y_rolling.dropna()\n",
        "print(\"rmse over rolling mean: \", metrics.mean_squared_error(rolling_dropped.actual, rolling_dropped.rolling_mean) ** 0.5)\n",
        "print(\"rmse over ewma: \", metrics.mean_squared_error(rolling_dropped.actual, rolling_dropped[\"ewm\"]) ** 0.5)"
      ]
    },
    {
      "cell_type": "markdown",
      "metadata": {
        "id": "rGQL80_6y-k7"
      },
      "source": [
        "By visual inspection, we see the time series is not stationary. Let we will see a more formal way of testing using Dickey Fullter Test."
      ]
    },
    {
      "cell_type": "code",
      "execution_count": 132,
      "metadata": {
        "colab": {
          "base_uri": "https://localhost:8080/",
          "height": 390
        },
        "id": "M09S497Ay98t",
        "outputId": "e5e4127c-60eb-428e-9ebf-3166611e674e"
      },
      "outputs": [
        {
          "output_type": "execute_result",
          "data": {
            "text/plain": [
              "<matplotlib.axes._subplots.AxesSubplot at 0x7f1f0bbd4590>"
            ]
          },
          "metadata": {},
          "execution_count": 132
        },
        {
          "output_type": "display_data",
          "data": {
            "text/plain": [
              "<Figure size 864x432 with 1 Axes>"
            ],
            "image/png": "[encoded data removed]"
          },
          "metadata": {
            "needs_background": "light"
          }
        }
      ],
      "source": [
        "y_rolling.plot()"
      ]
    },
    {
      "cell_type": "markdown",
      "metadata": {
        "id": "n8C4YBGizGJ9"
      },
      "source": [
        "Formal of way of test for stationarity. Since the p-value of Augmented Dickey Fullter test is > 0.05, we can say that there is not sufficient proof that the time series is stationary. Loosely speaking, it is non-stationary. We need further transformation to make data stationary. Populary method for making data stationary will be to take \"difference\". Taking difference by lag one, we see the p-val for Dickey Fuller test is < 0.05. So we conclude, diff 1 has made the data stationary."
      ]
    },
    {
      "cell_type": "code",
      "source": [
        "from statsmodels.tsa.stattools import adfuller\n",
        "def check_stationarity(series):\n",
        "    result = adfuller(series.values)\n",
        "\n",
        "    print('ADF Statistic: %f' % result[0])\n",
        "    print('p-value: %f' % result[1])\n",
        "    print('Critical Values:')\n",
        "    for key, value in result[4].items():\n",
        "        print('\\t%s: %.3f' % (key, value))\n",
        "\n",
        "    if (result[1] <= 0.05) & (result[4]['5%'] > result[0]):\n",
        "        print(\"\\u001b[32mStationary\\u001b[0m\")\n",
        "    else:\n",
        "        print(\"\\x1b[31mNon-stationary\\x1b[0m\")\n",
        "\n",
        "check_stationarity(y.dropna())"
      ],
      "metadata": {
        "colab": {
          "base_uri": "https://localhost:8080/"
        },
        "id": "TCcDmvfj1RKj",
        "outputId": "2d04737c-ebbf-4eb0-a67e-2169a33aaa8e"
      },
      "execution_count": 133,
      "outputs": [
        {
          "output_type": "stream",
          "name": "stdout",
          "text": [
            "ADF Statistic: -1.348580\n",
            "p-value: 0.606665\n",
            "Critical Values:\n",
            "\t1%: -3.433\n",
            "\t5%: -2.863\n",
            "\t10%: -2.567\n",
            "\u001b[31mNon-stationary\u001b[0m\n"
          ]
        }
      ]
    },
    {
      "cell_type": "code",
      "execution_count": 134,
      "metadata": {
        "colab": {
          "base_uri": "https://localhost:8080/",
          "height": 394
        },
        "id": "pYNEQgoizMt3",
        "outputId": "d4a18195-58d1-4b43-855d-d35e26332ed2"
      },
      "outputs": [
        {
          "output_type": "execute_result",
          "data": {
            "text/plain": [
              "              actual     diff1     diff2\n",
              "Date                                    \n",
              "2012-08-03  5.387268       NaN       NaN\n",
              "2012-08-06  5.423271       NaN       NaN\n",
              "2012-08-07  5.464957       NaN       NaN\n",
              "2012-08-08  5.476201  0.088933       NaN\n",
              "2012-08-09  5.467049  0.043778 -0.045155\n",
              "2012-08-10  5.435853 -0.029105 -0.072882\n",
              "2012-08-13  5.419773 -0.056428 -0.027323\n",
              "2012-08-14  5.448917 -0.018133  0.038295\n",
              "2012-08-16  5.450830  0.014977  0.033109\n",
              "2012-08-17  5.470803  0.051030  0.036054"
            ],
            "text/html": [
              "\n",
              "  <div id=\"df-f2097a30-d741-4f27-9a87-6994db02dcea\">\n",
              "    <div class=\"colab-df-container\">\n",
              "      <div>\n",
              "<style scoped>\n",
              "    .dataframe tbody tr th:only-of-type {\n",
              "        vertical-align: middle;\n",
              "    }\n",
              "\n",
              "    .dataframe tbody tr th {\n",
              "        vertical-align: top;\n",
              "    }\n",
              "\n",
              "    .dataframe thead th {\n",
              "        text-align: right;\n",
              "    }\n",
              "</style>\n",
              "<table border=\"1\" class=\"dataframe\">\n",
              "  <thead>\n",
              "    <tr style=\"text-align: right;\">\n",
              "      <th></th>\n",
              "      <th>actual</th>\n",
              "      <th>diff1</th>\n",
              "      <th>diff2</th>\n",
              "    </tr>\n",
              "    <tr>\n",
              "      <th>Date</th>\n",
              "      <th></th>\n",
              "      <th></th>\n",
              "      <th></th>\n",
              "    </tr>\n",
              "  </thead>\n",
              "  <tbody>\n",
              "    <tr>\n",
              "      <th>2012-08-03</th>\n",
              "      <td>5.387268</td>\n",
              "      <td>NaN</td>\n",
              "      <td>NaN</td>\n",
              "    </tr>\n",
              "    <tr>\n",
              "      <th>2012-08-06</th>\n",
              "      <td>5.423271</td>\n",
              "      <td>NaN</td>\n",
              "      <td>NaN</td>\n",
              "    </tr>\n",
              "    <tr>\n",
              "      <th>2012-08-07</th>\n",
              "      <td>5.464957</td>\n",
              "      <td>NaN</td>\n",
              "      <td>NaN</td>\n",
              "    </tr>\n",
              "    <tr>\n",
              "      <th>2012-08-08</th>\n",
              "      <td>5.476201</td>\n",
              "      <td>0.088933</td>\n",
              "      <td>NaN</td>\n",
              "    </tr>\n",
              "    <tr>\n",
              "      <th>2012-08-09</th>\n",
              "      <td>5.467049</td>\n",
              "      <td>0.043778</td>\n",
              "      <td>-0.045155</td>\n",
              "    </tr>\n",
              "    <tr>\n",
              "      <th>2012-08-10</th>\n",
              "      <td>5.435853</td>\n",
              "      <td>-0.029105</td>\n",
              "      <td>-0.072882</td>\n",
              "    </tr>\n",
              "    <tr>\n",
              "      <th>2012-08-13</th>\n",
              "      <td>5.419773</td>\n",
              "      <td>-0.056428</td>\n",
              "      <td>-0.027323</td>\n",
              "    </tr>\n",
              "    <tr>\n",
              "      <th>2012-08-14</th>\n",
              "      <td>5.448917</td>\n",
              "      <td>-0.018133</td>\n",
              "      <td>0.038295</td>\n",
              "    </tr>\n",
              "    <tr>\n",
              "      <th>2012-08-16</th>\n",
              "      <td>5.450830</td>\n",
              "      <td>0.014977</td>\n",
              "      <td>0.033109</td>\n",
              "    </tr>\n",
              "    <tr>\n",
              "      <th>2012-08-17</th>\n",
              "      <td>5.470803</td>\n",
              "      <td>0.051030</td>\n",
              "      <td>0.036054</td>\n",
              "    </tr>\n",
              "  </tbody>\n",
              "</table>\n",
              "</div>\n",
              "      <button class=\"colab-df-convert\" onclick=\"convertToInteractive('df-f2097a30-d741-4f27-9a87-6994db02dcea')\"\n",
              "              title=\"Convert this dataframe to an interactive table.\"\n",
              "              style=\"display:none;\">\n",
              "        \n",
              "  <svg xmlns=\"http://www.w3.org/2000/svg\" height=\"24px\"viewBox=\"0 0 24 24\"\n",
              "       width=\"24px\">\n",
              "    <path d=\"M0 0h24v24H0V0z\" fill=\"none\"/>\n",
              "    <path d=\"M18.56 5.44l.94 2.06.94-2.06 2.06-.94-2.06-.94-.94-2.06-.94 2.06-2.06.94zm-11 1L8.5 8.5l.94-2.06 2.06-.94-2.06-.94L8.5 2.5l-.94 2.06-2.06.94zm10 10l.94 2.06.94-2.06 2.06-.94-2.06-.94-.94-2.06-.94 2.06-2.06.94z\"/><path d=\"M17.41 7.96l-1.37-1.37c-.4-.4-.92-.59-1.43-.59-.52 0-1.04.2-1.43.59L10.3 9.45l-7.72 7.72c-.78.78-.78 2.05 0 2.83L4 21.41c.39.39.9.59 1.41.59.51 0 1.02-.2 1.41-.59l7.78-7.78 2.81-2.81c.8-.78.8-2.07 0-2.86zM5.41 20L4 18.59l7.72-7.72 1.47 1.35L5.41 20z\"/>\n",
              "  </svg>\n",
              "      </button>\n",
              "      \n",
              "  <style>\n",
              "    .colab-df-container {\n",
              "      display:flex;\n",
              "      flex-wrap:wrap;\n",
              "      gap: 12px;\n",
              "    }\n",
              "\n",
              "    .colab-df-convert {\n",
              "      background-color: #E8F0FE;\n",
              "      border: none;\n",
              "      border-radius: 50%;\n",
              "      cursor: pointer;\n",
              "      display: none;\n",
              "      fill: #1967D2;\n",
              "      height: 32px;\n",
              "      padding: 0 0 0 0;\n",
              "      width: 32px;\n",
              "    }\n",
              "\n",
              "    .colab-df-convert:hover {\n",
              "      background-color: #E2EBFA;\n",
              "      box-shadow: 0px 1px 2px rgba(60, 64, 67, 0.3), 0px 1px 3px 1px rgba(60, 64, 67, 0.15);\n",
              "      fill: #174EA6;\n",
              "    }\n",
              "\n",
              "    [theme=dark] .colab-df-convert {\n",
              "      background-color: #3B4455;\n",
              "      fill: #D2E3FC;\n",
              "    }\n",
              "\n",
              "    [theme=dark] .colab-df-convert:hover {\n",
              "      background-color: #434B5C;\n",
              "      box-shadow: 0px 1px 3px 1px rgba(0, 0, 0, 0.15);\n",
              "      filter: drop-shadow(0px 1px 2px rgba(0, 0, 0, 0.3));\n",
              "      fill: #FFFFFF;\n",
              "    }\n",
              "  </style>\n",
              "\n",
              "      <script>\n",
              "        const buttonEl =\n",
              "          document.querySelector('#df-f2097a30-d741-4f27-9a87-6994db02dcea button.colab-df-convert');\n",
              "        buttonEl.style.display =\n",
              "          google.colab.kernel.accessAllowed ? 'block' : 'none';\n",
              "\n",
              "        async function convertToInteractive(key) {\n",
              "          const element = document.querySelector('#df-f2097a30-d741-4f27-9a87-6994db02dcea');\n",
              "          const dataTable =\n",
              "            await google.colab.kernel.invokeFunction('convertToInteractive',\n",
              "                                                     [key], {});\n",
              "          if (!dataTable) return;\n",
              "\n",
              "          const docLinkHtml = 'Like what you see? Visit the ' +\n",
              "            '<a target=\"_blank\" href=https://colab.research.google.com/notebooks/data_table.ipynb>data table notebook</a>'\n",
              "            + ' to learn more about interactive tables.';\n",
              "          element.innerHTML = '';\n",
              "          dataTable['output_type'] = 'display_data';\n",
              "          await google.colab.output.renderOutput(dataTable, element);\n",
              "          const docLink = document.createElement('div');\n",
              "          docLink.innerHTML = docLinkHtml;\n",
              "          element.appendChild(docLink);\n",
              "        }\n",
              "      </script>\n",
              "    </div>\n",
              "  </div>\n",
              "  "
            ]
          },
          "metadata": {},
          "execution_count": 134
        }
      ],
      "source": [
        "diff = pd.DataFrame({\"actual\": y, \"diff1\": y.diff(3)}).head(10)\n",
        "diff[\"diff2\"] = diff.diff1.diff(1)\n",
        "diff"
      ]
    },
    {
      "cell_type": "code",
      "source": [
        "def check_stationarity(series):\n",
        "    result = adfuller(series.values)\n",
        "\n",
        "    print('ADF Statistic: %f' % result[0])\n",
        "    print('p-value: %f' % result[1])\n",
        "    print('Critical Values:')\n",
        "    for key, value in result[4].items():\n",
        "        print('\\t%s: %.3f' % (key, value))\n",
        "\n",
        "    if (result[1] <= 0.05) & (result[4]['5%'] > result[0]):\n",
        "        print(\"\\u001b[32mStationary\\u001b[0m\")\n",
        "    else:\n",
        "        print(\"\\x1b[31mNon-stationary\\x1b[0m\")\n",
        "\n",
        "check_stationarity(y.diff(periods=1).dropna())"
      ],
      "metadata": {
        "colab": {
          "base_uri": "https://localhost:8080/"
        },
        "id": "niBR9K4I08Ld",
        "outputId": "f2c24137-1bc8-462d-9569-840e8ea16a97"
      },
      "execution_count": 135,
      "outputs": [
        {
          "output_type": "stream",
          "name": "stdout",
          "text": [
            "ADF Statistic: -48.578472\n",
            "p-value: 0.000000\n",
            "Critical Values:\n",
            "\t1%: -3.433\n",
            "\t5%: -2.863\n",
            "\t10%: -2.567\n",
            "\u001b[32mStationary\u001b[0m\n"
          ]
        }
      ]
    },
    {
      "cell_type": "code",
      "execution_count": 136,
      "metadata": {
        "colab": {
          "base_uri": "https://localhost:8080/",
          "height": 387
        },
        "id": "pNTi8VugzWHs",
        "outputId": "18032ecf-aa6c-4a51-a19d-4ac39f6b52bc"
      },
      "outputs": [
        {
          "output_type": "execute_result",
          "data": {
            "text/plain": [
              "<matplotlib.axes._subplots.AxesSubplot at 0x7f1f0bb43750>"
            ]
          },
          "metadata": {},
          "execution_count": 136
        },
        {
          "output_type": "display_data",
          "data": {
            "text/plain": [
              "<Figure size 864x432 with 1 Axes>"
            ],
            "image/png": "[encoded data removed]"
          },
          "metadata": {
            "needs_background": "light"
          }
        }
      ],
      "source": [
        "y.diff(periods=1).plot()"
      ]
    },
    {
      "cell_type": "markdown",
      "metadata": {
        "id": "l-9SCo14zaDR"
      },
      "source": [
        "Use pandas's auto correlation plot. Here is a nice explanation of the autocorrelation plot"
      ]
    },
    {
      "cell_type": "code",
      "execution_count": 137,
      "metadata": {
        "colab": {
          "base_uri": "https://localhost:8080/",
          "height": 412
        },
        "id": "w3zx6HQqzcI8",
        "outputId": "aff5b778-1bd0-4652-dd35-e496964de068"
      },
      "outputs": [
        {
          "output_type": "execute_result",
          "data": {
            "text/plain": [
              "<matplotlib.axes._subplots.AxesSubplot at 0x7f1f0bb0a850>"
            ]
          },
          "metadata": {},
          "execution_count": 137
        },
        {
          "output_type": "display_data",
          "data": {
            "text/plain": [
              "<Figure size 864x432 with 1 Axes>"
            ],
            "image/png": "[encoded data removed]"
          },
          "metadata": {
            "needs_background": "light"
          }
        }
      ],
      "source": [
        "from pandas.plotting import autocorrelation_plot\n",
        "autocorrelation_plot(y)"
      ]
    },
    {
      "cell_type": "code",
      "execution_count": 138,
      "metadata": {
        "id": "HkhtB1sazfR8"
      },
      "outputs": [],
      "source": [
        "y = y.dropna()"
      ]
    },
    {
      "cell_type": "code",
      "source": [
        "from statsmodels.tsa.arima_model import ARIMA\n",
        "from pmdarima.arima import auto_arima\n",
        "\n",
        "model_autoARIMA = auto_arima(y, start_p=0, start_q=0,\n",
        "                      test='adf',       # use adftest to find             optimal 'd'\n",
        "                      max_p=3, max_q=3, # maximum p and q\n",
        "                      m=1,              # frequency of series\n",
        "                      d=None,           # let model determine 'd'\n",
        "                      seasonal=False,   # No Seasonality\n",
        "                      start_P=0, \n",
        "                      D=0, \n",
        "                      trace=True,\n",
        "                      error_action='ignore',  \n",
        "                      suppress_warnings=True, \n",
        "                      stepwise=True)\n",
        "print(model_autoARIMA.summary())"
      ],
      "metadata": {
        "colab": {
          "base_uri": "https://localhost:8080/"
        },
        "id": "Icolo5JXn1mu",
        "outputId": "8a7e2b8d-030f-471c-c083-d256e33aad4f"
      },
      "execution_count": 139,
      "outputs": [
        {
          "output_type": "stream",
          "name": "stdout",
          "text": [
            "Performing stepwise search to minimize aic\n",
            " ARIMA(0,1,0)(0,0,0)[0] intercept   : AIC=-10819.685, Time=0.26 sec\n",
            " ARIMA(1,1,0)(0,0,0)[0] intercept   : AIC=-10818.762, Time=0.47 sec\n",
            " ARIMA(0,1,1)(0,0,0)[0] intercept   : AIC=-10818.741, Time=0.66 sec\n",
            " ARIMA(0,1,0)(0,0,0)[0]             : AIC=-10821.343, Time=0.16 sec\n",
            " ARIMA(1,1,1)(0,0,0)[0] intercept   : AIC=-10817.084, Time=1.14 sec\n",
            "\n",
            "Best model:  ARIMA(0,1,0)(0,0,0)[0]          \n",
            "Total fit time: 2.703 seconds\n",
            "                           Statespace Model Results                           \n",
            "==============================================================================\n",
            "Dep. Variable:                      y   No. Observations:                 2463\n",
            "Model:               SARIMAX(0, 1, 0)   Log Likelihood                5411.672\n",
            "Date:                Wed, 03 Aug 2022   AIC                         -10821.343\n",
            "Time:                        08:21:00   BIC                         -10815.535\n",
            "Sample:                             0   HQIC                        -10819.233\n",
            "                               - 2463                                         \n",
            "Covariance Type:                  opg                                         \n",
            "==============================================================================\n",
            "                 coef    std err          z      P>|z|      [0.025      0.975]\n",
            "------------------------------------------------------------------------------\n",
            "sigma2         0.0007   1.03e-05     70.186      0.000       0.001       0.001\n",
            "===================================================================================\n",
            "Ljung-Box (Q):                       47.43   Jarque-Bera (JB):              3697.25\n",
            "Prob(Q):                              0.20   Prob(JB):                         0.00\n",
            "Heteroskedasticity (H):               2.48   Skew:                             0.20\n",
            "Prob(H) (two-sided):                  0.00   Kurtosis:                         8.99\n",
            "===================================================================================\n",
            "\n",
            "Warnings:\n",
            "[1] Covariance matrix calculated using the outer product of gradients (complex-step).\n"
          ]
        }
      ]
    },
    {
      "cell_type": "code",
      "execution_count": 140,
      "metadata": {
        "colab": {
          "base_uri": "https://localhost:8080/",
          "height": 975
        },
        "id": "qJ75Y_X-zh5X",
        "outputId": "48d9444d-0928-47d6-b1ef-6b115fab0ada"
      },
      "outputs": [
        {
          "output_type": "stream",
          "name": "stdout",
          "text": [
            "                  0\n",
            "count  2.462000e+03\n",
            "mean   5.700273e-10\n",
            "std    2.686626e-02\n",
            "min   -1.936914e-01\n",
            "25%   -1.355490e-02\n",
            "50%   -3.162770e-04\n",
            "75%    1.317236e-02\n",
            "max    1.857210e-01\n"
          ]
        },
        {
          "output_type": "stream",
          "name": "stderr",
          "text": [
            "/usr/local/lib/python3.7/dist-packages/statsmodels/tsa/base/tsa_model.py:219: ValueWarning: A date index has been provided, but it has no associated frequency information and so will be ignored when e.g. forecasting.\n",
            "  ' ignored when e.g. forecasting.', ValueWarning)\n",
            "/usr/local/lib/python3.7/dist-packages/statsmodels/tsa/base/tsa_model.py:219: ValueWarning: A date index has been provided, but it has no associated frequency information and so will be ignored when e.g. forecasting.\n",
            "  ' ignored when e.g. forecasting.', ValueWarning)\n"
          ]
        },
        {
          "output_type": "display_data",
          "data": {
            "text/plain": [
              "<Figure size 864x432 with 1 Axes>"
            ],
            "image/png": "[encoded data removed]"
          },
          "metadata": {
            "needs_background": "light"
          }
        },
        {
          "output_type": "display_data",
          "data": {
            "text/plain": [
              "<Figure size 864x432 with 1 Axes>"
            ],
            "image/png": "[encoded data removed]"
          },
          "metadata": {
            "needs_background": "light"
          }
        }
      ],
      "source": [
        "from statsmodels.tsa.arima_model import ARIMA\n",
        "\n",
        "p=0\n",
        "d=1\n",
        "q=0\n",
        "\n",
        "# fit model\n",
        "model = ARIMA(y, order=(p, d, q)) \n",
        "model_fit = model.fit(disp=0)\n",
        "#print(model_fit.summary())\n",
        "\n",
        "# plot residual erros\n",
        "residuals = pd.DataFrame(model_fit.resid)\n",
        "residuals.plot()\n",
        "residuals.plot(kind='kde')\n",
        "print(residuals.describe())"
      ]
    },
    {
      "cell_type": "code",
      "execution_count": 141,
      "metadata": {
        "colab": {
          "base_uri": "https://localhost:8080/",
          "height": 213
        },
        "id": "n56IYjUPzotl",
        "outputId": "0be2e217-a0e5-4803-9496-d8d9deec13ea"
      },
      "outputs": [
        {
          "output_type": "execute_result",
          "data": {
            "text/plain": [
              "<class 'statsmodels.iolib.summary.Summary'>\n",
              "\"\"\"\n",
              "                             ARIMA Model Results                              \n",
              "==============================================================================\n",
              "Dep. Variable:                D.Close   No. Observations:                 2462\n",
              "Model:                 ARIMA(0, 1, 0)   Log Likelihood                5411.842\n",
              "Method:                           css   S.D. of innovations              0.027\n",
              "Date:                Wed, 03 Aug 2022   AIC                         -10819.685\n",
              "Time:                        08:21:00   BIC                         -10808.067\n",
              "Sample:                             1   HQIC                        -10815.464\n",
              "                                                                              \n",
              "==============================================================================\n",
              "                 coef    std err          z      P>|z|      [0.025      0.975]\n",
              "------------------------------------------------------------------------------\n",
              "const          0.0003      0.001      0.584      0.559      -0.001       0.001\n",
              "==============================================================================\n",
              "\"\"\""
            ],
            "text/html": [
              "<table class=\"simpletable\">\n",
              "<caption>ARIMA Model Results</caption>\n",
              "<tr>\n",
              "  <th>Dep. Variable:</th>      <td>D.Close</td>     <th>  No. Observations:  </th>    <td>2462</td>   \n",
              "</tr>\n",
              "<tr>\n",
              "  <th>Model:</th>          <td>ARIMA(0, 1, 0)</td>  <th>  Log Likelihood     </th>  <td>5411.842</td> \n",
              "</tr>\n",
              "<tr>\n",
              "  <th>Method:</th>               <td>css</td>       <th>  S.D. of innovations</th>    <td>0.027</td>  \n",
              "</tr>\n",
              "<tr>\n",
              "  <th>Date:</th>          <td>Wed, 03 Aug 2022</td> <th>  AIC                </th> <td>-10819.685</td>\n",
              "</tr>\n",
              "<tr>\n",
              "  <th>Time:</th>              <td>08:21:00</td>     <th>  BIC                </th> <td>-10808.067</td>\n",
              "</tr>\n",
              "<tr>\n",
              "  <th>Sample:</th>                <td>1</td>        <th>  HQIC               </th> <td>-10815.464</td>\n",
              "</tr>\n",
              "<tr>\n",
              "  <th></th>                       <td> </td>        <th>                     </th>      <td> </td>    \n",
              "</tr>\n",
              "</table>\n",
              "<table class=\"simpletable\">\n",
              "<tr>\n",
              "    <td></td>       <th>coef</th>     <th>std err</th>      <th>z</th>      <th>P>|z|</th>  <th>[0.025</th>    <th>0.975]</th>  \n",
              "</tr>\n",
              "<tr>\n",
              "  <th>const</th> <td>    0.0003</td> <td>    0.001</td> <td>    0.584</td> <td> 0.559</td> <td>   -0.001</td> <td>    0.001</td>\n",
              "</tr>\n",
              "</table>"
            ]
          },
          "metadata": {},
          "execution_count": 141
        }
      ],
      "source": [
        "model_fit.summary()"
      ]
    },
    {
      "cell_type": "code",
      "execution_count": 142,
      "metadata": {
        "colab": {
          "base_uri": "https://localhost:8080/",
          "height": 393
        },
        "id": "56dxyUyBztUZ",
        "outputId": "d5ab2edc-8add-4568-a668-10041ad57a86"
      },
      "outputs": [
        {
          "output_type": "execute_result",
          "data": {
            "text/plain": [
              "<matplotlib.collections.PolyCollection at 0x7f1f0b7d1150>"
            ]
          },
          "metadata": {},
          "execution_count": 142
        },
        {
          "output_type": "display_data",
          "data": {
            "text/plain": [
              "<Figure size 864x432 with 1 Axes>"
            ],
            "image/png": "[encoded data removed]"
          },
          "metadata": {
            "needs_background": "light"
          }
        }
      ],
      "source": [
        "model = ARIMA(y.values, order=(p, d, q))\n",
        "model_fit = model.fit(disp=0)\n",
        "predictions, error, conf_interval = model_fit.forecast(10)\n",
        "plt.plot(predictions)\n",
        "plt.fill_between(range(len(predictions)), conf_interval[:,0], conf_interval[:,1], alpha = 0.3)"
      ]
    },
    {
      "cell_type": "code",
      "execution_count": 143,
      "metadata": {
        "colab": {
          "base_uri": "https://localhost:8080/"
        },
        "id": "p1gidiVUzx6n",
        "outputId": "8d2a9b0d-6958-4f40-d021-8148bf8d6ddb"
      },
      "outputs": [
        {
          "output_type": "execute_result",
          "data": {
            "text/plain": [
              "array([6.1662592 , 6.16657548, 6.16689176, 6.16720803, 6.16752431,\n",
              "       6.16784059, 6.16815687, 6.16847314, 6.16878942, 6.1691057 ])"
            ]
          },
          "metadata": {},
          "execution_count": 143
        }
      ],
      "source": [
        "predictions[:10]"
      ]
    },
    {
      "cell_type": "code",
      "execution_count": 144,
      "metadata": {
        "colab": {
          "base_uri": "https://localhost:8080/"
        },
        "id": "ZqvmjOWb0IRk",
        "outputId": "beaa02e2-a600-4d13-9391-8fedc083b17f"
      },
      "outputs": [
        {
          "output_type": "stream",
          "name": "stdout",
          "text": [
            "predicted=4.820356, actual=4.804431\n",
            "predicted=4.804093, actual=4.803611\n",
            "predicted=4.803273, actual=4.794964\n",
            "predicted=4.794621, actual=4.798679\n",
            "predicted=4.798338, actual=4.794136\n",
            "predicted=4.793793, actual=4.819071\n",
            "predicted=4.818743, actual=4.722064\n",
            "predicted=4.721679, actual=4.679350\n",
            "predicted=4.678941, actual=4.709981\n",
            "predicted=4.709590, actual=4.705468\n",
            "predicted=4.705075, actual=4.790404\n",
            "predicted=4.790060, actual=4.756603\n",
            "predicted=4.756239, actual=4.738827\n",
            "predicted=4.738453, actual=4.759607\n",
            "predicted=4.759245, actual=4.724286\n",
            "predicted=4.723904, actual=4.695925\n",
            "predicted=4.695527, actual=4.771108\n",
            "predicted=4.770754, actual=4.797855\n",
            "predicted=4.797516, actual=4.803201\n",
            "predicted=4.802866, actual=4.900448\n",
            "predicted=4.900169, actual=4.851640\n",
            "predicted=4.851332, actual=4.864067\n",
            "predicted=4.863767, actual=4.856707\n",
            "predicted=4.856403, actual=4.804021\n",
            "predicted=4.803687, actual=4.801970\n",
            "predicted=4.801635, actual=4.821893\n",
            "predicted=4.821570, actual=4.892227\n",
            "predicted=4.891944, actual=4.851249\n",
            "predicted=4.850943, actual=4.874434\n",
            "predicted=4.874141, actual=4.812591\n",
            "predicted=4.812263, actual=4.824306\n",
            "predicted=4.823985, actual=4.786658\n",
            "predicted=4.786316, actual=4.766013\n",
            "predicted=4.765659, actual=4.747537\n",
            "predicted=4.747173, actual=4.807294\n",
            "predicted=4.806964, actual=4.784571\n",
            "predicted=4.784228, actual=4.766438\n",
            "predicted=4.766086, actual=4.794964\n",
            "predicted=4.794627, actual=4.760463\n",
            "predicted=4.760107, actual=4.798267\n",
            "predicted=4.797933, actual=4.850858\n",
            "predicted=4.850554, actual=4.843793\n",
            "predicted=4.843485, actual=4.835091\n",
            "predicted=4.834778, actual=4.938065\n",
            "predicted=4.937810, actual=4.918885\n",
            "predicted=4.918621, actual=4.880906\n",
            "predicted=4.880620, actual=4.887714\n",
            "predicted=4.887432, actual=4.894101\n",
            "predicted=4.893823, actual=4.843005\n",
            "predicted=4.842698, actual=4.995183\n",
            "predicted=4.994962, actual=5.150107\n",
            "predicted=5.149974, actual=5.146913\n",
            "predicted=5.146777, actual=5.180097\n",
            "predicted=5.179980, actual=5.165072\n",
            "predicted=5.164947, actual=5.148657\n",
            "predicted=5.148522, actual=5.147494\n",
            "predicted=5.147360, actual=5.161925\n",
            "predicted=5.161798, actual=5.144583\n",
            "predicted=5.144447, actual=5.130195\n",
            "predicted=5.130050, actual=5.147494\n",
            "predicted=5.147360, actual=5.139322\n",
            "predicted=5.139183, actual=5.118293\n",
            "predicted=5.118143, actual=5.127232\n",
            "predicted=5.127087, actual=5.136387\n",
            "predicted=5.136246, actual=5.122475\n",
            "predicted=5.122327, actual=5.120386\n",
            "predicted=5.120237, actual=5.100781\n",
            "predicted=5.100621, actual=5.089755\n",
            "predicted=5.089588, actual=5.112590\n",
            "predicted=5.112437, actual=5.096201\n",
            "predicted=5.096039, actual=5.111385\n",
            "predicted=5.111231, actual=5.104733\n",
            "predicted=5.104575, actual=5.084505\n",
            "predicted=5.084337, actual=5.081715\n",
            "predicted=5.081545, actual=5.063860\n",
            "predicted=5.063680, actual=5.132263\n"
          ]
        },
        {
          "output_type": "stream",
          "name": "stderr",
          "text": [
            "/usr/local/lib/python3.7/dist-packages/statsmodels/base/model.py:512: ConvergenceWarning: Maximum Likelihood optimization failed to converge. Check mle_retvals\n",
            "  \"Check mle_retvals\", ConvergenceWarning)\n",
            "/usr/local/lib/python3.7/dist-packages/statsmodels/base/model.py:512: ConvergenceWarning: Maximum Likelihood optimization failed to converge. Check mle_retvals\n",
            "  \"Check mle_retvals\", ConvergenceWarning)\n"
          ]
        },
        {
          "output_type": "stream",
          "name": "stdout",
          "text": [
            "predicted=5.132121, actual=5.112590\n",
            "predicted=5.112437, actual=5.084505\n",
            "predicted=5.084337, actual=5.078294\n",
            "predicted=5.078122, actual=5.073297\n",
            "predicted=5.073123, actual=5.086361\n",
            "predicted=5.086194, actual=5.155313\n",
            "predicted=5.155184, actual=5.174453\n",
            "predicted=5.174336, actual=5.164500\n",
            "predicted=5.164377, actual=5.194067\n",
            "predicted=5.193960, actual=5.163642\n",
            "predicted=5.163519, actual=5.188223\n",
            "predicted=5.188113, actual=5.170200\n",
            "predicted=5.170080, actual=5.170768\n",
            "predicted=5.170649, actual=5.167639\n",
            "predicted=5.167518, actual=5.162498\n",
            "predicted=5.162374, actual=5.171336\n",
            "predicted=5.171217, actual=5.213304\n",
            "predicted=5.213208, actual=5.221166\n",
            "predicted=5.221075, actual=5.217378\n",
            "predicted=5.217285, actual=5.266569\n",
            "predicted=5.266502, actual=5.252797\n",
            "predicted=5.252723, actual=5.223863\n",
            "predicted=5.223773, actual=5.218733\n",
            "predicted=5.218640, actual=5.207024\n",
            "predicted=5.206925, actual=5.257495\n",
            "predicted=5.257424, actual=5.279899\n",
            "predicted=5.279840, actual=5.279389\n",
            "predicted=5.279330, actual=5.277349\n",
            "predicted=5.277289, actual=5.300066\n",
            "predicted=5.300018, actual=5.285992\n",
            "predicted=5.285936, actual=5.284725\n",
            "predicted=5.284669, actual=5.273000\n",
            "predicted=5.272937, actual=5.254365\n",
            "predicted=5.254293, actual=5.223594\n",
            "predicted=5.223505, actual=5.238567\n",
            "predicted=5.238486, actual=5.228431\n",
            "predicted=5.228345, actual=5.205105\n",
            "predicted=5.205006, actual=5.171052\n",
            "predicted=5.170934, actual=5.236708\n",
            "predicted=5.236626, actual=5.226821\n",
            "predicted=5.226734, actual=5.173887\n",
            "predicted=5.173771, actual=5.098951\n",
            "predicted=5.098795, actual=5.110179\n",
            "predicted=5.110028, actual=5.213576\n",
            "predicted=5.213482, actual=5.186547\n",
            "predicted=5.186439, actual=5.156754\n",
            "predicted=5.156629, actual=5.129307\n",
            "predicted=5.129167, actual=5.134327\n",
            "predicted=5.134190, actual=5.141371\n",
            "predicted=5.141238, actual=5.132853\n",
            "predicted=5.132715, actual=5.130490\n",
            "predicted=5.130351, actual=5.130490\n"
          ]
        },
        {
          "output_type": "stream",
          "name": "stderr",
          "text": [
            "/usr/local/lib/python3.7/dist-packages/statsmodels/base/model.py:512: ConvergenceWarning: Maximum Likelihood optimization failed to converge. Check mle_retvals\n",
            "  \"Check mle_retvals\", ConvergenceWarning)\n",
            "/usr/local/lib/python3.7/dist-packages/statsmodels/base/model.py:512: ConvergenceWarning: Maximum Likelihood optimization failed to converge. Check mle_retvals\n",
            "  \"Check mle_retvals\", ConvergenceWarning)\n"
          ]
        },
        {
          "output_type": "stream",
          "name": "stdout",
          "text": [
            "predicted=5.130352, actual=5.085124\n",
            "predicted=5.084961, actual=5.062911\n",
            "predicted=5.062736, actual=5.065755\n",
            "predicted=5.065581, actual=5.014959\n",
            "predicted=5.014759, actual=5.009968\n",
            "predicted=5.009765, actual=4.973625\n",
            "predicted=4.973403, actual=4.978456\n",
            "predicted=4.978236, actual=4.859425\n",
            "predicted=4.859141, actual=4.831509\n",
            "predicted=4.831210, actual=4.870223\n",
            "predicted=4.869945, actual=4.837868\n",
            "predicted=4.837573, actual=4.834296\n",
            "predicted=4.833999, actual=4.737951\n",
            "predicted=4.737603, actual=4.660605\n",
            "predicted=4.660215, actual=4.594109\n",
            "predicted=4.593684, actual=4.477337\n",
            "predicted=4.476849, actual=4.497028\n",
            "predicted=4.496551, actual=4.418238\n",
            "predicted=4.417720, actual=4.356068\n",
            "predicted=4.355516, actual=4.324133\n",
            "predicted=4.323564, actual=4.289774\n",
            "predicted=4.289188, actual=4.347694\n",
            "predicted=4.347139, actual=4.192680\n",
            "predicted=4.192043, actual=4.227563\n",
            "predicted=4.226945, actual=4.252060\n",
            "predicted=4.251455, actual=4.259859\n",
            "predicted=4.259258, actual=4.258446\n",
            "predicted=4.257844, actual=4.221711\n",
            "predicted=4.221091, actual=4.263384\n",
            "predicted=4.262786, actual=4.218772\n",
            "predicted=4.218151, actual=4.178992\n",
            "predicted=4.178350, actual=4.208417\n",
            "predicted=4.207791, actual=4.213608\n",
            "predicted=4.212985, actual=4.312140\n",
            "predicted=4.311570, actual=4.307438\n",
            "predicted=4.306865, actual=4.289089\n",
            "predicted=4.288507, actual=4.312811\n",
            "predicted=4.312241, actual=4.341855\n",
            "predicted=4.341302, actual=4.387636\n",
            "predicted=4.387107, actual=4.312811\n",
            "predicted=4.312242, actual=4.329417\n",
            "predicted=4.328858, actual=4.326117\n",
            "predicted=4.325557, actual=4.306764\n",
            "predicted=4.306194, actual=4.320816\n",
            "predicted=4.320253, actual=4.343156\n",
            "predicted=4.342605, actual=4.358630\n",
            "predicted=4.358088, actual=4.535284\n",
            "predicted=4.534835, actual=4.429626\n",
            "predicted=4.429121, actual=4.393214\n",
            "predicted=4.392691, actual=4.421247\n",
            "predicted=4.420739, actual=4.412798\n",
            "predicted=4.412286, actual=4.395066\n"
          ]
        },
        {
          "output_type": "stream",
          "name": "stderr",
          "text": [
            "/usr/local/lib/python3.7/dist-packages/statsmodels/base/model.py:512: ConvergenceWarning: Maximum Likelihood optimization failed to converge. Check mle_retvals\n",
            "  \"Check mle_retvals\", ConvergenceWarning)\n"
          ]
        },
        {
          "output_type": "stream",
          "name": "stdout",
          "text": [
            "predicted=4.394545, actual=4.455509\n",
            "predicted=4.455020, actual=4.456670\n",
            "predicted=4.456182, actual=4.468204\n",
            "predicted=4.467722, actual=4.428433\n",
            "predicted=4.427930, actual=4.434975\n",
            "predicted=4.434476, actual=4.390119\n",
            "predicted=4.389596, actual=4.404277\n",
            "predicted=4.403763, actual=4.424248\n",
            "predicted=4.423744, actual=4.432007\n",
            "predicted=4.431507, actual=4.416428\n",
            "predicted=4.415921, actual=4.420045\n",
            "predicted=4.419539, actual=4.437343\n",
            "predicted=4.436847, actual=4.465908\n",
            "predicted=4.465427, actual=4.465908\n",
            "predicted=4.465427, actual=4.494797\n",
            "predicted=4.494332, actual=4.569543\n",
            "predicted=4.569117, actual=4.592591\n",
            "predicted=4.592178, actual=4.590057\n",
            "predicted=4.589642, actual=4.707275\n",
            "predicted=4.706922, actual=4.748838\n",
            "predicted=4.748506, actual=4.713576\n",
            "predicted=4.713226, actual=4.713127\n",
            "predicted=4.712777, actual=4.664853\n",
            "predicted=4.664478, actual=4.656813\n",
            "predicted=4.656434, actual=4.610158\n",
            "predicted=4.609755, actual=4.551242\n",
            "predicted=4.550808, actual=4.558079\n",
            "predicted=4.557649, actual=4.567987\n",
            "predicted=4.567563, actual=4.629863\n",
            "predicted=4.629471, actual=4.631325\n",
            "predicted=4.630934, actual=4.648230\n",
            "predicted=4.647848, actual=4.652054\n",
            "predicted=4.651674, actual=4.642466\n",
            "predicted=4.642081, actual=4.619073\n",
            "predicted=4.618677, actual=4.599655\n",
            "predicted=4.599249, actual=4.587515\n",
            "predicted=4.587103, actual=4.612642\n",
            "predicted=4.612243, actual=4.620551\n",
            "predicted=4.620156, actual=4.639088\n",
            "predicted=4.638703, actual=4.691348\n",
            "predicted=4.690990, actual=4.691807\n",
            "predicted=4.691449, actual=4.657288\n",
            "predicted=4.656913, actual=4.672361\n",
            "predicted=4.671994, actual=4.678421\n",
            "predicted=4.678057, actual=4.682131\n",
            "predicted=4.681769, actual=4.655388\n",
            "predicted=4.655012, actual=4.636669\n",
            "predicted=4.636284, actual=4.634243\n",
            "predicted=4.633857, actual=4.667206\n",
            "predicted=4.666837, actual=4.654436\n",
            "predicted=4.654061, actual=4.686289\n",
            "predicted=4.685930, actual=4.655388\n",
            "predicted=4.655014, actual=4.663911\n",
            "predicted=4.663541, actual=4.641984\n",
            "predicted=4.641603, actual=4.622027\n",
            "predicted=4.621636, actual=4.667675\n"
          ]
        },
        {
          "output_type": "stream",
          "name": "stderr",
          "text": [
            "/usr/local/lib/python3.7/dist-packages/statsmodels/base/model.py:512: ConvergenceWarning: Maximum Likelihood optimization failed to converge. Check mle_retvals\n",
            "  \"Check mle_retvals\", ConvergenceWarning)\n",
            "/usr/local/lib/python3.7/dist-packages/statsmodels/base/model.py:512: ConvergenceWarning: Maximum Likelihood optimization failed to converge. Check mle_retvals\n",
            "  \"Check mle_retvals\", ConvergenceWarning)\n"
          ]
        },
        {
          "output_type": "stream",
          "name": "stdout",
          "text": [
            "predicted=4.667308, actual=4.661078\n",
            "predicted=4.660707, actual=4.641020\n",
            "predicted=4.640639, actual=4.650621\n",
            "predicted=4.650246, actual=4.727830\n",
            "predicted=4.727494, actual=4.713576\n",
            "predicted=4.713233, actual=4.748404\n",
            "predicted=4.748079, actual=4.760463\n",
            "predicted=4.760144, actual=4.779963\n",
            "predicted=4.779655, actual=4.819071\n",
            "predicted=4.818782, actual=4.806477\n",
            "predicted=4.806182, actual=4.831110\n",
            "predicted=4.830827, actual=4.876342\n",
            "predicted=4.876082, actual=4.825109\n",
            "predicted=4.824824, actual=4.816646\n",
            "predicted=4.816357, actual=4.833102\n",
            "predicted=4.832822, actual=4.829513\n",
            "predicted=4.829231, actual=4.801559\n",
            "predicted=4.801263, actual=4.794964\n",
            "predicted=4.794664, actual=4.797442\n",
            "predicted=4.797144, actual=4.844974\n",
            "predicted=4.844700, actual=4.926529\n",
            "predicted=4.926296, actual=4.971548\n",
            "predicted=4.971338, actual=4.961445\n",
            "predicted=4.961230, actual=4.964242\n",
            "predicted=4.964029, actual=4.968423\n",
            "predicted=4.968212, actual=5.012633\n",
            "predicted=5.012445, actual=5.022893\n",
            "predicted=5.022710, actual=4.995860\n",
            "predicted=4.995663, actual=5.006627\n",
            "predicted=5.006436, actual=4.957938\n",
            "predicted=4.957722, actual=4.942356\n",
            "predicted=4.942133, actual=4.964940\n",
            "predicted=4.964728, actual=4.971894\n",
            "predicted=4.971686, actual=5.000922\n",
            "predicted=5.000728, actual=4.999911\n",
            "predicted=4.999717, actual=5.020256\n",
            "predicted=5.020072, actual=4.994845\n",
            "predicted=4.994648, actual=4.996536\n",
            "predicted=4.996341, actual=4.923260\n",
            "predicted=4.923028, actual=4.891101\n",
            "predicted=4.890853, actual=4.878246\n",
            "predicted=4.877992, actual=4.810557\n",
            "predicted=4.810269, actual=4.846154\n",
            "predicted=4.845883, actual=4.889221\n",
            "predicted=4.888972, actual=4.880527\n",
            "predicted=4.880274, actual=4.892602\n",
            "predicted=4.892356, actual=4.894101\n",
            "predicted=4.893856, actual=4.897093\n",
            "predicted=4.896849, actual=4.975008\n",
            "predicted=4.974803, actual=4.948760\n",
            "predicted=4.948542, actual=4.948405\n",
            "predicted=4.948187, actual=4.930509\n",
            "predicted=4.930282, actual=4.911919\n",
            "predicted=4.911683, actual=4.898586\n",
            "predicted=4.898343, actual=4.872905\n",
            "predicted=4.872649, actual=4.843793\n",
            "predicted=4.843524, actual=4.850075\n",
            "predicted=4.849809, actual=4.853981\n",
            "predicted=4.853717, actual=4.864838\n",
            "predicted=4.864580, actual=4.869456\n",
            "predicted=4.869199, actual=4.894101\n",
            "predicted=4.893857, actual=4.919981\n",
            "predicted=4.919750, actual=4.895598\n",
            "predicted=4.895355, actual=4.910078\n",
            "predicted=4.909842, actual=4.903792\n",
            "predicted=4.903553, actual=4.882044\n",
            "predicted=4.881795, actual=4.887714\n",
            "predicted=4.887467, actual=4.889221\n",
            "predicted=4.888975, actual=4.898586\n",
            "predicted=4.898345, actual=4.911919\n",
            "predicted=4.911685, actual=4.924714\n",
            "predicted=4.924486, actual=4.934474\n",
            "predicted=4.934251, actual=4.948760\n",
            "predicted=4.948544, actual=4.983607\n",
            "predicted=4.983408, actual=5.016949\n",
            "predicted=5.016767, actual=5.018603\n",
            "predicted=5.018422, actual=4.986001\n",
            "predicted=4.985804, actual=5.002939\n",
            "predicted=5.002750, actual=5.062595\n",
            "predicted=5.062436, actual=5.156178\n",
            "predicted=5.156064, actual=5.123666\n",
            "predicted=5.123537, actual=5.130490\n",
            "predicted=5.130364, actual=5.139908\n",
            "predicted=5.139786, actual=5.147785\n",
            "predicted=5.147668, actual=5.144292\n",
            "predicted=5.144173, actual=5.157617\n",
            "predicted=5.157505, actual=5.194899\n",
            "predicted=5.194805, actual=5.191567\n",
            "predicted=5.191471, actual=5.212760\n",
            "predicted=5.212674, actual=5.219545\n",
            "predicted=5.219463, actual=5.215751\n",
            "predicted=5.215667, actual=5.212487\n",
            "predicted=5.212402, actual=5.202907\n",
            "predicted=5.202817, actual=5.207845\n",
            "predicted=5.207758, actual=5.179534\n",
            "predicted=5.179433, actual=5.186547\n",
            "predicted=5.186450, actual=5.179815\n",
            "predicted=5.179714, actual=5.186827\n",
            "predicted=5.186730, actual=5.207024\n",
            "predicted=5.206937, actual=5.202357\n",
            "predicted=5.202267, actual=5.196008\n",
            "predicted=5.195915, actual=5.103214\n",
            "predicted=5.103077, actual=5.105642\n",
            "predicted=5.105506, actual=5.131081\n",
            "predicted=5.130957, actual=5.170200\n",
            "predicted=5.170095, actual=5.227627\n",
            "predicted=5.227549, actual=5.211942\n",
            "predicted=5.211857, actual=5.215751\n",
            "predicted=5.215668, actual=5.214120\n",
            "predicted=5.214037, actual=5.228431\n",
            "predicted=5.228354, actual=5.253843\n",
            "predicted=5.253778, actual=5.263726\n",
            "predicted=5.263666, actual=5.275049\n",
            "predicted=5.274995, actual=5.281934\n",
            "predicted=5.281883, actual=5.289024\n",
            "predicted=5.288977, actual=5.396578\n",
            "predicted=5.396582, actual=5.471430\n",
            "predicted=5.471471, actual=5.491414\n",
            "predicted=5.491464, actual=5.501666\n",
            "predicted=5.501721, actual=5.561835\n",
            "predicted=5.561919, actual=5.505128\n",
            "predicted=5.505185, actual=5.555476\n",
            "predicted=5.555557, actual=5.616407\n",
            "predicted=5.616517, actual=5.671948\n",
            "predicted=5.672084, actual=5.667637\n",
            "predicted=5.667772, actual=5.631749\n",
            "predicted=5.631867, actual=5.589120\n",
            "predicted=5.589216, actual=5.586499\n",
            "predicted=5.586595, actual=5.571013\n",
            "predicted=5.571101, actual=5.633360\n",
            "predicted=5.633478, actual=5.774552\n",
            "predicted=5.774737, actual=5.802118\n",
            "predicted=5.802317, actual=5.787357\n",
            "predicted=5.787549, actual=5.755426\n",
            "predicted=5.755602, actual=5.816962\n",
            "predicted=5.817168, actual=5.783979\n",
            "predicted=5.784168, actual=5.795754\n",
            "predicted=5.795949, actual=5.783825\n",
            "predicted=5.784014, actual=5.785055\n",
            "predicted=5.785245, actual=5.809193\n",
            "predicted=5.809394, actual=5.796666\n",
            "predicted=5.796860, actual=5.799547\n",
            "predicted=5.799743, actual=5.780280\n",
            "predicted=5.780467, actual=5.742522\n",
            "predicted=5.742691, actual=5.718671\n",
            "predicted=5.718829, actual=5.780744\n",
            "predicted=5.780930, actual=5.773464\n",
            "predicted=5.773647, actual=5.808593\n",
            "predicted=5.808793, actual=5.777498\n",
            "predicted=5.777683, actual=5.793928\n",
            "predicted=5.794121, actual=5.845716\n",
            "predicted=5.845933, actual=5.853638\n",
            "predicted=5.853859, actual=5.826590\n",
            "predicted=5.826798, actual=5.784287\n",
            "predicted=5.784474, actual=5.772220\n",
            "predicted=5.772402, actual=5.753207\n",
            "predicted=5.753380, actual=5.772842\n",
            "predicted=5.773024, actual=5.760635\n",
            "predicted=5.760812, actual=5.763779\n",
            "predicted=5.763957, actual=5.768165\n",
            "predicted=5.768345, actual=5.722931\n",
            "predicted=5.723090, actual=5.726848\n",
            "predicted=5.727008, actual=5.733179\n",
            "predicted=5.733343, actual=5.713898\n",
            "predicted=5.714052, actual=5.728150\n",
            "predicted=5.728310, actual=5.685109\n",
            "predicted=5.685249, actual=5.654417\n",
            "predicted=5.654543, actual=5.691710\n",
            "predicted=5.691853, actual=5.693900\n",
            "predicted=5.694045, actual=5.709765\n",
            "predicted=5.709916, actual=5.729288\n",
            "predicted=5.729448, actual=5.720476\n",
            "predicted=5.720632, actual=5.729288\n",
            "predicted=5.729448, actual=5.729450\n",
            "predicted=5.729611, actual=5.749234\n",
            "predicted=5.749403, actual=5.762680\n",
            "predicted=5.762856, actual=5.657913\n",
            "predicted=5.658040, actual=5.713238\n",
            "predicted=5.713390, actual=5.715382\n",
            "predicted=5.715535, actual=5.736572\n",
            "predicted=5.736736, actual=5.708438\n",
            "predicted=5.708588, actual=5.697261\n",
            "predicted=5.697406, actual=5.685449\n",
            "predicted=5.685588, actual=5.683580\n",
            "predicted=5.683718, actual=5.688330\n",
            "predicted=5.688471, actual=5.708770\n",
            "predicted=5.708920, actual=5.723258\n",
            "predicted=5.723415, actual=5.710096\n",
            "predicted=5.710246, actual=5.683069\n",
            "predicted=5.683207, actual=5.680173\n",
            "predicted=5.680309, actual=5.667983\n",
            "predicted=5.668113, actual=5.675040\n",
            "predicted=5.675174, actual=5.707940\n",
            "predicted=5.708089, actual=5.712907\n",
            "predicted=5.713059, actual=5.752096\n",
            "predicted=5.752266, actual=5.754317\n",
            "predicted=5.754487, actual=5.786897\n",
            "predicted=5.787083, actual=5.743804\n",
            "predicted=5.743969, actual=5.771753\n",
            "predicted=5.771931, actual=5.806490\n",
            "predicted=5.806684, actual=5.750825\n",
            "predicted=5.750993, actual=5.729125\n",
            "predicted=5.729284, actual=5.746523\n",
            "predicted=5.746689, actual=5.742522\n",
            "predicted=5.742687, actual=5.753366\n",
            "predicted=5.753535, actual=5.754159\n",
            "predicted=5.754328, actual=5.763936\n",
            "predicted=5.764110, actual=5.764407\n",
            "predicted=5.764581, actual=5.764407\n",
            "predicted=5.764581, actual=5.762366\n",
            "predicted=5.762539, actual=5.777652\n",
            "predicted=5.777832, actual=5.785823\n",
            "predicted=5.786007, actual=5.813981\n",
            "predicted=5.814178, actual=5.844993\n",
            "predicted=5.845203, actual=5.865760\n",
            "predicted=5.865980, actual=5.838750\n",
            "predicted=5.838958, actual=5.842820\n",
            "predicted=5.843029, actual=5.860074\n",
            "predicted=5.860291, actual=5.874790\n",
            "predicted=5.875014, actual=5.865618\n",
            "predicted=5.865837, actual=5.856074\n",
            "predicted=5.856289, actual=5.845427\n",
            "predicted=5.845637, actual=5.821269\n",
            "predicted=5.821468, actual=5.812039\n",
            "predicted=5.812233, actual=5.822750\n",
            "predicted=5.822949, actual=5.814877\n",
            "predicted=5.815072, actual=5.813085\n",
            "predicted=5.813280, actual=5.827916\n",
            "predicted=5.828117, actual=5.837147\n",
            "predicted=5.837353, actual=5.833494\n",
            "predicted=5.833698, actual=5.827768\n",
            "predicted=5.827970, actual=5.841368\n",
            "predicted=5.841575, actual=5.843255\n",
            "predicted=5.843463, actual=5.846728\n",
            "predicted=5.846937, actual=5.758586\n",
            "predicted=5.758755, actual=5.759217\n",
            "predicted=5.759387, actual=5.724728\n",
            "predicted=5.724882, actual=5.724565\n",
            "predicted=5.724718, actual=5.728313\n",
            "predicted=5.728468, actual=5.739632\n",
            "predicted=5.739792, actual=5.735120\n",
            "predicted=5.735278, actual=5.737378\n",
            "predicted=5.737537, actual=5.740596\n",
            "predicted=5.740757, actual=5.732856\n",
            "predicted=5.733013, actual=5.710924\n",
            "predicted=5.711070, actual=5.712247\n",
            "predicted=5.712394, actual=5.688838\n",
            "predicted=5.688975, actual=5.680684\n",
            "predicted=5.680817, actual=5.674697\n"
          ]
        },
        {
          "output_type": "stream",
          "name": "stderr",
          "text": [
            "/usr/local/lib/python3.7/dist-packages/statsmodels/base/model.py:512: ConvergenceWarning: Maximum Likelihood optimization failed to converge. Check mle_retvals\n",
            "  \"Check mle_retvals\", ConvergenceWarning)\n"
          ]
        },
        {
          "output_type": "stream",
          "name": "stdout",
          "text": [
            "predicted=5.674827, actual=5.650558\n",
            "predicted=5.650677, actual=5.679831\n",
            "predicted=5.679964, actual=5.683410\n",
            "predicted=5.683544, actual=5.693227\n",
            "predicted=5.693365, actual=5.716040\n",
            "predicted=5.716189, actual=5.697597\n",
            "predicted=5.697737, actual=5.702782\n",
            "predicted=5.702924, actual=5.703949\n",
            "predicted=5.704092, actual=5.697429\n",
            "predicted=5.697569, actual=5.684260\n",
            "predicted=5.684394, actual=5.688500\n",
            "predicted=5.688635, actual=5.723585\n",
            "predicted=5.723737, actual=5.727662\n",
            "predicted=5.727815, actual=5.716040\n",
            "predicted=5.716188, actual=5.696086\n",
            "predicted=5.696225, actual=5.681366\n",
            "predicted=5.681499, actual=5.645800\n",
            "predicted=5.645916, actual=5.623837\n",
            "predicted=5.623943, actual=5.634075\n",
            "predicted=5.634186, actual=5.650382\n",
            "predicted=5.650500, actual=5.650030\n",
            "predicted=5.650148, actual=5.655117\n",
            "predicted=5.655237, actual=5.676583\n",
            "predicted=5.676712, actual=5.660527\n",
            "predicted=5.660649, actual=5.687822\n",
            "predicted=5.687957, actual=5.680684\n",
            "predicted=5.680816, actual=5.688838\n",
            "predicted=5.688973, actual=5.695246\n",
            "predicted=5.695384, actual=5.685619\n",
            "predicted=5.685752, actual=5.687822\n",
            "predicted=5.687957, actual=5.700276\n",
            "predicted=5.700416, actual=5.707775\n",
            "predicted=5.707918, actual=5.723912\n",
            "predicted=5.724062, actual=5.742843\n",
            "predicted=5.743002, actual=5.741881\n",
            "predicted=5.742039, actual=5.732046\n",
            "predicted=5.732200, actual=5.700276\n",
            "predicted=5.700416, actual=5.710261\n",
            "predicted=5.710405, actual=5.736895\n",
            "predicted=5.737050, actual=5.772998\n",
            "predicted=5.773169, actual=5.761894\n",
            "predicted=5.762061, actual=5.804080\n",
            "predicted=5.804265, actual=5.796969\n",
            "predicted=5.797151, actual=5.799850\n",
            "predicted=5.800033, actual=5.809193\n",
            "predicted=5.809380, actual=5.809043\n",
            "predicted=5.809230, actual=5.834811\n",
            "predicted=5.835009, actual=5.843400\n",
            "predicted=5.843602, actual=5.817260\n",
            "predicted=5.817450, actual=5.930918\n",
            "predicted=5.931159, actual=5.947904\n",
            "predicted=5.948153, actual=6.030084\n",
            "predicted=6.030369, actual=6.042276\n",
            "predicted=6.042566, actual=6.228314\n",
            "predicted=6.228686, actual=6.209797\n",
            "predicted=6.210160, actual=6.233626\n",
            "predicted=6.234000, actual=6.177737\n",
            "predicted=6.178086, actual=6.188059\n",
            "predicted=6.188412, actual=6.230481\n",
            "predicted=6.230853, actual=6.196240\n",
            "predicted=6.196597, actual=6.173578\n",
            "predicted=6.173924, actual=6.231760\n",
            "predicted=6.232132, actual=6.210399\n",
            "predicted=6.210762, actual=6.175971\n",
            "predicted=6.176318, actual=6.181465\n",
            "predicted=6.181814, actual=6.185591\n",
            "predicted=6.185942, actual=6.190008\n",
            "predicted=6.190361, actual=6.183943\n",
            "predicted=6.184293, actual=6.193793\n",
            "predicted=6.194147, actual=6.217404\n",
            "predicted=6.217769, actual=6.233724\n",
            "predicted=6.234096, actual=6.235880\n",
            "predicted=6.236252, actual=6.221484\n",
            "predicted=6.221850, actual=6.228610\n",
            "predicted=6.228978, actual=6.225449\n",
            "predicted=6.225816, actual=6.252000\n",
            "predicted=6.252379, actual=6.273160\n",
            "predicted=6.273548, actual=6.233822\n",
            "predicted=6.234193, actual=6.186414\n",
            "predicted=6.186764, actual=6.205567\n",
            "predicted=6.205925, actual=6.191646\n",
            "predicted=6.191998, actual=6.200002\n",
            "predicted=6.200357, actual=6.131661\n",
            "predicted=6.131986, actual=6.134374\n",
            "predicted=6.134700, actual=6.128178\n",
            "predicted=6.128502, actual=6.163841\n",
            "predicted=6.164180, actual=6.171909\n",
            "predicted=6.172251, actual=6.173994\n",
            "predicted=6.174337, actual=6.146757\n",
            "predicted=6.147088, actual=6.177529\n",
            "predicted=6.177873, actual=6.202333\n",
            "predicted=6.202688, actual=6.202434\n",
            "predicted=6.202789, actual=6.203446\n",
            "predicted=6.203801, actual=6.205265\n",
            "predicted=6.205620, actual=6.193180\n",
            "predicted=6.193530, actual=6.197767\n",
            "predicted=6.198119, actual=6.198377\n",
            "predicted=6.198729, actual=6.153158\n",
            "predicted=6.153490, actual=6.102670\n",
            "predicted=6.102981, actual=6.117216\n",
            "predicted=6.117532, actual=6.153796\n"
          ]
        },
        {
          "output_type": "stream",
          "name": "stderr",
          "text": [
            "/usr/local/lib/python3.7/dist-packages/statsmodels/base/model.py:512: ConvergenceWarning: Maximum Likelihood optimization failed to converge. Check mle_retvals\n",
            "  \"Check mle_retvals\", ConvergenceWarning)\n"
          ]
        },
        {
          "output_type": "stream",
          "name": "stdout",
          "text": [
            "predicted=6.154128, actual=6.157720\n",
            "predicted=6.158054, actual=6.147613\n",
            "predicted=6.147942, actual=6.155177\n",
            "predicted=6.155509, actual=6.174203\n",
            "predicted=6.174543, actual=6.165418\n",
            "predicted=6.165754, actual=6.153583\n",
            "predicted=6.153914, actual=6.178774\n",
            "predicted=6.179115, actual=6.209797\n",
            "predicted=6.210152, actual=6.193589\n",
            "predicted=6.193937, actual=6.193895\n",
            "predicted=6.194243, actual=6.192056\n",
            "predicted=6.192403, actual=6.195629\n",
            "predicted=6.195977, actual=6.221981\n",
            "predicted=6.222340, actual=6.217205\n",
            "predicted=6.217562, actual=6.229004\n",
            "predicted=6.229366, actual=6.238227\n",
            "predicted=6.238593, actual=6.234215\n",
            "predicted=6.234579, actual=6.263398\n",
            "predicted=6.263775, actual=6.235978\n",
            "predicted=6.236343, actual=6.255462\n",
            "predicted=6.255835, actual=6.245525\n",
            "predicted=6.245894, actual=6.218301\n",
            "predicted=6.218658, actual=6.170552\n",
            "predicted=6.170888, actual=6.195527\n",
            "predicted=6.195874, actual=6.203345\n",
            "predicted=6.203695, actual=6.209193\n",
            "predicted=6.209545, actual=6.249493\n",
            "predicted=6.249862, actual=6.223171\n",
            "predicted=6.223529, actual=6.227327\n",
            "predicted=6.227686, actual=6.223568\n",
            "predicted=6.223925, actual=6.215807\n",
            "predicted=6.216161, actual=6.203749\n",
            "predicted=6.204098, actual=6.200002\n",
            "predicted=6.200349, actual=6.217105\n",
            "predicted=6.217459, actual=6.229398\n",
            "predicted=6.229757, actual=6.212305\n",
            "predicted=6.212657, actual=6.155813\n",
            "predicted=6.156141, actual=6.222576\n",
            "predicted=6.222932, actual=6.211503\n",
            "predicted=6.211854, actual=6.214508\n",
            "predicted=6.214860, actual=6.200813\n",
            "predicted=6.201160, actual=6.203446\n",
            "predicted=6.203793, actual=6.170134\n",
            "predicted=6.170466, actual=6.167516\n",
            "predicted=6.167848, actual=6.059006\n",
            "predicted=6.059292, actual=6.130683\n",
            "predicted=6.130999, actual=6.118207\n",
            "predicted=6.118518, actual=6.103900\n",
            "predicted=6.104204, actual=6.080162\n",
            "predicted=6.080456, actual=6.033686\n",
            "predicted=6.033960, actual=5.976351\n",
            "predicted=5.976601, actual=5.970624\n",
            "predicted=5.970871, actual=6.006107\n",
            "predicted=6.006369, actual=6.039302\n",
            "predicted=6.039578, actual=6.035840\n",
            "predicted=6.036115, actual=6.020295\n",
            "predicted=6.020563, actual=6.025020\n",
            "predicted=6.025290, actual=6.051854\n",
            "predicted=6.052135, actual=6.072584\n",
            "predicted=6.072873, actual=6.059006\n",
            "predicted=6.059290, actual=6.087570\n",
            "predicted=6.087865, actual=6.077183\n",
            "predicted=6.077474, actual=6.071200\n",
            "predicted=6.071488, actual=6.068657\n",
            "predicted=6.068944, actual=6.070045\n",
            "predicted=6.070332, actual=6.072353\n",
            "predicted=6.072642, actual=6.076839\n",
            "predicted=6.077129, actual=6.072468\n",
            "predicted=6.072757, actual=6.089385\n",
            "predicted=6.089680, actual=6.101999\n",
            "predicted=6.102300, actual=6.126978\n",
            "predicted=6.127289, actual=6.122822\n",
            "predicted=6.123131, actual=6.108136\n",
            "predicted=6.108438, actual=6.113793\n",
            "predicted=6.114098, actual=6.113793\n",
            "predicted=6.114098, actual=6.082904\n",
            "predicted=6.083195, actual=6.066224\n",
            "predicted=6.066509, actual=6.072584\n",
            "predicted=6.072871, actual=6.051972\n",
            "predicted=6.052250, actual=6.088024\n",
            "predicted=6.088317, actual=6.104905\n",
            "predicted=6.105205, actual=6.084158\n",
            "predicted=6.084449, actual=6.052442\n",
            "predicted=6.052720, actual=6.075116\n",
            "predicted=6.075404, actual=6.064366\n",
            "predicted=6.064649, actual=6.077757\n",
            "predicted=6.078045, actual=6.081305\n",
            "predicted=6.081595, actual=6.070391\n",
            "predicted=6.070676, actual=6.048554\n",
            "predicted=6.048829, actual=6.055143\n",
            "predicted=6.055422, actual=6.012614\n",
            "predicted=6.012875, actual=6.001291\n",
            "predicted=6.001547, actual=5.970624\n",
            "predicted=5.970867, actual=5.961392\n",
            "predicted=5.961631, actual=5.919700\n",
            "predicted=5.919921, actual=6.002157\n",
            "predicted=6.002413, actual=6.004751\n",
            "predicted=6.005008, actual=6.050087\n",
            "predicted=6.050363, actual=6.028640\n",
            "predicted=6.028906, actual=5.988084\n",
            "predicted=5.988333, actual=6.035481\n",
            "predicted=6.035750, actual=6.043701\n",
            "predicted=6.043973, actual=6.053852\n",
            "predicted=6.054129, actual=6.033086\n",
            "predicted=6.033354, actual=6.041801\n",
            "predicted=6.042072, actual=6.062855\n",
            "predicted=6.063134, actual=6.092214\n",
            "predicted=6.092506, actual=6.094811\n",
            "predicted=6.095103, actual=6.097175\n",
            "predicted=6.097469, actual=6.084841\n",
            "predicted=6.085129, actual=6.068194\n",
            "predicted=6.068475, actual=6.069235\n",
            "predicted=6.069517, actual=6.077298\n",
            "predicted=6.077583, actual=6.076839\n",
            "predicted=6.077124, actual=6.060291\n",
            "predicted=6.060568, actual=6.059240\n",
            "predicted=6.059517, actual=6.008076\n",
            "predicted=6.008332, actual=6.004257\n",
            "predicted=6.004512, actual=6.026108\n",
            "predicted=6.026371, actual=5.973682\n",
            "predicted=5.973924, actual=5.963451\n",
            "predicted=5.963688, actual=5.947251\n",
            "predicted=5.947482, actual=5.985446\n",
            "predicted=5.985692, actual=5.974064\n",
            "predicted=5.974305, actual=6.009304\n",
            "predicted=6.009560, actual=6.014448\n",
            "predicted=6.014706, actual=6.027073\n",
            "predicted=6.027336, actual=6.033326\n",
            "predicted=6.033591, actual=6.032966\n",
            "predicted=6.033231, actual=6.020538\n",
            "predicted=6.020797, actual=6.022721"
          ]
        },
        {
          "output_type": "stream",
          "name": "stderr",
          "text": [
            "/usr/local/lib/python3.7/dist-packages/statsmodels/base/model.py:512: ConvergenceWarning: Maximum Likelihood optimization failed to converge. Check mle_retvals\n",
            "  \"Check mle_retvals\", ConvergenceWarning)\n",
            "/usr/local/lib/python3.7/dist-packages/statsmodels/base/model.py:512: ConvergenceWarning: Maximum Likelihood optimization failed to converge. Check mle_retvals\n",
            "  \"Check mle_retvals\", ConvergenceWarning)\n"
          ]
        },
        {
          "output_type": "stream",
          "name": "stdout",
          "text": [
            "\n",
            "predicted=6.022981, actual=6.012370\n",
            "predicted=6.012626, actual=6.021023\n",
            "predicted=6.021283, actual=6.031526\n",
            "predicted=6.031790, actual=6.065760\n",
            "predicted=6.066038, actual=6.090291\n",
            "predicted=6.090579, actual=6.080048\n",
            "predicted=6.080331, actual=6.065063\n",
            "predicted=6.065340, actual=6.057018\n",
            "predicted=6.057292, actual=6.059240\n",
            "predicted=6.059514, actual=6.087229\n",
            "predicted=6.087515, actual=6.111246\n",
            "predicted=6.111541, actual=6.107134\n",
            "predicted=6.107428, actual=6.116885\n",
            "predicted=6.117182, actual=6.119968\n",
            "predicted=6.120266, actual=6.120078\n",
            "predicted=6.120376, actual=6.108247\n",
            "predicted=6.108541, actual=6.089385\n",
            "predicted=6.089671, actual=6.095937\n",
            "predicted=6.096225, actual=6.091875\n",
            "predicted=6.092162, actual=6.108358\n",
            "predicted=6.108651, actual=6.172118\n",
            "predicted=6.172437, actual=6.165943\n",
            "Test RMSE: 0.034\n"
          ]
        }
      ],
      "source": [
        "from sklearn.metrics import mean_squared_error\n",
        "\n",
        "x = y.values\n",
        "train_size = int(len(x) * 0.7)\n",
        "train, test = x[0:train_size], x[train_size:]\n",
        "history = [x for x in train]\n",
        "predictions = []\n",
        "for t in range(len(test)):\n",
        "    model = ARIMA(history, order=(p, d, q))\n",
        "    model_fit = model.fit(disp=0)\n",
        "    output = model_fit.forecast()\n",
        "    yhat = output[0][0]\n",
        "    predictions.append(yhat)\n",
        "    obs = test[t]\n",
        "    history.append(obs)\n",
        "    print('predicted=%f, actual=%f' % (yhat, obs))\n",
        "error = mean_squared_error(test, predictions)\n",
        "print('Test RMSE: %.3f' % np.sqrt(error))"
      ]
    },
    {
      "cell_type": "code",
      "source": [
        "print('Test RMSE: %.3f' % np.sqrt(error))"
      ],
      "metadata": {
        "colab": {
          "base_uri": "https://localhost:8080/"
        },
        "id": "-vwT4VT1vFir",
        "outputId": "8dc3eb21-086d-45b1-9f23-987bca3f5e29"
      },
      "execution_count": 145,
      "outputs": [
        {
          "output_type": "stream",
          "name": "stdout",
          "text": [
            "Test RMSE: 0.034\n"
          ]
        }
      ]
    },
    {
      "cell_type": "code",
      "execution_count": 146,
      "metadata": {
        "colab": {
          "base_uri": "https://localhost:8080/",
          "height": 455
        },
        "id": "hod05r2Q2Xbw",
        "outputId": "e4f86bd1-06e1-4a9f-e463-fd5842626c1b"
      },
      "outputs": [
        {
          "output_type": "execute_result",
          "data": {
            "text/plain": [
              "                actual  prediction\n",
              "Date                              \n",
              "2019-08-09  122.050003  124.009218\n",
              "2019-08-13  121.949997  122.008748\n",
              "2019-08-14  120.900002  121.908742\n",
              "2019-08-16  121.349998  120.858520\n",
              "2019-08-19  120.800003  121.308647\n",
              "...                ...         ...\n",
              "2022-07-27  444.049988  441.276075\n",
              "2022-07-28  442.250000  444.178031\n",
              "2022-07-29  449.600006  442.376741\n",
              "2022-08-01  479.200012  449.731815\n",
              "2022-08-02  476.250000  479.352861\n",
              "\n",
              "[739 rows x 2 columns]"
            ],
            "text/html": [
              "\n",
              "  <div id=\"df-375f1c4a-4d78-44c5-b4b3-ae251f9f76b9\">\n",
              "    <div class=\"colab-df-container\">\n",
              "      <div>\n",
              "<style scoped>\n",
              "    .dataframe tbody tr th:only-of-type {\n",
              "        vertical-align: middle;\n",
              "    }\n",
              "\n",
              "    .dataframe tbody tr th {\n",
              "        vertical-align: top;\n",
              "    }\n",
              "\n",
              "    .dataframe thead th {\n",
              "        text-align: right;\n",
              "    }\n",
              "</style>\n",
              "<table border=\"1\" class=\"dataframe\">\n",
              "  <thead>\n",
              "    <tr style=\"text-align: right;\">\n",
              "      <th></th>\n",
              "      <th>actual</th>\n",
              "      <th>prediction</th>\n",
              "    </tr>\n",
              "    <tr>\n",
              "      <th>Date</th>\n",
              "      <th></th>\n",
              "      <th></th>\n",
              "    </tr>\n",
              "  </thead>\n",
              "  <tbody>\n",
              "    <tr>\n",
              "      <th>2019-08-09</th>\n",
              "      <td>122.050003</td>\n",
              "      <td>124.009218</td>\n",
              "    </tr>\n",
              "    <tr>\n",
              "      <th>2019-08-13</th>\n",
              "      <td>121.949997</td>\n",
              "      <td>122.008748</td>\n",
              "    </tr>\n",
              "    <tr>\n",
              "      <th>2019-08-14</th>\n",
              "      <td>120.900002</td>\n",
              "      <td>121.908742</td>\n",
              "    </tr>\n",
              "    <tr>\n",
              "      <th>2019-08-16</th>\n",
              "      <td>121.349998</td>\n",
              "      <td>120.858520</td>\n",
              "    </tr>\n",
              "    <tr>\n",
              "      <th>2019-08-19</th>\n",
              "      <td>120.800003</td>\n",
              "      <td>121.308647</td>\n",
              "    </tr>\n",
              "    <tr>\n",
              "      <th>...</th>\n",
              "      <td>...</td>\n",
              "      <td>...</td>\n",
              "    </tr>\n",
              "    <tr>\n",
              "      <th>2022-07-27</th>\n",
              "      <td>444.049988</td>\n",
              "      <td>441.276075</td>\n",
              "    </tr>\n",
              "    <tr>\n",
              "      <th>2022-07-28</th>\n",
              "      <td>442.250000</td>\n",
              "      <td>444.178031</td>\n",
              "    </tr>\n",
              "    <tr>\n",
              "      <th>2022-07-29</th>\n",
              "      <td>449.600006</td>\n",
              "      <td>442.376741</td>\n",
              "    </tr>\n",
              "    <tr>\n",
              "      <th>2022-08-01</th>\n",
              "      <td>479.200012</td>\n",
              "      <td>449.731815</td>\n",
              "    </tr>\n",
              "    <tr>\n",
              "      <th>2022-08-02</th>\n",
              "      <td>476.250000</td>\n",
              "      <td>479.352861</td>\n",
              "    </tr>\n",
              "  </tbody>\n",
              "</table>\n",
              "<p>739 rows × 2 columns</p>\n",
              "</div>\n",
              "      <button class=\"colab-df-convert\" onclick=\"convertToInteractive('df-375f1c4a-4d78-44c5-b4b3-ae251f9f76b9')\"\n",
              "              title=\"Convert this dataframe to an interactive table.\"\n",
              "              style=\"display:none;\">\n",
              "        \n",
              "  <svg xmlns=\"http://www.w3.org/2000/svg\" height=\"24px\"viewBox=\"0 0 24 24\"\n",
              "       width=\"24px\">\n",
              "    <path d=\"M0 0h24v24H0V0z\" fill=\"none\"/>\n",
              "    <path d=\"M18.56 5.44l.94 2.06.94-2.06 2.06-.94-2.06-.94-.94-2.06-.94 2.06-2.06.94zm-11 1L8.5 8.5l.94-2.06 2.06-.94-2.06-.94L8.5 2.5l-.94 2.06-2.06.94zm10 10l.94 2.06.94-2.06 2.06-.94-2.06-.94-.94-2.06-.94 2.06-2.06.94z\"/><path d=\"M17.41 7.96l-1.37-1.37c-.4-.4-.92-.59-1.43-.59-.52 0-1.04.2-1.43.59L10.3 9.45l-7.72 7.72c-.78.78-.78 2.05 0 2.83L4 21.41c.39.39.9.59 1.41.59.51 0 1.02-.2 1.41-.59l7.78-7.78 2.81-2.81c.8-.78.8-2.07 0-2.86zM5.41 20L4 18.59l7.72-7.72 1.47 1.35L5.41 20z\"/>\n",
              "  </svg>\n",
              "      </button>\n",
              "      \n",
              "  <style>\n",
              "    .colab-df-container {\n",
              "      display:flex;\n",
              "      flex-wrap:wrap;\n",
              "      gap: 12px;\n",
              "    }\n",
              "\n",
              "    .colab-df-convert {\n",
              "      background-color: #E8F0FE;\n",
              "      border: none;\n",
              "      border-radius: 50%;\n",
              "      cursor: pointer;\n",
              "      display: none;\n",
              "      fill: #1967D2;\n",
              "      height: 32px;\n",
              "      padding: 0 0 0 0;\n",
              "      width: 32px;\n",
              "    }\n",
              "\n",
              "    .colab-df-convert:hover {\n",
              "      background-color: #E2EBFA;\n",
              "      box-shadow: 0px 1px 2px rgba(60, 64, 67, 0.3), 0px 1px 3px 1px rgba(60, 64, 67, 0.15);\n",
              "      fill: #174EA6;\n",
              "    }\n",
              "\n",
              "    [theme=dark] .colab-df-convert {\n",
              "      background-color: #3B4455;\n",
              "      fill: #D2E3FC;\n",
              "    }\n",
              "\n",
              "    [theme=dark] .colab-df-convert:hover {\n",
              "      background-color: #434B5C;\n",
              "      box-shadow: 0px 1px 3px 1px rgba(0, 0, 0, 0.15);\n",
              "      filter: drop-shadow(0px 1px 2px rgba(0, 0, 0, 0.3));\n",
              "      fill: #FFFFFF;\n",
              "    }\n",
              "  </style>\n",
              "\n",
              "      <script>\n",
              "        const buttonEl =\n",
              "          document.querySelector('#df-375f1c4a-4d78-44c5-b4b3-ae251f9f76b9 button.colab-df-convert');\n",
              "        buttonEl.style.display =\n",
              "          google.colab.kernel.accessAllowed ? 'block' : 'none';\n",
              "\n",
              "        async function convertToInteractive(key) {\n",
              "          const element = document.querySelector('#df-375f1c4a-4d78-44c5-b4b3-ae251f9f76b9');\n",
              "          const dataTable =\n",
              "            await google.colab.kernel.invokeFunction('convertToInteractive',\n",
              "                                                     [key], {});\n",
              "          if (!dataTable) return;\n",
              "\n",
              "          const docLinkHtml = 'Like what you see? Visit the ' +\n",
              "            '<a target=\"_blank\" href=https://colab.research.google.com/notebooks/data_table.ipynb>data table notebook</a>'\n",
              "            + ' to learn more about interactive tables.';\n",
              "          element.innerHTML = '';\n",
              "          dataTable['output_type'] = 'display_data';\n",
              "          await google.colab.output.renderOutput(dataTable, element);\n",
              "          const docLink = document.createElement('div');\n",
              "          docLink.innerHTML = docLinkHtml;\n",
              "          element.appendChild(docLink);\n",
              "        }\n",
              "      </script>\n",
              "    </div>\n",
              "  </div>\n",
              "  "
            ]
          },
          "metadata": {},
          "execution_count": 146
        }
      ],
      "source": [
        "result = pd.DataFrame(np.exp(y))[train_size:]\n",
        "result.columns = [\"actual\"]\n",
        "result[\"prediction\"] = np.exp(predictions)\n",
        "result"
      ]
    },
    {
      "cell_type": "code",
      "execution_count": 147,
      "metadata": {
        "colab": {
          "base_uri": "https://localhost:8080/",
          "height": 445
        },
        "id": "SI5lrX-l2JSn",
        "outputId": "fff3003c-625d-4c7c-b044-6450df15898f"
      },
      "outputs": [
        {
          "output_type": "display_data",
          "data": {
            "text/plain": [
              "<Figure size 1296x504 with 1 Axes>"
            ],
            "image/png": "[encoded data removed]"
          },
          "metadata": {
            "needs_background": "light"
          }
        }
      ],
      "source": [
        "plt.figure(figsize=(18,7))\n",
        "fig=plt.figure(1)\n",
        "plt.plot(result[\"actual\"],color='blue',label='Actual')\n",
        "plt.plot(result[\"prediction\"], color='red', label='Predicted')\n",
        "plt.legend(loc = 'best')\n",
        "plt.title('Actual VS Predicted')\n",
        "plt.show(block = False)"
      ]
    },
    {
      "cell_type": "code",
      "execution_count": 148,
      "metadata": {
        "id": "v_mK144Z6aoi",
        "colab": {
          "base_uri": "https://localhost:8080/"
        },
        "outputId": "6addf42d-1083-441e-ca14-efcc1de79f39"
      },
      "outputs": [
        {
          "output_type": "stream",
          "name": "stderr",
          "text": [
            "/usr/local/lib/python3.7/dist-packages/statsmodels/tsa/base/tsa_model.py:219: ValueWarning: A date index has been provided, but it has no associated frequency information and so will be ignored when e.g. forecasting.\n",
            "  ' ignored when e.g. forecasting.', ValueWarning)\n",
            "/usr/local/lib/python3.7/dist-packages/statsmodels/tsa/base/tsa_model.py:219: ValueWarning: A date index has been provided, but it has no associated frequency information and so will be ignored when e.g. forecasting.\n",
            "  ' ignored when e.g. forecasting.', ValueWarning)\n"
          ]
        }
      ],
      "source": [
        "model = ARIMA(y, order=(0,1,0))\n",
        "model_fit = model.fit()"
      ]
    },
    {
      "cell_type": "code",
      "source": [
        "predictions=pd.Series(model_fit.fittedvalues, copy=True)\n",
        "print(predictions.head())"
      ],
      "metadata": {
        "colab": {
          "base_uri": "https://localhost:8080/"
        },
        "id": "Jo61rb531UJE",
        "outputId": "b2778245-58f4-4235-8a41-cb066642d89a"
      },
      "execution_count": 149,
      "outputs": [
        {
          "output_type": "stream",
          "name": "stdout",
          "text": [
            "Date\n",
            "2012-08-06    0.000316\n",
            "2012-08-07    0.000316\n",
            "2012-08-08    0.000316\n",
            "2012-08-09    0.000316\n",
            "2012-08-10    0.000316\n",
            "dtype: float64\n"
          ]
        }
      ]
    },
    {
      "cell_type": "code",
      "source": [
        "predictions_cum_sum=predictions.cumsum()\n",
        "print(predictions_cum_sum.head())"
      ],
      "metadata": {
        "colab": {
          "base_uri": "https://localhost:8080/"
        },
        "id": "Y3mV8PWB2ACE",
        "outputId": "42d6c650-7725-4c7a-e64d-4df5044074d1"
      },
      "execution_count": 150,
      "outputs": [
        {
          "output_type": "stream",
          "name": "stdout",
          "text": [
            "Date\n",
            "2012-08-06    0.000316\n",
            "2012-08-07    0.000633\n",
            "2012-08-08    0.000949\n",
            "2012-08-09    0.001265\n",
            "2012-08-10    0.001581\n",
            "dtype: float64\n"
          ]
        }
      ]
    },
    {
      "cell_type": "code",
      "source": [
        "predictions_log=pd.Series(y, index=y.index)\n",
        "predictions_log=predictions_log.add(predictions_cum_sum,fill_value=0)\n",
        "predictions_log"
      ],
      "metadata": {
        "colab": {
          "base_uri": "https://localhost:8080/"
        },
        "id": "njxsdxn52DpI",
        "outputId": "a9945c6f-5ece-476d-eb3e-e42784dfb114"
      },
      "execution_count": 151,
      "outputs": [
        {
          "output_type": "execute_result",
          "data": {
            "text/plain": [
              "Date\n",
              "2012-08-03    5.387268\n",
              "2012-08-06    5.423588\n",
              "2012-08-07    5.465590\n",
              "2012-08-08    5.477149\n",
              "2012-08-09    5.468314\n",
              "                ...   \n",
              "2022-07-27    6.873346\n",
              "2022-07-28    6.869600\n",
              "2022-07-29    6.886400\n",
              "2022-08-01    6.950476\n",
              "2022-08-02    6.944617\n",
              "Length: 2463, dtype: float64"
            ]
          },
          "metadata": {},
          "execution_count": 151
        }
      ]
    },
    {
      "cell_type": "code",
      "source": [
        "predictions_ARIMA=np.exp(predictions_log)\n",
        "plt.figure(figsize=(16,10))\n",
        "plt.plot(df[\"Close\"],color='blue',label='Actual')\n",
        "plt.plot(predictions_ARIMA,color='red', label='Predicted')\n",
        "plt.legend(loc = 'best')\n",
        "plt.title('Actual VS Predicted')\n",
        "plt.show(block = False)"
      ],
      "metadata": {
        "colab": {
          "base_uri": "https://localhost:8080/",
          "height": 609
        },
        "id": "xZi67DoG2mwf",
        "outputId": "7cb82320-d662-4e4a-ec4e-517f5c04f2a3"
      },
      "execution_count": 152,
      "outputs": [
        {
          "output_type": "display_data",
          "data": {
            "text/plain": [
              "<Figure size 1152x720 with 1 Axes>"
            ],
            "image/png": "[encoded data removed]"
          },
          "metadata": {
            "needs_background": "light"
          }
        }
      ]
    },
    {
      "cell_type": "code",
      "source": [
        "forecast=model_fit.forecast(steps=1)[0]\n",
        "np.exp(forecast)"
      ],
      "metadata": {
        "colab": {
          "base_uri": "https://localhost:8080/"
        },
        "id": "kzZ2tvlMv0Bn",
        "outputId": "fb1d6a95-9c7b-4a3c-8714-1b5a1eec419b"
      },
      "execution_count": 153,
      "outputs": [
        {
          "output_type": "execute_result",
          "data": {
            "text/plain": [
              "array([476.40065074])"
            ]
          },
          "metadata": {},
          "execution_count": 153
        }
      ]
    },
    {
      "cell_type": "code",
      "source": [
        "#stock Company for analytics\n",
        "stock = ['TATAMOTORS.NS']\n",
        "data_source = 'yahoo' \n",
        "\n",
        "# set up Start and End time for data grab\n",
        "end1 = datetime.now()\n",
        "start1 = datetime.now()\n",
        "\n",
        "# Set DataFrame as the Stock Ticker\n",
        "df = pdr.get_data_yahoo(stock,start1,end1)"
      ],
      "metadata": {
        "colab": {
          "base_uri": "https://localhost:8080/"
        },
        "id": "PFJYAur28-HN",
        "outputId": "fd299b50-6678-4f05-da28-3ba4e9ec2752"
      },
      "execution_count": 154,
      "outputs": [
        {
          "output_type": "stream",
          "name": "stdout",
          "text": [
            "\r[*********************100%***********************]  1 of 1 completed\n"
          ]
        }
      ]
    },
    {
      "cell_type": "code",
      "source": [
        "df['Close']"
      ],
      "metadata": {
        "colab": {
          "base_uri": "https://localhost:8080/"
        },
        "id": "KHoAmicY9JVB",
        "outputId": "ebd6c3f7-13f9-4dd5-d459-c65221337918"
      },
      "execution_count": 155,
      "outputs": [
        {
          "output_type": "execute_result",
          "data": {
            "text/plain": [
              "Date\n",
              "2022-08-03    460.450012\n",
              "Name: Close, dtype: float64"
            ]
          },
          "metadata": {},
          "execution_count": 155
        }
      ]
    },
    {
      "cell_type": "code",
      "source": [
        "result = pd.DataFrame(df['Close'])\n",
        "result.columns = [\"actual\"]\n",
        "result[\"forecast\"] = np.exp(forecast)\n",
        "result"
      ],
      "metadata": {
        "colab": {
          "base_uri": "https://localhost:8080/",
          "height": 112
        },
        "id": "XS6zBGPo-vT0",
        "outputId": "a2493ff5-8890-41b8-86de-491234b4e6bc"
      },
      "execution_count": 156,
      "outputs": [
        {
          "output_type": "execute_result",
          "data": {
            "text/plain": [
              "                actual    forecast\n",
              "Date                              \n",
              "2022-08-03  460.450012  476.400651"
            ],
            "text/html": [
              "\n",
              "  <div id=\"df-0f6c02af-bfd7-4050-8ec8-c76c8d973ed9\">\n",
              "    <div class=\"colab-df-container\">\n",
              "      <div>\n",
              "<style scoped>\n",
              "    .dataframe tbody tr th:only-of-type {\n",
              "        vertical-align: middle;\n",
              "    }\n",
              "\n",
              "    .dataframe tbody tr th {\n",
              "        vertical-align: top;\n",
              "    }\n",
              "\n",
              "    .dataframe thead th {\n",
              "        text-align: right;\n",
              "    }\n",
              "</style>\n",
              "<table border=\"1\" class=\"dataframe\">\n",
              "  <thead>\n",
              "    <tr style=\"text-align: right;\">\n",
              "      <th></th>\n",
              "      <th>actual</th>\n",
              "      <th>forecast</th>\n",
              "    </tr>\n",
              "    <tr>\n",
              "      <th>Date</th>\n",
              "      <th></th>\n",
              "      <th></th>\n",
              "    </tr>\n",
              "  </thead>\n",
              "  <tbody>\n",
              "    <tr>\n",
              "      <th>2022-08-03</th>\n",
              "      <td>460.450012</td>\n",
              "      <td>476.400651</td>\n",
              "    </tr>\n",
              "  </tbody>\n",
              "</table>\n",
              "</div>\n",
              "      <button class=\"colab-df-convert\" onclick=\"convertToInteractive('df-0f6c02af-bfd7-4050-8ec8-c76c8d973ed9')\"\n",
              "              title=\"Convert this dataframe to an interactive table.\"\n",
              "              style=\"display:none;\">\n",
              "        \n",
              "  <svg xmlns=\"http://www.w3.org/2000/svg\" height=\"24px\"viewBox=\"0 0 24 24\"\n",
              "       width=\"24px\">\n",
              "    <path d=\"M0 0h24v24H0V0z\" fill=\"none\"/>\n",
              "    <path d=\"M18.56 5.44l.94 2.06.94-2.06 2.06-.94-2.06-.94-.94-2.06-.94 2.06-2.06.94zm-11 1L8.5 8.5l.94-2.06 2.06-.94-2.06-.94L8.5 2.5l-.94 2.06-2.06.94zm10 10l.94 2.06.94-2.06 2.06-.94-2.06-.94-.94-2.06-.94 2.06-2.06.94z\"/><path d=\"M17.41 7.96l-1.37-1.37c-.4-.4-.92-.59-1.43-.59-.52 0-1.04.2-1.43.59L10.3 9.45l-7.72 7.72c-.78.78-.78 2.05 0 2.83L4 21.41c.39.39.9.59 1.41.59.51 0 1.02-.2 1.41-.59l7.78-7.78 2.81-2.81c.8-.78.8-2.07 0-2.86zM5.41 20L4 18.59l7.72-7.72 1.47 1.35L5.41 20z\"/>\n",
              "  </svg>\n",
              "      </button>\n",
              "      \n",
              "  <style>\n",
              "    .colab-df-container {\n",
              "      display:flex;\n",
              "      flex-wrap:wrap;\n",
              "      gap: 12px;\n",
              "    }\n",
              "\n",
              "    .colab-df-convert {\n",
              "      background-color: #E8F0FE;\n",
              "      border: none;\n",
              "      border-radius: 50%;\n",
              "      cursor: pointer;\n",
              "      display: none;\n",
              "      fill: #1967D2;\n",
              "      height: 32px;\n",
              "      padding: 0 0 0 0;\n",
              "      width: 32px;\n",
              "    }\n",
              "\n",
              "    .colab-df-convert:hover {\n",
              "      background-color: #E2EBFA;\n",
              "      box-shadow: 0px 1px 2px rgba(60, 64, 67, 0.3), 0px 1px 3px 1px rgba(60, 64, 67, 0.15);\n",
              "      fill: #174EA6;\n",
              "    }\n",
              "\n",
              "    [theme=dark] .colab-df-convert {\n",
              "      background-color: #3B4455;\n",
              "      fill: #D2E3FC;\n",
              "    }\n",
              "\n",
              "    [theme=dark] .colab-df-convert:hover {\n",
              "      background-color: #434B5C;\n",
              "      box-shadow: 0px 1px 3px 1px rgba(0, 0, 0, 0.15);\n",
              "      filter: drop-shadow(0px 1px 2px rgba(0, 0, 0, 0.3));\n",
              "      fill: #FFFFFF;\n",
              "    }\n",
              "  </style>\n",
              "\n",
              "      <script>\n",
              "        const buttonEl =\n",
              "          document.querySelector('#df-0f6c02af-bfd7-4050-8ec8-c76c8d973ed9 button.colab-df-convert');\n",
              "        buttonEl.style.display =\n",
              "          google.colab.kernel.accessAllowed ? 'block' : 'none';\n",
              "\n",
              "        async function convertToInteractive(key) {\n",
              "          const element = document.querySelector('#df-0f6c02af-bfd7-4050-8ec8-c76c8d973ed9');\n",
              "          const dataTable =\n",
              "            await google.colab.kernel.invokeFunction('convertToInteractive',\n",
              "                                                     [key], {});\n",
              "          if (!dataTable) return;\n",
              "\n",
              "          const docLinkHtml = 'Like what you see? Visit the ' +\n",
              "            '<a target=\"_blank\" href=https://colab.research.google.com/notebooks/data_table.ipynb>data table notebook</a>'\n",
              "            + ' to learn more about interactive tables.';\n",
              "          element.innerHTML = '';\n",
              "          dataTable['output_type'] = 'display_data';\n",
              "          await google.colab.output.renderOutput(dataTable, element);\n",
              "          const docLink = document.createElement('div');\n",
              "          docLink.innerHTML = docLinkHtml;\n",
              "          element.appendChild(docLink);\n",
              "        }\n",
              "      </script>\n",
              "    </div>\n",
              "  </div>\n",
              "  "
            ]
          },
          "metadata": {},
          "execution_count": 156
        }
      ]
    },
    {
      "cell_type": "code",
      "source": [
        "error = mean_squared_error(result[\"actual\"] , result[\"forecast\"] )\n",
        "print('Forecast RMSE: %.3f' % np.sqrt(error))"
      ],
      "metadata": {
        "id": "oDiRE4euBCJu",
        "outputId": "ab9e60ef-34bb-4d54-b101-ec6af37910a9",
        "colab": {
          "base_uri": "https://localhost:8080/"
        }
      },
      "execution_count": 157,
      "outputs": [
        {
          "output_type": "stream",
          "name": "stdout",
          "text": [
            "Forecast RMSE: 15.951\n"
          ]
        }
      ]
    }
  ],
  "metadata": {
    "colab": {
      "name": "TATA_Motors_Stock_market_Forecasting.V3.ipynb",
      "provenance": [],
      "authorship_tag": "ABX9TyNj3ym0UlJ84iUO5hM9TCHS",
      "include_colab_link": true
    },
    "kernelspec": {
      "display_name": "Python 3",
      "name": "python3"
    },
    "language_info": {
      "name": "python"
    }
  },
  "nbformat": 4,
  "nbformat_minor": 0
}